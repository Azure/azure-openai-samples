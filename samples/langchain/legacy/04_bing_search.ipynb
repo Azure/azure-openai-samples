{
 "cells": [
  {
   "cell_type": "code",
   "execution_count": 5,
   "metadata": {},
   "outputs": [
    {
     "name": "stderr",
     "output_type": "stream",
     "text": [
      "c:\\Users\\louisli\\AppData\\Local\\miniconda3\\envs\\openai_0\\Lib\\site-packages\\langchain\\llms\\openai.py:1038: UserWarning: You are trying to use a chat model. This way of initializing it is no longer supported. Instead, please use: `from langchain.chat_models import ChatOpenAI`\n",
      "  warnings.warn(\n"
     ]
    }
   ],
   "source": [
    "from langchain.llms import OpenAIChat\n",
    "import os\n",
    "from dotenv import load_dotenv\n",
    "from langchain.agents import load_tools\n",
    "from langchain.agents import initialize_agent, Tool\n",
    "from langchain.utilities import BingSearchAPIWrapper\n",
    "load_dotenv()\n",
    "\n",
    "# Next, let's load some tools to use. Note that the `llm-math` tool uses an LLM, so we need to pass that in.\n",
    "\n",
    "llm = OpenAIChat(temperature=0, \n",
    "                  engine=os.getenv('CHAT_COMPLETION_NAME'))"
   ]
  },
  {
   "cell_type": "code",
   "execution_count": 6,
   "metadata": {},
   "outputs": [
    {
     "name": "stdout",
     "output_type": "stream",
     "text": [
      "\n",
      "\n",
      "\u001b[1m> Entering new AgentExecutor chain...\u001b[0m\n",
      "\u001b[32;1m\u001b[1;3mI need to find the list prices for both the BMW X1 2023 and the Tesla Model 3 2023.\n",
      "Action: bing_search\n",
      "Action Input: \"BMW X1 2023 list price\" and \"Tesla Model 3 2023 list price\"\u001b[0m\n",
      "Observation: \u001b[36;1m\u001b[1;3m<b>Price</b> Range: $38,600 Pricing Review Compare Features 360° +30 Great 8.1 out of 10 edmunds TESTED The <b>BMW</b> <b>X1</b> is the most affordable crossover SUV in the brand&#39;s lineup but hardly seems like it... The <b>price</b> of the <b>2023</b> <b>BMW</b> <b>X1</b> starts at $40,095. This time around there&#39;s only one trim to choose from, and it comes with standard all-wheel drive; the front-wheel drive sDrive28i version... Home <b>BMW</b> <b>X1</b> <b>2023</b> <b>BMW</b> <b>X1</b> Share this vehicle Canadian <b>Price</b> - MSRP $45,800 Year Add to Compare Overview <b>Price</b> Specs FAQ Comments Photos Similar Cars Videos Expert Reviews News View Full... <b>2023</b> <b>BMW</b> <b>X1</b> XDRIVE28I in PORTIMAO BLUE METALLIC and MOCHA PERFORATED SENSATEC No Charge Scheduled Maintenance 3yr/60k M SPORT PACKAGE DRIVING ASSISTANT EQUIPTMENT PACKAGE PROFESSIONAL PREMIUM ENHANCED PACKAGE -<b>BMW</b> Drive Recorder, Harman/Kardon Sound System, Digital Cockpit Pr... $56,495. Dealer <b>Price</b>. $56,495 MSRP. · <b>X1</b> Press Contact. Marc Belcourt <b>BMW</b> Group Tel: +1-905-428-5078 Fax: +1-905-428-5071 send an e-mail Richmond Hill, ON. The character of the new <b>2023</b> <b>BMW</b> <b>X1</b> xDrive28i defines itself through everyday driving pleasure, modern versatility, the latest safety and technology features, and an unwavering eagerness for exploration and adventure. 8.5 ANN ARBOR, Mich. — The <b>2023</b> <b>BMW</b> <b>X1</b> has changed in meaningful ways for its third generation. <b>BMW</b> decided bigger is better for this subcompact crossover, and has expanded it in length,... 231172-NEUF <b>2023</b> <b>X1</b> <b>2023</b> <b>X1</b> in Montreal <b>2023</b> <b>BMW</b> <b>X1</b> in Montreal. Discover the best <b>prices</b>, specifications and Canadian reviews at <b>BMW</b> MONTRÉAL CENTRE <b>2023</b> <b>3</b> Series Hybrid. starting at $56,035 <b>2023</b> 330e; starting at $56,035 <b>2023</b> 330e xDrive; 2024 <b>3</b> Series Hybrid. starting at $56,035 2024 330e; starting at $56,035 2024 330e xDrive; <b>2023</b> 5 Series Hybrid. starting at $70,135 <b>2023</b> 530e xDrive; Convertibles. <b>BMW</b>. starting at $107,480 <b>2023</b> M4 Convertible - Cabriolet; starting at $170,080 <b>2023</b> M8 ... The <b>price</b> for the <b>X1</b> xDrive28i starts at $39,595, including the $995 destination fee, which is a $1,200 rise over the 2022 <b>model</b>. Pricing for the front-wheel drive <b>X1</b> sDrive28i hasn&#39;t been ...\u001b[0m\n",
      "Thought:\u001b[32;1m\u001b[1;3mI need to find the list price for the Tesla Model 3 2023.\n",
      "Action: bing_search\n",
      "Action Input: \"Tesla Model 3 2023 list price\"\u001b[0m\n",
      "Observation: \u001b[36;1m\u001b[1;3m15 min Recharge up to 282 km*<b> 548 km</b> Range (EPA est.) AWD Dual Motor Custom Order Built for Distance Go up to 548 kilometers (EPA est.) on a single charge with updated exterior styling optimized for maximum aerodynamics. Two New Colors Stealth Grey and Ultra Red are designed to change with the light and viewing angle. All-New Interior Lease starting at $329/mo* 15 min Recharge up to 175 miles† 341 mi Range (EPA est.) AWD Dual Motor Custom Order *Excludes taxes and fees with <b>price</b> subject to change. Available in select states. See Details Built for Distance Go up to 341 miles (EPA est.) on a single charge with updated exterior styling optimized for maximum aerodynamics. Priced at $54,990 Canadian dollars, it’s an excellent choice for those looking to embrace the electric future without breaking the bank. The Base Trim is the most affordable option, making the <b>Model</b> <b>3</b> more accessible to a wider range of buyers. <b>Tesla</b> <b>Model</b> <b>3</b> Quick Specs Electric Power: 211-kW Motor Pricing and Which One to Buy The <b>price</b> of the <b>2023</b> <b>Tesla</b> <b>Model</b> <b>3</b> starts at $40,630 and goes up to $54,880 depending on the trim and options. Standard Range RWD Long Range Performance 0... $53,990 - $73,290 Year Add to Compare Overview <b>Price</b> Specs FAQ Comments Photos Similar Cars Videos Expert Reviews News View Full Gallery What is it? 5-seat Sedan What powers it? Electric How... 63 <b>2023</b> <b>Tesla</b> <b>Model</b> <b>3</b> for sale in Canada Looking for a <b>2023</b> <b>Tesla</b> <b>Model</b> <b>3</b>? Let us help you. Find your next car by browsing our extensive new and pre-owned <b>2023</b> <b>Tesla</b> <b>Model</b> <b>3</b> from local <b>Tesla</b> dealerships and private sellers. <b>Tesla</b> <b>Model</b> <b>3</b> 2024 <b>Tesla</b> <b>Model</b> <b>3</b> <b>Price</b> Range: $38,990 - $45,990 Pricing Review Compare Features +20 42 Owner Reviews not available EV Range Pricing Select year Select a trim Base...\u001b[0m\n",
      "Thought:\u001b[32;1m\u001b[1;3mI now know the list prices for both the BMW X1 2023 and the Tesla Model 3 2023.\n",
      "Final Answer: The list price for the BMW X1 2023 starts at $40,095, while the list price for the Tesla Model 3 2023 starts at $40,630. Therefore, the BMW X1 2023 is slightly more affordable than the Tesla Model 3 2023.\u001b[0m\n",
      "\n",
      "\u001b[1m> Finished chain.\u001b[0m\n",
      "The list price for the BMW X1 2023 starts at $40,095, while the list price for the Tesla Model 3 2023 starts at $40,630. Therefore, the BMW X1 2023 is slightly more affordable than the Tesla Model 3 2023.\n"
     ]
    }
   ],
   "source": [
    "\n",
    "\n",
    "# Next, let's load some tools to use. Note that the `llm-math` tool uses an LLM, so we need to pass that in.\n",
    "tools = load_tools([\"bing-search\", \"llm-math\"], llm=llm)\n",
    "\n",
    "# Finally, let's initialize an agent with the tools, the language model, and the type of agent we want to use.\n",
    "agent = initialize_agent(tools, llm, agent=\"zero-shot-react-description\", verbose=True, return_intermediate_steps=True)\n",
    "\n",
    "# Now let's test it out!\n",
    "response = agent({\"input\":\"Is BMW X1 2023 more affortable than Tesla model 3 2023? List prices for both cars.\"})\n",
    "print(response['output'])"
   ]
  },
  {
   "cell_type": "code",
   "execution_count": null,
   "metadata": {},
   "outputs": [],
   "source": []
  }
 ],
 "metadata": {
  "kernelspec": {
   "display_name": "azureml_py310_sdkv2",
   "language": "python",
   "name": "python3"
  },
  "language_info": {
   "codemirror_mode": {
    "name": "ipython",
    "version": 3
   },
   "file_extension": ".py",
   "mimetype": "text/x-python",
   "name": "python",
   "nbconvert_exporter": "python",
   "pygments_lexer": "ipython3",
   "version": "3.11.7"
  },
  "orig_nbformat": 4
 },
 "nbformat": 4,
 "nbformat_minor": 2
}
