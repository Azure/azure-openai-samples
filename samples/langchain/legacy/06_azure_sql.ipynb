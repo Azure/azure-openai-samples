{
  "cells": [
    {
      "cell_type": "markdown",
      "id": "0e499e90-7a6d-4fab-8aab-31a4df417601",
      "metadata": {},
      "source": [
        "# SQL Database Agent\n",
        "\n",
        "This notebook showcases an agent designed to interact with a sql databases. The agent builds off of [SQLDatabaseChain](https://langchain.readthedocs.io/en/latest/modules/chains/examples/sqlite.html) and is designed to answer more general questions about a database, as well as recover from errors.\n",
        "\n",
        "Note that, as this agent is in active development, all answers might not be correct. Additionally, it is not guaranteed that the agent won't perform DML statements on your database given certain questions. Be careful running it on sensitive data!\n",
        "\n",
        "This uses the example Chinook database. To set it up follow the instructions on https://database.guide/2-sample-databases-sqlite/, placing the .db file in a notebooks folder at the root of this repository."
      ]
    },
    {
      "attachments": {},
      "cell_type": "markdown",
      "id": "6b80ca6a-40c3-4321-9201-e721c773580e",
      "metadata": {
        "nteract": {
          "transient": {
            "deleting": false
          }
        }
      },
      "source": [
        "### Prepare\n",
        "1. Pip install Pyodbc\n",
        "2. Install Microsoft ODBC:\n",
        "https://learn.microsoft.com/en-us/sql/connect/odbc/linux-mac/installing-the-microsoft-odbc-driver-for-sql-server?view=azuresqldb-current&tabs=ubuntu18-install%2Calpine17-install%2Cdebian8-install%2Credhat7-13-install%2Crhel7-offline#18\n",
        "3. Setup Azure SQL database\n",
        "4. Enable Firewall from your IP\n"
      ]
    },
    {
      "cell_type": "markdown",
      "id": "ec927ac6-9b2a-4e8a-9a6e-3e429191875c",
      "metadata": {
        "tags": []
      },
      "source": [
        "## Initialization"
      ]
    },
    {
      "cell_type": "code",
      "execution_count": 1,
      "id": "f765448f",
      "metadata": {},
      "outputs": [
        {
          "ename": "ValidationError",
          "evalue": "1 validation error for SQLDatabaseToolkit\nllm\n  field required (type=value_error.missing)",
          "output_type": "error",
          "traceback": [
            "\u001b[1;31m---------------------------------------------------------------------------\u001b[0m",
            "\u001b[1;31mValidationError\u001b[0m                           Traceback (most recent call last)",
            "Cell \u001b[1;32mIn[1], line 8\u001b[0m\n\u001b[0;32m      4\u001b[0m \u001b[38;5;28;01mfrom\u001b[39;00m \u001b[38;5;21;01mdotenv\u001b[39;00m \u001b[38;5;28;01mimport\u001b[39;00m load_dotenv\n\u001b[0;32m      6\u001b[0m load_dotenv()\n\u001b[1;32m----> 8\u001b[0m sql_agent \u001b[38;5;241m=\u001b[39m \u001b[43mSqlServer\u001b[49m\u001b[38;5;241;43m.\u001b[39;49m\u001b[43mSqlServer\u001b[49m\u001b[43m(\u001b[49m\u001b[43mServer\u001b[49m\u001b[38;5;241;43m=\u001b[39;49m\u001b[38;5;124;43m'\u001b[39;49m\u001b[38;5;124;43mopenai-test.database.windows.net\u001b[39;49m\u001b[38;5;124;43m'\u001b[39;49m\u001b[43m,\u001b[49m\u001b[43m \u001b[49m\u001b[43mDatabase\u001b[49m\u001b[38;5;241;43m=\u001b[39;49m\u001b[38;5;124;43m'\u001b[39;49m\u001b[38;5;124;43madventureworks\u001b[39;49m\u001b[38;5;124;43m'\u001b[39;49m\u001b[43m,\u001b[49m\u001b[43m \u001b[49m\u001b[43m\\\u001b[49m\n\u001b[0;32m      9\u001b[0m \u001b[43m                                \u001b[49m\u001b[43mUsername\u001b[49m\u001b[38;5;241;43m=\u001b[39;49m\u001b[43mos\u001b[49m\u001b[38;5;241;43m.\u001b[39;49m\u001b[43mgetenv\u001b[49m\u001b[43m(\u001b[49m\u001b[38;5;124;43m'\u001b[39;49m\u001b[38;5;124;43mAZURE_SQL_USERNAME\u001b[39;49m\u001b[38;5;124;43m'\u001b[39;49m\u001b[43m)\u001b[49m\u001b[43m,\u001b[49m\u001b[43m \u001b[49m\u001b[43mPassword\u001b[49m\u001b[38;5;241;43m=\u001b[39;49m\u001b[43mos\u001b[49m\u001b[38;5;241;43m.\u001b[39;49m\u001b[43mgetenv\u001b[49m\u001b[43m(\u001b[49m\u001b[38;5;124;43m'\u001b[39;49m\u001b[38;5;124;43mAZURE_SQL_PASSWORD\u001b[39;49m\u001b[38;5;124;43m'\u001b[39;49m\u001b[43m)\u001b[49m\u001b[43m,\u001b[49m\u001b[43m \u001b[49m\u001b[43mtopK\u001b[49m\u001b[38;5;241;43m=\u001b[39;49m\u001b[38;5;241;43m20\u001b[39;49m\u001b[43m)\u001b[49m\n",
            "File \u001b[1;32mc:\\code\\azure-openai-samples\\samples\\langchain\\legacy\\AzureOpenAIUtil\\SqlServer.py:17\u001b[0m, in \u001b[0;36mSqlServer.__init__\u001b[1;34m(self, Server, Database, Username, Password, port, odbc_ver, topK)\u001b[0m\n\u001b[0;32m     14\u001b[0m \u001b[38;5;28mself\u001b[39m\u001b[38;5;241m.\u001b[39mconn_str \u001b[38;5;241m=\u001b[39m \u001b[38;5;124m'\u001b[39m\u001b[38;5;124mmssql+pyodbc:///?odbc_connect=\u001b[39m\u001b[38;5;132;01m{}\u001b[39;00m\u001b[38;5;124m'\u001b[39m\u001b[38;5;241m.\u001b[39mformat(params)\n\u001b[0;32m     16\u001b[0m db \u001b[38;5;241m=\u001b[39m SQLDatabase\u001b[38;5;241m.\u001b[39mfrom_uri(\u001b[38;5;28mself\u001b[39m\u001b[38;5;241m.\u001b[39mconn_str)\n\u001b[1;32m---> 17\u001b[0m \u001b[38;5;28mself\u001b[39m\u001b[38;5;241m.\u001b[39mtoolkit \u001b[38;5;241m=\u001b[39m \u001b[43mSQLDatabaseToolkit\u001b[49m\u001b[43m(\u001b[49m\u001b[43mdb\u001b[49m\u001b[38;5;241;43m=\u001b[39;49m\u001b[43mdb\u001b[49m\u001b[43m)\u001b[49m\n\u001b[0;32m     19\u001b[0m \u001b[38;5;28mself\u001b[39m\u001b[38;5;241m.\u001b[39mSQL_PREFIX \u001b[38;5;241m=\u001b[39m \u001b[38;5;124m\"\"\"\u001b[39m\u001b[38;5;124mYou are an agent designed to interact with a Microsoft Azure SQL database.\u001b[39m\n\u001b[0;32m     20\u001b[0m \u001b[38;5;124mGiven an input question, create a syntactically correct \u001b[39m\u001b[38;5;132;01m{dialect}\u001b[39;00m\u001b[38;5;124m query to run, then look at the results of the query and return the answer.\u001b[39m\n\u001b[0;32m     21\u001b[0m \u001b[38;5;124mUnless the user specifies a specific number of examples they wish to obtain, always limit your query to at most \u001b[39m\u001b[38;5;132;01m{top_k}\u001b[39;00m\u001b[38;5;124m results using SELECT TOP in SQL Server syntax.\u001b[39m\n\u001b[1;32m   (...)\u001b[0m\n\u001b[0;32m     30\u001b[0m \u001b[38;5;124mIf the question does not seem related to the database, just return \u001b[39m\u001b[38;5;124m\"\u001b[39m\u001b[38;5;124mI don\u001b[39m\u001b[38;5;124m'\u001b[39m\u001b[38;5;124mt know\u001b[39m\u001b[38;5;124m\"\u001b[39m\u001b[38;5;124m as the answer.\u001b[39m\n\u001b[0;32m     31\u001b[0m \u001b[38;5;124m\u001b[39m\u001b[38;5;124m\"\"\"\u001b[39m\n\u001b[0;32m     33\u001b[0m deploy_name \u001b[38;5;241m=\u001b[39m os\u001b[38;5;241m.\u001b[39mgetenv(\u001b[38;5;124m'\u001b[39m\u001b[38;5;124mCHAT_COMPLETION_NAME\u001b[39m\u001b[38;5;124m'\u001b[39m)\n",
            "File \u001b[1;32mc:\\Users\\louisli\\AppData\\Local\\miniconda3\\envs\\openai_0\\Lib\\site-packages\\pydantic\\v1\\main.py:341\u001b[0m, in \u001b[0;36mBaseModel.__init__\u001b[1;34m(__pydantic_self__, **data)\u001b[0m\n\u001b[0;32m    339\u001b[0m values, fields_set, validation_error \u001b[38;5;241m=\u001b[39m validate_model(__pydantic_self__\u001b[38;5;241m.\u001b[39m\u001b[38;5;18m__class__\u001b[39m, data)\n\u001b[0;32m    340\u001b[0m \u001b[38;5;28;01mif\u001b[39;00m validation_error:\n\u001b[1;32m--> 341\u001b[0m     \u001b[38;5;28;01mraise\u001b[39;00m validation_error\n\u001b[0;32m    342\u001b[0m \u001b[38;5;28;01mtry\u001b[39;00m:\n\u001b[0;32m    343\u001b[0m     object_setattr(__pydantic_self__, \u001b[38;5;124m'\u001b[39m\u001b[38;5;124m__dict__\u001b[39m\u001b[38;5;124m'\u001b[39m, values)\n",
            "\u001b[1;31mValidationError\u001b[0m: 1 validation error for SQLDatabaseToolkit\nllm\n  field required (type=value_error.missing)"
          ]
        }
      ],
      "source": [
        "from AzureOpenAIUtil import SqlServer\n",
        "import os\n",
        "\n",
        "from dotenv import load_dotenv\n",
        "\n",
        "load_dotenv()\n",
        "\n",
        "sql_agent = SqlServer.SqlServer(Server='openai-test.database.windows.net', Database='adventureworks', \\\n",
        "                                Username=os.getenv('AZURE_SQL_USERNAME'), Password=os.getenv('AZURE_SQL_PASSWORD'), topK=20)"
      ]
    },
    {
      "attachments": {},
      "cell_type": "markdown",
      "id": "36ae48c7-cb08-4fef-977e-c7d4b96a464b",
      "metadata": {},
      "source": [
        "## Example: list tables and describing a table"
      ]
    },
    {
      "cell_type": "code",
      "execution_count": 2,
      "id": "eedc14dc-6554-4005-8363-c66c0d5139a8",
      "metadata": {
        "gather": {
          "logged": 1678539158931
        },
        "jupyter": {
          "outputs_hidden": false,
          "source_hidden": false
        },
        "nteract": {
          "transient": {
            "deleting": false
          }
        }
      },
      "outputs": [
        {
          "name": "stdout",
          "output_type": "stream",
          "text": [
            "\n",
            "\n",
            "\u001b[1m> Entering new AgentExecutor chain...\u001b[0m\n",
            "\u001b[32;1m\u001b[1;3mAction: list_tables_sql_db\n",
            "Action Input: \"\"\u001b[0m\n",
            "Observation: \u001b[38;5;200m\u001b[1;3mArtist, Track, Album, PlaylistTrack, Invoice, Playlist, MediaType, Employee, Genre, Customer, InvoiceLine\u001b[0m\n",
            "Thought:\u001b[32;1m\u001b[1;3m I now know the final answer\n",
            "Final Answer: There are 11 tables in the database.\u001b[0m\n",
            "\n",
            "\u001b[1m> Finished chain.\u001b[0m\n"
          ]
        },
        {
          "data": {
            "text/plain": [
              "'There are 11 tables in the database.'"
            ]
          },
          "execution_count": 2,
          "metadata": {},
          "output_type": "execute_result"
        }
      ],
      "source": [
        "sql_agent.run(\"How many tables are there?\")"
      ]
    },
    {
      "cell_type": "code",
      "execution_count": 3,
      "id": "ff70e83d-5ad0-4fc7-bb96-27d82ac166d7",
      "metadata": {
        "gather": {
          "logged": 1678539163182
        },
        "tags": []
      },
      "outputs": [
        {
          "name": "stdout",
          "output_type": "stream",
          "text": [
            "\n",
            "\n",
            "\u001b[1m> Entering new AgentExecutor chain...\u001b[0m\n",
            "\u001b[32;1m\u001b[1;3mAction: list_tables_sql_db\n",
            "Action Input: \"\"\u001b[0m\n",
            "Observation: \u001b[38;5;200m\u001b[1;3mArtist, Track, Album, PlaylistTrack, Invoice, Playlist, MediaType, Employee, Genre, Customer, InvoiceLine\u001b[0m\n",
            "Thought:\u001b[32;1m\u001b[1;3m I should look at the schema of the PlaylistTrack table\n",
            "Action: schema_sql_db\n",
            "Action Input: \"PlaylistTrack\"\u001b[0m\n",
            "Observation: \u001b[33;1m\u001b[1;3m\n",
            "CREATE TABLE [PlaylistTrack] (\n",
            "\t[PlaylistId] INTEGER NOT NULL, \n",
            "\t[TrackId] INTEGER NOT NULL, \n",
            "\tCONSTRAINT [PK_PlaylistTrack] PRIMARY KEY ([PlaylistId], [TrackId]), \n",
            "\tCONSTRAINT [FK_PlaylistTrackPlaylistId] FOREIGN KEY([PlaylistId]) REFERENCES [Playlist] ([PlaylistId]), \n",
            "\tCONSTRAINT [FK_PlaylistTrackTrackId] FOREIGN KEY([TrackId]) REFERENCES [Track] ([TrackId])\n",
            ")\n",
            "\n",
            "SELECT * FROM 'PlaylistTrack' LIMIT 3;\n",
            "PlaylistId\tTrackId\n",
            "1\t3402\n",
            "1\t3389\n",
            "1\t3390\u001b[0m\n",
            "Thought:\u001b[32;1m\u001b[1;3m I now know the final answer\n",
            "Final Answer: The PlaylistTrack table contains two columns, PlaylistId and TrackId, which are both integer values. It is a many-to-many relationship between Playlist and Track.\u001b[0m\n",
            "\n",
            "\u001b[1m> Finished chain.\u001b[0m\n"
          ]
        },
        {
          "data": {
            "text/plain": [
              "'The PlaylistTrack table contains two columns, PlaylistId and TrackId, which are both integer values. It is a many-to-many relationship between Playlist and Track.'"
            ]
          },
          "execution_count": 3,
          "metadata": {},
          "output_type": "execute_result"
        }
      ],
      "source": [
        "sql_agent.run(\"Describe the playlisttrack table\")"
      ]
    },
    {
      "cell_type": "markdown",
      "id": "9abcfe8e-1868-42a4-8345-ad2d9b44c681",
      "metadata": {},
      "source": [
        "## Example: describing a table, recovering from an error\n",
        "\n",
        "In this example, the agent tries to search for a table that doesn't exist, but finds the next best result"
      ]
    },
    {
      "cell_type": "code",
      "execution_count": 4,
      "id": "bea76658-a65b-47e2-b294-6d52c5556246",
      "metadata": {
        "gather": {
          "logged": 1678539175849
        },
        "tags": []
      },
      "outputs": [
        {
          "name": "stdout",
          "output_type": "stream",
          "text": [
            "\n",
            "\n",
            "\u001b[1m> Entering new AgentExecutor chain...\u001b[0m\n",
            "\u001b[32;1m\u001b[1;3mAction: list_tables_sql_db\n",
            "Action Input: \"\"\u001b[0m\n",
            "Observation: \u001b[38;5;200m\u001b[1;3mArtist, Track, Album, PlaylistTrack, Invoice, Playlist, MediaType, Employee, Genre, Customer, InvoiceLine\u001b[0m\n",
            "Thought:\u001b[32;1m\u001b[1;3m I should look at the schema of the PlaylistSong table\n",
            "Action: schema_sql_db\n",
            "Action Input: \"PlaylistSong\"\u001b[0m\n",
            "Observation: \u001b[33;1m\u001b[1;3mError: table_names {'PlaylistSong'} not found in database\u001b[0m\n",
            "Thought:\u001b[32;1m\u001b[1;3m I should look at the schema of the PlaylistTrack table\n",
            "Action: schema_sql_db\n",
            "Action Input: \"PlaylistTrack\"\u001b[0m\n",
            "Observation: \u001b[33;1m\u001b[1;3m\n",
            "CREATE TABLE [PlaylistTrack] (\n",
            "\t[PlaylistId] INTEGER NOT NULL, \n",
            "\t[TrackId] INTEGER NOT NULL, \n",
            "\tCONSTRAINT [PK_PlaylistTrack] PRIMARY KEY ([PlaylistId], [TrackId]), \n",
            "\tCONSTRAINT [FK_PlaylistTrackPlaylistId] FOREIGN KEY([PlaylistId]) REFERENCES [Playlist] ([PlaylistId]), \n",
            "\tCONSTRAINT [FK_PlaylistTrackTrackId] FOREIGN KEY([TrackId]) REFERENCES [Track] ([TrackId])\n",
            ")\n",
            "\n",
            "SELECT * FROM 'PlaylistTrack' LIMIT 3;\n",
            "PlaylistId\tTrackId\n",
            "1\t3402\n",
            "1\t3389\n",
            "1\t3390\u001b[0m\n",
            "Thought:\u001b[32;1m\u001b[1;3m I now know the final answer\n",
            "Final Answer: The PlaylistTrack table contains two columns, PlaylistId and TrackId, which are both integers. It is a many-to-many relationship between Playlist and Track.\u001b[0m\n",
            "\n",
            "\u001b[1m> Finished chain.\u001b[0m\n"
          ]
        },
        {
          "data": {
            "text/plain": [
              "'The PlaylistTrack table contains two columns, PlaylistId and TrackId, which are both integers. It is a many-to-many relationship between Playlist and Track.'"
            ]
          },
          "execution_count": 4,
          "metadata": {},
          "output_type": "execute_result"
        }
      ],
      "source": [
        "sql_agent.run(\"Describe the playlistsong table\")"
      ]
    },
    {
      "cell_type": "markdown",
      "id": "6fbc26af-97e4-4a21-82aa-48bdc992da26",
      "metadata": {},
      "source": [
        "## Example: running queries"
      ]
    },
    {
      "cell_type": "code",
      "execution_count": 5,
      "id": "17bea710-4a23-4de0-b48e-21d57be48293",
      "metadata": {
        "gather": {
          "logged": 1678539184777
        },
        "tags": []
      },
      "outputs": [
        {
          "name": "stdout",
          "output_type": "stream",
          "text": [
            "\n",
            "\n",
            "\u001b[1m> Entering new AgentExecutor chain...\u001b[0m\n",
            "\u001b[32;1m\u001b[1;3mAction: list_tables_sql_db\n",
            "Action Input: \"\"\u001b[0m\n",
            "Observation: \u001b[38;5;200m\u001b[1;3mArtist, Track, Album, PlaylistTrack, Invoice, Playlist, MediaType, Employee, Genre, Customer, InvoiceLine\u001b[0m\n",
            "Thought:\u001b[32;1m\u001b[1;3m I should look at the schema of the Invoice and Customer tables to see what columns I can use.\n",
            "Action: schema_sql_db\n",
            "Action Input: \"Invoice, Customer\"\u001b[0m\n",
            "Observation: \u001b[33;1m\u001b[1;3m\n",
            "CREATE TABLE [Customer] (\n",
            "\t[CustomerId] INTEGER NOT NULL, \n",
            "\t[FirstName] NVARCHAR(40) COLLATE SQL_Latin1_General_CP1_CI_AS NOT NULL, \n",
            "\t[LastName] NVARCHAR(20) COLLATE SQL_Latin1_General_CP1_CI_AS NOT NULL, \n",
            "\t[Company] NVARCHAR(80) COLLATE SQL_Latin1_General_CP1_CI_AS NULL, \n",
            "\t[Address] NVARCHAR(70) COLLATE SQL_Latin1_General_CP1_CI_AS NULL, \n",
            "\t[City] NVARCHAR(40) COLLATE SQL_Latin1_General_CP1_CI_AS NULL, \n",
            "\t[State] NVARCHAR(40) COLLATE SQL_Latin1_General_CP1_CI_AS NULL, \n",
            "\t[Country] NVARCHAR(40) COLLATE SQL_Latin1_General_CP1_CI_AS NULL, \n",
            "\t[PostalCode] NVARCHAR(10) COLLATE SQL_Latin1_General_CP1_CI_AS NULL, \n",
            "\t[Phone] NVARCHAR(24) COLLATE SQL_Latin1_General_CP1_CI_AS NULL, \n",
            "\t[Fax] NVARCHAR(24) COLLATE SQL_Latin1_General_CP1_CI_AS NULL, \n",
            "\t[Email] NVARCHAR(60) COLLATE SQL_Latin1_General_CP1_CI_AS NOT NULL, \n",
            "\t[SupportRepId] INTEGER NULL, \n",
            "\tCONSTRAINT [PK_Customer] PRIMARY KEY ([CustomerId]), \n",
            "\tCONSTRAINT [FK_CustomerSupportRepId] FOREIGN KEY([SupportRepId]) REFERENCES [Employee] ([EmployeeId])\n",
            ")\n",
            "\n",
            "SELECT * FROM 'Customer' LIMIT 3;\n",
            "CustomerId\tFirstName\tLastName\tCompany\tAddress\tCity\tState\tCountry\tPostalCode\tPhone\tFax\tEmail\tSupportRepId\n",
            "1\tLuís\tGonçalves\tEmbraer - Empresa Brasileira de Aeronáutica S.A.\tAv. Brigadeiro Faria Lima, 2170\tSão José dos Campos\tSP\tBrazil\t12227-000\t+55 (12) 3923-5555\t+55 (12) 3923-5566\tluisg@embraer.com.br\t3\n",
            "2\tLeonie\tKöhler\tNone\tTheodor-Heuss-Straße 34\tStuttgart\tNone\tGermany\t70174\t+49 0711 2842222\tNone\tleonekohler@surfeu.de\t5\n",
            "3\tFrançois\tTremblay\tNone\t1498 rue Bélanger\tMontréal\tQC\tCanada\tH2G 1A7\t+1 (514) 721-4711\tNone\tftremblay@gmail.com\t3\n",
            "\n",
            "\n",
            "CREATE TABLE [Invoice] (\n",
            "\t[InvoiceId] INTEGER NOT NULL, \n",
            "\t[CustomerId] INTEGER NOT NULL, \n",
            "\t[InvoiceDate] DATETIME NOT NULL, \n",
            "\t[BillingAddress] NVARCHAR(70) COLLATE SQL_Latin1_General_CP1_CI_AS NULL, \n",
            "\t[BillingCity] NVARCHAR(40) COLLATE SQL_Latin1_General_CP1_CI_AS NULL, \n",
            "\t[BillingState] NVARCHAR(40) COLLATE SQL_Latin1_General_CP1_CI_AS NULL, \n",
            "\t[BillingCountry] NVARCHAR(40) COLLATE SQL_Latin1_General_CP1_CI_AS NULL, \n",
            "\t[BillingPostalCode] NVARCHAR(10) COLLATE SQL_Latin1_General_CP1_CI_AS NULL, \n",
            "\t[Total] NUMERIC(10, 2) NOT NULL, \n",
            "\tCONSTRAINT [PK_Invoice] PRIMARY KEY ([InvoiceId]), \n",
            "\tCONSTRAINT [FK_InvoiceCustomerId] FOREIGN KEY([CustomerId]) REFERENCES [Customer] ([CustomerId])\n",
            ")\n",
            "\n",
            "SELECT * FROM 'Invoice' LIMIT 3;\n",
            "InvoiceId\tCustomerId\tInvoiceDate\tBillingAddress\tBillingCity\tBillingState\tBillingCountry\tBillingPostalCode\tTotal\n",
            "1\t2\t2009-01-01 00:00:00\tTheodor-Heuss-Straße 34\tStuttgart\tNone\tGermany\t70174\t1.98\n",
            "2\t4\t2009-01-02 00:00:00\tUllevålsveien 14\tOslo\tNone\tNorway\t0171\t3.96\n",
            "3\t8\t2009-01-03 00:00:00\tGrétrystraat 63\tBrussels\tNone\tBelgium\t1000\t5.94\u001b[0m\n",
            "Thought:\u001b[32;1m\u001b[1;3m I can use the Invoice and Customer tables to get the total sales per country.\n",
            "Action: query_sql_db\n",
            "Action Input: SELECT c.Country, SUM(i.Total) AS TotalSales FROM Invoice i INNER JOIN Customer c ON i.CustomerId = c.CustomerId GROUP BY c.Country ORDER BY TotalSales DESC\u001b[0m\n",
            "Observation: \u001b[36;1m\u001b[1;3m[('USA', Decimal('523.06')), ('Canada', Decimal('303.96')), ('France', Decimal('195.10')), ('Brazil', Decimal('190.10')), ('Germany', Decimal('156.48')), ('United Kingdom', Decimal('112.86')), ('Czech Republic', Decimal('90.24')), ('Portugal', Decimal('77.24')), ('India', Decimal('75.26')), ('Chile', Decimal('46.62')), ('Ireland', Decimal('45.62')), ('Hungary', Decimal('45.62')), ('Austria', Decimal('42.62')), ('Finland', Decimal('41.62')), ('Netherlands', Decimal('40.62')), ('Norway', Decimal('39.62')), ('Sweden', Decimal('38.62')), ('Spain', Decimal('37.62')), ('Poland', Decimal('37.62')), ('Italy', Decimal('37.62')), ('Belgium', Decimal('37.62')), ('Argentina', Decimal('37.62')), ('Australia', Decimal('37.62')), ('Denmark', Decimal('37.62'))]\u001b[0m\n",
            "Thought:\u001b[32;1m\u001b[1;3m I now know the final answer\n",
            "Final Answer: Customers from the USA spent the most, with a total of $523.06.\u001b[0m\n",
            "\n",
            "\u001b[1m> Finished chain.\u001b[0m\n"
          ]
        },
        {
          "data": {
            "text/plain": [
              "'Customers from the USA spent the most, with a total of $523.06.'"
            ]
          },
          "execution_count": 5,
          "metadata": {},
          "output_type": "execute_result"
        }
      ],
      "source": [
        "sql_agent.run(\"List the total sales per country. Which country's customers spent the most?\")"
      ]
    },
    {
      "cell_type": "code",
      "execution_count": 6,
      "id": "474dddda-c067-4eeb-98b1-e763ee78b18c",
      "metadata": {
        "gather": {
          "logged": 1678539193697
        },
        "tags": []
      },
      "outputs": [
        {
          "name": "stdout",
          "output_type": "stream",
          "text": [
            "\n",
            "\n",
            "\u001b[1m> Entering new AgentExecutor chain...\u001b[0m\n",
            "\u001b[32;1m\u001b[1;3mAction: list_tables_sql_db\n",
            "Action Input: \"\"\u001b[0m\n",
            "Observation: \u001b[38;5;200m\u001b[1;3mArtist, Track, Album, PlaylistTrack, Invoice, Playlist, MediaType, Employee, Genre, Customer, InvoiceLine\u001b[0m\n",
            "Thought:\u001b[32;1m\u001b[1;3m I should look at the schema of the Playlist and PlaylistTrack tables to see what columns I can use.\n",
            "Action: schema_sql_db\n",
            "Action Input: \"Playlist, PlaylistTrack\"\u001b[0m\n",
            "Observation: \u001b[33;1m\u001b[1;3m\n",
            "CREATE TABLE [Playlist] (\n",
            "\t[PlaylistId] INTEGER NOT NULL, \n",
            "\t[Name] NVARCHAR(120) COLLATE SQL_Latin1_General_CP1_CI_AS NULL, \n",
            "\tCONSTRAINT [PK_Playlist] PRIMARY KEY ([PlaylistId])\n",
            ")\n",
            "\n",
            "SELECT * FROM 'Playlist' LIMIT 3;\n",
            "PlaylistId\tName\n",
            "1\tMusic\n",
            "2\tMovies\n",
            "3\tTV Shows\n",
            "\n",
            "\n",
            "CREATE TABLE [PlaylistTrack] (\n",
            "\t[PlaylistId] INTEGER NOT NULL, \n",
            "\t[TrackId] INTEGER NOT NULL, \n",
            "\tCONSTRAINT [PK_PlaylistTrack] PRIMARY KEY ([PlaylistId], [TrackId]), \n",
            "\tCONSTRAINT [FK_PlaylistTrackPlaylistId] FOREIGN KEY([PlaylistId]) REFERENCES [Playlist] ([PlaylistId]), \n",
            "\tCONSTRAINT [FK_PlaylistTrackTrackId] FOREIGN KEY([TrackId]) REFERENCES [Track] ([TrackId])\n",
            ")\n",
            "\n",
            "SELECT * FROM 'PlaylistTrack' LIMIT 3;\n",
            "PlaylistId\tTrackId\n",
            "1\t3402\n",
            "1\t3389\n",
            "1\t3390\u001b[0m\n",
            "Thought:\u001b[32;1m\u001b[1;3m I should use a SELECT query to get the total number of tracks in each playlist.\n",
            "Action: query_checker_sql_db\n",
            "Action Input: SELECT Playlist.Name, COUNT(PlaylistTrack.TrackId) AS 'Total Tracks' FROM Playlist INNER JOIN PlaylistTrack ON Playlist.PlaylistId = PlaylistTrack.PlaylistId GROUP BY Playlist.Name\u001b[0m\n",
            "Observation: \u001b[31;1m\u001b[1;3m\n",
            "\n",
            "SELECT Playlist.Name, COUNT(PlaylistTrack.TrackId) AS 'Total Tracks' \n",
            "FROM Playlist \n",
            "INNER JOIN PlaylistTrack ON Playlist.PlaylistId = PlaylistTrack.PlaylistId \n",
            "GROUP BY Playlist.Name\u001b[0m\n",
            "Thought:\u001b[32;1m\u001b[1;3m The query looks correct, I should execute it.\n",
            "Action: query_sql_db\n",
            "Action Input: SELECT Playlist.Name, COUNT(PlaylistTrack.TrackId) AS 'Total Tracks' FROM Playlist INNER JOIN PlaylistTrack ON Playlist.PlaylistId = PlaylistTrack.PlaylistId GROUP BY Playlist.Name\u001b[0m\n",
            "Observation: \u001b[36;1m\u001b[1;3m[('90’s Music', 1477), ('Brazilian Music', 39), ('Classical', 75), ('Classical 101 - Deep Cuts', 25), ('Classical 101 - Next Steps', 25), ('Classical 101 - The Basics', 25), ('Grunge', 15), ('Heavy Metal Classic', 26), ('Music', 6580), ('Music Videos', 1), ('On-The-Go 1', 1), ('TV Shows', 426)]\u001b[0m\n",
            "Thought:\u001b[32;1m\u001b[1;3m I now know the final answer.\n",
            "Final Answer: The total number of tracks in each playlist is: 90’s Music (1477), Brazilian Music (39), Classical (75), Classical 101 - Deep Cuts (25), Classical 101 - Next Steps (25), Classical 101 - The Basics (25), Grunge (15), Heavy Metal Classic (26), Music (6580), Music Videos (1), On-The-Go 1 (1), TV Shows (426).\u001b[0m\n",
            "\n",
            "\u001b[1m> Finished chain.\u001b[0m\n"
          ]
        },
        {
          "data": {
            "text/plain": [
              "'The total number of tracks in each playlist is: 90’s Music (1477), Brazilian Music (39), Classical (75), Classical 101 - Deep Cuts (25), Classical 101 - Next Steps (25), Classical 101 - The Basics (25), Grunge (15), Heavy Metal Classic (26), Music (6580), Music Videos (1), On-The-Go 1 (1), TV Shows (426).'"
            ]
          },
          "execution_count": 6,
          "metadata": {},
          "output_type": "execute_result"
        }
      ],
      "source": [
        "sql_agent.run(\"Show the total number of tracks in each playlist. The Playlist name should be included in the result.\")"
      ]
    },
    {
      "cell_type": "code",
      "execution_count": null,
      "id": "b6104c91",
      "metadata": {},
      "outputs": [],
      "source": []
    }
  ],
  "metadata": {
    "kernel_info": {
      "name": "python310-sdkv2"
    },
    "kernelspec": {
      "display_name": "azureml_py310_sdkv2",
      "language": "python",
      "name": "python3"
    },
    "language_info": {
      "codemirror_mode": {
        "name": "ipython",
        "version": 3
      },
      "file_extension": ".py",
      "mimetype": "text/x-python",
      "name": "python",
      "nbconvert_exporter": "python",
      "pygments_lexer": "ipython3",
      "version": "3.11.7"
    },
    "microsoft": {
      "host": {
        "AzureML": {
          "notebookHasBeenCompleted": true
        }
      },
      "ms_spell_check": {
        "ms_spell_check_language": "en"
      }
    },
    "nteract": {
      "version": "nteract-front-end@1.0.0"
    }
  },
  "nbformat": 4,
  "nbformat_minor": 5
}
