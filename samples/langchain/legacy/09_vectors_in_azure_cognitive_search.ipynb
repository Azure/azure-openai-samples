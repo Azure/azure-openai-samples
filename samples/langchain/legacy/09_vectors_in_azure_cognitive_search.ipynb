{
 "cells": [
  {
   "cell_type": "markdown",
   "metadata": {
    "nteract": {
     "transient": {
      "deleting": false
     }
    }
   },
   "source": [
    "# LangChain Vector Search with Azure Cognitive Search\n",
    "\n",
    "Use Azure Cognitive Search to retrieve relevant content to build effective prompt for Azure Open AI. The example below uses LangChain modules to perform the task.\n",
    "\n",
    "## Prerequisites\n",
    "You need \n",
    "- [Python 3][Python 3.x]\n",
    "  -   Your Python installation should include [pip](https://pip.pypa.io/en/stable/)\n",
    "- Install the python packages\n",
    "  - > pip install openai pandas langchain azure-identity azure-search \n",
    "  - > pip install --index-url=https://pkgs.dev.azure.com/azure-sdk/public/_packaging/azure-sdk-for-python/pypi/simple/ azure-search-documents==11.4.0a20230509004\n",
    "- [Jupyter Notebook][Notebook]\n",
    "- Create an instance of Azure Open AI and \n",
    "  -   Set os environment variables <b>OPENAI_API_TYPE</b>, <b>OPENAI_API_BASE</b>, <b>OPENAI_API_KEY</b>, <b>OPENAI_API_VERSION</b>\n",
    "  -   Deploy the text-embedding-ada-002 model and \n",
    "      -   Set os environment variable <b>EMBEDDINGS_TEXT_MODEL_DEPLOYMENT_NAME</b>\n",
    "-  Create an instance of Azure Cognitive Search and get the endpoint and admin key.\n",
    "    - Set os environment variables <b>COGNITIVE_SEARCH_ENDPOINT_VALUE</b>, <b>COGNITIVE_SEARCH_KEY_VALUE</b>\n",
    "\n",
    "#### Reference :\n",
    "- [Azure Open AI](https://learn.microsoft.com/en-us/azure/cognitive-services/openai/overview)\n",
    "- [LangChain home page](https://python.langchain.com/docs/get_started/introduction.html)\n",
    "- [Azure Cognitive Search](https://learn.microsoft.com/en-us/azure/search/search-what-is-azure-search)\n",
    "- [Azure Cognitive Search as vector store](https://github.com/hwchase17/langchain/pull/5146/files/ef78d38fd12a6edcf6b04ab06493305d0d601ac3..f9b67d653854ef08e3dc56563964bb86deba9d8e)\n",
    "- [LangChain Data connection Vector store integration with Azure Cognitive Search](https://python.langchain.com/docs/modules/data_connection/vectorstores/integrations/azuresearch)\n",
    "\n",
    "[Python 3.x]: https://www.python.org/\n",
    "[Notebook]: https://docs.jupyter.org/en/latest/install/notebook-classic.html"
   ]
  },
  {
   "cell_type": "code",
   "execution_count": 1,
   "metadata": {
    "gather": {
     "logged": 1685732595135
    },
    "jupyter": {
     "outputs_hidden": false,
     "source_hidden": false
    },
    "nteract": {
     "transient": {
      "deleting": false
     }
    }
   },
   "outputs": [],
   "source": [
    "# Get all the config params\n",
    "import openai\n",
    "import sys\n",
    "import os\n",
    "\n",
    "openai.api_key = os.getenv('OPENAI_API_KEY')\n",
    "openai.api_base = os.getenv('OPENAI_API_BASE')\n",
    "# 2023-03-15-preview\n",
    "openai.api_version = os.getenv('OPENAI_API_VERSION')\n",
    "openai.api_type = os.getenv('OPENAI_API_TYPE')\n",
    "\n",
    "deployedEmbeddings = os.getenv('EMBEDDINGS_TEXT_MODEL_DEPLOYMENT_NAME')\n",
    "azureSearchAdminKey = os.getenv('COGNITIVE_SEARCH_KEY_VALUE')\n",
    "azureSearchEndpoint = os.getenv('COGNITIVE_SEARCH_ENDPOINT_VALUE')\n"
   ]
  },
  {
   "cell_type": "markdown",
   "metadata": {},
   "source": [
    "#### Create the Search Index in Azure Cognitive Search\n",
    "<font color=red>Note: This will delete your existing index</font>"
   ]
  },
  {
   "cell_type": "code",
   "execution_count": 4,
   "metadata": {},
   "outputs": [
    {
     "name": "stdout",
     "output_type": "stream",
     "text": [
      "Created index this-demo-search_index\n"
     ]
    }
   ],
   "source": [
    "from AzureOpenAIUtil.AzureCognitiveSearchIndex import AzureCognitiveSearchIndex\n",
    "from azure.core.credentials import AzureKeyCredential  \n",
    "from azure.search.documents.indexes import SearchIndexClient  \n",
    "\n",
    "MY_SEARCH_INDEX_NAME = \"this-demo-search_index\"\n",
    "\n",
    "theSearchIndexInstance = AzureCognitiveSearchIndex()\n",
    "theSearchIndex = theSearchIndexInstance.create_index(\n",
    "                    index_name=MY_SEARCH_INDEX_NAME, \n",
    "                    title_field=\"title\", # that is the column name in my csv file for title\n",
    "                    keywords_field=\"bill_id\" # that is a column in my csv file\n",
    "                )\n",
    "#print(f' {theSearchIndex} created')\n",
    "\n",
    "theSearchCredential = AzureKeyCredential(azureSearchAdminKey)\n",
    "theSearchClient = SearchIndexClient(\n",
    "                        endpoint=azureSearchEndpoint, \n",
    "                        credential=theSearchCredential\n",
    "                    )\n",
    "# Delete index if it exists, to do a clean start\n",
    "theSearchClient.delete_index(MY_SEARCH_INDEX_NAME)\n",
    "# Add the index\n",
    "result = theSearchClient.create_or_update_index(theSearchIndex)\n",
    "print(f'Created index {result.name}')"
   ]
  },
  {
   "cell_type": "markdown",
   "metadata": {},
   "source": [
    "#### Create the Azure Open AI Embeddings and AzureSearch classes:"
   ]
  },
  {
   "cell_type": "code",
   "execution_count": 5,
   "metadata": {},
   "outputs": [],
   "source": [
    "from langchain.embeddings import OpenAIEmbeddings\n",
    "\n",
    "EMBEDDINGS_MODEL_NAME = 'text-embedding-ada-002'\n",
    "embeddings = OpenAIEmbeddings(\n",
    "                    openai_api_key=openai.api_key,\n",
    "                    openai_api_type=openai.api_type,\n",
    "                    openai_api_version=openai.api_version,\n",
    "                    openai_api_base=openai.api_base,\n",
    "                    model=EMBEDDINGS_MODEL_NAME,\n",
    "                    deployment=deployedEmbeddings\n",
    "            )"
   ]
  },
  {
   "cell_type": "code",
   "execution_count": 7,
   "metadata": {},
   "outputs": [],
   "source": [
    "from langchain.vectorstores.azuresearch import AzureSearch\n",
    "vectorStore: AzureSearch = AzureSearch(\n",
    "                                azure_search_endpoint=azureSearchEndpoint,\n",
    "                                azure_search_key=azureSearchAdminKey,\n",
    "                                index_name=MY_SEARCH_INDEX_NAME,\n",
    "                                embedding_function=embeddings.embed_query,\n",
    "                            )"
   ]
  },
  {
   "cell_type": "markdown",
   "metadata": {},
   "source": [
    "### Load the BillSum Dataset\n",
    "BillSum is a dataset of United States Congressional and California state bills. For illustration purposes, we'll look only at the US bills. The corpus consists of bills from the 103rd-115th (1993-2018) sessions of Congress. The data was split into 18,949 train bills and 3,269 test bills. The BillSum corpus focuses on mid-length legislation from 5,000 to 20,000 characters in length. More information on the project and the original academic paper where this dataset is derived from can be found on the BillSum project's GitHub repository.\n",
    "\n",
    "We curated the content and saved it in ../data/bill_sum_data_curated.csv"
   ]
  },
  {
   "cell_type": "markdown",
   "metadata": {},
   "source": [
    "#### Load, cleanup, select text, summary and title columns and select rows with less than 8192 tokens "
   ]
  },
  {
   "cell_type": "code",
   "execution_count": 8,
   "metadata": {},
   "outputs": [],
   "source": [
    "import pandas as pd\n",
    "\n",
    "df=pd.read_csv(os.path.join(os.getcwd(),'./data/bill_sum_data_curated.csv')) # This assumes that you have placed the bill_sum_data.csv in the same directory you are running Jupyter Notebooks\n",
    "df_bills = df[['bill_id', 'title', 'summary', 'sum_len']]\n",
    "\n",
    "from langchain.document_loaders import DataFrameLoader\n",
    "\n",
    "loader = DataFrameLoader(df_bills, page_content_column=\"summary\")\n",
    "docs = loader.load()"
   ]
  },
  {
   "cell_type": "code",
   "execution_count": 9,
   "metadata": {},
   "outputs": [
    {
     "name": "stdout",
     "output_type": "stream",
     "text": [
      "Stored 20 documents with embeddings in Azure Cogntive Search\n"
     ]
    }
   ],
   "source": [
    "results = vectorStore.add_documents(documents = docs)\n",
    "print(\"Stored %s documents with embeddings in Azure Cogntive Search\" %(len(results)))"
   ]
  },
  {
   "cell_type": "markdown",
   "metadata": {},
   "source": [
    "## Different Search functions\n",
    "\n",
    "[LangChain API Reference Docs](https://api.python.langchain.com/en/latest/vectorstores/langchain.vectorstores.azuresearch.AzureSearch.html#langchain.vectorstores.azuresearch.AzureSearch.semantic_hybrid_search)"
   ]
  },
  {
   "cell_type": "code",
   "execution_count": 10,
   "metadata": {},
   "outputs": [
    {
     "name": "stdout",
     "output_type": "stream",
     "text": [
      "Doc: page_content=\"Directs the President, in coordination with designated Secretaries, to establish: (1) a demonstration program for fuel cell proton exchange membrane technology for commercial, residential, and transportation applications within the Secretaries' respective areas. And (2) a comprehensive proton exchange membrane fuel cell bus demonstration program to address hydrogen production, storage, and use in transit bus applications. Mandates that each Federal agency that maintains a motor vehicle fleet develop a plan for fleet transition to vehicles powered by fuel cell technology. Directs the Secretary of Energy to establish a fuel cell technology grant program for State or local government to meet their energy requirements, including such technology as a motor vehicle power source. Authorizes appropriations.\" metadata={'bill_id': '106_hr5585', 'title': 'Energy Independence Act of 2000', 'sum_len': 810}\n",
      "\n"
     ]
    }
   ],
   "source": [
    "# Return docs most similar to query.\n",
    "searchResultDocs = vectorStore.similarity_search(\n",
    "                        query=\"federal agency green energy bill\",\n",
    "                        k=1, # get the most nearest neighbor\n",
    "                        #search_type=\"similarity\" # do not pass this argument to try a hybrid search\n",
    "                     )\n",
    "\n",
    "for doc in searchResultDocs:\n",
    "    print(\"Doc: %s\\n\" %doc)"
   ]
  },
  {
   "cell_type": "code",
   "execution_count": null,
   "metadata": {},
   "outputs": [],
   "source": []
  }
 ],
 "metadata": {
  "kernel_info": {
   "name": "python38-azureml"
  },
  "kernelspec": {
   "display_name": "Python 3 (ipykernel)",
   "language": "python",
   "name": "python3"
  },
  "language_info": {
   "codemirror_mode": {
    "name": "ipython",
    "version": 3
   },
   "file_extension": ".py",
   "mimetype": "text/x-python",
   "name": "python",
   "nbconvert_exporter": "python",
   "pygments_lexer": "ipython3",
   "version": "3.11.0"
  },
  "microsoft": {
   "host": {
    "AzureML": {
     "notebookHasBeenCompleted": true
    }
   },
   "ms_spell_check": {
    "ms_spell_check_language": "en"
   }
  },
  "nteract": {
   "version": "nteract-front-end@1.0.0"
  }
 },
 "nbformat": 4,
 "nbformat_minor": 2
}
