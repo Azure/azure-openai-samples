{
 "cells": [
  {
   "cell_type": "markdown",
   "metadata": {},
   "source": [
    "## CSV Agent \n",
    "This noteboo will dive into CSV agent to inetract with CSV data.\n",
    "\n",
    "NOTE: this agent calls the Pandas DataFrame agent under the hood, which in turn calls the Python agent, which executes LLM generated Python code - this can be bad if the LLM generated Python code is harmful. Use cautiously.\n",
    "\n",
    " \n",
    "!python -m pip install langchain_experimental=0.0.52"
   ]
  },
  {
   "cell_type": "code",
   "execution_count": 91,
   "metadata": {},
   "outputs": [],
   "source": [
    "from langchain_experimental.agents.agent_toolkits import create_csv_agent\n",
    "from langchain_openai import AzureChatOpenAI\n",
    "from langchain.agents import AgentType\n",
    "\n",
    "import pandas as pd\n",
    "from dotenv import load_dotenv\n",
    "from IPython.display import Markdown"
   ]
  },
  {
   "cell_type": "markdown",
   "metadata": {},
   "source": [
    "Load Environment Variables nd Common function"
   ]
  },
  {
   "cell_type": "code",
   "execution_count": 92,
   "metadata": {},
   "outputs": [],
   "source": [
    "load_dotenv()\n",
    "\n",
    "def show_result(result):\n",
    "    display(Markdown(f\"##### Question : \\n{result['input']}\"))\n",
    "    display(Markdown(f\"##### Answer : \\n {result['output']}\"))"
   ]
  },
  {
   "cell_type": "markdown",
   "metadata": {},
   "source": [
    "Initialize AzureOpneAI Model"
   ]
  },
  {
   "cell_type": "code",
   "execution_count": 93,
   "metadata": {},
   "outputs": [],
   "source": [
    "llm = AzureChatOpenAI(azure_deployment='gpt-4'\n",
    "                      ,model_name=\"gpt-4\"\n",
    "                      ,temperature=0, verbose=True)"
   ]
  },
  {
   "cell_type": "markdown",
   "metadata": {},
   "source": [
    "Initialize the agent using the OPENAI_FUNCTIONS agent type. You can also use ZERO_SHOT_REACT_DESCRIPTION agent type."
   ]
  },
  {
   "cell_type": "code",
   "execution_count": 99,
   "metadata": {},
   "outputs": [],
   "source": [
    "agent = create_csv_agent(\n",
    "    llm\n",
    "    ,\"./data/ai4i2020.csv\"\n",
    "    ,agent_type=AgentType.OPENAI_FUNCTIONS\n",
    "    ,verbose=True\n",
    ")"
   ]
  },
  {
   "cell_type": "code",
   "execution_count": 100,
   "metadata": {},
   "outputs": [
    {
     "name": "stdout",
     "output_type": "stream",
     "text": [
      "\n",
      "\n",
      "\u001b[1m> Entering new AgentExecutor chain...\u001b[0m\n",
      "\u001b[32;1m\u001b[1;3m\n",
      "Invoking: `python_repl_ast` with `{'query': \"df.groupby('Type')['Machine failure'].sum()\"}`\n",
      "\n",
      "\n",
      "\u001b[0m\u001b[36;1m\u001b[1;3mType\n",
      "H     21\n",
      "L    235\n",
      "M     83\n",
      "Name: Machine failure, dtype: int64\u001b[0m\u001b[32;1m\u001b[1;3mThe product type 'L' has the maximum number of machine failures with a total of 235 failures. Compared to the other types, 'H' has 21 failures and 'M' has 83 failures.\u001b[0m\n",
      "\n",
      "\u001b[1m> Finished chain.\u001b[0m\n"
     ]
    },
    {
     "data": {
      "text/markdown": [
       "##### Question : \n",
       "Which product types has maximum failures? and how many failures it has compared to others?"
      ],
      "text/plain": [
       "<IPython.core.display.Markdown object>"
      ]
     },
     "metadata": {},
     "output_type": "display_data"
    },
    {
     "data": {
      "text/markdown": [
       "##### Answer : \n",
       " The product type 'L' has the maximum number of machine failures with a total of 235 failures. Compared to the other types, 'H' has 21 failures and 'M' has 83 failures."
      ],
      "text/plain": [
       "<IPython.core.display.Markdown object>"
      ]
     },
     "metadata": {},
     "output_type": "display_data"
    }
   ],
   "source": [
    "question = \"Which product types has maximum failures? and how many failures it has compared to others?\" # AI4I\n",
    "\n",
    "response =agent.invoke(question)\n",
    "show_result(response)"
   ]
  },
  {
   "cell_type": "code",
   "execution_count": 96,
   "metadata": {},
   "outputs": [
    {
     "name": "stdout",
     "output_type": "stream",
     "text": [
      "\n",
      "\n",
      "\u001b[1m> Entering new AgentExecutor chain...\u001b[0m\n",
      "\u001b[32;1m\u001b[1;3m\n",
      "Invoking: `python_repl_ast` with `{'query': \"df['Machine failure'].value_counts()\"}`\n",
      "\n",
      "\n",
      "\u001b[0m\u001b[36;1m\u001b[1;3mMachine failure\n",
      "0    9661\n",
      "1     339\n",
      "Name: count, dtype: int64\u001b[0m\u001b[32;1m\u001b[1;3m\n",
      "Invoking: `python_repl_ast` with `{'query': \"df.groupby('Machine failure').mean()\"}`\n",
      "responded: The dataset indicates that out of the total number of records, there are 339 instances of machine failure and 9661 instances where no machine failure was reported. This suggests that machine failures are relatively infrequent in the dataset, occurring in approximately 3.4% of the cases.\n",
      "\n",
      "To gain further insight into the factors that might be associated with machine failure, we can look at the average values of different features for the instances where machine failure occurred versus when it did not. Let's analyze the average air temperature, process temperature, rotational speed, torque, and tool wear for both scenarios.\n",
      "\n",
      "\u001b[0m\u001b[36;1m\u001b[1;3mTypeError: agg function failed [how->mean,dtype->object]\u001b[0m\u001b[32;1m\u001b[1;3m\n",
      "Invoking: `python_repl_ast` with `{'query': \"df.groupby('Machine failure').mean()[['Air temperature', 'Process temperature', 'Rotational speed', 'Torque', 'Tool wear']]\"}`\n",
      "\n",
      "\n",
      "\u001b[0m\u001b[36;1m\u001b[1;3mTypeError: agg function failed [how->mean,dtype->object]\u001b[0m\u001b[32;1m\u001b[1;3m\n",
      "Invoking: `python_repl_ast` with `{'query': \"df.groupby('Machine failure').agg({'Air temperature': 'mean', 'Process temperature': 'mean', 'Rotational speed': 'mean', 'Torque': 'mean', 'Tool wear': 'mean'})\"}`\n",
      "\n",
      "\n",
      "\u001b[0m\u001b[36;1m\u001b[1;3m                 Air temperature  Process temperature  Rotational speed  \\\n",
      "Machine failure                                                           \n",
      "0                     299.973999           309.995570       1540.260014   \n",
      "1                     300.886431           310.290265       1496.486726   \n",
      "\n",
      "                    Torque   Tool wear  \n",
      "Machine failure                         \n",
      "0                39.629655  106.693717  \n",
      "1                50.168142  143.781711  \u001b[0m\u001b[32;1m\u001b[1;3mUpon analyzing the average values of various features for instances with and without machine failure, we observe the following:\n",
      "\n",
      "- **Air Temperature**: The average air temperature for instances with machine failure is slightly higher (300.89°C) compared to instances without machine failure (299.97°C).\n",
      "- **Process Temperature**: Similarly, the average process temperature is higher for instances with machine failure (310.29°C) than for those without (309.99°C).\n",
      "- **Rotational Speed**: The average rotational speed is lower in instances with machine failure (1496.49 RPM) compared to those without machine failure (1540.26 RPM).\n",
      "- **Torque**: The average torque is significantly higher in instances with machine failure (50.17 Nm) than in those without (39.63 Nm).\n",
      "- **Tool Wear**: The average tool wear is also higher in instances with machine failure (143.78) compared to those without (106.69).\n",
      "\n",
      "These insights suggest that machine failures are associated with higher temperatures (both air and process), higher torque, and greater tool wear. Interestingly, the rotational speed is lower on average during machine failures, which could indicate that failures are more likely to occur at lower speeds or as a result of speed variations.\n",
      "\n",
      "To further understand the relationship between these factors and machine failure, we could perform more detailed statistical analyses, such as correlation analysis or logistic regression, to determine the strength and significance of these associations. Additionally, examining the individual failure types (TWF, HDF, PWF, OSF, RNF) could provide more specific insights into the causes of machine failures.\u001b[0m\n",
      "\n",
      "\u001b[1m> Finished chain.\u001b[0m\n"
     ]
    },
    {
     "data": {
      "text/markdown": [
       "##### Question : \n",
       "Analyze dataset and provide some meaningful insight about machine failure? Analyze entire dataset"
      ],
      "text/plain": [
       "<IPython.core.display.Markdown object>"
      ]
     },
     "metadata": {},
     "output_type": "display_data"
    },
    {
     "data": {
      "text/markdown": [
       "##### Answer : \n",
       " Upon analyzing the average values of various features for instances with and without machine failure, we observe the following:\n",
       "\n",
       "- **Air Temperature**: The average air temperature for instances with machine failure is slightly higher (300.89°C) compared to instances without machine failure (299.97°C).\n",
       "- **Process Temperature**: Similarly, the average process temperature is higher for instances with machine failure (310.29°C) than for those without (309.99°C).\n",
       "- **Rotational Speed**: The average rotational speed is lower in instances with machine failure (1496.49 RPM) compared to those without machine failure (1540.26 RPM).\n",
       "- **Torque**: The average torque is significantly higher in instances with machine failure (50.17 Nm) than in those without (39.63 Nm).\n",
       "- **Tool Wear**: The average tool wear is also higher in instances with machine failure (143.78) compared to those without (106.69).\n",
       "\n",
       "These insights suggest that machine failures are associated with higher temperatures (both air and process), higher torque, and greater tool wear. Interestingly, the rotational speed is lower on average during machine failures, which could indicate that failures are more likely to occur at lower speeds or as a result of speed variations.\n",
       "\n",
       "To further understand the relationship between these factors and machine failure, we could perform more detailed statistical analyses, such as correlation analysis or logistic regression, to determine the strength and significance of these associations. Additionally, examining the individual failure types (TWF, HDF, PWF, OSF, RNF) could provide more specific insights into the causes of machine failures."
      ],
      "text/plain": [
       "<IPython.core.display.Markdown object>"
      ]
     },
     "metadata": {},
     "output_type": "display_data"
    }
   ],
   "source": [
    "quertion = \"Analyze dataset and provide some meaningful insight about machine failure? Analyze entire dataset\"\n",
    "result = agent.invoke(quertion)\n",
    "show_result(result)"
   ]
  }
 ],
 "metadata": {
  "kernelspec": {
   "display_name": "Python 3",
   "language": "python",
   "name": "python3"
  },
  "language_info": {
   "codemirror_mode": {
    "name": "ipython",
    "version": 3
   },
   "file_extension": ".py",
   "mimetype": "text/x-python",
   "name": "python",
   "nbconvert_exporter": "python",
   "pygments_lexer": "ipython3",
   "version": "3.12.0"
  }
 },
 "nbformat": 4,
 "nbformat_minor": 2
}
