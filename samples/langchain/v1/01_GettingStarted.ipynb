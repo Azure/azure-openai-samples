{
 "cells": [
  {
   "cell_type": "markdown",
   "metadata": {},
   "source": [
    "## Setup\n",
    "##### Step 1\n",
    "!python -m pip install langchain-openai==0.0.6 openai==1.12.0\n",
    "\n",
    "##### ChatModels\n",
    "Applicable for following models and version\n",
    "- GPT-4 1106-Preview\n",
    "    - 2023-09-01-preview, 2023-07-01-preview\n",
    "- GPT-35-Turbo 0613\n",
    "- GPT-35-Turbo-16k 0613\n",
    "\n",
    "Environment \\\n",
    "Python 3.12.0 \\\n",
    "openai>=1"
   ]
  },
  {
   "cell_type": "code",
   "execution_count": 1,
   "metadata": {},
   "outputs": [],
   "source": [
    "from langchain_openai import AzureChatOpenAI\n",
    "from langchain.schema import HumanMessage\n",
    "import openai\n",
    "\n",
    "from IPython.display import Markdown\n",
    "\n",
    "from dotenv import load_dotenv\n",
    "import os"
   ]
  },
  {
   "cell_type": "markdown",
   "metadata": {},
   "source": [
    "##### Step 2\n",
    "Add following in .env file and load environment file \\\n",
    "\n",
    "AZURE_OPENAI_API_KEY = \"...\" \\\n",
    "AZURE_OPENAI_ENDPOINT = \"https://{openai service}.openai.azure.com/\" \\\n",
    "OPENAI_API_TYPE = \"azure\" \\\n",
    "OPENAI_API_VERSION = \"2023-09-01-preview\""
   ]
  },
  {
   "cell_type": "code",
   "execution_count": 3,
   "metadata": {},
   "outputs": [],
   "source": [
    "\n",
    "load_dotenv()\n",
    "# clear the old OPENAI_API_BASE environment variable to avoid error\n",
    "del os.environ['OPENAI_API_BASE'] \n",
    "def printmd(string):\n",
    "    display(Markdown(string.replace(\"$\",\"USD \")))"
   ]
  },
  {
   "cell_type": "code",
   "execution_count": 4,
   "metadata": {},
   "outputs": [
    {
     "data": {
      "text/markdown": [
       "A solar eclipse is a natural astronomical event that occurs when the moon moves in its orbit between the Earth and the Sun. This causes the sun to be fully or partially blocked for viewers on Earth. \n",
       "\n",
       "There are four types of solar eclipses: total, annular, partial, and hybrid. \n",
       "\n",
       "1. Total Solar Eclipse: This happens when the moon completely covers the sun, making the sun's atmosphere, known as the corona, visible. \n",
       "\n",
       "2. Annular Solar Eclipse: This occurs when the moon is too far from the Earth to completely cover the sun, leaving a ring of light around the moon. The word \"annular\" comes from the Latin word for ring.\n",
       "\n",
       "3. Partial Solar Eclipse: This is when the moon only obscures a portion of the sun. \n",
       "\n",
       "4. Hybrid Solar Eclipse: This is a combination of a total and annular eclipse. At certain points on the surface of the Earth it appears as a total eclipse, whereas at other points it appears as an annular eclipse.\n",
       "\n",
       "Solar eclipses are significant in the field of astronomy as they provide opportunities to study the sun's corona. However, looking directly at the sun during a solar eclipse without proper protection can cause severe eye damage. \n",
       "\n",
       "It's also worth noting that solar eclipses only occur during a new moon, when the moon is in the same celestial longitude as the sun. Even so, they don't happen at every new moon due to the moon's orbit being tilted relative to Earth's orbit around the sun."
      ],
      "text/plain": [
       "<IPython.core.display.Markdown object>"
      ]
     },
     "metadata": {},
     "output_type": "display_data"
    }
   ],
   "source": [
    "# Using AzureChatOpenAI\n",
    "os.environ[\"OPENAI_API_TYPE\"] = \"azure\"\n",
    "os.environ[\"OPENAI_API_VERSION\"] = \"2023-09-01-preview\"\n",
    "\n",
    "llm = AzureChatOpenAI(azure_deployment=\"gpt-4\")\n",
    "message = HumanMessage(\n",
    "    content=\"Tell me about solar eclipse.\"\n",
    ")\n",
    "\n",
    "result = llm.invoke([message])\n",
    "display(Markdown(result.content))\n",
    "\n"
   ]
  },
  {
   "cell_type": "code",
   "execution_count": 5,
   "metadata": {},
   "outputs": [
    {
     "data": {
      "text/markdown": [
       "A solar eclipse occurs when the moon passes between the sun and earth and blocks all or part of the sun for up to about three hours, from beginning to end, as viewed from a given location. During a total solar eclipse, the disk of the moon completely covers the disk of the sun. There are four types of solar eclipses: total, annular, partial, and hybrid. Solar eclipses are relatively rare events, happening somewhere on earth approximately once every 18 months. They can be viewed safely with appropriate eye protection, such as solar viewing glasses, to protect your eyes from the intense sunlight."
      ],
      "text/plain": [
       "<IPython.core.display.Markdown object>"
      ]
     },
     "metadata": {},
     "output_type": "display_data"
    }
   ],
   "source": [
    "# Using openao client\n",
    "\n",
    "result = openai.chat.completions.create(\n",
    "            model=\"gpt-4\", \n",
    "            messages = [{\"role\":\"system\", \"content\":\"Tell me about solar eclipse.\"}])\n",
    "\n",
    "display(Markdown(result.choices[0].message.content))"
   ]
  },
  {
   "cell_type": "code",
   "execution_count": null,
   "metadata": {},
   "outputs": [],
   "source": []
  }
 ],
 "metadata": {
  "kernelspec": {
   "display_name": "Python 3",
   "language": "python",
   "name": "python3"
  },
  "language_info": {
   "codemirror_mode": {
    "name": "ipython",
    "version": 3
   },
   "file_extension": ".py",
   "mimetype": "text/x-python",
   "name": "python",
   "nbconvert_exporter": "python",
   "pygments_lexer": "ipython3",
   "version": "3.11.5"
  }
 },
 "nbformat": 4,
 "nbformat_minor": 2
}
