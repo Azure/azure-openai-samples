{
 "cells": [
  {
   "cell_type": "code",
   "execution_count": 11,
   "metadata": {},
   "outputs": [],
   "source": [
    "from langchain_openai import AzureChatOpenAI\n",
    "from langchain_core.prompts import PromptTemplate\n",
    "from langchain.agents import load_tools, initialize_agent, AgentType, create_react_agent, AgentExecutor\n",
    "\n",
    "from dotenv import load_dotenv\n",
    "from IPython.display import Markdown"
   ]
  },
  {
   "cell_type": "markdown",
   "metadata": {},
   "source": [
    "### Laod environment variables and utility methods"
   ]
  },
  {
   "cell_type": "code",
   "execution_count": 16,
   "metadata": {},
   "outputs": [],
   "source": [
    "load_dotenv()\n",
    "\n",
    "def show_result(result):\n",
    "    display(Markdown(f\"##### Question : \\n{result['input']}\"))\n",
    "    display(Markdown(f\"##### Answer : \\n {result['output']}\"))"
   ]
  },
  {
   "cell_type": "markdown",
   "metadata": {},
   "source": [
    "## Intial Setup\n",
    "Create AzureChatOpenAI LLM model\n",
    "Load 'Bing' search tool"
   ]
  },
  {
   "cell_type": "code",
   "execution_count": 3,
   "metadata": {},
   "outputs": [],
   "source": [
    "llm = AzureChatOpenAI(azure_deployment='gpt-4'\n",
    "                      ,model_name=\"gpt-4\"\n",
    "                      ,temperature=0, verbose=True)\n",
    "\n",
    "tools = load_tools([\"bing-search\"], llm=llm)\n",
    "question = \"Who won 2024 super bowl? What was score and who was MVP?\""
   ]
  },
  {
   "cell_type": "markdown",
   "metadata": {},
   "source": [
    "## Part I - Bing Search \n",
    "Search answer using stable version of Agents"
   ]
  },
  {
   "cell_type": "code",
   "execution_count": 17,
   "metadata": {},
   "outputs": [
    {
     "name": "stdout",
     "output_type": "stream",
     "text": [
      "\n",
      "\n",
      "\u001b[1m> Entering new AgentExecutor chain...\u001b[0m\n",
      "\u001b[32;1m\u001b[1;3mThought: Since the 2024 Super Bowl has not occurred yet (as of my knowledge cutoff in early 2023), I will need to use Bing Search to find the most recent information on the winner, the final score, and the MVP of the 2024 Super Bowl.\n",
      "\n",
      "Action:\n",
      "```json\n",
      "{\n",
      "  \"action\": \"bing_search\",\n",
      "  \"action_input\": \"2024 Super Bowl winner, final score, MVP\"\n",
      "}\n",
      "```\n",
      "\u001b[0m\n",
      "Observation: \u001b[36;1m\u001b[1;3mPatrick Mahomes is the <b>Super</b> <b>Bowl</b> <b>2024</b> <b>MVP</b>!. Mahomes, 28, won the trophy following the Kansas City Chiefs&#39; 25-22 victory over the San Francisco 49ers, making it the third time in his career that ... After the Chiefs&#39; defense got a crucial stop<b> and</b> forced a go-ahead field goal by Jake Moody, Mahomes and the offense marched down the field<b> and won</b> on a touchdown catch by Mecole Hardman. MORE:... This is the <b>Super</b> <b>Bowl</b> of kickers, as the Chiefs <b>score</b> yet another field goal to tie the <b>game</b> 19-19 and almost certainly send the <b>game</b> into overtime. Patrick T. Fallon / AFP via Getty Images 8d ... Sporting News Who won the <b>Super</b> <b>Bowl</b> <b>2024</b>? <b>Final</b> <b>score</b>, results as Patrick Mahomes, Chiefs defeat 49ers in OT for repeat title Story by David Suggs • 1d The Sporting News tracked live... Ruby Franke sentenced Audrii Cunningham February 12, <b>2024</b> 8:34 AM PST How the Chiefs shape their roster will be a top story to follow in the offseason 3:44 AM PST Mahomes, the Chiefs, Taylor Swift and a thrilling <b>game</b> -- it all came together at the <b>Super</b> <b>Bowl</b> February 11, <b>2024</b> 11:19 PM PST The Kansas City Chiefs have won a thrilling <b>Super</b> <b>Bowl</b> LVIII 25-22 after Patrick Mahomes connected with Mecole Hardman on a three-yard touchdown to <b>win</b> the <b>game</b> in overtime.. Mahomes was announced ... <b>Super</b> <b>Bowl</b> <b>2024</b> recap: Chiefs top 49ers in OT to repeat as champions. ... This is legendary,” <b>game</b> <b>MVP</b> Patrick Mahomes said after the <b>win</b>. ... On the <b>game</b>’s <b>final</b> play, the fifth-year receiver ... The Kansas City Chiefs are a dynasty, and Patrick Mahomes strengthened his argument as one of the greatest quarterbacks of all time during Sunday&#39;s 25-22 OT <b>win</b> over the San Francisco 49ers in <b>Super</b> <b>Bowl</b> LVIII.. Mahomes, whose <b>game</b>-winning touchdown pass to Mecole Hardman in overtime gave the Chiefs the <b>win</b>, has joined Tom Brady, Joe Montana, Terry Bradshaw and Troy Aikman as the only starting ...\u001b[0m\n",
      "Thought:\u001b[32;1m\u001b[1;3mThe information obtained from the Bing search indicates that the Kansas City Chiefs won the 2024 Super Bowl with a final score of 25-22 against the San Francisco 49ers. The game went into overtime, and the victory was secured with a touchdown catch by Mecole Hardman. Patrick Mahomes was named the MVP of the game. \n",
      "\n",
      "Final Answer: The Kansas City Chiefs won the 2024 Super Bowl with a final score of 25-22 against the San Francisco 49ers. The MVP of the game was Patrick Mahomes.\u001b[0m\n",
      "\n",
      "\u001b[1m> Finished chain.\u001b[0m\n"
     ]
    },
    {
     "data": {
      "text/markdown": [
       "##### Question : \n",
       "Who won 2024 super bowl? What was score and who was MVP?"
      ],
      "text/plain": [
       "<IPython.core.display.Markdown object>"
      ]
     },
     "metadata": {},
     "output_type": "display_data"
    },
    {
     "data": {
      "text/markdown": [
       "##### Answer : \n",
       " The Kansas City Chiefs won the 2024 Super Bowl with a final score of 25-22 against the San Francisco 49ers. The MVP of the game was Patrick Mahomes."
      ],
      "text/plain": [
       "<IPython.core.display.Markdown object>"
      ]
     },
     "metadata": {},
     "output_type": "display_data"
    }
   ],
   "source": [
    "\n",
    "agent= initialize_agent(tools,llm,agent=AgentType.CHAT_ZERO_SHOT_REACT_DESCRIPTION,verbose=True)\n",
    "response = agent.invoke (question)\n",
    "\n",
    "show_result(response)\n",
    "\n"
   ]
  },
  {
   "cell_type": "markdown",
   "metadata": {},
   "source": [
    "Search using latest library"
   ]
  },
  {
   "cell_type": "code",
   "execution_count": 18,
   "metadata": {},
   "outputs": [
    {
     "name": "stdout",
     "output_type": "stream",
     "text": [
      "\n",
      "\n",
      "\u001b[1m> Entering new AgentExecutor chain...\u001b[0m\n",
      "\u001b[32;1m\u001b[1;3mI need to use the Bing search tool to find out the most recent information on the 2024 Super Bowl winner, the final score, and the MVP of the game.\n",
      "\n",
      "Action: bing_search\n",
      "Action Input: 2024 Super Bowl winner, final score, MVP\u001b[0m\u001b[36;1m\u001b[1;3mThe Kansas City Chiefs defeated the San Francisco 49ers 25-22 in a thrilling overtime <b>Super</b> <b>Bowl</b> victory, cementing head coach Andy Reid and quarterback Patrick Mahomes’ team as the new NFL... Patrick Mahomes is the <b>Super</b> <b>Bowl</b> <b>2024</b> <b>MVP</b>!. Mahomes, 28, won the trophy following the Kansas City Chiefs&#39; 25-22 victory over the San Francisco 49ers, making it the third time in his career that ... Ruby Franke sentenced Audrii Cunningham February 12, <b>2024</b> 8:34 AM PST How the Chiefs shape their roster will be a top story to follow in the offseason 3:44 AM PST Mahomes, the Chiefs, Taylor Swift and a thrilling <b>game</b> -- it all came together at the <b>Super</b> <b>Bowl</b> February 11, <b>2024</b> 11:19 PM PST 14 MATCH CENTRE Mahomes was surgical with his arm in the fourth quarter and overtime, leading his team on a <b>game</b>-tying field goal drive in the fourth quarter and then a <b>game</b>-winning touchdown drive in the extra period. He finished 33/46, 333 yards and two touchdowns while adding 66 rushing yards. After the Chiefs&#39; defense got a crucial stop<b> and</b> forced a go-ahead field goal by Jake Moody, Mahomes and the offense marched down the field<b> and won</b> on a touchdown catch by Mecole Hardman. MORE:... His third <b>Super</b> <b>Bowl</b> <b>MVP</b> Award, quite fittingly, tied Mahomes with Montana for the second-most all-time, behind Tom Brady&#39;s five. Mahomes also became only the third back-to-back <b>Super</b> <b>Bowl</b> <b>MVP</b> ... Tom Brady. Now Patrick Mahomes. The Chiefs quarterback continued his stellar NFL resume on Sunday night in Las Vegas, as Mahomes helped lead Kansas City to an overtime <b>win</b> against San Francisco... <b>Super</b> <b>Bowl</b> <b>2024</b> recap: Chiefs top 49ers in OT to repeat as champions. ... This is legendary,” <b>game</b> <b>MVP</b> Patrick Mahomes said after the <b>win</b>. ... On the <b>game</b>’s <b>final</b> play, the fifth-year receiver ... The Kansas City Chiefs are a dynasty, and Patrick Mahomes strengthened his argument as one of the greatest quarterbacks of all time during Sunday&#39;s 25-22 OT <b>win</b> over the San Francisco 49ers in <b>Super</b> <b>Bowl</b> LVIII.. Mahomes, whose <b>game</b>-winning touchdown pass to Mecole Hardman in overtime gave the Chiefs the <b>win</b>, has joined Tom Brady, Joe Montana, Terry Bradshaw and Troy Aikman as the only starting ... Kansas City sets date, time for Chiefs <b>2024</b> <b>Super</b> <b>Bowl</b> parade, rally In a 25-22 <b>win</b> that went to overtime, Mahomes threw for 333 yards on 34 for 46 passing, two touchdowns and an interception ...\u001b[0m\u001b[32;1m\u001b[1;3mI now know the final answer\n",
      "Final Answer: The Kansas City Chiefs won the 2024 Super Bowl with a final score of 25-22 against the San Francisco 49ers. The MVP of the game was Patrick Mahomes.\u001b[0m\n",
      "\n",
      "\u001b[1m> Finished chain.\u001b[0m\n"
     ]
    },
    {
     "data": {
      "text/markdown": [
       "##### Question : \n",
       "Who won 2024 super bowl? What was score and who was MVP?"
      ],
      "text/plain": [
       "<IPython.core.display.Markdown object>"
      ]
     },
     "metadata": {},
     "output_type": "display_data"
    },
    {
     "data": {
      "text/markdown": [
       "##### Answer : \n",
       " The Kansas City Chiefs won the 2024 Super Bowl with a final score of 25-22 against the San Francisco 49ers. The MVP of the game was Patrick Mahomes."
      ],
      "text/plain": [
       "<IPython.core.display.Markdown object>"
      ]
     },
     "metadata": {},
     "output_type": "display_data"
    }
   ],
   "source": [
    "prompt_template = '''Answer the following questions as best you can. You have access to the following tools:\n",
    "\n",
    "{tools}\n",
    "\n",
    "Use the following format:\n",
    "\n",
    "Question: the input question you must answer\n",
    "Thought: you should always think about what to do\n",
    "Action: the action to take, should be one of [{tool_names}]\n",
    "Action Input: the input to the action\n",
    "Observation: the result of the action\n",
    "... (this Thought/Action/Action Input/Observation can repeat N times)\n",
    "Thought: I now know the final answer\n",
    "Final Answer: the final answer to the original input question\n",
    "\n",
    "Begin!\n",
    "\n",
    "Question: {input}\n",
    "Thought:{agent_scratchpad}'''\n",
    "\n",
    "prompt = PromptTemplate.from_template(prompt_template)\n",
    "tools = load_tools([\"bing-search\"], llm=llm)\n",
    "agent1 = create_react_agent(llm, tools,prompt)\n",
    "agent_executor = AgentExecutor(agent=agent1, tools=tools,verbose=True)\n",
    "response = agent_executor.invoke({\"input\": question})\n",
    "\n",
    "show_result(response)\n"
   ]
  },
  {
   "cell_type": "markdown",
   "metadata": {},
   "source": [
    "## Part 2 - Search from specific site\n",
    "Now lets search query on specific site"
   ]
  },
  {
   "cell_type": "code",
   "execution_count": 19,
   "metadata": {},
   "outputs": [
    {
     "name": "stdout",
     "output_type": "stream",
     "text": [
      "\n",
      "\n",
      "\u001b[1m> Entering new AgentExecutor chain...\u001b[0m\n",
      "\u001b[32;1m\u001b[1;3mTo answer this question, I need to find information on the FDA's official website regarding the definition of sampling, the process involved, its purpose, and how it is used in food safety. Since the question specifies the site (https://www.fda.gov/food), I will use the Bing Search tool to find the relevant information on that website.\n",
      "\n",
      "Action: bing_search\n",
      "Action Input: site:https://www.fda.gov/food what is sampling in food safety\u001b[0m\u001b[36;1m\u001b[1;3mSurveillance <b>sampling</b> is just one type of <b>sampling</b> that is important for <b>food</b> <b>safety</b>. There are different kinds of <b>sampling</b>, and the methods that the FDA uses fall into three broad categories ... Establishments may be identified for environmental <b>sampling</b> using this process, which employs criteria related to <b>food</b>-hazard pairs (e.g., frequency of outbreaks associated with a <b>food</b>, likelihood ... Identify each <b>sample</b> unit (defined later) with a properly marked strip of masking tape. Do not use a felt pen on plastic because the ink might penetrate the container. Whenever possible, obtain at ... <b>Sampling</b> Main Page. Testing to Support Prevention Under the FDA <b>Food</b> <b>Safety</b> Modernization Act. As part of the FDA’s risk-based and preventive approach to <b>food</b> <b>safety</b>, which is at the core of the ... <b>Sampling</b>. The FDA <b>Food</b> <b>Safety</b> Modernization Act is based on preventing problems before they happen, rather than solely responding to outbreaks of foodborne illness. But in order to develop ... <b>Food</b> <b>Sampling</b> and Preparation of <b>Sample</b> Homogenate ... Center for <b>Food</b> <b>Safety</b> and Applied Nutrition, FDA by Lois A. Tomlinson with production assistance by Dorothy H. Hughley. This version ... The nation’s farmers are important partners in the <b>Food</b> and Drug Administration’s work to ensure a safe <b>food</b> supply. <b>Food</b> <b>safety</b> is a farm-to-table responsibility, and everyone in this chain ... HACCP is a systematic approach to the identification, evaluation, and control of <b>food</b> <b>safety</b> hazards based on the following seven principles: Principle 1: Conduct a hazard analysis. Principle 2 ... <b>Refrigerate or freeze meat, poultry, eggs, seafood,</b> and other perishables within 2 hours of cooking or purchasing.<b> Refrigerate</b> within 1 hour if the temperature outside is above 90° F. Never thaw ... Environmental <b>Sampling</b>. The U.S. <b>Food and Drug Administration</b> conducted an assignment to inspect ice cream production facilities across the country in 2016 and 2017 to determine the prevalence of ...\u001b[0m\u001b[32;1m\u001b[1;3mThe search results provide snippets that mention different types of sampling and their importance in food safety. It also mentions that the FDA uses sampling as part of its risk-based and preventive approach to food safety, which is at the core of the FDA Food Safety Modernization Act. The snippets suggest that sampling is used to prevent problems before they happen and to support the development of preventive measures. There is also a mention of environmental sampling and its role in ensuring food safety. However, the snippets do not provide a detailed explanation of the sampling process, its purpose, or how exactly it is used in food safety.\n",
      "\n",
      "To provide a comprehensive answer, I need to find a specific page or document on the FDA website that explains the sampling process in detail. I will perform another search to find a more detailed source of information on the FDA's website.\n",
      "\n",
      "Action: bing_search\n",
      "Action Input: site:https://www.fda.gov/food detailed explanation of food sampling process\u001b[0m\u001b[36;1m\u001b[1;3mIdentify each <b>sample</b> unit (defined later) with a properly marked strip of masking tape. Do not use a felt pen on plastic because the ink might penetrate the container. Whenever possible, obtain at ... Establishments may be identified for environmental <b>sampling</b> using this <b>process</b>, which employs criteria related to <b>food</b>-hazard pairs (e.g., frequency of outbreaks associated with a <b>food</b>, likelihood ... Product <b>Sampling</b>. The FDA collects samples <b>of food</b> products ready to go to market, as well as in-<b>process</b> and raw ingredient samples, to ensure they don’t reach consumers with harmful ... HACCP PRINCIPLES. HACCP is a systematic approach to the identification, evaluation, and control <b>of food</b> safety hazards based on the following seven principles: Principle 1: Conduct a hazard ... Overview. The information in the main or top section (see #1-4) of the <b>sample</b> nutrition label (below) can vary with each <b>food</b> and beverage product; it contains product-specific information ... <b>Let bubbles escape.</b> Place 0.01 ml of 1:10 or 1:100 dilution dried egg material on clean microscope slide and spread evenly over 2 sq cm. Proceed as in Direct Microscopic Examination of Eggs, B-2 ... Add 12-15 ml plate count<b> agar</b> (cooled to 45 ± 1°C) to each plate within 15 min of original dilution. For milk samples, pour an<b> agar</b> control, pour a dilution water control and pipet water for a ... This chapter discusses macroscopic methods of analysis, the advantages and limitations of macroanalytical methods, the scope of<b> the macroanalytical</b> procedures manual, legal aspects, determination ... The Blueprint for the New Era of Smarter <b>Food</b> Safety outlines the FDA’s vision to enhance traceability, improve predictive analytics, respond more rapidly to outbreaks, address new business ... Examination of acid <b>foods</b> (pH 4.6 and below) by cultivation. From each can, inoculate 4 tubes of acid broth and 2 tubes of malt extract broth with 1-2 ml or 1-2 g of product, using the same ...\u001b[0m\u001b[32;1m\u001b[1;3mThe second search also provides snippets that mention aspects of the sampling process, such as identifying sample units with masking tape to avoid contamination, environmental sampling, and product sampling of food products ready for market, in-process, and raw ingredients. It also references HACCP (Hazard Analysis and Critical Control Points) principles, which are related to food safety and sampling. However, the snippets still do not provide a comprehensive explanation of the sampling process, its purpose, or how it is used in food safety in a detailed and structured manner.\n",
      "\n",
      "To find a more detailed explanation, I should refine my search to look for specific documents or guidelines on the FDA website that outline the sampling process in detail. I will perform another search with a focus on finding a comprehensive guide or document related to food sampling on the FDA's website.\n",
      "\n",
      "Action: bing_search\n",
      "Action Input: site:https://www.fda.gov/food comprehensive guide to food sampling process\u001b[0m\u001b[36;1m\u001b[1;3m<b>Identify each</b> sample<b> unit (defined later) with a properly marked strip of masking tape.</b> Do not use<b> a felt pen on plastic</b> because<b> the</b> ink might penetrate<b> the</b> container. Whenever possible, obtain at ... Product <b>Sampling</b>. The FDA collects samples of <b>food</b> products ready to go to market, as well as in-<b>process</b> and raw ingredient samples, to ensure they don’t reach consumers with harmful ... Establishments may be identified for environmental <b>sampling</b> using this <b>process</b>, which employs criteria related <b>to food</b>-hazard pairs (e.g., frequency of outbreaks associated with a <b>food</b>, likelihood ... HACCP PRINCIPLES. HACCP is a systematic approach to the identification, evaluation, and control of <b>food</b> safety hazards based on the following seven principles: Principle 1: Conduct a hazard ... Weekly or more frequent <b>sampling</b> of the <b>food</b> processing environment ... Rapid cooling of the product after cold-smoking <b>process</b>; Moulton, 1992: All <b>food</b>: ... <b>Comprehensive</b> Reviews in <b>Food</b> Science ... The nation’s farmers are important partners in the <b>Food</b> and Drug Administration’s work to ensure a safe <b>food</b> supply. <b>Food</b> safety is a farm-to-table responsibility, and everyone in this chain ... Add 12-15 ml plate count<b> agar</b> (cooled to 45 ± 1°C) to each plate within 15 min of original dilution. For milk samples, pour an<b> agar</b> control, pour a dilution water control and pipet water for a ... The <b>sampling</b> design for each <b>food</b> represents what U.S. consumers are likely to find in the marketplace. Accordingly, the agency has considered the volume of the target <b>food</b> that is imported and ... <b>Refrigerate or freeze meat,</b> poultry, eggs, seafood, and other perishables within 2 hours of cooking or purchasing.<b> Refrigerate within 1</b> hour if the temperature outside is above 90° F. Never thaw ... Home-Based Business. If you are starting a home-based <b>food</b> business, you will need to understand the regulations of FDA and your state and local health department. Local and county health agencies ...\u001b[0m\u001b[32;1m\u001b[1;3mThe third search attempt still does not yield a comprehensive guide or document that explains the food sampling process in detail. The snippets mention various aspects of sampling, such as environmental sampling, product sampling, and the importance of HACCP principles in food safety, but they do not provide a step-by-step explanation of the process.\n",
      "\n",
      "Given the limitations of the search results, I will now summarize the information gathered from the snippets to provide an answer to the original question. Sampling in food safety refers to the collection of food products, in-process items, and raw ingredients for testing to ensure they do not contain harmful levels of contaminants or pathogens. The purpose of sampling is to prevent food safety problems before they occur and to support the development of preventive measures. The FDA uses criteria related to food-hazard pairs to identify establishments for environmental sampling. HACCP principles are also mentioned, which are a systematic approach to identifying, evaluating, and controlling food safety hazards. Sampling is a critical part of the FDA's risk-based and preventive approach to food safety, as outlined in the FDA Food Safety Modernization Act.\n",
      "\n",
      "Final Answer: Sampling in food safety is the process of collecting samples of food products, in-process items, and raw ingredients to test for safety and quality. The purpose of sampling is to prevent food safety issues by identifying potential hazards and ensuring that food products do not reach consumers with harmful levels of contaminants or pathogens. The FDA employs various types of sampling, such as environmental sampling, which uses criteria related to food-hazard pairs to identify establishments for testing. Sampling is an integral part of the FDA's preventive approach to food safety, as mandated by the FDA Food Safety Modernization Act. HACCP principles guide the systematic identification, evaluation, and control of food safety hazards, which are closely related to the sampling process.\u001b[0m\n",
      "\n",
      "\u001b[1m> Finished chain.\u001b[0m\n"
     ]
    },
    {
     "data": {
      "text/markdown": [
       "##### Question : \n",
       "(site:https://www.fda.gov/food) Whar is sampling? Explain process, purpose and how it is used in food safety?"
      ],
      "text/plain": [
       "<IPython.core.display.Markdown object>"
      ]
     },
     "metadata": {},
     "output_type": "display_data"
    },
    {
     "data": {
      "text/markdown": [
       "##### Answer : \n",
       " Sampling in food safety is the process of collecting samples of food products, in-process items, and raw ingredients to test for safety and quality. The purpose of sampling is to prevent food safety issues by identifying potential hazards and ensuring that food products do not reach consumers with harmful levels of contaminants or pathogens. The FDA employs various types of sampling, such as environmental sampling, which uses criteria related to food-hazard pairs to identify establishments for testing. Sampling is an integral part of the FDA's preventive approach to food safety, as mandated by the FDA Food Safety Modernization Act. HACCP principles guide the systematic identification, evaluation, and control of food safety hazards, which are closely related to the sampling process."
      ],
      "text/plain": [
       "<IPython.core.display.Markdown object>"
      ]
     },
     "metadata": {},
     "output_type": "display_data"
    }
   ],
   "source": [
    "site_question = \"(site:https://www.fda.gov/food) Whar is sampling? Explain process, purpose and how it is used in food safety?\"\n",
    "response = agent_executor.invoke({\"input\": site_question})\n",
    "\n",
    "show_result(response)"
   ]
  }
 ],
 "metadata": {
  "kernelspec": {
   "display_name": "Python 3",
   "language": "python",
   "name": "python3"
  },
  "language_info": {
   "codemirror_mode": {
    "name": "ipython",
    "version": 3
   },
   "file_extension": ".py",
   "mimetype": "text/x-python",
   "name": "python",
   "nbconvert_exporter": "python",
   "pygments_lexer": "ipython3",
   "version": "3.12.0"
  }
 },
 "nbformat": 4,
 "nbformat_minor": 2
}
