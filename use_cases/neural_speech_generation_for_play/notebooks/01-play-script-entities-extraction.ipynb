{
 "cells": [
  {
   "attachments": {},
   "cell_type": "markdown",
   "metadata": {},
   "source": [
    "# Neural Speech Generation for Shakespeare Play"
   ]
  },
  {
   "cell_type": "code",
   "execution_count": 1,
   "metadata": {},
   "outputs": [],
   "source": [
    "%load_ext autoreload\n",
    "%autoreload 2\n",
    "\n",
    "from IPython.core.interactiveshell import InteractiveShell\n",
    "InteractiveShell.ast_node_interactivity = \"all\""
   ]
  },
  {
   "attachments": {},
   "cell_type": "markdown",
   "metadata": {},
   "source": [
    "## Set Up Environment"
   ]
  },
  {
   "cell_type": "code",
   "execution_count": 2,
   "metadata": {},
   "outputs": [
    {
     "data": {
      "text/plain": [
       "True"
      ]
     },
     "execution_count": 2,
     "metadata": {},
     "output_type": "execute_result"
    }
   ],
   "source": [
    "from dotenv import load_dotenv\n",
    "\n",
    "load_dotenv()"
   ]
  },
  {
   "attachments": {},
   "cell_type": "markdown",
   "metadata": {},
   "source": [
    "## Load Data"
   ]
  },
  {
   "cell_type": "code",
   "execution_count": 3,
   "metadata": {},
   "outputs": [
    {
     "name": "stdout",
     "output_type": "stream",
     "text": [
      "ACT 1\n",
      "Scene 1\n",
      "Enter Solinus the Duke of Ephesus, with Egeon the\n",
      "Merchant of Syracuse, Jailer, and other Attendants.\n",
      "\n",
      "EGEON \n",
      "Proceed, Solinus, to procure my fall,\n",
      "And by the doom of death end woes and all.\n",
      "DUKE \n",
      "Merchant of Syracusa, plead no more.\n",
      "I am not partial to infringe our laws.\n",
      "The enmity and discord which of late\n",
      "Sprung from the rancorous outrage of your duke\n",
      "To merchants, our well-dealing countrymen,\n",
      "Who, wanting guilders to redeem their lives,\n",
      "Have sealed his rigorous statutes with their bloods,\n",
      "Excludes all pity from our threat’ning looks.\n",
      "For since the mortal and intestine jars\n",
      "’Twixt thy seditious countrymen and us,\n",
      "It hath in solemn synods been decreed,\n",
      "Both by the Syracusians and ourselves,\n",
      "To admit no traffic to our adverse towns.\n",
      "Nay, more, if any born at Ephesus\n",
      "Be seen at Syracusian marts and fairs;\n",
      "Again, if any Syracusian born\n",
      "Come to the bay of Ephesus, he dies,\n",
      "His goods confiscate to the Duke’s dispose,\n",
      "Unless a thousand marks be levièd\n",
      "To quit the penalty and to ransom him.\n",
      "Thy substance, valued at the highest rate,\n",
      "Cannot amount unto a hundred marks;\n",
      "Therefore by law thou art condemned to die.\n",
      "EGEON \n",
      "Yet this my comfort: when your words are done,\n",
      "My woes end likewise with the evening sun.\n",
      "DUKE \n",
      "Well, Syracusian, say in brief the cause\n",
      "Why thou departedst from thy native home\n",
      "And for what cause thou cam’st to Ephesus.\n",
      "EGEON \n",
      "A heavier task could not have been imposed\n",
      "Than I to speak my griefs unspeakable;\n",
      "Yet, that the world may witness that my end\n",
      "Was wrought by nature, not by vile offense,\n",
      "I’ll utter what my sorrow gives me leave.\n",
      "In Syracusa was I born, and wed\n",
      "Unto a woman happy but for me,\n",
      "And by me, had not our hap been bad.\n",
      "With her I lived in joy. Our wealth increased\n",
      "By prosperous voyages I often made\n",
      "To Epidamium, till my factor’s death\n",
      "And the great care of goods at random left\n",
      "Drew me from kind embracements of my spouse;\n",
      "From whom my absence was not six months old\n",
      "Before herself—almost at fainting under\n",
      "The pleasing punishment that women bear—\n",
      "Had made provision for her following me\n",
      "And soon and safe arrivèd where I was.\n",
      "There had she not been long but she became\n",
      "A joyful mother of two goodly sons,\n",
      "And, which was strange, the one so like the other\n",
      "As could not be distinguished but by names.\n",
      "That very hour, and in the selfsame inn,\n",
      "A mean woman was deliverèd\n",
      "Of such a burden, male twins, both alike.\n",
      "Those, for their parents were exceeding poor,\n",
      "I bought and brought up to attend my sons.\n",
      "My wife, not meanly proud of two such boys,\n",
      "Made daily motions for our home return.\n",
      "Unwilling, I agreed. Alas, too soon\n",
      "We came aboard.\n",
      "A league from Epidamium had we sailed\n",
      "Before the always-wind-obeying deep\n",
      "Gave any tragic instance of our harm;\n",
      "But longer did we not retain much hope,\n",
      "For what obscurèd light the heavens did grant\n",
      "Did but convey unto our fearful minds\n",
      "A doubtful warrant of immediate death,\n",
      "Which though myself would gladly have embraced,\n",
      "Yet the incessant weepings of my wife,\n",
      "Weeping before for what she saw must come,\n",
      "And piteous plainings of the pretty babes,\n",
      "That mourned for fashion, ignorant what to fear,\n",
      "Forced me to seek delays for them and me.\n",
      "And this it was, for other means was none:\n",
      "The sailors sought for safety by our boat\n",
      "And left the ship, then sinking-ripe, to us.\n",
      "My wife, more careful for the latter-born,\n",
      "Had fastened him unto a small spare mast,\n",
      "Such as seafaring men provide for storms.\n",
      "To him one of the other twins was bound,\n",
      "Whilst I had been like heedful of the other.\n",
      "The children thus disposed, my wife and I,\n",
      "Fixing our eyes on whom our care was fixed,\n",
      "Fastened ourselves at either end the mast\n",
      "And, floating straight, obedient to the stream,\n",
      "Was carried towards Corinth, as we thought.\n",
      "At length the sun, gazing upon the earth,\n",
      "Dispersed those vapors that offended us,\n",
      "And by the benefit of his wished light\n",
      "The seas waxed calm, and we discoverèd\n",
      "Two ships from far, making amain to us,\n",
      "Of Corinth that, of Epidaurus this.\n",
      "But ere they came—O, let me say no more!\n",
      "Gather the sequel by that went before.\n",
      "DUKE \n",
      "Nay, forward, old man. Do not break off so,\n",
      "For we may pity though not pardon thee.\n",
      "EGEON \n",
      "O, had the gods done so, I had not now\n",
      "Worthily termed them merciless to us.\n",
      "For, ere the ships could meet by twice five leagues,\n",
      "We were encountered by a mighty rock,\n",
      "Which being violently borne upon,\n",
      "Our helpful ship was splitted in the midst;\n",
      "So that, in this unjust divorce of us,\n",
      "Fortune had left to both of us alike\n",
      "What to delight in, what to sorrow for.\n",
      "Her part, poor soul, seeming as burdenèd\n",
      "With lesser weight, but not with lesser woe,\n",
      "Was carried with more speed before the wind,\n",
      "And in our sight they three were taken up\n",
      "By fishermen of Corinth, as we thought.\n",
      "At length, another ship had seized on us\n",
      "And, knowing whom it was their hap to save,\n",
      "Gave healthful welcome to their shipwracked guests,\n",
      "And would have reft the fishers of their prey\n",
      "Had not their bark been very slow of sail;\n",
      "And therefore homeward did they bend their course.\n",
      "Thus have you heard me severed from my bliss,\n",
      "That by misfortunes was my life prolonged\n",
      "To tell sad stories of my own mishaps.\n",
      "DUKE \n",
      "And for the sake of them thou sorrowest for,\n",
      "Do me the favor to dilate at full\n",
      "What have befall’n of them and thee till now.\n",
      "EGEON \n",
      "My youngest boy, and yet my eldest care,\n",
      "At eighteen years became inquisitive\n",
      "After his brother, and importuned me\n",
      "That his attendant—so his case was like,\n",
      "Reft of his brother, but retained his name—\n",
      "Might bear him company in the quest of him,\n",
      "Whom whilst I labored of a love to see,\n",
      "I hazarded the loss of whom I loved.\n",
      "Five summers have I spent in farthest Greece,\n",
      "Roaming clean through the bounds of Asia,\n",
      "And, coasting homeward, came to Ephesus,\n",
      "Hopeless to find, yet loath to leave unsought\n",
      "Or that or any place that harbors men.\n",
      "But here must end the story of my life;\n",
      "And happy were I in my timely death\n",
      "Could all my travels warrant me they live.\n",
      "DUKE \n",
      "Hapless Egeon, whom the fates have marked\n",
      "To bear the extremity of dire mishap,\n",
      "Now, trust me, were it not against our laws,\n",
      "Against my crown, my oath, my dignity,\n",
      "Which princes, would they, may not disannul,\n",
      "My soul should sue as advocate for thee.\n",
      "But though thou art adjudgèd to the death,\n",
      "And passèd sentence may not be recalled\n",
      "But to our honor’s great disparagement,\n",
      "Yet will I favor thee in what I can.\n",
      "Therefore, merchant, I’ll limit thee this day\n",
      "To seek thy life by beneficial help.\n",
      "Try all the friends thou hast in Ephesus;\n",
      "Beg thou, or borrow, to make up the sum,\n",
      "And live. If no, then thou art doomed to die.—\n",
      "Jailer, take him to thy custody.\n",
      "JAILER  I will, my lord.\n",
      "EGEON \n",
      "Hopeless and helpless doth Egeon wend,\n",
      "But to procrastinate his lifeless end.\n",
      "They exit.\n"
     ]
    }
   ],
   "source": [
    "fname = \"../data/The-Comedy-of-Errors-ACT-I-Scene-I.txt\"\n",
    "\n",
    "with open(fname) as f: \n",
    "    document = f.read()\n",
    "\n",
    "print(document)"
   ]
  },
  {
   "attachments": {},
   "cell_type": "markdown",
   "metadata": {},
   "source": [
    "## Set Up Azure OpenAI"
   ]
  },
  {
   "cell_type": "code",
   "execution_count": 4,
   "metadata": {},
   "outputs": [],
   "source": [
    "import os\n",
    "import openai\n",
    "\n",
    "# Set up Azure OpenAI\n",
    "openai.api_type = \"azure\"\n",
    "openai.api_base = os.getenv(\"OPENAI_API_BASE\")\n",
    "openai.api_version = \"2023-03-15-preview\"\n",
    "openai.api_key = os.getenv(\"OPENAI_API_KEY\")"
   ]
  },
  {
   "attachments": {},
   "cell_type": "markdown",
   "metadata": {},
   "source": [
    "## Deploy a Model"
   ]
  },
  {
   "cell_type": "code",
   "execution_count": 5,
   "metadata": {},
   "outputs": [
    {
     "name": "stdout",
     "output_type": "stream",
     "text": [
      "{\n",
      "  \"capabilities\": {\n",
      "    \"chat_completion\": true,\n",
      "    \"completion\": false,\n",
      "    \"embeddings\": false,\n",
      "    \"fine_tune\": false,\n",
      "    \"inference\": true,\n",
      "    \"scale_types\": []\n",
      "  },\n",
      "  \"created_at\": 1679356800,\n",
      "  \"deprecation\": {\n",
      "    \"inference\": 1742515200\n",
      "  },\n",
      "  \"id\": \"gpt-4-32k\",\n",
      "  \"lifecycle_status\": \"generally-available\",\n",
      "  \"object\": \"model\",\n",
      "  \"status\": \"succeeded\",\n",
      "  \"updated_at\": 1679356800\n",
      "}\n",
      "Found a succeeded deployment of \"gpt-4-32k\" that supports text chat_completion with id: gpt-4-32k.\n"
     ]
    }
   ],
   "source": [
    "# id of desired_model\n",
    "desired_model = 'gpt-4-32k' \n",
    "desired_capability = 'chat_completion' # apply as completion, since gpt-4 is only released as chat in Azure OpenAI\n",
    "\n",
    "# list models deployed with\n",
    "deployment_id = None\n",
    "result = openai.Deployment.list()\n",
    "\n",
    "for deployment in result.data:\n",
    "    if deployment[\"status\"] != \"succeeded\":\n",
    "        continue\n",
    "    \n",
    "    model = openai.Model.retrieve(deployment[\"model\"])\n",
    "    print(model)\n",
    "    # check if desired_model is deployed, and if it has 'completion' capability\n",
    "    if model[\"id\"] == desired_model and model['capabilities'][desired_capability]:\n",
    "        deployment_id = deployment[\"id\"]\n",
    "        \n",
    "# if no model deployed, deploy one\n",
    "if not deployment_id:\n",
    "    print('No deployment with status: succeeded found.')\n",
    "\n",
    "    # Deploy the model\n",
    "    print(f'Creating a new deployment with model: {desired_model}')\n",
    "    result = openai.Deployment.create(model=desired_model, scale_settings={\"scale_type\":\"standard\"})\n",
    "    deployment_id = result[\"id\"]\n",
    "    print(f'Successfully created {desired_model} that supports text {desired_capability} with id: {deployment_id}.')\n",
    "else:\n",
    "    print(f'Found a succeeded deployment of \"{desired_model}\" that supports text {desired_capability} with id: {deployment_id}.')"
   ]
  },
  {
   "attachments": {},
   "cell_type": "markdown",
   "metadata": {},
   "source": [
    "## Extract Entities : Act, Scene, Setting, Character, Dialogues, etc with OpenAI"
   ]
  },
  {
   "attachments": {},
   "cell_type": "markdown",
   "metadata": {},
   "source": [
    "### Request API"
   ]
  },
  {
   "cell_type": "code",
   "execution_count": 6,
   "metadata": {},
   "outputs": [],
   "source": [
    "def request_api(messages, deployment_id):\n",
    "    response = openai.ChatCompletion.create(\n",
    "        engine = deployment_id,\n",
    "        messages = messages,\n",
    "        temperature=0,\n",
    "        max_tokens=3500,\n",
    "        top_p=1,\n",
    "        frequency_penalty=0,\n",
    "        presence_penalty=0,\n",
    "        stop='###')\n",
    "    return response"
   ]
  },
  {
   "attachments": {},
   "cell_type": "markdown",
   "metadata": {},
   "source": [
    "### Prompt Design"
   ]
  },
  {
   "cell_type": "code",
   "execution_count": 7,
   "metadata": {},
   "outputs": [],
   "source": [
    "content_system = \"You are an assistant role is to extract entities and their associated values from a Shakespeare's play, then convert the extracted entities into json format.\"\n",
    "\n",
    "example_user = \"\\nACT I\\nSCENE I. On a ship at sea: a tempestuous noise\\nof thunder and lightning heard.\\nEnter a Master and a Boatswain\\n\\nMASTER\\nBoatswain!\\n\\nBOATSWAIN\\nHere, master: what cheer?\\n\\nMASTER\\nGood, speak to the mariners: fall to't, yarely,\\nor we run ourselves aground: bestir, bestir.\\n\\nExit\\n\\nEnter Mariners\\n\\nBOATSWAIN\\nHeigh, my hearts! \\n\\nEnter ALONSO, SEBASTIAN, ANTONIO, FERDINAND, GONZALO, and others\\n\\nALONSO\\nGood boatswain, have care. Where's the master?\\n\\nBOATSWAIN\\nI pray now, keep below.\\n\\nANTONIO\\nWhere is the master, boatswain?\\n\\nExit\\n\\n\\nACT II\\n\\nSCENE I. Another part of the island.\\nEnter ALONSO, SEBASTIAN, ANTONIO, GONZALO, ADRIAN, FRANCISCO, and others\\n\\nGONZALO\\nBeseech you, sir, be merry; \\n\\nALONSO\\nPrithee, peace.\\n\\nSEBASTIAN\\nHe receives comfort like cold porridge.\\n\\nExit\\n\\nSCENE II. Another part of the island.\\nEnter CALIBAN with a burden of wood. A noise of thunder heard\\nCALIBAN\\nAll the infections that the sun sucks up\\nFrom bogs, fens, flats, on Prosper fall and make him\\nBy inch-meal a disease! \\n\\nEnter TRINCULO\\n\\nLo, now, lo!\\n\\nExuent\\n\\n###\\n\\nExtract the entities and values from the Shakespeare's script play above. Then, convert the entities and values into json format. \"\n",
    "\n",
    "example_assistant = \"{\\n  \\\"Act I\\\": {\\n    \\\"Scene I\\\": {\\n      \\\"Location\\\": \\\"On a ship at sea\\\",\\n      \\\"Setting\\\": \\\"A tempestuous noise of thunder and lightning heard\\\",\\n      \\\"Characters\\\": [\\n        \\\"Master\\\",\\n        \\\"Boatswain\\\",\\n        \\\"Mariners\\\",\\n        \\\"Alonso\\\",\\n        \\\"Sebastian\\\",\\n        \\\"Antonio\\\",\\n        \\\"Ferdinand\\\",\\n        \\\"Gonzalo\\\"\\n      ],\\n      \\\"Enter\\\": [\\n        \\\"Master\\\",\\n        \\\"Boatswain\\\"\\n      ],\\n      \\\"Dialogues\\\": [\\n        {\\n          \\\"Speaker\\\": \\\"Master\\\",\\n          \\\"Text\\\": \\\"Boatswain!\\\"\\n        },\\n        {\\n          \\\"Speaker\\\": \\\"Boatswain\\\",\\n          \\\"Text\\\": \\\"Here, master: what cheer?\\\"\\n        },\\n        {\\n          \\\"Speaker\\\": \\\"Master\\\",\\n          \\\"Text\\\": \\\"Good, speak to the mariners: fall to't, yarely, or we run ourselves aground: bestir, bestir.\\\"\\n        },\\n        {\\n          \\\"Speaker\\\": \\\"Boatswain\\\",\\n          \\\"Text\\\": \\\"Heigh, my hearts!\\\"\\n        },\\n        {\\n          \\\"Speaker\\\": \\\"Alonso\\\",\\n          \\\"Text\\\": \\\"Good boatswain, have care. Where's the master?\\\"\\n        },\\n        {\\n          \\\"Speaker\\\": \\\"Boatswain\\\",\\n          \\\"Text\\\": \\\"I pray now, keep below.\\\"\\n        },\\n        {\\n          \\\"Speaker\\\": \\\"Antonio\\\",\\n          \\\"Text\\\": \\\"Where is the master, boatswain?\\\"\\n        }\\n      ],\\n      \\\"Exit\\\": [\\n        \\\"Master\\\",\\n        \\\"Boatswain\\\"\\n      ]\\n    }\\n  },\\n  \\\"Act II\\\": {\\n    \\\"Scene I\\\": {\\n      \\\"Location\\\": \\\"Another part of the island\\\",\\n      \\\"Characters\\\": [\\n        \\\"Alonso\\\",\\n        \\\"Sebastian\\\",\\n        \\\"Antonio\\\",\\n        \\\"Gonzalo\\\",\\n        \\\"Adrian\\\",\\n        \\\"Francisco\\\"\\n      ],\\n      \\\"Enter\\\": [\\n        \\\"ALONSO\\\",\\n        \\\"SEBASTIAN\\\",\\n        \\\"ANTONIO\\\",\\n        \\\"GONZALO\\\",\\n        \\\"ADRIAN\\\",\\n        \\\"FRANCISCO\\\",\\n        \\\"others\\\"\\n      ],\\n      \\\"Dialogues\\\": [\\n        {\\n          \\\"Speaker\\\": \\\"Gonzalo\\\",\\n          \\\"Text\\\": \\\"Beseech you, sir, be merry;\\\"\\n        },\\n        {\\n          \\\"Speaker\\\": \\\"Alonso\\\",\\n          \\\"Text\\\": \\\"Prithee, peace.\\\"\\n        },\\n        {\\n          \\\"Speaker\\\": \\\"Sebastian\\\",\\n          \\\"Text\\\": \\\"He receives comfort like cold porridge.\\\"\\n        }\\n      ],\\n      \\\"Exit\\\": [\\n        \\\"ALONSO\\\",\\n        \\\"SEBASTIAN\\\",\\n        \\\"ANTONIO\\\",\\n        \\\"GONZALO\\\",\\n        \\\"ADRIAN\\\",\\n        \\\"FRANCISCO\\\",\\n        \\\"others\\\"\\n      ]\\n    },\\n    \\\"Scene II\\\": {\\n      \\\"Location\\\": \\\"Another part of the island\\\",\\n      \\\"Setting\\\": \\\"A noise of thunder heard\\\",\\n      \\\"Characters\\\": [\\n        \\\"Caliban\\\",\\n        \\\"Trinculo\\\"\\n      ],\\n      \\\"Enter\\\": [\\n        \\\"Caliban with a burden of wood\\\",\\n        \\\"Trinculo\\\"\\n      ],\\n      \\\"Dialogues\\\": [\\n        {\\n          \\\"Speaker\\\": \\\"Caliban\\\",\\n          \\\"Text\\\": \\\"All the infections that the sun sucks up From bogs, fens, flats, on Prosper fall and make him By inch-meal a disease!\\\"\\n        },\\n        {\\n          \\\"Speaker\\\": \\\"Caliban\\\",\\n          \\\"Text\\\": \\\"Lo, now, lo!\\\"\\n        }\\n      ],\\n      \\\"Exit\\\": [\\n        \\\"Caliban\\\",\\n        \\\"Trinculo\\\"\\n      ]\\n    }\\n  }\\n}\""
   ]
  },
  {
   "attachments": {},
   "cell_type": "markdown",
   "metadata": {},
   "source": [
    "### Get Structured Data"
   ]
  },
  {
   "cell_type": "code",
   "execution_count": 8,
   "metadata": {},
   "outputs": [],
   "source": [
    "def get_structured_data(document, prompt_postfix, content_system, example_user, example_assistant, deployment_id):\n",
    "    content = prompt_postfix.replace('<document>', document)\n",
    "    messages = [{\"role\":\"system\",\"content\":content_system},\n",
    "                {\"role\":\"user\", \"content\":example_user},\n",
    "                {\"role\":\"assistant\", \"content\":example_assistant},\n",
    "                {\"role\":\"user\", \"content\":content}]; #print(messages)\n",
    "\n",
    "    structured_data = request_api(messages, deployment_id)\n",
    "    return structured_data"
   ]
  },
  {
   "cell_type": "code",
   "execution_count": 10,
   "metadata": {},
   "outputs": [],
   "source": [
    "# Prompt postfix\n",
    "prompt_postfix = \"\"\" <document>\n",
    "  \\n###\n",
    "  \\nExtract the entities and values from the Shakespeare's script play above. Then, convert the entities and values into json format. \n",
    "\"\"\"\n",
    "#print(prompt_postfix)\n",
    "\n",
    "structured_data = get_structured_data(document, prompt_postfix, content_system, example_user, example_assistant, deployment_id)"
   ]
  },
  {
   "cell_type": "code",
   "execution_count": 25,
   "metadata": {},
   "outputs": [],
   "source": [
    "import json\n",
    "\n",
    "# Serializing json\n",
    "json_output = json.loads(structured_data['choices'][0]['message']['content'])\n",
    " \n",
    "# Writing to file\n",
    "fname_out = \"../output/The-Comedy-of-Errors-ACT-I-Scene-I-output.json\"\n",
    "with open(fname_out, \"w\") as f:\n",
    "    json.dump(json_output, f)"
   ]
  },
  {
   "cell_type": "code",
   "execution_count": 26,
   "metadata": {},
   "outputs": [
    {
     "data": {
      "text/plain": [
       "{'Act 1': {'Scene 1': {'Characters': ['Solinus',\n",
       "    'Egeon',\n",
       "    'Duke',\n",
       "    'Jailer',\n",
       "    'Attendants'],\n",
       "   'Enter': ['Solinus', 'Egeon', 'Jailer', 'Attendants'],\n",
       "   'Dialogues': [{'Speaker': 'Egeon',\n",
       "     'Text': 'Proceed, Solinus, to procure my fall, And by the doom of death end woes and all.'},\n",
       "    {'Speaker': 'Duke',\n",
       "     'Text': 'Merchant of Syracusa, plead no more. I am not partial to infringe our laws. The enmity and discord which of late Sprung from the rancorous outrage of your duke To merchants, our well-dealing countrymen, Who, wanting guilders to redeem their lives, Have sealed his rigorous statutes with their bloods, Excludes all pity from our threat’ning looks. For since the mortal and intestine jars ’Twixt thy seditious countrymen and us, It hath in solemn synods been decreed, Both by the Syracusians and ourselves, To admit no traffic to our adverse towns. Nay, more, if any born at Ephesus Be seen at Syracusian marts and fairs; Again, if any Syracusian born Come to the bay of Ephesus, he dies, His goods confiscate to the Duke’s dispose, Unless a thousand marks be levièd To quit the penalty and to ransom him. Thy substance, valued at the highest rate, Cannot amount unto a hundred marks; Therefore by law thou art condemned to die.'},\n",
       "    {'Speaker': 'Egeon',\n",
       "     'Text': 'Yet this my comfort: when your words are done, My woes end likewise with the evening sun.'},\n",
       "    {'Speaker': 'Duke',\n",
       "     'Text': 'Well, Syracusian, say in brief the cause Why thou departedst from thy native home And for what cause thou cam’st to Ephesus.'},\n",
       "    {'Speaker': 'Egeon',\n",
       "     'Text': 'A heavier task could not have been imposed Than I to speak my griefs unspeakable; Yet, that the world may witness that my end Was wrought by nature, not by vile offense, I’ll utter what my sorrow gives me leave. In Syracusa was I born, and wed Unto a woman happy but for me, And by me, had not our hap been bad. With her I lived in joy. Our wealth increased By prosperous voyages I often made To Epidamium, till my factor’s death And the great care of goods at random left Drew me from kind embracements of my spouse; From whom my absence was not six months old Before herself—almost at fainting under The pleasing punishment that women bear— Had made provision for her following me And soon and safe arrivèd where I was. There had she not been long but she became A joyful mother of two goodly sons, And, which was strange, the one so like the other As could not be distinguished but by names. That very hour, and in the selfsame inn, A mean woman was deliverèd Of such a burden, male twins, both alike. Those, for their parents were exceeding poor, I bought and brought up to attend my sons. My wife, not meanly proud of two such boys, Made daily motions for our home return. Unwilling, I agreed. Alas, too soon We came aboard. A league from Epidamium had we sailed Before the always-wind-obeying deep Gave any tragic instance of our harm; But longer did we not retain much hope, For what obscurèd light the heavens did grant Did but convey unto our fearful minds A doubtful warrant of immediate death, Which though myself would gladly have embraced, Yet the incessant weepings of my wife, Weeping before for what she saw must come, And piteous plainings of the pretty babes, That mourned for fashion, ignorant what to fear, Forced me to seek delays for them and me. And this it was, for other means was none: The sailors sought for safety by our boat And left the ship, then sinking-ripe, to us. My wife, more careful for the latter-born, Had fastened him unto a small spare mast, Such as seafaring men provide for storms. To him one of the other twins was bound, Whilst I had been like heedful of the other. The children thus disposed, my wife and I, Fixing our eyes on whom our care was fixed, Fastened ourselves at either end the mast And, floating straight, obedient to the stream, Was carried towards Corinth, as we thought. At length the sun, gazing upon the earth, Dispersed those vapors that offended us, And by the benefit of his wished light The seas waxed calm, and we discoverèd Two ships from far, making amain to us, Of Corinth that, of Epidaurus this. But ere they came—O, let me say no more! Gather the sequel by that went before.'},\n",
       "    {'Speaker': 'Duke',\n",
       "     'Text': 'Nay, forward, old man. Do not break off so, For we may pity though not pardon thee.'},\n",
       "    {'Speaker': 'Egeon',\n",
       "     'Text': 'O, had the gods done so, I had not now Worthily termed them merciless to us. For, ere the ships could meet by twice five leagues, We were encountered by a mighty rock, Which being violently borne upon, Our helpful ship was splitted in the midst; So that, in this unjust divorce of us, Fortune had left to both of us alike What to delight in, what to sorrow for. Her part, poor soul, seeming as burdenèd With lesser weight, but not with lesser woe, Was carried with more speed before the wind, And in our sight they three were taken up By fishermen of Corinth, as we thought. At length, another ship had seized on us And, knowing whom it was their hap to save, Gave healthful welcome to their shipwracked guests, And would have reft the fishers of their prey Had not their bark been very slow of sail; And therefore homeward did they bend their course. Thus have you heard me severed from my bliss, That by misfortunes was my life prolonged To tell sad stories of my own mishaps.'},\n",
       "    {'Speaker': 'Duke',\n",
       "     'Text': 'And for the sake of them thou sorrowest for, Do me the favor to dilate at full What have befall’n of them and thee till now.'},\n",
       "    {'Speaker': 'Egeon',\n",
       "     'Text': 'My youngest boy, and yet my eldest care, At eighteen years became inquisitive After his brother, and importuned me That his attendant—so his case was like, Reft of his brother, but retained his name— Might bear him company in the quest of him, Whom whilst I labored of a love to see, I hazarded the loss of whom I loved. Five summers have I spent in farthest Greece, Roaming clean through the bounds of Asia, And, coasting homeward, came to Ephesus, Hopeless to find, yet loath to leave unsought Or that or any place that harbors men. But here must end the story of my life; And happy were I in my timely death Could all my travels warrant me they live.'},\n",
       "    {'Speaker': 'Duke',\n",
       "     'Text': 'Hapless Egeon, whom the fates have marked To bear the extremity of dire mishap, Now, trust me, were it not against our laws, Against my crown, my oath, my dignity, Which princes, would they, may not disannul, My soul should sue as advocate for thee. But though thou art adjudgèd to the death, And passèd sentence may not be recalled But to our honor’s great disparagement, Yet will I favor thee in what I can. Therefore, merchant, I’ll limit thee this day To seek thy life by beneficial help. Try all the friends thou hast in Ephesus; Beg thou, or borrow, to make up the sum, And live. If no, then thou art doomed to die.— Jailer, take him to thy custody.'},\n",
       "    {'Speaker': 'Jailer', 'Text': 'I will, my lord.'},\n",
       "    {'Speaker': 'Egeon',\n",
       "     'Text': 'Hopeless and helpless doth Egeon wend, But to procrastinate his lifeless end.'}],\n",
       "   'Exit': ['Egeon', 'Jailer', 'Attendants']}}}"
      ]
     },
     "execution_count": 26,
     "metadata": {},
     "output_type": "execute_result"
    }
   ],
   "source": [
    "json_output"
   ]
  }
 ],
 "metadata": {
  "kernelspec": {
   "display_name": "azureml_py38",
   "language": "python",
   "name": "python3"
  },
  "language_info": {
   "codemirror_mode": {
    "name": "ipython",
    "version": 3
   },
   "file_extension": ".py",
   "mimetype": "text/x-python",
   "name": "python",
   "nbconvert_exporter": "python",
   "pygments_lexer": "ipython3",
   "version": "3.8.5"
  },
  "orig_nbformat": 4,
  "vscode": {
   "interpreter": {
    "hash": "6d65a8c07f5b6469e0fc613f182488c0dccce05038bbda39e5ac9075c0454d11"
   }
  }
 },
 "nbformat": 4,
 "nbformat_minor": 2
}
