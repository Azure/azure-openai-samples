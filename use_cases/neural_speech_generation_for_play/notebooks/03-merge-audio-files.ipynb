{
 "cells": [
  {
   "attachments": {},
   "cell_type": "markdown",
   "metadata": {},
   "source": [
    "# Merge Audio Files"
   ]
  },
  {
   "cell_type": "code",
   "execution_count": 1,
   "metadata": {},
   "outputs": [],
   "source": [
    "%load_ext autoreload\n",
    "%autoreload 2\n",
    "\n",
    "from IPython.core.interactiveshell import InteractiveShell\n",
    "InteractiveShell.ast_node_interactivity = \"all\""
   ]
  },
  {
   "cell_type": "code",
   "execution_count": 17,
   "metadata": {},
   "outputs": [
    {
     "data": {
      "text/plain": [
       "[PosixPath('../output/audio/0-Egeon-audio.mp3'),\n",
       " PosixPath('../output/audio/1-Duke-audio.mp3'),\n",
       " PosixPath('../output/audio/2-Egeon-audio.mp3'),\n",
       " PosixPath('../output/audio/3-Duke-audio.mp3'),\n",
       " PosixPath('../output/audio/4-Egeon-audio.mp3'),\n",
       " PosixPath('../output/audio/5-Duke-audio.mp3'),\n",
       " PosixPath('../output/audio/6-Egeon-audio.mp3'),\n",
       " PosixPath('../output/audio/7-Duke-audio.mp3'),\n",
       " PosixPath('../output/audio/8-Egeon-audio.mp3'),\n",
       " PosixPath('../output/audio/9-Duke-audio.mp3'),\n",
       " PosixPath('../output/audio/10-Jailer-audio.mp3'),\n",
       " PosixPath('../output/audio/11-Egeon-audio.mp3')]"
      ]
     },
     "execution_count": 17,
     "metadata": {},
     "output_type": "execute_result"
    }
   ],
   "source": [
    "import os\n",
    "from pathlib import Path\n",
    "\n",
    "path = \"../output/audio/\"\n",
    "file_list = sorted(Path(path).iterdir(), key=os.path.getmtime); file_list"
   ]
  },
  {
   "cell_type": "code",
   "execution_count": 21,
   "metadata": {},
   "outputs": [
    {
     "data": {
      "text/plain": [
       "'../output/audio/1-Duke-audio.mp3'"
      ]
     },
     "execution_count": 21,
     "metadata": {},
     "output_type": "execute_result"
    },
    {
     "data": {
      "text/plain": [
       "'../output/audio/2-Egeon-audio.mp3'"
      ]
     },
     "execution_count": 21,
     "metadata": {},
     "output_type": "execute_result"
    },
    {
     "data": {
      "text/plain": [
       "'../output/audio/3-Duke-audio.mp3'"
      ]
     },
     "execution_count": 21,
     "metadata": {},
     "output_type": "execute_result"
    },
    {
     "data": {
      "text/plain": [
       "'../output/audio/4-Egeon-audio.mp3'"
      ]
     },
     "execution_count": 21,
     "metadata": {},
     "output_type": "execute_result"
    },
    {
     "data": {
      "text/plain": [
       "'../output/audio/5-Duke-audio.mp3'"
      ]
     },
     "execution_count": 21,
     "metadata": {},
     "output_type": "execute_result"
    },
    {
     "data": {
      "text/plain": [
       "'../output/audio/6-Egeon-audio.mp3'"
      ]
     },
     "execution_count": 21,
     "metadata": {},
     "output_type": "execute_result"
    },
    {
     "data": {
      "text/plain": [
       "'../output/audio/7-Duke-audio.mp3'"
      ]
     },
     "execution_count": 21,
     "metadata": {},
     "output_type": "execute_result"
    },
    {
     "data": {
      "text/plain": [
       "'../output/audio/8-Egeon-audio.mp3'"
      ]
     },
     "execution_count": 21,
     "metadata": {},
     "output_type": "execute_result"
    },
    {
     "data": {
      "text/plain": [
       "'../output/audio/9-Duke-audio.mp3'"
      ]
     },
     "execution_count": 21,
     "metadata": {},
     "output_type": "execute_result"
    },
    {
     "data": {
      "text/plain": [
       "'../output/audio/10-Jailer-audio.mp3'"
      ]
     },
     "execution_count": 21,
     "metadata": {},
     "output_type": "execute_result"
    },
    {
     "data": {
      "text/plain": [
       "'../output/audio/11-Egeon-audio.mp3'"
      ]
     },
     "execution_count": 21,
     "metadata": {},
     "output_type": "execute_result"
    },
    {
     "data": {
      "text/plain": [
       "<_io.BufferedRandom name='../output/audio/act-1-scene-1'>"
      ]
     },
     "execution_count": 21,
     "metadata": {},
     "output_type": "execute_result"
    }
   ],
   "source": [
    "from pydub import AudioSegment\n",
    "\n",
    "fname = file_list[0].as_posix() # get string\n",
    "sound = AudioSegment.from_mp3(fname)\n",
    "\n",
    "for file in file_list[1:]:\n",
    "    fname = file.as_posix(); fname\n",
    "    sound_n = AudioSegment.from_mp3(fname)\n",
    "    sound = sound.append(sound_n)\n",
    "    silent = AudioSegment.silent(duration=1500) # pause for 1.5 seconds\n",
    "    sound = sound.append(silent)\n",
    "\n",
    "fname_out = path + \"act-1-scene-1.mp3\"\n",
    "sound.export(fname_out, format=\"mp3\")\n"
   ]
  },
  {
   "cell_type": "code",
   "execution_count": null,
   "metadata": {},
   "outputs": [],
   "source": []
  }
 ],
 "metadata": {
  "kernelspec": {
   "display_name": "azureml_py38",
   "language": "python",
   "name": "python3"
  },
  "language_info": {
   "codemirror_mode": {
    "name": "ipython",
    "version": 3
   },
   "file_extension": ".py",
   "mimetype": "text/x-python",
   "name": "python",
   "nbconvert_exporter": "python",
   "pygments_lexer": "ipython3",
   "version": "3.8.5"
  },
  "orig_nbformat": 4,
  "vscode": {
   "interpreter": {
    "hash": "6d65a8c07f5b6469e0fc613f182488c0dccce05038bbda39e5ac9075c0454d11"
   }
  }
 },
 "nbformat": 4,
 "nbformat_minor": 2
}
