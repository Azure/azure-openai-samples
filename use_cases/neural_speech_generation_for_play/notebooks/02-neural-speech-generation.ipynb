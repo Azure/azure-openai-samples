{
 "cells": [
  {
   "attachments": {},
   "cell_type": "markdown",
   "metadata": {},
   "source": [
    "# Neural Speech Generation for Shakespeare Play"
   ]
  },
  {
   "cell_type": "code",
   "execution_count": 3,
   "metadata": {},
   "outputs": [],
   "source": [
    "%load_ext autoreload\n",
    "%autoreload 2\n",
    "\n",
    "from IPython.core.interactiveshell import InteractiveShell\n",
    "InteractiveShell.ast_node_interactivity = \"all\""
   ]
  },
  {
   "attachments": {},
   "cell_type": "markdown",
   "metadata": {},
   "source": [
    "## Set Up Environment"
   ]
  },
  {
   "cell_type": "code",
   "execution_count": 2,
   "metadata": {},
   "outputs": [
    {
     "data": {
      "text/plain": [
       "True"
      ]
     },
     "execution_count": 2,
     "metadata": {},
     "output_type": "execute_result"
    }
   ],
   "source": [
    "from dotenv import load_dotenv\n",
    "\n",
    "load_dotenv()"
   ]
  },
  {
   "attachments": {},
   "cell_type": "markdown",
   "metadata": {},
   "source": [
    "## Load Data"
   ]
  },
  {
   "cell_type": "code",
   "execution_count": 15,
   "metadata": {},
   "outputs": [
    {
     "data": {
      "text/plain": [
       "{'Act 1': {'Scene 1': {'Characters': ['Solinus',\n",
       "    'Egeon',\n",
       "    'Duke',\n",
       "    'Jailer',\n",
       "    'Attendants'],\n",
       "   'Enter': ['Solinus', 'Egeon', 'Jailer', 'Attendants'],\n",
       "   'Dialogues': [{'Speaker': 'Egeon',\n",
       "     'Text': 'Proceed, Solinus, to procure my fall, And by the doom of death end woes and all.'},\n",
       "    {'Speaker': 'Duke',\n",
       "     'Text': 'Merchant of Syracusa, plead no more. I am not partial to infringe our laws. The enmity and discord which of late Sprung from the rancorous outrage of your duke To merchants, our well-dealing countrymen, Who, wanting guilders to redeem their lives, Have sealed his rigorous statutes with their bloods, Excludes all pity from our threat’ning looks. For since the mortal and intestine jars ’Twixt thy seditious countrymen and us, It hath in solemn synods been decreed, Both by the Syracusians and ourselves, To admit no traffic to our adverse towns. Nay, more, if any born at Ephesus Be seen at Syracusian marts and fairs; Again, if any Syracusian born Come to the bay of Ephesus, he dies, His goods confiscate to the Duke’s dispose, Unless a thousand marks be levièd To quit the penalty and to ransom him. Thy substance, valued at the highest rate, Cannot amount unto a hundred marks; Therefore by law thou art condemned to die.'},\n",
       "    {'Speaker': 'Egeon',\n",
       "     'Text': 'Yet this my comfort: when your words are done, My woes end likewise with the evening sun.'},\n",
       "    {'Speaker': 'Duke',\n",
       "     'Text': 'Well, Syracusian, say in brief the cause Why thou departedst from thy native home And for what cause thou cam’st to Ephesus.'},\n",
       "    {'Speaker': 'Egeon',\n",
       "     'Text': 'A heavier task could not have been imposed Than I to speak my griefs unspeakable; Yet, that the world may witness that my end Was wrought by nature, not by vile offense, I’ll utter what my sorrow gives me leave. In Syracusa was I born, and wed Unto a woman happy but for me, And by me, had not our hap been bad. With her I lived in joy. Our wealth increased By prosperous voyages I often made To Epidamium, till my factor’s death And the great care of goods at random left Drew me from kind embracements of my spouse; From whom my absence was not six months old Before herself—almost at fainting under The pleasing punishment that women bear— Had made provision for her following me And soon and safe arrivèd where I was. There had she not been long but she became A joyful mother of two goodly sons, And, which was strange, the one so like the other As could not be distinguished but by names. That very hour, and in the selfsame inn, A mean woman was deliverèd Of such a burden, male twins, both alike. Those, for their parents were exceeding poor, I bought and brought up to attend my sons. My wife, not meanly proud of two such boys, Made daily motions for our home return. Unwilling, I agreed. Alas, too soon We came aboard. A league from Epidamium had we sailed Before the always-wind-obeying deep Gave any tragic instance of our harm; But longer did we not retain much hope, For what obscurèd light the heavens did grant Did but convey unto our fearful minds A doubtful warrant of immediate death, Which though myself would gladly have embraced, Yet the incessant weepings of my wife, Weeping before for what she saw must come, And piteous plainings of the pretty babes, That mourned for fashion, ignorant what to fear, Forced me to seek delays for them and me. And this it was, for other means was none: The sailors sought for safety by our boat And left the ship, then sinking-ripe, to us. My wife, more careful for the latter-born, Had fastened him unto a small spare mast, Such as seafaring men provide for storms. To him one of the other twins was bound, Whilst I had been like heedful of the other. The children thus disposed, my wife and I, Fixing our eyes on whom our care was fixed, Fastened ourselves at either end the mast And, floating straight, obedient to the stream, Was carried towards Corinth, as we thought. At length the sun, gazing upon the earth, Dispersed those vapors that offended us, And by the benefit of his wished light The seas waxed calm, and we discoverèd Two ships from far, making amain to us, Of Corinth that, of Epidaurus this. But ere they came—O, let me say no more! Gather the sequel by that went before.'},\n",
       "    {'Speaker': 'Duke',\n",
       "     'Text': 'Nay, forward, old man. Do not break off so, For we may pity though not pardon thee.'},\n",
       "    {'Speaker': 'Egeon',\n",
       "     'Text': 'O, had the gods done so, I had not now Worthily termed them merciless to us. For, ere the ships could meet by twice five leagues, We were encountered by a mighty rock, Which being violently borne upon, Our helpful ship was splitted in the midst; So that, in this unjust divorce of us, Fortune had left to both of us alike What to delight in, what to sorrow for. Her part, poor soul, seeming as burdenèd With lesser weight, but not with lesser woe, Was carried with more speed before the wind, And in our sight they three were taken up By fishermen of Corinth, as we thought. At length, another ship had seized on us And, knowing whom it was their hap to save, Gave healthful welcome to their shipwracked guests, And would have reft the fishers of their prey Had not their bark been very slow of sail; And therefore homeward did they bend their course. Thus have you heard me severed from my bliss, That by misfortunes was my life prolonged To tell sad stories of my own mishaps.'},\n",
       "    {'Speaker': 'Duke',\n",
       "     'Text': 'And for the sake of them thou sorrowest for, Do me the favor to dilate at full What have befall’n of them and thee till now.'},\n",
       "    {'Speaker': 'Egeon',\n",
       "     'Text': 'My youngest boy, and yet my eldest care, At eighteen years became inquisitive After his brother, and importuned me That his attendant—so his case was like, Reft of his brother, but retained his name— Might bear him company in the quest of him, Whom whilst I labored of a love to see, I hazarded the loss of whom I loved. Five summers have I spent in farthest Greece, Roaming clean through the bounds of Asia, And, coasting homeward, came to Ephesus, Hopeless to find, yet loath to leave unsought Or that or any place that harbors men. But here must end the story of my life; And happy were I in my timely death Could all my travels warrant me they live.'},\n",
       "    {'Speaker': 'Duke',\n",
       "     'Text': 'Hapless Egeon, whom the fates have marked To bear the extremity of dire mishap, Now, trust me, were it not against our laws, Against my crown, my oath, my dignity, Which princes, would they, may not disannul, My soul should sue as advocate for thee. But though thou art adjudgèd to the death, And passèd sentence may not be recalled But to our honor’s great disparagement, Yet will I favor thee in what I can. Therefore, merchant, I’ll limit thee this day To seek thy life by beneficial help. Try all the friends thou hast in Ephesus; Beg thou, or borrow, to make up the sum, And live. If no, then thou art doomed to die.— Jailer, take him to thy custody.'},\n",
       "    {'Speaker': 'Jailer', 'Text': 'I will, my lord.'},\n",
       "    {'Speaker': 'Egeon',\n",
       "     'Text': 'Hopeless and helpless doth Egeon wend, But to procrastinate his lifeless end.'}],\n",
       "   'Exit': ['Egeon', 'Jailer', 'Attendants']}}}"
      ]
     },
     "execution_count": 15,
     "metadata": {},
     "output_type": "execute_result"
    }
   ],
   "source": [
    "import json\n",
    "\n",
    "fname = \"../data/The-Comedy-of-Errors-ACT-I-Scene-I-output.json\"\n",
    "with open(fname, 'r') as f: \n",
    "    json_output = json.loads(f.read())\n",
    "\n",
    "json_output"
   ]
  },
  {
   "cell_type": "code",
   "execution_count": 28,
   "metadata": {},
   "outputs": [
    {
     "data": {
      "text/html": [
       "<div>\n",
       "<style scoped>\n",
       "    .dataframe tbody tr th:only-of-type {\n",
       "        vertical-align: middle;\n",
       "    }\n",
       "\n",
       "    .dataframe tbody tr th {\n",
       "        vertical-align: top;\n",
       "    }\n",
       "\n",
       "    .dataframe thead th {\n",
       "        text-align: right;\n",
       "    }\n",
       "</style>\n",
       "<table border=\"1\" class=\"dataframe\">\n",
       "  <thead>\n",
       "    <tr style=\"text-align: right;\">\n",
       "      <th></th>\n",
       "      <th>Speaker</th>\n",
       "      <th>Text</th>\n",
       "    </tr>\n",
       "  </thead>\n",
       "  <tbody>\n",
       "    <tr>\n",
       "      <th>0</th>\n",
       "      <td>Egeon</td>\n",
       "      <td>Proceed, Solinus, to procure my fall, And by t...</td>\n",
       "    </tr>\n",
       "    <tr>\n",
       "      <th>1</th>\n",
       "      <td>Duke</td>\n",
       "      <td>Merchant of Syracusa, plead no more. I am not ...</td>\n",
       "    </tr>\n",
       "    <tr>\n",
       "      <th>2</th>\n",
       "      <td>Egeon</td>\n",
       "      <td>Yet this my comfort: when your words are done,...</td>\n",
       "    </tr>\n",
       "    <tr>\n",
       "      <th>3</th>\n",
       "      <td>Duke</td>\n",
       "      <td>Well, Syracusian, say in brief the cause Why t...</td>\n",
       "    </tr>\n",
       "    <tr>\n",
       "      <th>4</th>\n",
       "      <td>Egeon</td>\n",
       "      <td>A heavier task could not have been imposed Tha...</td>\n",
       "    </tr>\n",
       "    <tr>\n",
       "      <th>5</th>\n",
       "      <td>Duke</td>\n",
       "      <td>Nay, forward, old man. Do not break off so, Fo...</td>\n",
       "    </tr>\n",
       "    <tr>\n",
       "      <th>6</th>\n",
       "      <td>Egeon</td>\n",
       "      <td>O, had the gods done so, I had not now Worthil...</td>\n",
       "    </tr>\n",
       "    <tr>\n",
       "      <th>7</th>\n",
       "      <td>Duke</td>\n",
       "      <td>And for the sake of them thou sorrowest for, D...</td>\n",
       "    </tr>\n",
       "    <tr>\n",
       "      <th>8</th>\n",
       "      <td>Egeon</td>\n",
       "      <td>My youngest boy, and yet my eldest care, At ei...</td>\n",
       "    </tr>\n",
       "    <tr>\n",
       "      <th>9</th>\n",
       "      <td>Duke</td>\n",
       "      <td>Hapless Egeon, whom the fates have marked To b...</td>\n",
       "    </tr>\n",
       "    <tr>\n",
       "      <th>10</th>\n",
       "      <td>Jailer</td>\n",
       "      <td>I will, my lord.</td>\n",
       "    </tr>\n",
       "    <tr>\n",
       "      <th>11</th>\n",
       "      <td>Egeon</td>\n",
       "      <td>Hopeless and helpless doth Egeon wend, But to ...</td>\n",
       "    </tr>\n",
       "  </tbody>\n",
       "</table>\n",
       "</div>"
      ],
      "text/plain": [
       "   Speaker                                               Text\n",
       "0    Egeon  Proceed, Solinus, to procure my fall, And by t...\n",
       "1     Duke  Merchant of Syracusa, plead no more. I am not ...\n",
       "2    Egeon  Yet this my comfort: when your words are done,...\n",
       "3     Duke  Well, Syracusian, say in brief the cause Why t...\n",
       "4    Egeon  A heavier task could not have been imposed Tha...\n",
       "5     Duke  Nay, forward, old man. Do not break off so, Fo...\n",
       "6    Egeon  O, had the gods done so, I had not now Worthil...\n",
       "7     Duke  And for the sake of them thou sorrowest for, D...\n",
       "8    Egeon  My youngest boy, and yet my eldest care, At ei...\n",
       "9     Duke  Hapless Egeon, whom the fates have marked To b...\n",
       "10  Jailer                                   I will, my lord.\n",
       "11   Egeon  Hopeless and helpless doth Egeon wend, But to ..."
      ]
     },
     "execution_count": 28,
     "metadata": {},
     "output_type": "execute_result"
    }
   ],
   "source": [
    "import pandas as pd\n",
    "\n",
    "dialogues = json_output['Act 1']['Scene 1']['Dialogues']\n",
    "df = pd.DataFrame.from_dict(dialogues)\n",
    "df"
   ]
  },
  {
   "cell_type": "code",
   "execution_count": 29,
   "metadata": {},
   "outputs": [
    {
     "data": {
      "text/plain": [
       "array(['Egeon', 'Duke', 'Jailer'], dtype=object)"
      ]
     },
     "execution_count": 29,
     "metadata": {},
     "output_type": "execute_result"
    }
   ],
   "source": [
    "df['Speaker'].unique()"
   ]
  },
  {
   "attachments": {},
   "cell_type": "markdown",
   "metadata": {},
   "source": [
    "## Generate Neural Speech"
   ]
  },
  {
   "cell_type": "code",
   "execution_count": null,
   "metadata": {},
   "outputs": [],
   "source": [
    "import os\n",
    "import azure.cognitiveservices.speech as speechsdk\n",
    "\n",
    "speech_config = speechsdk.SpeechConfig(subscription=os.getenv('SPEECH_KEY'), region=os.getenv('SPEECH_REGION'))\n",
    "speech_synthesizer = speechsdk.SpeechSynthesizer(speech_config=speech_config)\n",
    "\n",
    "# Text to synthesise \n",
    "text = \"Hey, how are you?\"\n",
    "\n",
    "# Synthesise speech\n",
    "result = speech_synthesizer.speak_text_async(text).get()"
   ]
  },
  {
   "cell_type": "code",
   "execution_count": 38,
   "metadata": {},
   "outputs": [],
   "source": [
    "import azure.cognitiveservices.speech as speechsdk\n",
    "\n",
    "def speech_synthesis_to_mp3_file(speaker, text, fname):\n",
    "    \"\"\"performs speech synthesis to a mp3 file\"\"\"\n",
    "    # Creates an instance of a speech config with specified subscription key and service region.\n",
    "    speech_config = speechsdk.SpeechConfig(subscription=os.getenv('SPEECH_KEY'), region=os.getenv('SPEECH_REGION'))\n",
    "    \n",
    "    # Sets the synthesis output format.\n",
    "    # The full list of supported format can be found here:\n",
    "    # https://docs.microsoft.com/azure/cognitive-services/speech-service/rest-text-to-speech#audio-outputs\n",
    "    speech_config.set_speech_synthesis_output_format(speechsdk.SpeechSynthesisOutputFormat.Audio16Khz32KBitRateMonoMp3)\n",
    "    \n",
    "    # Creates a speech synthesizer using file as audio output.\n",
    "    # Replace with your own audio file name.\n",
    "    file_config = speechsdk.audio.AudioOutputConfig(filename=fname)\n",
    "\n",
    "    # Sets the synthesis voice name.\n",
    "    if speaker == \"Egeon\":\n",
    "        voice_name = \"en-GB-EthanNeural\"\n",
    "    elif speaker == \"Duke\":\n",
    "        voice_name = \"en-GB-ElliotNeural\"\n",
    "    elif speaker == \"Jailer\":\n",
    "        voice_name = \"en-GB-NoahNeural\"\n",
    "\n",
    "    speech_config.speech_synthesis_voice_name = voice_name\n",
    "\n",
    "    speech_synthesizer = speechsdk.SpeechSynthesizer(speech_config=speech_config, audio_config=file_config)\n",
    "\n",
    "    try:\n",
    "        text = text\n",
    "    except EOFError as e:\n",
    "        print(e)\n",
    "        exit()\n",
    "        \n",
    "    result = speech_synthesizer.speak_text_async(text).get()\n",
    "    # Check result\n",
    "    if result.reason == speechsdk.ResultReason.SynthesizingAudioCompleted:\n",
    "        print(\"Speech synthesized for text [{}], and the audio was saved to [{}]\".format(text, fname))\n",
    "    elif result.reason == speechsdk.ResultReason.Canceled:\n",
    "        cancellation_details = result.cancellation_details\n",
    "        print(\"Speech synthesis canceled: {}\".format(cancellation_details.reason))\n",
    "        if cancellation_details.reason == speechsdk.CancellationReason.Error:\n",
    "            print(\"Error details: {}\".format(cancellation_details.error_details))"
   ]
  },
  {
   "cell_type": "code",
   "execution_count": 39,
   "metadata": {},
   "outputs": [
    {
     "name": "stdout",
     "output_type": "stream",
     "text": [
      "../output/audio/0-Egeon-audio.mp3\n",
      "Speech synthesized for text [Proceed, Solinus, to procure my fall, And by the doom of death end woes and all.], and the audio was saved to [11-Egeon-audio.mp3]\n",
      "../output/audio/1-Duke-audio.mp3\n",
      "Speech synthesized for text [Merchant of Syracusa, plead no more. I am not partial to infringe our laws. The enmity and discord which of late Sprung from the rancorous outrage of your duke To merchants, our well-dealing countrymen, Who, wanting guilders to redeem their lives, Have sealed his rigorous statutes with their bloods, Excludes all pity from our threat’ning looks. For since the mortal and intestine jars ’Twixt thy seditious countrymen and us, It hath in solemn synods been decreed, Both by the Syracusians and ourselves, To admit no traffic to our adverse towns. Nay, more, if any born at Ephesus Be seen at Syracusian marts and fairs; Again, if any Syracusian born Come to the bay of Ephesus, he dies, His goods confiscate to the Duke’s dispose, Unless a thousand marks be levièd To quit the penalty and to ransom him. Thy substance, valued at the highest rate, Cannot amount unto a hundred marks; Therefore by law thou art condemned to die.], and the audio was saved to [11-Egeon-audio.mp3]\n",
      "../output/audio/2-Egeon-audio.mp3\n",
      "Speech synthesized for text [Yet this my comfort: when your words are done, My woes end likewise with the evening sun.], and the audio was saved to [11-Egeon-audio.mp3]\n",
      "../output/audio/3-Duke-audio.mp3\n",
      "Speech synthesized for text [Well, Syracusian, say in brief the cause Why thou departedst from thy native home And for what cause thou cam’st to Ephesus.], and the audio was saved to [11-Egeon-audio.mp3]\n",
      "../output/audio/4-Egeon-audio.mp3\n",
      "Speech synthesized for text [A heavier task could not have been imposed Than I to speak my griefs unspeakable; Yet, that the world may witness that my end Was wrought by nature, not by vile offense, I’ll utter what my sorrow gives me leave. In Syracusa was I born, and wed Unto a woman happy but for me, And by me, had not our hap been bad. With her I lived in joy. Our wealth increased By prosperous voyages I often made To Epidamium, till my factor’s death And the great care of goods at random left Drew me from kind embracements of my spouse; From whom my absence was not six months old Before herself—almost at fainting under The pleasing punishment that women bear— Had made provision for her following me And soon and safe arrivèd where I was. There had she not been long but she became A joyful mother of two goodly sons, And, which was strange, the one so like the other As could not be distinguished but by names. That very hour, and in the selfsame inn, A mean woman was deliverèd Of such a burden, male twins, both alike. Those, for their parents were exceeding poor, I bought and brought up to attend my sons. My wife, not meanly proud of two such boys, Made daily motions for our home return. Unwilling, I agreed. Alas, too soon We came aboard. A league from Epidamium had we sailed Before the always-wind-obeying deep Gave any tragic instance of our harm; But longer did we not retain much hope, For what obscurèd light the heavens did grant Did but convey unto our fearful minds A doubtful warrant of immediate death, Which though myself would gladly have embraced, Yet the incessant weepings of my wife, Weeping before for what she saw must come, And piteous plainings of the pretty babes, That mourned for fashion, ignorant what to fear, Forced me to seek delays for them and me. And this it was, for other means was none: The sailors sought for safety by our boat And left the ship, then sinking-ripe, to us. My wife, more careful for the latter-born, Had fastened him unto a small spare mast, Such as seafaring men provide for storms. To him one of the other twins was bound, Whilst I had been like heedful of the other. The children thus disposed, my wife and I, Fixing our eyes on whom our care was fixed, Fastened ourselves at either end the mast And, floating straight, obedient to the stream, Was carried towards Corinth, as we thought. At length the sun, gazing upon the earth, Dispersed those vapors that offended us, And by the benefit of his wished light The seas waxed calm, and we discoverèd Two ships from far, making amain to us, Of Corinth that, of Epidaurus this. But ere they came—O, let me say no more! Gather the sequel by that went before.], and the audio was saved to [11-Egeon-audio.mp3]\n",
      "../output/audio/5-Duke-audio.mp3\n",
      "Speech synthesized for text [Nay, forward, old man. Do not break off so, For we may pity though not pardon thee.], and the audio was saved to [11-Egeon-audio.mp3]\n",
      "../output/audio/6-Egeon-audio.mp3\n",
      "Speech synthesized for text [O, had the gods done so, I had not now Worthily termed them merciless to us. For, ere the ships could meet by twice five leagues, We were encountered by a mighty rock, Which being violently borne upon, Our helpful ship was splitted in the midst; So that, in this unjust divorce of us, Fortune had left to both of us alike What to delight in, what to sorrow for. Her part, poor soul, seeming as burdenèd With lesser weight, but not with lesser woe, Was carried with more speed before the wind, And in our sight they three were taken up By fishermen of Corinth, as we thought. At length, another ship had seized on us And, knowing whom it was their hap to save, Gave healthful welcome to their shipwracked guests, And would have reft the fishers of their prey Had not their bark been very slow of sail; And therefore homeward did they bend their course. Thus have you heard me severed from my bliss, That by misfortunes was my life prolonged To tell sad stories of my own mishaps.], and the audio was saved to [11-Egeon-audio.mp3]\n",
      "../output/audio/7-Duke-audio.mp3\n",
      "Speech synthesized for text [And for the sake of them thou sorrowest for, Do me the favor to dilate at full What have befall’n of them and thee till now.], and the audio was saved to [11-Egeon-audio.mp3]\n",
      "../output/audio/8-Egeon-audio.mp3\n",
      "Speech synthesized for text [My youngest boy, and yet my eldest care, At eighteen years became inquisitive After his brother, and importuned me That his attendant—so his case was like, Reft of his brother, but retained his name— Might bear him company in the quest of him, Whom whilst I labored of a love to see, I hazarded the loss of whom I loved. Five summers have I spent in farthest Greece, Roaming clean through the bounds of Asia, And, coasting homeward, came to Ephesus, Hopeless to find, yet loath to leave unsought Or that or any place that harbors men. But here must end the story of my life; And happy were I in my timely death Could all my travels warrant me they live.], and the audio was saved to [11-Egeon-audio.mp3]\n",
      "../output/audio/9-Duke-audio.mp3\n",
      "Speech synthesized for text [Hapless Egeon, whom the fates have marked To bear the extremity of dire mishap, Now, trust me, were it not against our laws, Against my crown, my oath, my dignity, Which princes, would they, may not disannul, My soul should sue as advocate for thee. But though thou art adjudgèd to the death, And passèd sentence may not be recalled But to our honor’s great disparagement, Yet will I favor thee in what I can. Therefore, merchant, I’ll limit thee this day To seek thy life by beneficial help. Try all the friends thou hast in Ephesus; Beg thou, or borrow, to make up the sum, And live. If no, then thou art doomed to die.— Jailer, take him to thy custody.], and the audio was saved to [11-Egeon-audio.mp3]\n",
      "../output/audio/10-Jailer-audio.mp3\n",
      "Speech synthesized for text [I will, my lord.], and the audio was saved to [11-Egeon-audio.mp3]\n",
      "../output/audio/11-Egeon-audio.mp3\n",
      "Speech synthesized for text [Hopeless and helpless doth Egeon wend, But to procrastinate his lifeless end.], and the audio was saved to [11-Egeon-audio.mp3]\n"
     ]
    }
   ],
   "source": [
    "for index, row in df.iterrows():\n",
    "    speaker = row[\"Speaker\"]\n",
    "    text = row[\"Text\"]\n",
    "    fname_out = \"../output/audio/\" + str(index) + \"-\" + str(speaker) + \"-\" + \"audio.mp3\"; print(fname_out)\n",
    "    speech_synthesis_to_mp3_file(speaker=row[\"Speaker\"], text=row[\"Text\"], fname=fname_out)"
   ]
  },
  {
   "cell_type": "code",
   "execution_count": null,
   "metadata": {},
   "outputs": [],
   "source": []
  }
 ],
 "metadata": {
  "kernelspec": {
   "display_name": "azureml_py38",
   "language": "python",
   "name": "python3"
  },
  "language_info": {
   "codemirror_mode": {
    "name": "ipython",
    "version": 3
   },
   "file_extension": ".py",
   "mimetype": "text/x-python",
   "name": "python",
   "nbconvert_exporter": "python",
   "pygments_lexer": "ipython3",
   "version": "3.8.5"
  },
  "orig_nbformat": 4,
  "vscode": {
   "interpreter": {
    "hash": "6d65a8c07f5b6469e0fc613f182488c0dccce05038bbda39e5ac9075c0454d11"
   }
  }
 },
 "nbformat": 4,
 "nbformat_minor": 2
}
