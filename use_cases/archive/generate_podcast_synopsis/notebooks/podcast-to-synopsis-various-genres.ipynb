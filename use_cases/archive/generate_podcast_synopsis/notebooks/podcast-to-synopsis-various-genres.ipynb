{
 "cells": [
  {
   "attachments": {},
   "cell_type": "markdown",
   "metadata": {},
   "source": [
    "# Generate Podcast Synopsis for Various Genres"
   ]
  },
  {
   "cell_type": "code",
   "execution_count": 13,
   "metadata": {},
   "outputs": [
    {
     "name": "stdout",
     "output_type": "stream",
     "text": [
      "The autoreload extension is already loaded. To reload it, use:\n",
      "  %reload_ext autoreload\n"
     ]
    }
   ],
   "source": [
    "%load_ext autoreload\n",
    "%autoreload 2\n",
    "\n",
    "from IPython.core.interactiveshell import InteractiveShell\n",
    "InteractiveShell.ast_node_interactivity = \"all\""
   ]
  },
  {
   "attachments": {},
   "cell_type": "markdown",
   "metadata": {},
   "source": [
    "## Set Up Azure OpenAI"
   ]
  },
  {
   "cell_type": "code",
   "execution_count": 14,
   "metadata": {},
   "outputs": [
    {
     "data": {
      "text/plain": [
       "True"
      ]
     },
     "execution_count": 14,
     "metadata": {},
     "output_type": "execute_result"
    }
   ],
   "source": [
    "import os\n",
    "import openai\n",
    "from dotenv import load_dotenv\n",
    "\n",
    "# Set up Azure OpenAI\n",
    "load_dotenv()\n",
    "openai.api_type = \"azure\"\n",
    "openai.api_base = os.getenv(\"OPENAI_API_BASE\")\n",
    "openai.api_version = \"2022-12-01\"\n",
    "openai.api_key = os.getenv(\"OPENAI_API_KEY\")"
   ]
  },
  {
   "attachments": {},
   "cell_type": "markdown",
   "metadata": {},
   "source": [
    "## Deploy a Model"
   ]
  },
  {
   "cell_type": "code",
   "execution_count": 15,
   "metadata": {},
   "outputs": [
    {
     "name": "stdout",
     "output_type": "stream",
     "text": [
      "Found a succeeded deployment of \"text-davinci-003\" that supports text completion with id: text-davinci-003.\n"
     ]
    }
   ],
   "source": [
    "# id of desired_model\n",
    "desired_model = 'text-davinci-003' # suitable for text generation\n",
    "desired_capability = 'completion'\n",
    "\n",
    "# list models deployed with\n",
    "deployment_id = None\n",
    "result = openai.Deployment.list()\n",
    "\n",
    "for deployment in result.data:\n",
    "    if deployment[\"status\"] != \"succeeded\":\n",
    "        continue\n",
    "    \n",
    "    model = openai.Model.retrieve(deployment[\"model\"])\n",
    "\n",
    "    # check if desired_model is deployed, and if it has 'completion' capability\n",
    "    if model[\"id\"] == desired_model and model['capabilities'][desired_capability]:\n",
    "        deployment_id = deployment[\"id\"]\n",
    "        \n",
    "# if no model deployed, deploy one\n",
    "if not deployment_id:\n",
    "    print('No deployment with status: succeeded found.')\n",
    "\n",
    "    # Deploy the model\n",
    "    print(f'Creating a new deployment with model: {desired_model}')\n",
    "    result = openai.Deployment.create(model=desired_model, scale_settings={\"scale_type\":\"standard\"})\n",
    "    deployment_id = result[\"id\"]\n",
    "    print(f'Successfully created {desired_model} that supports text {desired_capability} with id: {deployment_id}.')\n",
    "else:\n",
    "    print(f'Found a succeeded deployment of \"{desired_model}\" that supports text {desired_capability} with id: {deployment_id}.')"
   ]
  },
  {
   "attachments": {},
   "cell_type": "markdown",
   "metadata": {},
   "source": [
    "## Text chunks generator"
   ]
  },
  {
   "cell_type": "code",
   "execution_count": 16,
   "metadata": {},
   "outputs": [],
   "source": [
    "# A generator that split a text into smaller chunks of size n, preferably ending at the end of a sentence\n",
    "def chunk_generator(text, n, tokenizer):\n",
    "    tokens = tokenizer.encode(text)\n",
    "    i = 0\n",
    "    while i < len(tokens):\n",
    "        # Find the nearest end of sentence within a range of 0.5 * n and 1.5 * n tokens\n",
    "        j = min(i + int(1.5 * n), len(tokens))\n",
    "        while j > i + int(0.5 * n):\n",
    "            # Decode the tokens and check for full stop or newline\n",
    "            chunk = tokenizer.decode(tokens[i:j])\n",
    "            if chunk.endswith(\".\") or chunk.endswith(\"\\n\"):\n",
    "                break\n",
    "            j -= 1\n",
    "        # If no end of sentence found, use n tokens as the chunk size\n",
    "        if j == i + int(0.5 * n):\n",
    "            j = min(i + n, len(tokens))\n",
    "        yield tokens[i:j]\n",
    "        i = j\n"
   ]
  },
  {
   "attachments": {},
   "cell_type": "markdown",
   "metadata": {},
   "source": [
    "## Request API"
   ]
  },
  {
   "cell_type": "code",
   "execution_count": 17,
   "metadata": {},
   "outputs": [],
   "source": [
    "def request_api(document, prompt_postfix, max_tokens):\n",
    "    prompt = prompt_postfix.replace('<document>',document)\n",
    "    #print(f'>>> prompt : {prompt}')\n",
    "\n",
    "    response = openai.Completion.create(  \n",
    "    deployment_id=deployment_id, \n",
    "    prompt=prompt,\n",
    "    temperature=0.5,\n",
    "    max_tokens=max_tokens,\n",
    "    top_p=1,\n",
    "    frequency_penalty=1,\n",
    "    presence_penalty=1,\n",
    "    stop='###')\n",
    "\n",
    "    return response['choices'][0]['text']"
   ]
  },
  {
   "attachments": {},
   "cell_type": "markdown",
   "metadata": {},
   "source": [
    "## Generate Synopsis"
   ]
  },
  {
   "cell_type": "code",
   "execution_count": 18,
   "metadata": {},
   "outputs": [],
   "source": [
    "def get_synopsis(content, prompt_postfix):\n",
    "    import tiktoken\n",
    "\n",
    "    synopsis_chunck = []\n",
    "    n = 2000 # max tokens for chuncking\n",
    "    max_tokens = 1000 # max tokens for response\n",
    "\n",
    "    tokenizer = tiktoken.get_encoding('p50k_base')\n",
    "\n",
    "    # Generate chunkcs    \n",
    "    chunks = chunk_generator(content, n, tokenizer)\n",
    "\n",
    "    # Decode chunk of text\n",
    "    text_chunks = [tokenizer.decode(chunk) for chunk in chunks]\n",
    "\n",
    "    # Request api\n",
    "    for chunk in text_chunks:\n",
    "        synopsis_chunck.append(request_api(chunk, prompt_postfix, max_tokens))\n",
    "        #print(chunk)\n",
    "        #print('>>> synopsis: \\n' + synopsis_chunck[-1])\n",
    "\n",
    "    # Synopsis\n",
    "    synopsis = ' '.join(synopsis_chunck)\n",
    "\n",
    "    return synopsis"
   ]
  },
  {
   "attachments": {},
   "cell_type": "markdown",
   "metadata": {},
   "source": [
    "### Genre : Comedy"
   ]
  },
  {
   "attachments": {},
   "cell_type": "markdown",
   "metadata": {},
   "source": [
    "With no further information provided in the prompt, the response is rather formal and dry for the genre of comedy."
   ]
  },
  {
   "cell_type": "code",
   "execution_count": 19,
   "metadata": {},
   "outputs": [],
   "source": [
    "fname = \"../data/comedy-booking-online-transcript.txt\"\n",
    "\n",
    "with open(fname, 'r') as f:\n",
    "    content = f.readlines()\n",
    "\n",
    "# convert list to str\n",
    "content = ' '.join(content) "
   ]
  },
  {
   "cell_type": "code",
   "execution_count": 20,
   "metadata": {},
   "outputs": [
    {
     "name": "stdout",
     "output_type": "stream",
     "text": [
      "Michael McKintyre talks about the difficulties of buying tickets online and how it can be a long process. He mentions how companies are desperate to get your email address and how they make it difficult to opt out from their mailing lists. He also reflects on the good old days when all we needed was one password, but now passwords have become more complex with numbers added in for security reasons. Michael then goes on to talk about booking fees, restricted views, and reselling tickets which he finds frustrating.\n"
     ]
    }
   ],
   "source": [
    "# Prompt postfix\n",
    "prompt_postfix = \"\"\" <document>\n",
    "  \\n###\n",
    "  \\nSummarise the transcript of a podcast above into a synopsis. \n",
    "  \\nSynopsis : \n",
    "\"\"\"\n",
    "\n",
    "synopsis = get_synopsis(content, prompt_postfix)\n",
    "print(synopsis)"
   ]
  },
  {
   "attachments": {},
   "cell_type": "markdown",
   "metadata": {},
   "source": [
    "Adding more information may help in achieving a more desirable results:\n",
    "- genre\n",
    "- desired style\n",
    "\n",
    "Be creative and explicit about the desired outcome when desiging the prompt. "
   ]
  },
  {
   "cell_type": "code",
   "execution_count": 21,
   "metadata": {},
   "outputs": [
    {
     "name": "stdout",
     "output_type": "stream",
     "text": [
      "Michael McKintyre’s Comedy Show is a hilarious stand-up comedy show that will leave you in stitches! Michael takes us on an entertaining journey as he rants about the absurdities of booking tickets online, having to remember passwords and security questions, and even his experience with restricted view seating. Join him for a night full of laughter and entertainment as he shares stories from his own life experiences.\n"
     ]
    }
   ],
   "source": [
    "# Prompt postfix\n",
    "prompt_postfix = \"\"\" <document>\n",
    "  \\n###\n",
    "  \\nCreate a synopsis to capture audience curiosy and heighten anticipation. This is a stand-up comedy. \n",
    "  \\nSynopsis : \n",
    "\"\"\"\n",
    "synopsis = get_synopsis(content, prompt_postfix)\n",
    "print(synopsis)"
   ]
  },
  {
   "attachments": {},
   "cell_type": "markdown",
   "metadata": {},
   "source": [
    "### Genre : Informational"
   ]
  },
  {
   "cell_type": "code",
   "execution_count": 25,
   "metadata": {},
   "outputs": [],
   "source": [
    "fname = \"../data/ft-interview-transcription.txt\"\n",
    "\n",
    "with open(fname, 'r') as f:\n",
    "    content = f.readlines()\n",
    "\n",
    "# convert list to str\n",
    "content = ' '.join(content) "
   ]
  },
  {
   "cell_type": "code",
   "execution_count": 28,
   "metadata": {},
   "outputs": [
    {
     "name": "stdout",
     "output_type": "stream",
     "text": [
      "Robert Armstrong, the FT's US financial commentator, discusses the collapse of Silicon Valley Bank and why it is not a repeat of 2008. He explains that two factors led to SVB's downfall: bad decisions at the bank and a rapid increase in interest rates. Rob also examines how SVB was affected by these changes, as well as the implications for other banks in terms of regulation and solvency. Finally, he emphasizes that people should not panic about their deposits being safe if they are under $250,000. Robert Armstrong, an expert on banking regulation, discusses the implications of recent financial issues for banks. He explains that both top-tier and second-tier banks now have more capital than before 2008 and suggests that regulators need to think harder about the threat posed by securities building up on bank balance sheets. He also speaks about maturity transformation as a form of 'black magic' and cautions businesspeople against depositing money in a bank simply because their rich friend did so. Lastly, he expresses his thoughts on how the structure of the industry may change in coming years due to increased rate risk and asset liability matching crisis.\n"
     ]
    }
   ],
   "source": [
    "# Prompt postfix\n",
    "prompt_postfix = \"\"\" <document>\n",
    "  \\n###\n",
    "  \\nGenerate a short synopsis from the transcription of an interview.  \n",
    "  \\nSynopsis : \n",
    "\"\"\"\n",
    "\n",
    "synopsis = get_synopsis(content, prompt_postfix)\n",
    "print(synopsis)"
   ]
  },
  {
   "cell_type": "code",
   "execution_count": 29,
   "metadata": {},
   "outputs": [
    {
     "name": "stdout",
     "output_type": "stream",
     "text": [
      "Robert Armstrong, the FT's US financial commentator, explains why the collapse of Silicon Valley Bank is not a repeat of 2008. He looks at two factors that were responsible for it - bad decisions by the bank and an increase in interest rates - as well as how its balance sheet was affected by them. Rob also discusses how this incident tells us about US banking regulation and whether things are working as they should or not. What does this moment tell us about our banking system? Let's find out! In this episode, Robert Armstrong from the Financial Times talks about the two-tier system of banking regulation and how it affects banks' balance sheets. He also explains why no regulatory system can prevent all bank failures, and what entrepreneurs and other investors should be asking their banks in the future. What will happen to the banking industry structure as a result of this crisis? Let's find out!\n"
     ]
    }
   ],
   "source": [
    "# Prompt postfix\n",
    "prompt_postfix = \"\"\" <document>\n",
    "  \\n###\n",
    "  \\nGenerate a short synopsis from the transcription of an interview, such that it trigger curiosity, include a thought provoking question. Add \"Let's find out!\" at the end.  \n",
    "  \\nSynopsis : \n",
    "\"\"\"\n",
    "\n",
    "synopsis = get_synopsis(content, prompt_postfix)\n",
    "print(synopsis)"
   ]
  }
 ],
 "metadata": {
  "kernelspec": {
   "display_name": "azureml_py38",
   "language": "python",
   "name": "python3"
  },
  "language_info": {
   "codemirror_mode": {
    "name": "ipython",
    "version": 3
   },
   "file_extension": ".py",
   "mimetype": "text/x-python",
   "name": "python",
   "nbconvert_exporter": "python",
   "pygments_lexer": "ipython3",
   "version": "3.8.5"
  },
  "orig_nbformat": 4,
  "vscode": {
   "interpreter": {
    "hash": "6d65a8c07f5b6469e0fc613f182488c0dccce05038bbda39e5ac9075c0454d11"
   }
  }
 },
 "nbformat": 4,
 "nbformat_minor": 2
}
