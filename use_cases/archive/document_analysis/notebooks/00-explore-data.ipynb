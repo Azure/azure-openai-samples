{
 "cells": [
  {
   "attachments": {},
   "cell_type": "markdown",
   "metadata": {},
   "source": [
    "# Explore Data"
   ]
  },
  {
   "cell_type": "code",
   "execution_count": 1,
   "metadata": {},
   "outputs": [],
   "source": [
    "%load_ext autoreload\n",
    "%autoreload 2\n",
    "\n",
    "from IPython.core.interactiveshell import InteractiveShell\n",
    "InteractiveShell.ast_node_interactivity = \"all\""
   ]
  },
  {
   "attachments": {},
   "cell_type": "markdown",
   "metadata": {},
   "source": [
    "## Load Data"
   ]
  },
  {
   "cell_type": "code",
   "execution_count": 2,
   "metadata": {},
   "outputs": [],
   "source": [
    "import pandas as pd\n",
    "\n",
    "df_orig = pd.read_csv(\"../data/bbc-news-data.csv\", delimiter='\\t')"
   ]
  },
  {
   "cell_type": "code",
   "execution_count": 3,
   "metadata": {},
   "outputs": [
    {
     "data": {
      "text/html": [
       "<div>\n",
       "<style scoped>\n",
       "    .dataframe tbody tr th:only-of-type {\n",
       "        vertical-align: middle;\n",
       "    }\n",
       "\n",
       "    .dataframe tbody tr th {\n",
       "        vertical-align: top;\n",
       "    }\n",
       "\n",
       "    .dataframe thead th {\n",
       "        text-align: right;\n",
       "    }\n",
       "</style>\n",
       "<table border=\"1\" class=\"dataframe\">\n",
       "  <thead>\n",
       "    <tr style=\"text-align: right;\">\n",
       "      <th></th>\n",
       "      <th>category</th>\n",
       "      <th>filename</th>\n",
       "      <th>title</th>\n",
       "      <th>content</th>\n",
       "    </tr>\n",
       "  </thead>\n",
       "  <tbody>\n",
       "    <tr>\n",
       "      <th>0</th>\n",
       "      <td>business</td>\n",
       "      <td>001.txt</td>\n",
       "      <td>Ad sales boost Time Warner profit</td>\n",
       "      <td>Quarterly profits at US media giant TimeWarne...</td>\n",
       "    </tr>\n",
       "    <tr>\n",
       "      <th>1</th>\n",
       "      <td>business</td>\n",
       "      <td>002.txt</td>\n",
       "      <td>Dollar gains on Greenspan speech</td>\n",
       "      <td>The dollar has hit its highest level against ...</td>\n",
       "    </tr>\n",
       "    <tr>\n",
       "      <th>2</th>\n",
       "      <td>business</td>\n",
       "      <td>003.txt</td>\n",
       "      <td>Yukos unit buyer faces loan claim</td>\n",
       "      <td>The owners of embattled Russian oil giant Yuk...</td>\n",
       "    </tr>\n",
       "    <tr>\n",
       "      <th>3</th>\n",
       "      <td>business</td>\n",
       "      <td>004.txt</td>\n",
       "      <td>High fuel prices hit BA's profits</td>\n",
       "      <td>British Airways has blamed high fuel prices f...</td>\n",
       "    </tr>\n",
       "    <tr>\n",
       "      <th>4</th>\n",
       "      <td>business</td>\n",
       "      <td>005.txt</td>\n",
       "      <td>Pernod takeover talk lifts Domecq</td>\n",
       "      <td>Shares in UK drinks and food firm Allied Dome...</td>\n",
       "    </tr>\n",
       "    <tr>\n",
       "      <th>...</th>\n",
       "      <td>...</td>\n",
       "      <td>...</td>\n",
       "      <td>...</td>\n",
       "      <td>...</td>\n",
       "    </tr>\n",
       "    <tr>\n",
       "      <th>2220</th>\n",
       "      <td>tech</td>\n",
       "      <td>397.txt</td>\n",
       "      <td>BT program to beat dialler scams</td>\n",
       "      <td>BT is introducing two initiatives to help bea...</td>\n",
       "    </tr>\n",
       "    <tr>\n",
       "      <th>2221</th>\n",
       "      <td>tech</td>\n",
       "      <td>398.txt</td>\n",
       "      <td>Spam e-mails tempt net shoppers</td>\n",
       "      <td>Computer users across the world continue to i...</td>\n",
       "    </tr>\n",
       "    <tr>\n",
       "      <th>2222</th>\n",
       "      <td>tech</td>\n",
       "      <td>399.txt</td>\n",
       "      <td>Be careful how you code</td>\n",
       "      <td>A new European directive could put software w...</td>\n",
       "    </tr>\n",
       "    <tr>\n",
       "      <th>2223</th>\n",
       "      <td>tech</td>\n",
       "      <td>400.txt</td>\n",
       "      <td>US cyber security chief resigns</td>\n",
       "      <td>The man making sure US computer networks are ...</td>\n",
       "    </tr>\n",
       "    <tr>\n",
       "      <th>2224</th>\n",
       "      <td>tech</td>\n",
       "      <td>401.txt</td>\n",
       "      <td>Losing yourself in online gaming</td>\n",
       "      <td>Online role playing games are time-consuming,...</td>\n",
       "    </tr>\n",
       "  </tbody>\n",
       "</table>\n",
       "<p>2225 rows × 4 columns</p>\n",
       "</div>"
      ],
      "text/plain": [
       "      category filename                              title  \\\n",
       "0     business  001.txt  Ad sales boost Time Warner profit   \n",
       "1     business  002.txt   Dollar gains on Greenspan speech   \n",
       "2     business  003.txt  Yukos unit buyer faces loan claim   \n",
       "3     business  004.txt  High fuel prices hit BA's profits   \n",
       "4     business  005.txt  Pernod takeover talk lifts Domecq   \n",
       "...        ...      ...                                ...   \n",
       "2220      tech  397.txt   BT program to beat dialler scams   \n",
       "2221      tech  398.txt    Spam e-mails tempt net shoppers   \n",
       "2222      tech  399.txt            Be careful how you code   \n",
       "2223      tech  400.txt    US cyber security chief resigns   \n",
       "2224      tech  401.txt   Losing yourself in online gaming   \n",
       "\n",
       "                                                content  \n",
       "0      Quarterly profits at US media giant TimeWarne...  \n",
       "1      The dollar has hit its highest level against ...  \n",
       "2      The owners of embattled Russian oil giant Yuk...  \n",
       "3      British Airways has blamed high fuel prices f...  \n",
       "4      Shares in UK drinks and food firm Allied Dome...  \n",
       "...                                                 ...  \n",
       "2220   BT is introducing two initiatives to help bea...  \n",
       "2221   Computer users across the world continue to i...  \n",
       "2222   A new European directive could put software w...  \n",
       "2223   The man making sure US computer networks are ...  \n",
       "2224   Online role playing games are time-consuming,...  \n",
       "\n",
       "[2225 rows x 4 columns]"
      ]
     },
     "execution_count": 3,
     "metadata": {},
     "output_type": "execute_result"
    }
   ],
   "source": [
    "df = df_orig.copy()\n",
    "df"
   ]
  },
  {
   "cell_type": "code",
   "execution_count": 4,
   "metadata": {},
   "outputs": [
    {
     "data": {
      "text/html": [
       "<div>\n",
       "<style scoped>\n",
       "    .dataframe tbody tr th:only-of-type {\n",
       "        vertical-align: middle;\n",
       "    }\n",
       "\n",
       "    .dataframe tbody tr th {\n",
       "        vertical-align: top;\n",
       "    }\n",
       "\n",
       "    .dataframe thead th {\n",
       "        text-align: right;\n",
       "    }\n",
       "</style>\n",
       "<table border=\"1\" class=\"dataframe\">\n",
       "  <thead>\n",
       "    <tr style=\"text-align: right;\">\n",
       "      <th></th>\n",
       "      <th>category</th>\n",
       "      <th>filename</th>\n",
       "      <th>title</th>\n",
       "      <th>content</th>\n",
       "    </tr>\n",
       "  </thead>\n",
       "  <tbody>\n",
       "    <tr>\n",
       "      <th>count</th>\n",
       "      <td>2225</td>\n",
       "      <td>2225</td>\n",
       "      <td>2225</td>\n",
       "      <td>2225</td>\n",
       "    </tr>\n",
       "    <tr>\n",
       "      <th>unique</th>\n",
       "      <td>5</td>\n",
       "      <td>511</td>\n",
       "      <td>2096</td>\n",
       "      <td>2092</td>\n",
       "    </tr>\n",
       "    <tr>\n",
       "      <th>top</th>\n",
       "      <td>sport</td>\n",
       "      <td>221.txt</td>\n",
       "      <td>SEC to rethink post-Enron rules</td>\n",
       "      <td>The US created fewer jobs than expected in Ja...</td>\n",
       "    </tr>\n",
       "    <tr>\n",
       "      <th>freq</th>\n",
       "      <td>511</td>\n",
       "      <td>5</td>\n",
       "      <td>2</td>\n",
       "      <td>2</td>\n",
       "    </tr>\n",
       "  </tbody>\n",
       "</table>\n",
       "</div>"
      ],
      "text/plain": [
       "       category filename                            title  \\\n",
       "count      2225     2225                             2225   \n",
       "unique        5      511                             2096   \n",
       "top       sport  221.txt  SEC to rethink post-Enron rules   \n",
       "freq        511        5                                2   \n",
       "\n",
       "                                                  content  \n",
       "count                                                2225  \n",
       "unique                                               2092  \n",
       "top      The US created fewer jobs than expected in Ja...  \n",
       "freq                                                    2  "
      ]
     },
     "execution_count": 4,
     "metadata": {},
     "output_type": "execute_result"
    }
   ],
   "source": [
    "df.describe()"
   ]
  },
  {
   "cell_type": "code",
   "execution_count": 5,
   "metadata": {},
   "outputs": [
    {
     "name": "stdout",
     "output_type": "stream",
     "text": [
      "['business' 'entertainment' 'politics' 'sport' 'tech']\n",
      "['001.txt' '002.txt' '003.txt' '004.txt' '005.txt' '006.txt' '007.txt'\n",
      " '008.txt' '009.txt' '010.txt' '011.txt' '012.txt' '013.txt' '014.txt'\n",
      " '015.txt' '016.txt' '017.txt' '018.txt' '019.txt' '020.txt' '021.txt'\n",
      " '022.txt' '023.txt' '024.txt' '025.txt' '026.txt' '027.txt' '028.txt'\n",
      " '029.txt' '030.txt' '031.txt' '032.txt' '033.txt' '034.txt' '035.txt'\n",
      " '036.txt' '037.txt' '038.txt' '039.txt' '040.txt' '041.txt' '042.txt'\n",
      " '043.txt' '044.txt' '045.txt' '046.txt' '047.txt' '048.txt' '049.txt'\n",
      " '050.txt' '051.txt' '052.txt' '053.txt' '054.txt' '055.txt' '056.txt'\n",
      " '057.txt' '058.txt' '059.txt' '060.txt' '061.txt' '062.txt' '063.txt'\n",
      " '064.txt' '065.txt' '066.txt' '067.txt' '068.txt' '069.txt' '070.txt'\n",
      " '071.txt' '072.txt' '073.txt' '074.txt' '075.txt' '076.txt' '077.txt'\n",
      " '078.txt' '079.txt' '080.txt' '081.txt' '082.txt' '083.txt' '084.txt'\n",
      " '085.txt' '086.txt' '087.txt' '088.txt' '089.txt' '090.txt' '091.txt'\n",
      " '092.txt' '093.txt' '094.txt' '095.txt' '096.txt' '097.txt' '098.txt'\n",
      " '099.txt' '100.txt' '101.txt' '102.txt' '103.txt' '104.txt' '105.txt'\n",
      " '106.txt' '107.txt' '108.txt' '109.txt' '110.txt' '111.txt' '112.txt'\n",
      " '113.txt' '114.txt' '115.txt' '116.txt' '117.txt' '118.txt' '119.txt'\n",
      " '120.txt' '121.txt' '122.txt' '123.txt' '124.txt' '125.txt' '126.txt'\n",
      " '127.txt' '128.txt' '129.txt' '130.txt' '131.txt' '132.txt' '133.txt'\n",
      " '134.txt' '135.txt' '136.txt' '137.txt' '138.txt' '139.txt' '140.txt'\n",
      " '141.txt' '142.txt' '143.txt' '144.txt' '145.txt' '146.txt' '147.txt'\n",
      " '148.txt' '149.txt' '150.txt' '151.txt' '152.txt' '153.txt' '154.txt'\n",
      " '155.txt' '156.txt' '157.txt' '158.txt' '159.txt' '160.txt' '161.txt'\n",
      " '162.txt' '163.txt' '164.txt' '165.txt' '166.txt' '167.txt' '168.txt'\n",
      " '169.txt' '170.txt' '171.txt' '172.txt' '173.txt' '174.txt' '175.txt'\n",
      " '176.txt' '177.txt' '178.txt' '179.txt' '180.txt' '181.txt' '182.txt'\n",
      " '183.txt' '184.txt' '185.txt' '186.txt' '187.txt' '188.txt' '189.txt'\n",
      " '190.txt' '191.txt' '192.txt' '193.txt' '194.txt' '195.txt' '196.txt'\n",
      " '197.txt' '198.txt' '199.txt' '200.txt' '201.txt' '202.txt' '203.txt'\n",
      " '204.txt' '205.txt' '206.txt' '207.txt' '208.txt' '209.txt' '210.txt'\n",
      " '211.txt' '212.txt' '213.txt' '214.txt' '215.txt' '216.txt' '217.txt'\n",
      " '218.txt' '219.txt' '220.txt' '221.txt' '222.txt' '223.txt' '224.txt'\n",
      " '225.txt' '226.txt' '227.txt' '228.txt' '229.txt' '230.txt' '231.txt'\n",
      " '232.txt' '233.txt' '234.txt' '235.txt' '236.txt' '237.txt' '238.txt'\n",
      " '239.txt' '240.txt' '241.txt' '242.txt' '243.txt' '244.txt' '245.txt'\n",
      " '246.txt' '247.txt' '248.txt' '249.txt' '250.txt' '251.txt' '252.txt'\n",
      " '253.txt' '254.txt' '255.txt' '256.txt' '257.txt' '258.txt' '259.txt'\n",
      " '260.txt' '261.txt' '262.txt' '263.txt' '264.txt' '265.txt' '266.txt'\n",
      " '267.txt' '268.txt' '269.txt' '270.txt' '271.txt' '272.txt' '273.txt'\n",
      " '274.txt' '275.txt' '276.txt' '277.txt' '278.txt' '279.txt' '280.txt'\n",
      " '281.txt' '282.txt' '283.txt' '284.txt' '285.txt' '286.txt' '287.txt'\n",
      " '288.txt' '289.txt' '290.txt' '291.txt' '292.txt' '293.txt' '294.txt'\n",
      " '295.txt' '296.txt' '297.txt' '298.txt' '299.txt' '300.txt' '301.txt'\n",
      " '302.txt' '303.txt' '304.txt' '305.txt' '306.txt' '307.txt' '308.txt'\n",
      " '309.txt' '310.txt' '311.txt' '312.txt' '313.txt' '314.txt' '315.txt'\n",
      " '316.txt' '317.txt' '318.txt' '319.txt' '320.txt' '321.txt' '322.txt'\n",
      " '323.txt' '324.txt' '325.txt' '326.txt' '327.txt' '328.txt' '329.txt'\n",
      " '330.txt' '331.txt' '332.txt' '333.txt' '334.txt' '335.txt' '336.txt'\n",
      " '337.txt' '338.txt' '339.txt' '340.txt' '341.txt' '342.txt' '343.txt'\n",
      " '344.txt' '345.txt' '346.txt' '347.txt' '348.txt' '349.txt' '350.txt'\n",
      " '351.txt' '352.txt' '353.txt' '354.txt' '355.txt' '356.txt' '357.txt'\n",
      " '358.txt' '359.txt' '360.txt' '361.txt' '362.txt' '363.txt' '364.txt'\n",
      " '365.txt' '366.txt' '367.txt' '368.txt' '369.txt' '370.txt' '371.txt'\n",
      " '372.txt' '373.txt' '374.txt' '375.txt' '376.txt' '377.txt' '378.txt'\n",
      " '379.txt' '380.txt' '381.txt' '382.txt' '383.txt' '384.txt' '385.txt'\n",
      " '386.txt' '387.txt' '388.txt' '389.txt' '390.txt' '391.txt' '392.txt'\n",
      " '393.txt' '394.txt' '395.txt' '396.txt' '397.txt' '398.txt' '399.txt'\n",
      " '400.txt' '401.txt' '402.txt' '403.txt' '404.txt' '405.txt' '406.txt'\n",
      " '407.txt' '408.txt' '409.txt' '410.txt' '411.txt' '412.txt' '413.txt'\n",
      " '414.txt' '415.txt' '416.txt' '417.txt' '418.txt' '419.txt' '420.txt'\n",
      " '421.txt' '422.txt' '423.txt' '424.txt' '425.txt' '426.txt' '427.txt'\n",
      " '428.txt' '429.txt' '430.txt' '431.txt' '432.txt' '433.txt' '434.txt'\n",
      " '435.txt' '436.txt' '437.txt' '438.txt' '439.txt' '440.txt' '441.txt'\n",
      " '442.txt' '443.txt' '444.txt' '445.txt' '446.txt' '447.txt' '448.txt'\n",
      " '449.txt' '450.txt' '451.txt' '452.txt' '453.txt' '454.txt' '455.txt'\n",
      " '456.txt' '457.txt' '458.txt' '459.txt' '460.txt' '461.txt' '462.txt'\n",
      " '463.txt' '464.txt' '465.txt' '466.txt' '467.txt' '468.txt' '469.txt'\n",
      " '470.txt' '471.txt' '472.txt' '473.txt' '474.txt' '475.txt' '476.txt'\n",
      " '477.txt' '478.txt' '479.txt' '480.txt' '481.txt' '482.txt' '483.txt'\n",
      " '484.txt' '485.txt' '486.txt' '487.txt' '488.txt' '489.txt' '490.txt'\n",
      " '491.txt' '492.txt' '493.txt' '494.txt' '495.txt' '496.txt' '497.txt'\n",
      " '498.txt' '499.txt' '500.txt' '501.txt' '502.txt' '503.txt' '504.txt'\n",
      " '505.txt' '506.txt' '507.txt' '508.txt' '509.txt' '510.txt' '511.txt']\n"
     ]
    }
   ],
   "source": [
    "for col in ['category', 'filename']:\n",
    "    print(df[col].unique())"
   ]
  },
  {
   "attachments": {},
   "cell_type": "markdown",
   "metadata": {},
   "source": [
    "## Categories"
   ]
  },
  {
   "cell_type": "code",
   "execution_count": 7,
   "metadata": {},
   "outputs": [
    {
     "data": {
      "text/plain": [
       "<matplotlib.axes._subplots.AxesSubplot at 0x7fd216d97370>"
      ]
     },
     "execution_count": 7,
     "metadata": {},
     "output_type": "execute_result"
    },
    {
     "data": {
      "image/png": "[encoded data removed]",
      "text/plain": [
       "<Figure size 640x480 with 1 Axes>"
      ]
     },
     "metadata": {},
     "output_type": "display_data"
    }
   ],
   "source": [
    "#create bar plot to visualize frequency of each team\n",
    "df['category'].value_counts().plot(kind='bar', \n",
    "                                   xlabel='Category', \n",
    "                                   ylabel='Articles Count', \n",
    "                                   rot=0, \n",
    "                                   title='Number of articles per category')"
   ]
  },
  {
   "cell_type": "markdown",
   "metadata": {},
   "source": [
    "## Text Length "
   ]
  },
  {
   "cell_type": "code",
   "execution_count": 8,
   "metadata": {},
   "outputs": [
    {
     "data": {
      "text/html": [
       "<div>\n",
       "<style scoped>\n",
       "    .dataframe tbody tr th:only-of-type {\n",
       "        vertical-align: middle;\n",
       "    }\n",
       "\n",
       "    .dataframe tbody tr th {\n",
       "        vertical-align: top;\n",
       "    }\n",
       "\n",
       "    .dataframe thead th {\n",
       "        text-align: right;\n",
       "    }\n",
       "</style>\n",
       "<table border=\"1\" class=\"dataframe\">\n",
       "  <thead>\n",
       "    <tr style=\"text-align: right;\">\n",
       "      <th></th>\n",
       "      <th>category</th>\n",
       "      <th>filename</th>\n",
       "      <th>title</th>\n",
       "      <th>content</th>\n",
       "      <th>word_count</th>\n",
       "    </tr>\n",
       "  </thead>\n",
       "  <tbody>\n",
       "    <tr>\n",
       "      <th>0</th>\n",
       "      <td>business</td>\n",
       "      <td>001.txt</td>\n",
       "      <td>Ad sales boost Time Warner profit</td>\n",
       "      <td>Quarterly profits at US media giant TimeWarne...</td>\n",
       "      <td>415</td>\n",
       "    </tr>\n",
       "    <tr>\n",
       "      <th>1</th>\n",
       "      <td>business</td>\n",
       "      <td>002.txt</td>\n",
       "      <td>Dollar gains on Greenspan speech</td>\n",
       "      <td>The dollar has hit its highest level against ...</td>\n",
       "      <td>379</td>\n",
       "    </tr>\n",
       "    <tr>\n",
       "      <th>2</th>\n",
       "      <td>business</td>\n",
       "      <td>003.txt</td>\n",
       "      <td>Yukos unit buyer faces loan claim</td>\n",
       "      <td>The owners of embattled Russian oil giant Yuk...</td>\n",
       "      <td>258</td>\n",
       "    </tr>\n",
       "    <tr>\n",
       "      <th>3</th>\n",
       "      <td>business</td>\n",
       "      <td>004.txt</td>\n",
       "      <td>High fuel prices hit BA's profits</td>\n",
       "      <td>British Airways has blamed high fuel prices f...</td>\n",
       "      <td>400</td>\n",
       "    </tr>\n",
       "    <tr>\n",
       "      <th>4</th>\n",
       "      <td>business</td>\n",
       "      <td>005.txt</td>\n",
       "      <td>Pernod takeover talk lifts Domecq</td>\n",
       "      <td>Shares in UK drinks and food firm Allied Dome...</td>\n",
       "      <td>260</td>\n",
       "    </tr>\n",
       "    <tr>\n",
       "      <th>...</th>\n",
       "      <td>...</td>\n",
       "      <td>...</td>\n",
       "      <td>...</td>\n",
       "      <td>...</td>\n",
       "      <td>...</td>\n",
       "    </tr>\n",
       "    <tr>\n",
       "      <th>2220</th>\n",
       "      <td>tech</td>\n",
       "      <td>397.txt</td>\n",
       "      <td>BT program to beat dialler scams</td>\n",
       "      <td>BT is introducing two initiatives to help bea...</td>\n",
       "      <td>414</td>\n",
       "    </tr>\n",
       "    <tr>\n",
       "      <th>2221</th>\n",
       "      <td>tech</td>\n",
       "      <td>398.txt</td>\n",
       "      <td>Spam e-mails tempt net shoppers</td>\n",
       "      <td>Computer users across the world continue to i...</td>\n",
       "      <td>352</td>\n",
       "    </tr>\n",
       "    <tr>\n",
       "      <th>2222</th>\n",
       "      <td>tech</td>\n",
       "      <td>399.txt</td>\n",
       "      <td>Be careful how you code</td>\n",
       "      <td>A new European directive could put software w...</td>\n",
       "      <td>1045</td>\n",
       "    </tr>\n",
       "    <tr>\n",
       "      <th>2223</th>\n",
       "      <td>tech</td>\n",
       "      <td>400.txt</td>\n",
       "      <td>US cyber security chief resigns</td>\n",
       "      <td>The man making sure US computer networks are ...</td>\n",
       "      <td>374</td>\n",
       "    </tr>\n",
       "    <tr>\n",
       "      <th>2224</th>\n",
       "      <td>tech</td>\n",
       "      <td>401.txt</td>\n",
       "      <td>Losing yourself in online gaming</td>\n",
       "      <td>Online role playing games are time-consuming,...</td>\n",
       "      <td>2964</td>\n",
       "    </tr>\n",
       "  </tbody>\n",
       "</table>\n",
       "<p>2225 rows × 5 columns</p>\n",
       "</div>"
      ],
      "text/plain": [
       "      category filename                              title  \\\n",
       "0     business  001.txt  Ad sales boost Time Warner profit   \n",
       "1     business  002.txt   Dollar gains on Greenspan speech   \n",
       "2     business  003.txt  Yukos unit buyer faces loan claim   \n",
       "3     business  004.txt  High fuel prices hit BA's profits   \n",
       "4     business  005.txt  Pernod takeover talk lifts Domecq   \n",
       "...        ...      ...                                ...   \n",
       "2220      tech  397.txt   BT program to beat dialler scams   \n",
       "2221      tech  398.txt    Spam e-mails tempt net shoppers   \n",
       "2222      tech  399.txt            Be careful how you code   \n",
       "2223      tech  400.txt    US cyber security chief resigns   \n",
       "2224      tech  401.txt   Losing yourself in online gaming   \n",
       "\n",
       "                                                content  word_count  \n",
       "0      Quarterly profits at US media giant TimeWarne...         415  \n",
       "1      The dollar has hit its highest level against ...         379  \n",
       "2      The owners of embattled Russian oil giant Yuk...         258  \n",
       "3      British Airways has blamed high fuel prices f...         400  \n",
       "4      Shares in UK drinks and food firm Allied Dome...         260  \n",
       "...                                                 ...         ...  \n",
       "2220   BT is introducing two initiatives to help bea...         414  \n",
       "2221   Computer users across the world continue to i...         352  \n",
       "2222   A new European directive could put software w...        1045  \n",
       "2223   The man making sure US computer networks are ...         374  \n",
       "2224   Online role playing games are time-consuming,...        2964  \n",
       "\n",
       "[2225 rows x 5 columns]"
      ]
     },
     "execution_count": 8,
     "metadata": {},
     "output_type": "execute_result"
    }
   ],
   "source": [
    "df[\"word_count\"] = df[\"content\"].apply(lambda n: len(n.split()))\n",
    "df"
   ]
  },
  {
   "attachments": {},
   "cell_type": "markdown",
   "metadata": {},
   "source": [
    "### Plot `word_count` per `category`"
   ]
  },
  {
   "cell_type": "code",
   "execution_count": 18,
   "metadata": {},
   "outputs": [
    {
     "data": {
      "text/plain": [
       "<seaborn.axisgrid.FacetGrid at 0x7fd202d3a6d0>"
      ]
     },
     "execution_count": 18,
     "metadata": {},
     "output_type": "execute_result"
    },
    {
     "data": {
      "image/png": "[encoded data removed]",
      "text/plain": [
       "<Figure size 500x500 with 1 Axes>"
      ]
     },
     "metadata": {},
     "output_type": "display_data"
    }
   ],
   "source": [
    "import seaborn as sns\n",
    "\n",
    "sns.set_style(\"whitegrid\")\n",
    "sns.catplot(data=df, x=\"category\", y=\"word_count\", kind=\"box\", height=5)"
   ]
  }
 ],
 "metadata": {
  "kernelspec": {
   "display_name": "azureml_py38",
   "language": "python",
   "name": "python3"
  },
  "language_info": {
   "codemirror_mode": {
    "name": "ipython",
    "version": 3
   },
   "file_extension": ".py",
   "mimetype": "text/x-python",
   "name": "python",
   "nbconvert_exporter": "python",
   "pygments_lexer": "ipython3",
   "version": "3.8.5"
  },
  "orig_nbformat": 4,
  "vscode": {
   "interpreter": {
    "hash": "6d65a8c07f5b6469e0fc613f182488c0dccce05038bbda39e5ac9075c0454d11"
   }
  }
 },
 "nbformat": 4,
 "nbformat_minor": 2
}
