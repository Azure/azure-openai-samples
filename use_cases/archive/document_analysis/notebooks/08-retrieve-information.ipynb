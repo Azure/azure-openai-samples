{
 "cells": [
  {
   "attachments": {},
   "cell_type": "markdown",
   "metadata": {},
   "source": [
    "# Retrieve Information from Specific Data Corpus"
   ]
  },
  {
   "cell_type": "code",
   "execution_count": 97,
   "metadata": {},
   "outputs": [
    {
     "name": "stdout",
     "output_type": "stream",
     "text": [
      "The autoreload extension is already loaded. To reload it, use:\n",
      "  %reload_ext autoreload\n"
     ]
    }
   ],
   "source": [
    "%load_ext autoreload\n",
    "%autoreload 2\n",
    "\n",
    "from IPython.core.interactiveshell import InteractiveShell\n",
    "InteractiveShell.ast_node_interactivity = \"all\""
   ]
  },
  {
   "attachments": {},
   "cell_type": "markdown",
   "metadata": {},
   "source": [
    "## Set up Azure OpenAI"
   ]
  },
  {
   "cell_type": "code",
   "execution_count": 98,
   "metadata": {},
   "outputs": [
    {
     "data": {
      "text/plain": [
       "True"
      ]
     },
     "execution_count": 98,
     "metadata": {},
     "output_type": "execute_result"
    }
   ],
   "source": [
    "import os\n",
    "import openai\n",
    "from dotenv import load_dotenv\n",
    "\n",
    "# Set up Azure OpenAI\n",
    "load_dotenv()\n",
    "openai.api_type = \"azure\"\n",
    "openai.api_base = \"\" # Api base is the 'Endpoint' which can be found in Azure Portal where Azure OpenAI is created. It looks like https://xxxxxx.openai.azure.com/\n",
    "openai.api_version = \"2022-12-01\"\n",
    "openai.api_key = os.getenv(\"OPENAI_API_KEY\")"
   ]
  },
  {
   "attachments": {},
   "cell_type": "markdown",
   "metadata": {},
   "source": [
    "## Deploy a Language Model"
   ]
  },
  {
   "cell_type": "code",
   "execution_count": 99,
   "metadata": {},
   "outputs": [
    {
     "name": "stdout",
     "output_type": "stream",
     "text": [
      "Found a succeeded deployment that supports embeddings with id: deployment-89153abdfa934e1580296dbee586239b.\n"
     ]
    }
   ],
   "source": [
    "# list models deployed with embeddings capability\n",
    "deployment_id = None\n",
    "result = openai.Deployment.list()\n",
    "\n",
    "for deployment in result.data:\n",
    "    if deployment[\"status\"] != \"succeeded\":\n",
    "        continue\n",
    "    \n",
    "    model = openai.Model.retrieve(deployment[\"model\"])\n",
    "    if model[\"capabilities\"][\"embeddings\"] != True:\n",
    "        continue\n",
    "    \n",
    "    deployment_id = deployment[\"id\"]\n",
    "    break\n",
    "\n",
    "# if not model deployed, deploy one\n",
    "if not deployment_id:\n",
    "    print('No deployment with status: succeeded found.')\n",
    "    model = \"text-similarity-davinci-001\"\n",
    "\n",
    "    # Now let's create the deployment\n",
    "    print(f'Creating a new deployment with model: {model}')\n",
    "    result = openai.Deployment.create(model=model, scale_settings={\"scale_type\":\"standard\"})\n",
    "    deployment_id = result[\"id\"]\n",
    "    print(f'Successfully created {model} with deployment_id {deployment_id}')\n",
    "else:\n",
    "    print(f'Found a succeeded deployment that supports embeddings with id: {deployment_id}.')"
   ]
  },
  {
   "attachments": {},
   "cell_type": "markdown",
   "metadata": {},
   "source": [
    "## Load Data\n",
    "The next cell will load embeddings generated in notebook [01-get-embeddings.ipynb](./01-get-embeddings.ipynb)."
   ]
  },
  {
   "cell_type": "code",
   "execution_count": 100,
   "metadata": {},
   "outputs": [],
   "source": [
    "import pandas as pd\n",
    "fname = '../data/bbc-news-data-embedding.csv'\n",
    "df_orig = pd.read_csv(fname, delimiter='\\t', index_col=False)"
   ]
  },
  {
   "cell_type": "code",
   "execution_count": 101,
   "metadata": {},
   "outputs": [
    {
     "data": {
      "text/html": [
       "<div>\n",
       "<style scoped>\n",
       "    .dataframe tbody tr th:only-of-type {\n",
       "        vertical-align: middle;\n",
       "    }\n",
       "\n",
       "    .dataframe tbody tr th {\n",
       "        vertical-align: top;\n",
       "    }\n",
       "\n",
       "    .dataframe thead th {\n",
       "        text-align: right;\n",
       "    }\n",
       "</style>\n",
       "<table border=\"1\" class=\"dataframe\">\n",
       "  <thead>\n",
       "    <tr style=\"text-align: right;\">\n",
       "      <th></th>\n",
       "      <th>category</th>\n",
       "      <th>filename</th>\n",
       "      <th>title</th>\n",
       "      <th>content</th>\n",
       "      <th>embedding</th>\n",
       "    </tr>\n",
       "  </thead>\n",
       "  <tbody>\n",
       "    <tr>\n",
       "      <th>0</th>\n",
       "      <td>business</td>\n",
       "      <td>001.txt</td>\n",
       "      <td>Ad sales boost Time Warner profit</td>\n",
       "      <td>Quarterly profits at US media giant TimeWarne...</td>\n",
       "      <td>[-0.0012276918860152364, 0.00733763724565506, ...</td>\n",
       "    </tr>\n",
       "    <tr>\n",
       "      <th>1</th>\n",
       "      <td>business</td>\n",
       "      <td>002.txt</td>\n",
       "      <td>Dollar gains on Greenspan speech</td>\n",
       "      <td>The dollar has hit its highest level against ...</td>\n",
       "      <td>[0.0009311728645116091, 0.014099937863647938, ...</td>\n",
       "    </tr>\n",
       "    <tr>\n",
       "      <th>2</th>\n",
       "      <td>business</td>\n",
       "      <td>003.txt</td>\n",
       "      <td>Yukos unit buyer faces loan claim</td>\n",
       "      <td>The owners of embattled Russian oil giant Yuk...</td>\n",
       "      <td>[-0.010487922467291355, 0.009665092453360558, ...</td>\n",
       "    </tr>\n",
       "    <tr>\n",
       "      <th>3</th>\n",
       "      <td>business</td>\n",
       "      <td>004.txt</td>\n",
       "      <td>High fuel prices hit BA's profits</td>\n",
       "      <td>British Airways has blamed high fuel prices f...</td>\n",
       "      <td>[0.0111119095236063, 0.004624682944267988, -0....</td>\n",
       "    </tr>\n",
       "    <tr>\n",
       "      <th>4</th>\n",
       "      <td>business</td>\n",
       "      <td>005.txt</td>\n",
       "      <td>Pernod takeover talk lifts Domecq</td>\n",
       "      <td>Shares in UK drinks and food firm Allied Dome...</td>\n",
       "      <td>[-0.0021637482568621635, 0.005410161800682545,...</td>\n",
       "    </tr>\n",
       "    <tr>\n",
       "      <th>...</th>\n",
       "      <td>...</td>\n",
       "      <td>...</td>\n",
       "      <td>...</td>\n",
       "      <td>...</td>\n",
       "      <td>...</td>\n",
       "    </tr>\n",
       "    <tr>\n",
       "      <th>2219</th>\n",
       "      <td>tech</td>\n",
       "      <td>396.txt</td>\n",
       "      <td>New consoles promise big problems</td>\n",
       "      <td>Making games for future consoles will require...</td>\n",
       "      <td>[0.014879594556987286, 0.004789963364601135, -...</td>\n",
       "    </tr>\n",
       "    <tr>\n",
       "      <th>2220</th>\n",
       "      <td>tech</td>\n",
       "      <td>397.txt</td>\n",
       "      <td>BT program to beat dialler scams</td>\n",
       "      <td>BT is introducing two initiatives to help bea...</td>\n",
       "      <td>[0.007671569474041462, 0.00624304823577404, -0...</td>\n",
       "    </tr>\n",
       "    <tr>\n",
       "      <th>2221</th>\n",
       "      <td>tech</td>\n",
       "      <td>398.txt</td>\n",
       "      <td>Spam e-mails tempt net shoppers</td>\n",
       "      <td>Computer users across the world continue to i...</td>\n",
       "      <td>[0.0026338498573750257, 0.015989987179636955, ...</td>\n",
       "    </tr>\n",
       "    <tr>\n",
       "      <th>2222</th>\n",
       "      <td>tech</td>\n",
       "      <td>399.txt</td>\n",
       "      <td>Be careful how you code</td>\n",
       "      <td>A new European directive could put software w...</td>\n",
       "      <td>[0.007126151118427515, 0.008495588786900043, -...</td>\n",
       "    </tr>\n",
       "    <tr>\n",
       "      <th>2223</th>\n",
       "      <td>tech</td>\n",
       "      <td>400.txt</td>\n",
       "      <td>US cyber security chief resigns</td>\n",
       "      <td>The man making sure US computer networks are ...</td>\n",
       "      <td>[0.002447678940370679, 0.006076449993997812, -...</td>\n",
       "    </tr>\n",
       "  </tbody>\n",
       "</table>\n",
       "<p>2217 rows × 5 columns</p>\n",
       "</div>"
      ],
      "text/plain": [
       "      category filename                              title  \\\n",
       "0     business  001.txt  Ad sales boost Time Warner profit   \n",
       "1     business  002.txt   Dollar gains on Greenspan speech   \n",
       "2     business  003.txt  Yukos unit buyer faces loan claim   \n",
       "3     business  004.txt  High fuel prices hit BA's profits   \n",
       "4     business  005.txt  Pernod takeover talk lifts Domecq   \n",
       "...        ...      ...                                ...   \n",
       "2219      tech  396.txt  New consoles promise big problems   \n",
       "2220      tech  397.txt   BT program to beat dialler scams   \n",
       "2221      tech  398.txt    Spam e-mails tempt net shoppers   \n",
       "2222      tech  399.txt            Be careful how you code   \n",
       "2223      tech  400.txt    US cyber security chief resigns   \n",
       "\n",
       "                                                content  \\\n",
       "0      Quarterly profits at US media giant TimeWarne...   \n",
       "1      The dollar has hit its highest level against ...   \n",
       "2      The owners of embattled Russian oil giant Yuk...   \n",
       "3      British Airways has blamed high fuel prices f...   \n",
       "4      Shares in UK drinks and food firm Allied Dome...   \n",
       "...                                                 ...   \n",
       "2219   Making games for future consoles will require...   \n",
       "2220   BT is introducing two initiatives to help bea...   \n",
       "2221   Computer users across the world continue to i...   \n",
       "2222   A new European directive could put software w...   \n",
       "2223   The man making sure US computer networks are ...   \n",
       "\n",
       "                                              embedding  \n",
       "0     [-0.0012276918860152364, 0.00733763724565506, ...  \n",
       "1     [0.0009311728645116091, 0.014099937863647938, ...  \n",
       "2     [-0.010487922467291355, 0.009665092453360558, ...  \n",
       "3     [0.0111119095236063, 0.004624682944267988, -0....  \n",
       "4     [-0.0021637482568621635, 0.005410161800682545,...  \n",
       "...                                                 ...  \n",
       "2219  [0.014879594556987286, 0.004789963364601135, -...  \n",
       "2220  [0.007671569474041462, 0.00624304823577404, -0...  \n",
       "2221  [0.0026338498573750257, 0.015989987179636955, ...  \n",
       "2222  [0.007126151118427515, 0.008495588786900043, -...  \n",
       "2223  [0.002447678940370679, 0.006076449993997812, -...  \n",
       "\n",
       "[2217 rows x 5 columns]"
      ]
     },
     "execution_count": 101,
     "metadata": {},
     "output_type": "execute_result"
    }
   ],
   "source": [
    "import numpy as np\n",
    "\n",
    "DEVELOPMENT = False  # Set this to True for development on small subset of data\n",
    "\n",
    "if DEVELOPMENT:\n",
    "    # Sub-sample for development\n",
    "    df = df_orig.sample(n=20, replace=False, random_state=9).copy() # Set sample size\n",
    "else:\n",
    "    df = df_orig.copy()\n",
    "\n",
    "# drop rows with NaN\n",
    "df.dropna(inplace=True)\n",
    "\n",
    "# convert string to array\n",
    "df[\"embedding\"] = df['embedding'].apply(eval).apply(np.array)\n",
    "df"
   ]
  },
  {
   "attachments": {},
   "cell_type": "markdown",
   "metadata": {},
   "source": [
    "## Count Tokens"
   ]
  },
  {
   "cell_type": "code",
   "execution_count": 103,
   "metadata": {},
   "outputs": [
    {
     "data": {
      "text/html": [
       "<div>\n",
       "<style scoped>\n",
       "    .dataframe tbody tr th:only-of-type {\n",
       "        vertical-align: middle;\n",
       "    }\n",
       "\n",
       "    .dataframe tbody tr th {\n",
       "        vertical-align: top;\n",
       "    }\n",
       "\n",
       "    .dataframe thead th {\n",
       "        text-align: right;\n",
       "    }\n",
       "</style>\n",
       "<table border=\"1\" class=\"dataframe\">\n",
       "  <thead>\n",
       "    <tr style=\"text-align: right;\">\n",
       "      <th></th>\n",
       "      <th>category</th>\n",
       "      <th>filename</th>\n",
       "      <th>title</th>\n",
       "      <th>content</th>\n",
       "      <th>embedding</th>\n",
       "      <th>token_count</th>\n",
       "    </tr>\n",
       "  </thead>\n",
       "  <tbody>\n",
       "    <tr>\n",
       "      <th>0</th>\n",
       "      <td>business</td>\n",
       "      <td>001.txt</td>\n",
       "      <td>Ad sales boost Time Warner profit</td>\n",
       "      <td>Quarterly profits at US media giant TimeWarne...</td>\n",
       "      <td>[-0.0012276918860152364, 0.00733763724565506, ...</td>\n",
       "      <td>553</td>\n",
       "    </tr>\n",
       "    <tr>\n",
       "      <th>1</th>\n",
       "      <td>business</td>\n",
       "      <td>002.txt</td>\n",
       "      <td>Dollar gains on Greenspan speech</td>\n",
       "      <td>The dollar has hit its highest level against ...</td>\n",
       "      <td>[0.0009311728645116091, 0.014099937863647938, ...</td>\n",
       "      <td>457</td>\n",
       "    </tr>\n",
       "    <tr>\n",
       "      <th>2</th>\n",
       "      <td>business</td>\n",
       "      <td>003.txt</td>\n",
       "      <td>Yukos unit buyer faces loan claim</td>\n",
       "      <td>The owners of embattled Russian oil giant Yuk...</td>\n",
       "      <td>[-0.010487922467291355, 0.009665092453360558, ...</td>\n",
       "      <td>339</td>\n",
       "    </tr>\n",
       "    <tr>\n",
       "      <th>3</th>\n",
       "      <td>business</td>\n",
       "      <td>004.txt</td>\n",
       "      <td>High fuel prices hit BA's profits</td>\n",
       "      <td>British Airways has blamed high fuel prices f...</td>\n",
       "      <td>[0.0111119095236063, 0.004624682944267988, -0....</td>\n",
       "      <td>541</td>\n",
       "    </tr>\n",
       "    <tr>\n",
       "      <th>4</th>\n",
       "      <td>business</td>\n",
       "      <td>005.txt</td>\n",
       "      <td>Pernod takeover talk lifts Domecq</td>\n",
       "      <td>Shares in UK drinks and food firm Allied Dome...</td>\n",
       "      <td>[-0.0021637482568621635, 0.005410161800682545,...</td>\n",
       "      <td>382</td>\n",
       "    </tr>\n",
       "    <tr>\n",
       "      <th>...</th>\n",
       "      <td>...</td>\n",
       "      <td>...</td>\n",
       "      <td>...</td>\n",
       "      <td>...</td>\n",
       "      <td>...</td>\n",
       "      <td>...</td>\n",
       "    </tr>\n",
       "    <tr>\n",
       "      <th>2219</th>\n",
       "      <td>tech</td>\n",
       "      <td>396.txt</td>\n",
       "      <td>New consoles promise big problems</td>\n",
       "      <td>Making games for future consoles will require...</td>\n",
       "      <td>[0.014879594556987286, 0.004789963364601135, -...</td>\n",
       "      <td>1215</td>\n",
       "    </tr>\n",
       "    <tr>\n",
       "      <th>2220</th>\n",
       "      <td>tech</td>\n",
       "      <td>397.txt</td>\n",
       "      <td>BT program to beat dialler scams</td>\n",
       "      <td>BT is introducing two initiatives to help bea...</td>\n",
       "      <td>[0.007671569474041462, 0.00624304823577404, -0...</td>\n",
       "      <td>506</td>\n",
       "    </tr>\n",
       "    <tr>\n",
       "      <th>2221</th>\n",
       "      <td>tech</td>\n",
       "      <td>398.txt</td>\n",
       "      <td>Spam e-mails tempt net shoppers</td>\n",
       "      <td>Computer users across the world continue to i...</td>\n",
       "      <td>[0.0026338498573750257, 0.015989987179636955, ...</td>\n",
       "      <td>432</td>\n",
       "    </tr>\n",
       "    <tr>\n",
       "      <th>2222</th>\n",
       "      <td>tech</td>\n",
       "      <td>399.txt</td>\n",
       "      <td>Be careful how you code</td>\n",
       "      <td>A new European directive could put software w...</td>\n",
       "      <td>[0.007126151118427515, 0.008495588786900043, -...</td>\n",
       "      <td>1208</td>\n",
       "    </tr>\n",
       "    <tr>\n",
       "      <th>2223</th>\n",
       "      <td>tech</td>\n",
       "      <td>400.txt</td>\n",
       "      <td>US cyber security chief resigns</td>\n",
       "      <td>The man making sure US computer networks are ...</td>\n",
       "      <td>[0.002447678940370679, 0.006076449993997812, -...</td>\n",
       "      <td>428</td>\n",
       "    </tr>\n",
       "  </tbody>\n",
       "</table>\n",
       "<p>2217 rows × 6 columns</p>\n",
       "</div>"
      ],
      "text/plain": [
       "      category filename                              title  \\\n",
       "0     business  001.txt  Ad sales boost Time Warner profit   \n",
       "1     business  002.txt   Dollar gains on Greenspan speech   \n",
       "2     business  003.txt  Yukos unit buyer faces loan claim   \n",
       "3     business  004.txt  High fuel prices hit BA's profits   \n",
       "4     business  005.txt  Pernod takeover talk lifts Domecq   \n",
       "...        ...      ...                                ...   \n",
       "2219      tech  396.txt  New consoles promise big problems   \n",
       "2220      tech  397.txt   BT program to beat dialler scams   \n",
       "2221      tech  398.txt    Spam e-mails tempt net shoppers   \n",
       "2222      tech  399.txt            Be careful how you code   \n",
       "2223      tech  400.txt    US cyber security chief resigns   \n",
       "\n",
       "                                                content  \\\n",
       "0      Quarterly profits at US media giant TimeWarne...   \n",
       "1      The dollar has hit its highest level against ...   \n",
       "2      The owners of embattled Russian oil giant Yuk...   \n",
       "3      British Airways has blamed high fuel prices f...   \n",
       "4      Shares in UK drinks and food firm Allied Dome...   \n",
       "...                                                 ...   \n",
       "2219   Making games for future consoles will require...   \n",
       "2220   BT is introducing two initiatives to help bea...   \n",
       "2221   Computer users across the world continue to i...   \n",
       "2222   A new European directive could put software w...   \n",
       "2223   The man making sure US computer networks are ...   \n",
       "\n",
       "                                              embedding token_count  \n",
       "0     [-0.0012276918860152364, 0.00733763724565506, ...         553  \n",
       "1     [0.0009311728645116091, 0.014099937863647938, ...         457  \n",
       "2     [-0.010487922467291355, 0.009665092453360558, ...         339  \n",
       "3     [0.0111119095236063, 0.004624682944267988, -0....         541  \n",
       "4     [-0.0021637482568621635, 0.005410161800682545,...         382  \n",
       "...                                                 ...         ...  \n",
       "2219  [0.014879594556987286, 0.004789963364601135, -...        1215  \n",
       "2220  [0.007671569474041462, 0.00624304823577404, -0...         506  \n",
       "2221  [0.0026338498573750257, 0.015989987179636955, ...         432  \n",
       "2222  [0.007126151118427515, 0.008495588786900043, -...        1208  \n",
       "2223  [0.002447678940370679, 0.006076449993997812, -...         428  \n",
       "\n",
       "[2217 rows x 6 columns]"
      ]
     },
     "execution_count": 103,
     "metadata": {},
     "output_type": "execute_result"
    }
   ],
   "source": [
    "import tiktoken\n",
    "encoding = tiktoken.get_encoding('gpt2')\n",
    "\n",
    "df['token_count'] = ''\n",
    "\n",
    "for idx, title, content in zip(df.index.values, df['title'].loc[df.index.values], df['content'].loc[df.index.values]):\n",
    "    df['token_count'].loc[idx] = len(encoding.encode(content))\n",
    "\n",
    "df"
   ]
  },
  {
   "attachments": {},
   "cell_type": "markdown",
   "metadata": {},
   "source": [
    "## Find Articles with Similar Embeddings to that of the Question"
   ]
  },
  {
   "cell_type": "code",
   "execution_count": 104,
   "metadata": {},
   "outputs": [],
   "source": [
    "import numpy as np\n",
    "\n",
    "def get_embedding(text, deployment_id=deployment_id):\n",
    "    \"\"\" \n",
    "    Get embeddings for an input text from the dataframe. \n",
    "    \"\"\"\n",
    "    result = openai.Embedding.create(\n",
    "      deployment_id=deployment_id,\n",
    "      input=text\n",
    "    )\n",
    "    result = np.array(result[\"data\"][0][\"embedding\"])\n",
    "    return result\n",
    "\n",
    "def vector_similarity(x, y):\n",
    "    \"\"\"\n",
    "    Returns the similarity between two vectors.    \n",
    "    Because OpenAI Embeddings are normalized to length 1, the cosine similarity is the same as the dot product.\n",
    "    \"\"\"\n",
    "    similarity = np.dot(x, y)\n",
    "    return similarity \n",
    "\n",
    "def order_document_sections_by_query_similarity(query, contexts):\n",
    "    \"\"\"\n",
    "    Find the query embedding for the supplied query, and compare it against all of the pre-calculated articles embeddings\n",
    "    to find the most relevant articles. \n",
    "    Return the list of articles, sorted by relevance in descending order.\n",
    "    \"\"\"\n",
    "    query_embedding = get_embedding(query)\n",
    "\n",
    "    document_similarities = sorted([\n",
    "        (vector_similarity(query_embedding, doc_embedding), doc_index) for doc_index, doc_embedding in contexts.items()\n",
    "    ], reverse=True)\n",
    "    \n",
    "    return document_similarities"
   ]
  },
  {
   "attachments": {},
   "cell_type": "markdown",
   "metadata": {},
   "source": [
    "## Retrieve Relevant Articles "
   ]
  },
  {
   "cell_type": "code",
   "execution_count": 105,
   "metadata": {},
   "outputs": [],
   "source": [
    "def retrieve_relevant_documents(query, contexts=df['embedding']):\n",
    "    # find text most similar to the query\n",
    "    answers = order_document_sections_by_query_similarity(query=query, contexts=contexts)[0:3] # Set to top 3\n",
    "\n",
    "    # print top 3\n",
    "    for answer in answers:\n",
    "        print(f'similarity score:   {answer[0]}')\n",
    "        print(df['content'].loc[answer[1]], '\\n')\n",
    "\n",
    "    return"
   ]
  },
  {
   "attachments": {},
   "cell_type": "markdown",
   "metadata": {},
   "source": [
    "## About Token"
   ]
  },
  {
   "cell_type": "code",
   "execution_count": 106,
   "metadata": {},
   "outputs": [
    {
     "data": {
      "text/plain": [
       "'Context separator contains 3 tokens'"
      ]
     },
     "execution_count": 106,
     "metadata": {},
     "output_type": "execute_result"
    }
   ],
   "source": [
    "SEPARATOR = \"\\n* \"\n",
    "ENCODING = \"gpt2\"  # encoding for text-davinci-003\n",
    "\n",
    "encoding = tiktoken.get_encoding(ENCODING)\n",
    "separator_len = len(encoding.encode(SEPARATOR))\n",
    "\n",
    "f\"Context separator contains {separator_len} tokens\""
   ]
  },
  {
   "attachments": {},
   "cell_type": "markdown",
   "metadata": {},
   "source": [
    "## Construct Prompt\n",
    "Add relevant context to the query prompt."
   ]
  },
  {
   "cell_type": "code",
   "execution_count": 118,
   "metadata": {},
   "outputs": [],
   "source": [
    "MAX_SECTION_LEN = 1000 # Set maximum token for context text\n",
    "\n",
    "def construct_prompt(query: str, context_embeddings: pd.DataFrame, df: pd.DataFrame) -> str:\n",
    "    \"\"\"\n",
    "    Append sections of document that are most similar to the query.\n",
    "    \"\"\"\n",
    "    most_relevant_document_sections = order_document_sections_by_query_similarity(query, context_embeddings)\n",
    "    \n",
    "    chosen_sections = []\n",
    "    chosen_sections_len = 0\n",
    "    chosen_sections_indexes = []\n",
    "     \n",
    "    for _, section_index in most_relevant_document_sections:\n",
    "        # Add contexts up to MAX_SECTION_LEN\n",
    "        document_section = df.loc[section_index]\n",
    "        \n",
    "        chosen_sections_len += document_section['token_count'] + separator_len\n",
    "        if chosen_sections_len > MAX_SECTION_LEN:\n",
    "            break\n",
    "            \n",
    "        chosen_sections.append(SEPARATOR + document_section.content.replace(\"\\n\", \" \"))\n",
    "        chosen_sections_indexes.append(str(section_index))\n",
    "      \n",
    "    print(f\"Selected {len(chosen_sections)} document sections, with indexes:\")\n",
    "    print(\"\\n\".join(chosen_sections_indexes))\n",
    "    \n",
    "    header = \"\"\"Answer the question truthfully using context, if unsure, say \"I don't know.\"\\n\\nContext:\\n\"\"\"\n",
    "    prompt = header + \"\".join(chosen_sections) + \"\\n\\n Q: \" + query + \"\\n A:\"\n",
    "    \n",
    "    return prompt"
   ]
  },
  {
   "cell_type": "code",
   "execution_count": 119,
   "metadata": {},
   "outputs": [
    {
     "name": "stdout",
     "output_type": "stream",
     "text": [
      "Selected 4 document sections, with indexes:\n",
      "364\n",
      "266\n",
      "273\n",
      "282\n",
      "Answer the question truthfully using context, if unsure, say \"I don't know.\"\n",
      "\n",
      "Context:\n",
      "\n",
      "*  The owner of the technology-dominated Nasdaq stock index plans to sell shares to the public and list itself on the market it operates.  According to a registration document filed with the Securities and Exchange Commission, Nasdaq Stock Market plans to raise $100m (£52m) from the sale. Some observers see this as another step closer to a full public listing. However Nasdaq, an icon of the 1990s technology boom, recently poured cold water on those suggestions.  The company first sold shares in private placements during 2000 and 2001. It technically went public in 2002 when the stock started trading on the OTC Bulletin Board, which lists equities that trade only occasionally. Nasdaq will not make money from the sale, only investors who bought shares in the private placings, the filing documents said. The Nasdaq is made up shares in technology firms and other companies with high growth potential. It was the most potent symbol of the 1990s internet and telecoms boom, nose-diving after the bubble burst. A recovery in the fortunes of tech giants such as Intel, and dot.com survivors such as Amazon has helped revive its fortunes. \n",
      "*  The owner of the technology-dominated Nasdaq stock index plans to sell shares to the public and list itself on the market it operates.  According to a registration document filed with the Securities and Exchange Commission, Nasdaq Stock Market plans to raise $100m (£52m) from the sale. Some observers see this as another step closer to a full public listing. However Nasdaq, an icon of the 1990s technology boom, recently poured cold water on those suggestions.  The company first sold shares in private placements during 2000 and 2001. It technically went public in 2002 when the stock started trading on the OTC Bulletin Board, which lists equities that trade only occasionally. Nasdaq will not make money from the sale, only investors who bought shares in the private placings, the filing documents said. The Nasdaq is made up shares in technology firms and other companies with high growth potential. It was the most potent symbol of the 1990s internet and telecoms boom, nose-diving after the bubble burst. A recovery in the fortunes of tech giants such as Intel, and dot.com survivors such as Amazon has helped revive its fortunes. \n",
      "*  Shares in Google have fallen 6.7% after employees and early investors in the web search took advantage of the first chance to sell their holdings.  Restrictions were imposed ahead of its flotation in August, to prevent shares being dumped quickly onto the market. In one of the most closely-watched initial public offerings in stock market history, the US-based company sold 19.6 million shares at $85 each. Google shares have risen since but fell $12.33 on Tuesday to close at $172.55. The restriction - known as a lockup - is being eased piecemeal: in all, some 227 million additional shares will become free to trade by February 2005. Selling the shares could turn many of Google's workers into millionaires.  There were fears that the potential increase of shares in circulation from Tuesday would ease demand for stock. However, analysts say they expected most shareholders would be holding back from selling all their shares immediately, as Google's good performance and future growth potential means demand will hold.  In its first earnings report since floating on the stock market, Google said it made a net profit of $52m in the three months ending 30 September. Sales surged to $805.9m in the third quarter, up from $393.9m a year earlier. Google's main service - its internet search - is free to users, so the firm makes much of its money from selling advertising space linked to the words for which its users search. It also sells the use of its technology to companies who need to make either their websites, or their internal information systems, searchable. \n",
      "*  Japanese shares have ended the year at their highest level since 13 July amidst hopes of an economic recovery during 2005.  The Nikkei index of leading shares gained 7.6% during the year to close at 11,488.76 points. In 2005 it \"will rise toward 13,000\", predicted Morgan Stanley equity strategist Naoki Kamiyama. The optimism in the financial markets contrast sharply with pessimism in the Japanese business community. Earlier this month, the quarterly Tankan survey of Japanese manufacturers found that business confidence had weakened for the first time since March 2003.  Slower economic growth, rising oil prices, a stronger yen and weaker exports were blamed for the fall in confidence. Despite this, traders expect strength in the global economy to benefit Japan, which has been close to sliding into recession in recent months. Structural reform within Japan and an anticipated end to the banking sector's bad debt problems should also help, they say. \n",
      "\n",
      " Q: News about stock market.\n",
      " A:\n"
     ]
    }
   ],
   "source": [
    "query = 'News about stock market.'\n",
    "prompt = construct_prompt(query=query, context_embeddings=df['embedding'], df=df); print(prompt)"
   ]
  },
  {
   "cell_type": "markdown",
   "metadata": {},
   "source": [
    "## Retrieve Information"
   ]
  },
  {
   "cell_type": "code",
   "execution_count": 120,
   "metadata": {},
   "outputs": [],
   "source": [
    "def retrieve_information(prompt):\n",
    "    try:\n",
    "        # Request API\n",
    "        response = openai.Completion.create(\n",
    "            deployment_id= \"text-davinci-003\", # has to be deployment_id\n",
    "            prompt=prompt,\n",
    "            temperature=1,\n",
    "            max_tokens=100,\n",
    "            top_p=1.0,\n",
    "            frequency_penalty=0.0,\n",
    "            presence_penalty=1\n",
    "        )\n",
    "\n",
    "        # response\n",
    "        result = response['choices'][0]['text']; print(result)\n",
    "    except Exception as err:\n",
    "        print(idx)\n",
    "        print(f\"Unexpected {err=}, {type(err)=}\")\n",
    "\n",
    "    return "
   ]
  },
  {
   "attachments": {},
   "cell_type": "markdown",
   "metadata": {},
   "source": [
    "## Query Samples"
   ]
  },
  {
   "cell_type": "code",
   "execution_count": 121,
   "metadata": {},
   "outputs": [
    {
     "name": "stdout",
     "output_type": "stream",
     "text": [
      "Selected 4 document sections, with indexes:\n",
      "364\n",
      "266\n",
      "273\n",
      "282\n",
      "Answer the question truthfully using context, if unsure, say \"I don't know.\"\n",
      "\n",
      "Context:\n",
      "\n",
      "*  The owner of the technology-dominated Nasdaq stock index plans to sell shares to the public and list itself on the market it operates.  According to a registration document filed with the Securities and Exchange Commission, Nasdaq Stock Market plans to raise $100m (£52m) from the sale. Some observers see this as another step closer to a full public listing. However Nasdaq, an icon of the 1990s technology boom, recently poured cold water on those suggestions.  The company first sold shares in private placements during 2000 and 2001. It technically went public in 2002 when the stock started trading on the OTC Bulletin Board, which lists equities that trade only occasionally. Nasdaq will not make money from the sale, only investors who bought shares in the private placings, the filing documents said. The Nasdaq is made up shares in technology firms and other companies with high growth potential. It was the most potent symbol of the 1990s internet and telecoms boom, nose-diving after the bubble burst. A recovery in the fortunes of tech giants such as Intel, and dot.com survivors such as Amazon has helped revive its fortunes. \n",
      "*  The owner of the technology-dominated Nasdaq stock index plans to sell shares to the public and list itself on the market it operates.  According to a registration document filed with the Securities and Exchange Commission, Nasdaq Stock Market plans to raise $100m (£52m) from the sale. Some observers see this as another step closer to a full public listing. However Nasdaq, an icon of the 1990s technology boom, recently poured cold water on those suggestions.  The company first sold shares in private placements during 2000 and 2001. It technically went public in 2002 when the stock started trading on the OTC Bulletin Board, which lists equities that trade only occasionally. Nasdaq will not make money from the sale, only investors who bought shares in the private placings, the filing documents said. The Nasdaq is made up shares in technology firms and other companies with high growth potential. It was the most potent symbol of the 1990s internet and telecoms boom, nose-diving after the bubble burst. A recovery in the fortunes of tech giants such as Intel, and dot.com survivors such as Amazon has helped revive its fortunes. \n",
      "*  Shares in Google have fallen 6.7% after employees and early investors in the web search took advantage of the first chance to sell their holdings.  Restrictions were imposed ahead of its flotation in August, to prevent shares being dumped quickly onto the market. In one of the most closely-watched initial public offerings in stock market history, the US-based company sold 19.6 million shares at $85 each. Google shares have risen since but fell $12.33 on Tuesday to close at $172.55. The restriction - known as a lockup - is being eased piecemeal: in all, some 227 million additional shares will become free to trade by February 2005. Selling the shares could turn many of Google's workers into millionaires.  There were fears that the potential increase of shares in circulation from Tuesday would ease demand for stock. However, analysts say they expected most shareholders would be holding back from selling all their shares immediately, as Google's good performance and future growth potential means demand will hold.  In its first earnings report since floating on the stock market, Google said it made a net profit of $52m in the three months ending 30 September. Sales surged to $805.9m in the third quarter, up from $393.9m a year earlier. Google's main service - its internet search - is free to users, so the firm makes much of its money from selling advertising space linked to the words for which its users search. It also sells the use of its technology to companies who need to make either their websites, or their internal information systems, searchable. \n",
      "*  Japanese shares have ended the year at their highest level since 13 July amidst hopes of an economic recovery during 2005.  The Nikkei index of leading shares gained 7.6% during the year to close at 11,488.76 points. In 2005 it \"will rise toward 13,000\", predicted Morgan Stanley equity strategist Naoki Kamiyama. The optimism in the financial markets contrast sharply with pessimism in the Japanese business community. Earlier this month, the quarterly Tankan survey of Japanese manufacturers found that business confidence had weakened for the first time since March 2003.  Slower economic growth, rising oil prices, a stronger yen and weaker exports were blamed for the fall in confidence. Despite this, traders expect strength in the global economy to benefit Japan, which has been close to sliding into recession in recent months. Structural reform within Japan and an anticipated end to the banking sector's bad debt problems should also help, they say. \n",
      "\n",
      " Q: News about stock market.\n",
      " A:\n",
      " Shares in Google have fallen 6.7% after employees and early investors in the web search took advantage of the first chance to sell their holdings. Restrictions were imposed ahead of its flotation in August, to prevent shares being dumped quickly onto the market. Japanese shares have ended the year at their highest level since 13 July amidst hopes of an economic recovery during 2005. The Nikkei index of leading shares gained 7.6% during the year to close at 11,488.76 points. The\n"
     ]
    }
   ],
   "source": [
    "query = 'News about stock market.'\n",
    "prompt = construct_prompt(query=query, context_embeddings=df['embedding'], df=df); print(prompt)\n",
    "retrieve_information(prompt=prompt)"
   ]
  },
  {
   "cell_type": "code",
   "execution_count": 122,
   "metadata": {},
   "outputs": [
    {
     "name": "stdout",
     "output_type": "stream",
     "text": [
      "Selected 3 document sections, with indexes:\n",
      "93\n",
      "72\n",
      "321\n",
      "Answer the question truthfully using context, if unsure, say \"I don't know.\"\n",
      "\n",
      "Context:\n",
      "\n",
      "*  The US economy has grown more than expected, expanding at an annual rate of 3.8% in the last quarter of 2004.  The gross domestic product figure was ahead of the 3.1% the government estimated a month ago. The rise reflects stronger spending by businesses on capital equipment and a smaller-than-expected trade deficit. GDP is a measure of a country's economic health, reflecting the value of the goods and services it produces.  The new GDP figure, announced by the Commerce Department on Friday, also topped the 3.5% growth rate that economists had forecast ahead of Friday's announcement. Growth was at an annual rate of 4% in the third quarter of 2004 and for the year it came in at 4.4%, the best figure in five years. However, the positive economic climate may lead to a rise in interest rates, with many expecting US rates to rise on 22 March. In the January-to-March quarter, the economy is expected to grow at an annual rate of about 4%, economists forecast. In the final quarter of 2004, businesses increased spending on capital equipment and software by 18%, up from 17.5% in the third quarter. Consumer spending grew 4.2% in the final quarter, down from the third quarter's 5.1%. \n",
      "*  Germany's economy shrank 0.2% in the last three months of 2004, upsetting hopes of a sustained recovery.  The figures confounded hopes of a 0.2% expansion in the fourth quarter in Europe's biggest economy. The Federal Statistics Office said growth for the whole of 2004 was 1.6%, after a year of contraction in 2003, down from an earlier estimate of 1.7%. It said growth in the third quarter had been zero, putting the economy at a standstill from July onward. Germany has been reliant on exports to get its economy back on track, as unemployment of more than five million and impending cuts to welfare mean German consumers have kept their money to themselves. Major companies including Volkswagen, DaimlerChrysler and Siemens have spent much of 2004 in tough talks with unions about trimming jobs and costs. According to the statistics office, Destatis, rising exports were outweighed in the fourth quarter by the continuing weakness of domestic demand.  But the relentless rise in the value of the euro last year has also hit the competitiveness of German products overseas. The effect has been to depress prospects for the 12-nation eurozone as a whole, as well as Germany. Eurozone interest rates are at 2%, but senior officials at the rate-setting European Central Bank are beginning to talk about the threat of inflation, prompting fears that interest rates may rise. The ECB's mandate is to fight rising prices by boosting interest rates - and that could further threaten Germany's hopes of recovery. \n",
      "*  The Japanese government has forecast that the country's economic growth will slow to 1.6% in the next fiscal year starting in April 2005.  While it predicts this fall from the current 2.1% level, it said it was making progress on ending deflation. The figures were given by economics minister Heizo Takenaka who said the economy would grow by 2% in 2006/07. He said the consumer price index (CPI) would rise 0.1% in the next fiscal year, the first gain since 2000/01. \"We are attempting to make real economic conditions better and to overcome deflation. I think we are on track,\" said Mr Takenaka. Deflation - or falling consumer prices - has plagued Japan for more than five years. To ease the problem the Bank of Japan has regularly flooded the money market with excess cash to keep short term interest rates at 0% in an attempt to spur economic activity. \n",
      "\n",
      " Q: What is the state of the economy of the world?\n",
      " A:\n",
      " The state of the economy of the world is mixed. The US economy has grown more than expected, expanding at an annual rate of 3.8% in the last quarter of 2004. However, Germany's economy shrank 0.2% in the last three months of 2004 and the Japanese government has forecast that the country's economic growth will slow to 1.6% in the next fiscal year starting in April 2005.\n"
     ]
    }
   ],
   "source": [
    "query = 'What is the state of the economy of the world?'\n",
    "prompt = construct_prompt(query=query, context_embeddings=df['embedding'], df=df); print(prompt)\n",
    "retrieve_information(prompt=prompt)"
   ]
  },
  {
   "cell_type": "code",
   "execution_count": 123,
   "metadata": {},
   "outputs": [
    {
     "name": "stdout",
     "output_type": "stream",
     "text": [
      "Selected 3 document sections, with indexes:\n",
      "72\n",
      "97\n",
      "93\n",
      "Answer the question truthfully using context, if unsure, say \"I don't know.\"\n",
      "\n",
      "Context:\n",
      "\n",
      "*  Germany's economy shrank 0.2% in the last three months of 2004, upsetting hopes of a sustained recovery.  The figures confounded hopes of a 0.2% expansion in the fourth quarter in Europe's biggest economy. The Federal Statistics Office said growth for the whole of 2004 was 1.6%, after a year of contraction in 2003, down from an earlier estimate of 1.7%. It said growth in the third quarter had been zero, putting the economy at a standstill from July onward. Germany has been reliant on exports to get its economy back on track, as unemployment of more than five million and impending cuts to welfare mean German consumers have kept their money to themselves. Major companies including Volkswagen, DaimlerChrysler and Siemens have spent much of 2004 in tough talks with unions about trimming jobs and costs. According to the statistics office, Destatis, rising exports were outweighed in the fourth quarter by the continuing weakness of domestic demand.  But the relentless rise in the value of the euro last year has also hit the competitiveness of German products overseas. The effect has been to depress prospects for the 12-nation eurozone as a whole, as well as Germany. Eurozone interest rates are at 2%, but senior officials at the rate-setting European Central Bank are beginning to talk about the threat of inflation, prompting fears that interest rates may rise. The ECB's mandate is to fight rising prices by boosting interest rates - and that could further threaten Germany's hopes of recovery. \n",
      "*  The International Monetary Fund is to cut its 2005 growth forecast for the German economy from 1.8% to 0.8%, the Financial Times Deutschland reported.  The IMF will also reduce its growth estimate for the 12-member eurozone economy from 2.2% to 1.6%, the newspaper reported. The German economy has been faltering, with unemployment levels rising to a seventy-year high of 5.2 million. Its sluggish performance continues to hamper the entire eurozone.  The IMF's draft World Economic Outlook - due to be published in April - would point to a marked deterioration in Germany's economy, the FT report said.  In September, the IMF had said that German growth for the current year would be 1.8%. The IMF has also revised eurozone forecasts, the paper said, taking into account high oil prices, the strength of the euro and weak demand in many of the world's leading economies. Europe's economic difficulties have been highlighted by the Organisation for Economic Co-operation and Development, which argued in a report published on Tuesday that the continent could only achieve US living standards by freeing up its labour markets. \"The eurozone does not look like it has a self-sustaining recovery,\" James Carrick, an economist with ABN Amro, told the newspaper. \"It is too dependant on the rest of the world.\" \n",
      "*  The US economy has grown more than expected, expanding at an annual rate of 3.8% in the last quarter of 2004.  The gross domestic product figure was ahead of the 3.1% the government estimated a month ago. The rise reflects stronger spending by businesses on capital equipment and a smaller-than-expected trade deficit. GDP is a measure of a country's economic health, reflecting the value of the goods and services it produces.  The new GDP figure, announced by the Commerce Department on Friday, also topped the 3.5% growth rate that economists had forecast ahead of Friday's announcement. Growth was at an annual rate of 4% in the third quarter of 2004 and for the year it came in at 4.4%, the best figure in five years. However, the positive economic climate may lead to a rise in interest rates, with many expecting US rates to rise on 22 March. In the January-to-March quarter, the economy is expected to grow at an annual rate of about 4%, economists forecast. In the final quarter of 2004, businesses increased spending on capital equipment and software by 18%, up from 17.5% in the third quarter. Consumer spending grew 4.2% in the final quarter, down from the third quarter's 5.1%. \n",
      "\n",
      " Q: Summarise the state of the economy of the world?\n",
      " A:\n",
      " The US economy has been the strongest, growing at an annual rate of 3.8% in the last quarter of 2004, with growth for the year coming in at 4.4%. The German economy has faltered, with growth for the whole of 2004 being 1.6% and forecasts for 2005 being reduced to 0.8%. The eurozone's economic difficulties have also been highlighted, with predictions of only a 1.6% growth rate.\n"
     ]
    }
   ],
   "source": [
    "query = 'Summarise the state of the economy of the world?'\n",
    "prompt = construct_prompt(query=query, context_embeddings=df['embedding'], df=df); print(prompt)\n",
    "retrieve_information(prompt=prompt)"
   ]
  },
  {
   "cell_type": "code",
   "execution_count": 124,
   "metadata": {},
   "outputs": [
    {
     "name": "stdout",
     "output_type": "stream",
     "text": [
      "Selected 3 document sections, with indexes:\n",
      "2085\n",
      "2062\n",
      "2154\n",
      "Answer the question truthfully using context, if unsure, say \"I don't know.\"\n",
      "\n",
      "Context:\n",
      "\n",
      "*  More and more Americans are joining the internet's fast lane, according to official figures.  The number of people and business connected to broadband jumped by 38% in a year, said the US Federal Communications Commission (FCC). In a report, it said there were more than 32 million broadband connections by the end of June 2004. But the US is still behind compared to other nations, ranked 13th in the world by a UN telecoms body.  During his 2004 re-election campaign, President George W Bush pledge to ensure that affordable high-speed net access would be available to all Americans by 2007.  According to the report by the FCC, broadband is becoming increasingly popular, with people using it for research and shopping, as well as downloading music and watching video. The total number of people and businesses on broadband rose by to 32.5 million in the year ending June 2004, compared to 23.5 million in June 2003. Whereas in the UK, most people hook up to broadband via Asymmetric Digital Subscriber Line (ADSL) technology which lets ordinary copper phone lines support high data speeds. But in the US, cable leads the way, accounting for 18.6 million lines. Broadband over the phone line makes up 11.4 million connections, according to the FCC figures. \n",
      "*  The internet could soon have two new domain names, aimed at mobile services and the jobs market.  The Internet Corporation for Assigned Names and Numbers (Icann) has given preliminary approval to two new addresses - .mobi and .jobs. They are among 10 new names being considered by the net's oversight body. Others include a domain for pornography, an anti-spam domain as well as .post and .travel, for the postal and travel industries.  The .mobi domain would be aimed at websites and other services that work specifically around mobile phones, while the .jobs address could be used by companies wanting a dedicated site for job postings. The process to see the new domain names go live in cyberspace could take months and Icann officials warned that there were no guarantees they would ultimately be accepted. Applicants paid £23,000 apiece to have their proposals considered. The application for .mobi was sponsored by technology firms including Nokia, Microsoft and T-Mobile.  Of the 10 currently under consideration, the least likely to win approval is the .xxx domain for pornographic websites. There are currently around 250 domain names in use around the globe, mostly for specific countries such as .fr for France and .uk for Britain. Perhaps unsurprisingly, .com remains the most popular address on the web. \n",
      "*  IBM is spending $100m (£52m) over the next three years beefing up its commitment to Linux software.  The cash injection will be used to help its customers use Linux on every type of device from handheld computers and phones right up to powerful servers. IBM said the money will fund a variety of technical, research and marketing initiatives to boost Linux use. IBM said it had taken the step in response to greater customer demand for the open source software.  In 2004 IBM said it had seen double digit growth in the number of customers using Linux to help staff work together more closely. The money will be used to help this push towards greater collaboration and will add Linux-based elements to IBM's Workplace software. Workplace is a suite of programs and tools that allow workers to get at core business applications no matter what device they use to connect to corporate networks. One of the main focuses of the initiative will be to make it easier to use Linux-based desktop computers and mobile devices with Workplace. Even before IBM announced this latest spending boost it was one of the biggest advocates of the open source way of working. In 2001 it put $300m into a three-year Linux program and has produced Linux versions of many of its programs. Linux and the open source software movement are based on the premise that developers should be free to tinker with the core components of software programs. They reason that more open scrutiny of software produces better programs and fuels innovation. \n",
      "\n",
      " Q: What is the most talked about technology?\n",
      " A:\n",
      " I don't know.\n"
     ]
    }
   ],
   "source": [
    "query = 'What is the most talked about technology?'\n",
    "prompt = construct_prompt(query=query, context_embeddings=df['embedding'], df=df); print(prompt)\n",
    "retrieve_information(prompt=prompt)"
   ]
  },
  {
   "cell_type": "code",
   "execution_count": 125,
   "metadata": {},
   "outputs": [
    {
     "name": "stdout",
     "output_type": "stream",
     "text": [
      "Selected 2 document sections, with indexes:\n",
      "601\n",
      "604\n",
      "Answer the question truthfully using context, if unsure, say \"I don't know.\"\n",
      "\n",
      "Context:\n",
      "\n",
      "*  US actor Jamie Foxx has been given two nominations for Golden Globe awards, with Meryl Streep, Morgan Freeman and Cate Blanchett also up for prizes.  The stars were shortlisted on Monday for supporting roles, with the main nominations still to come. Foxx has starred in Collateral and Ray. Clive Owen, David Carradine and Natalie Portman are also up for awards. The Golden Globes, Hollywood's second most prominent awards, are the first major nominations to be announced. Last year, The Lord Of the Rings: The Return Of the King was named best drama movie while Lost In Translation won best musical or comedy. Sean Penn, Charlize Theron, Tim Robbins and Renee Zellweger all won acting awards - mirroring the eventual Oscars outcome. The Golden Globes ceremony will take place on 16 January, with the Oscars following on 27 February. \n",
      "*  The Aviator has been named best film at the Golden Globe Awards, with its star Leonardo DiCaprio named best actor.  Hollywood veteran Clint Eastwood took the best director prize for Million Dollar Baby while its star Hilary Swank was best actress. Quirky comedy Sideways was named best screenplay and best comedy. Ray star Jamie Foxx was best actor in a musical/comedy while Briton Clive Owen and Natalie Portman won prizes for best supporting roles in Closer.  The Aviator, in which DiCaprio plays millionaire Howard Hughes, edged ahead of its rivals at the Beverly Hills ceremony by winning the best original score prize. This give it a total of three awards while Million Dollar Baby, Sideways and Closer took two Golden Globes each. Accepting his best dramatic actor prize, DiCaprio described director Martin Scorsese as \"one of the greatest contributors to the world of cinema of all time\".  Annette Bening won best actress in a musical/comedy for Being Julia while Spanish movie The Sea Inside was named best foreign language film. Swank, who previously won the Golden Globe and Oscar for Boys Don't Cry, paid tribute to Million Dollar Baby director and co-star Clint Eastwood. \"You guided us so brilliantly, while you also, in my humble opinion, gave the performance of your career,\" she said. Foxx was nominated for three awards but was beaten to the best supporting actor title by Owen and the best actor in a TV movie prize by Geoffrey Rush in The Life and Death of Peter Sellers.  A BBC co-production, The Life and Death of Peter Sellers was also named best TV movie. Mick Jagger and Dave Stewart won the best original song award for Old Habits Die Hard from movie re-make Alfie, while Ian McShane was named best actor in a TV drama for his lead role in Deadwood.  Other UK hopes Kate Winslet and Imelda Staunton went home empty-handed despite lead actress nominations for Eternal Sunshine of the Spotless Mind and Vera Drake respectively. Winning a Golden Globe is said to improve a film or performer's chance of subsequently winning an Academy Award. Unlike the Oscars, the Golden Globes split awards by genre - one prize for dramas and the other for musicals and comedies. The Globes also honour the best in television, with suburban series Desperate Housewives named best TV comedy show. Actress Teri Hatcher beat fellow Desperate Housewives stars Marcia Cross and Felicity Huffman to the best comedy actress prize.  Hatcher thanked the show's cast, crew and \"a network who gave me a second chance at a career when I couldn't have been a bigger 'has been'\". Cosmetic surgery series Nip/Tuck beat The Sopranos and Deadwood to the best television drama title. Arrested Development star Jason Bateman was named best TV actor in a musical or comedy series. The Golden Globes are awarded by the Hollywood Foreign Press Association, comprising film reporters based in Los Angeles and working for overseas outlets. Robin Williams, a five-time Globe winner for such films as The Fisher King and Good Morning, Vietnam, received the Cecil B DeMille award for career achievement. He dedicated his prize to Superman actor Christopher Reeve, who died last year. \n",
      "\n",
      " Q: List all the celebrities.\n",
      " A:\n",
      " Jamie Foxx, Meryl Streep, Morgan Freeman, Cate Blanchett, Clive Owen, David Carradine, Natalie Portman, Sean Penn, Charlize Theron, Tim Robbins, Renee Zellweger, Leonardo DiCaprio, Clint Eastwood, Hilary Swank, Geoffrey Rush, Annette Bening, Mick Jagger, Dave Stewart, Ian McShane, Kate Winslet, Imelda Staunton, Teri Hatcher, Marcia\n"
     ]
    }
   ],
   "source": [
    "query = 'List all the celebrities.'\n",
    "prompt = construct_prompt(query=query, context_embeddings=df['embedding'], df=df); print(prompt)\n",
    "retrieve_information(prompt=prompt)"
   ]
  },
  {
   "cell_type": "code",
   "execution_count": 126,
   "metadata": {},
   "outputs": [
    {
     "name": "stdout",
     "output_type": "stream",
     "text": [
      "Selected 3 document sections, with indexes:\n",
      "309\n",
      "1330\n",
      "1549\n",
      "Answer the question truthfully using context, if unsure, say \"I don't know.\"\n",
      "\n",
      "Context:\n",
      "\n",
      "*  Nike has reported its best second-quarter earnings, helped by strong demand for its athletic shoes and Converse sneakers.  The global sports giant said it posted a profit of $261.9m (£135.6m), for the three months to 30 November, up from $179.1m in the same period last year. Revenues increased 11% to $3.1bn, from $2.8bn for the same period in 2003. Nike, whose products are endorsed by Tiger Woods among other sports stars, said \"demand continues to grow\". The results came after a strong first quarter of the year for the firm based in Beaverton, Oregon.  Philip Knight, chairman and chief executive, said: \"Nike's second-quarter revenues and earnings per share reached all-time high levels as a result of solid performance across our global portfolio. \"Our businesses in the United States and emerging markets such as China, Russia and Turkey, combined with favourable European exchange rates, helped drive much of this growth.\" He added: \"With the first half of our fiscal year in the books, we remain confident that our business strategy and consistent execution will allow us to deliver on our goals of healthy, profitable growth.\" The firm reported worldwide futures orders for athletic footwear and gear, scheduled for delivery from December 2004 to April 2005, of $4.9bn. That is 9.1% higher than such orders reported for the same period last year. \n",
      "*  Teenager LaShawn Merritt ran the third fastest indoor 400m of all time at the Fayetteville Invitational meeting.  The world junior champion clocked 44.93 seconds to finish well clear of fellow American Bershawn Jackson in Arkansas. Only Michael Johnson has gone quicker, setting the world record of 44.63secs in 1995 and running 44.66secs in 1996. Kenyan Bernard Lagat missed out on the world record by 1.45secs as he ran the third quickest indoor mile ever to beat Canada's Nate Brannen by almost 10secs. The Olympic silver medallist's time of three minutes 49.89secs was inferior only to the 1997 world record of Moroccan Hicham El Guerrouj and former world record holder Eamonn Coghlan of Ireland's 3:49.78. Lagat was on course to break El Guerrouj's record through 1200m but could not maintain the pace over the final 400m. Ireland's  continued his excellent form by winning a tight 3,000m in 7:40.53. Cragg, who recently defeated Olympic 10,000m champion Kenenisa Bekele in Boston, held off Bekele's Ethiopian colleague Markos Geneti by only 0.19secs to secure his victory. Mark Carroll, who will join Cragg in the European Indoor Championships next month, finished a solid third in 7:46.78. Olympic 200m gold medallist  of Jamaica ran the fastest women's 60m in the world this year as she equalled her personal best of 7.09secs. World indoor 60m hurdles champion  also won, improving his season-leading time to 7.51secs. \n",
      "*  All four of England's Champions League representatives have reached the knockout stages for the first time.  Arsenal and Chelsea are seeded as group winners, while runners-up Manchester United and Liverpool are not. Rules stipulate that teams from the same country or group will be kept apart in the draw on 17 December. The favourites are Chelsea and Barcelona, and Real Madrid, the two Milan sides, Juventus and Bayern Munich are among the 16 still in the hat.  Steven Gerrard's last-gasp wonder-strike secured qualification for  against Olympiakos on Wednesday evening.  AC Milan, Bayer Leverkusen, Internazionale, Juventus, Lyon.  who had already qualified, fielded a second-string side and went down 3-0 to Fenerbahce.  AC Milan, Bayer Leverkusen, Internazionale, Juventus, Monaco.  On Tuesday,  finished top of their group with a 5-1 win over the Rosenborg after drawing four of their first five matches.  Barcelona, Bayern Munich, Porto, Real Madrid, Werder Bremen  , who had already qualified lost 2-1 to Porto as Jose Mourinho made an unhappy return to his former club.  Barcelona, Bayern Munich, PSV Eindhoven, Real Madrid, Werder Bremen. \n",
      "\n",
      " Q: What are the sports in the news?\n",
      " A:\n",
      " The sports in the news are golf, track and field, running, soccer, and hurdling.\n"
     ]
    }
   ],
   "source": [
    "query = 'What are the sports in the news?'\n",
    "prompt = construct_prompt(query=query, context_embeddings=df['embedding'], df=df); print(prompt)\n",
    "retrieve_information(prompt=prompt)"
   ]
  },
  {
   "cell_type": "code",
   "execution_count": 127,
   "metadata": {},
   "outputs": [
    {
     "name": "stdout",
     "output_type": "stream",
     "text": [
      "Selected 2 document sections, with indexes:\n",
      "1549\n",
      "1621\n",
      "Answer the question truthfully using context, if unsure, say \"I don't know.\"\n",
      "\n",
      "Context:\n",
      "\n",
      "*  All four of England's Champions League representatives have reached the knockout stages for the first time.  Arsenal and Chelsea are seeded as group winners, while runners-up Manchester United and Liverpool are not. Rules stipulate that teams from the same country or group will be kept apart in the draw on 17 December. The favourites are Chelsea and Barcelona, and Real Madrid, the two Milan sides, Juventus and Bayern Munich are among the 16 still in the hat.  Steven Gerrard's last-gasp wonder-strike secured qualification for  against Olympiakos on Wednesday evening.  AC Milan, Bayer Leverkusen, Internazionale, Juventus, Lyon.  who had already qualified, fielded a second-string side and went down 3-0 to Fenerbahce.  AC Milan, Bayer Leverkusen, Internazionale, Juventus, Monaco.  On Tuesday,  finished top of their group with a 5-1 win over the Rosenborg after drawing four of their first five matches.  Barcelona, Bayern Munich, Porto, Real Madrid, Werder Bremen  , who had already qualified lost 2-1 to Porto as Jose Mourinho made an unhappy return to his former club.  Barcelona, Bayern Munich, PSV Eindhoven, Real Madrid, Werder Bremen. \n",
      "*  That's what I call a tough game. It was very physical and fair play to the Italians they made us work very hard for our victory.  Their organisation was very, very good and they proved again that they are getting better and better as the years go by. It is by far the strongest Italian team that we have faced. We knew all along that we would be a huge threat particularly the first game in the Championship. It was not like the days gone by when you could get scores on the board early. We had to work our socks off and try and build our scores gradually. It was really hard work out there and the players have plenty of bumps and bruises to prove it. I'm not too bad, but there are one or two others who will be feeling it a bit on Monday morning. In the backs, we were not frustrated at such, but the new rucking laws were a little bit problematical. The different interpretations between the referee and the players was a little difficult. But we managed to get the ball in our hands and I got a try near the end of the first half. It's always good to score. It was great work by Brian and I always knew I had scored even though it went upstairs to the video referee. Eddie (O'Sullivan) was very calm at half-time even though we were only 8-6 ahead. He spelled out what we needed to do and advocated getting the ball out of our own territory.  That new ruck law made it a bit more difficult to get out of our own half. We were penalised a lot at the breakdown, and if they had kicked all their chances at goal we would have been behind at the break. So really we went back to playing a territory game and simplifying things and having more patience on the ball. Every one was a little down after the game following the injuries to Brian and Gordon. As yet we do not know the full extent of the injuries, but it does not that good. Now we have to focus on Scotland and only six days to recover. It's a big ask after such a bruising encounter. I was very impressed the way the Scots played against the French on Saturday. It could so easily have gone their way but for a couple of decisions. We will be under no illusions it is going to be tough for us. In the meantime, when in Rome ... . \n",
      "\n",
      " Q: Tell me about all the football games.\n",
      " A:\n",
      " Chelsea, Barcelona, Real Madrid, the two Milan sides, Juventus, Bayern Munich, Arsenal, Manchester United, Liverpool, Olympiakos, Fenerbahce, Monaco, Rosenborg, PSV Eindhoven, and Porto are all teams that have featured in various football games.\n"
     ]
    }
   ],
   "source": [
    "query = 'Tell me about all the football games.'\n",
    "prompt = construct_prompt(query=query, context_embeddings=df['embedding'], df=df); print(prompt)\n",
    "retrieve_information(prompt=prompt)"
   ]
  },
  {
   "cell_type": "code",
   "execution_count": 128,
   "metadata": {},
   "outputs": [
    {
     "name": "stdout",
     "output_type": "stream",
     "text": [
      "Selected 3 document sections, with indexes:\n",
      "1330\n",
      "698\n",
      "841\n",
      "Answer the question truthfully using context, if unsure, say \"I don't know.\"\n",
      "\n",
      "Context:\n",
      "\n",
      "*  Teenager LaShawn Merritt ran the third fastest indoor 400m of all time at the Fayetteville Invitational meeting.  The world junior champion clocked 44.93 seconds to finish well clear of fellow American Bershawn Jackson in Arkansas. Only Michael Johnson has gone quicker, setting the world record of 44.63secs in 1995 and running 44.66secs in 1996. Kenyan Bernard Lagat missed out on the world record by 1.45secs as he ran the third quickest indoor mile ever to beat Canada's Nate Brannen by almost 10secs. The Olympic silver medallist's time of three minutes 49.89secs was inferior only to the 1997 world record of Moroccan Hicham El Guerrouj and former world record holder Eamonn Coghlan of Ireland's 3:49.78. Lagat was on course to break El Guerrouj's record through 1200m but could not maintain the pace over the final 400m. Ireland's  continued his excellent form by winning a tight 3,000m in 7:40.53. Cragg, who recently defeated Olympic 10,000m champion Kenenisa Bekele in Boston, held off Bekele's Ethiopian colleague Markos Geneti by only 0.19secs to secure his victory. Mark Carroll, who will join Cragg in the European Indoor Championships next month, finished a solid third in 7:46.78. Olympic 200m gold medallist  of Jamaica ran the fastest women's 60m in the world this year as she equalled her personal best of 7.09secs. World indoor 60m hurdles champion  also won, improving his season-leading time to 7.51secs. \n",
      "*  Sprinter Kelly Holmes' Olympic victory has been named the top television moment of 2004 in a BBC poll.  Holmes' 800m gold medal victory beat favourite moments from drama, comedy and factual programmes, as voted by television viewers. Natasha Kaplinsky's Strictly Come Dancing win was top entertainment moment and a Little Britain breast feeding sketch won the comedy prize. The 2004 TV Moments will be shown on BBC One at 2000 GMT on Wednesday. Double gold medal winner Holmes topped the best sports moment category, beating Maria Sharapova's Wimbledon triumph and Matthew Pinsent's rowing victory at the Olympics.  She then went on to take the overall prize of Golden TV Moment. The sight of former royal correspondent Jennie Bond with dozens of rats crawling over her in ITV's I'm a Celebrity Get Me Out of Here was named best factual entertainment moment. Michael Buerk's return to Ethiopia, 20 years after originally reporting its famine, topped the factual category for BBC programme This World. Long-running soap EastEnders won the best popular drama moment title when character Dot confided in Den Watts that she was unwell. \n",
      "*  The Incredibles movie has beaten Shrek 2 to the main prizes at Hollywood's animation awards, the Annies.  The superhero film was named best animated feature while Brad Bird won best director, writer and voice actor for his role as designer Edna Mode. The Incredibles won a total of 10 awards - but Shrek 2, which had seven nominations, went home empty-handed. The two movies will compete with Shark Tale in the best animated film category of the Oscars at the end of February.  The Incredibles' awards came despite Shrek 2's greater box office success. Shrek 2 took $881m (£468m) around the world, compared with $576m (£306m) for The Incredibles. SpongeBob SquarePants was named best animated TV show while TV comedy King of the Hill picked up two prizes including one for actress Brittany Murphy's voice work. Tom Kenny, who provides the voice for SpongeBob SquarePants, hosted Sunday's ceremony at the Alex Theater, Los Angeles. The awards are handed out by the International Animated Film Society. Finding Nemo won nine Annies last year. \n",
      "\n",
      " Q: Who won in the swimming contest?\n",
      " A:\n",
      " I don't know.\n"
     ]
    }
   ],
   "source": [
    "query = 'Who won in the swimming contest?'\n",
    "prompt = construct_prompt(query=query, context_embeddings=df['embedding'], df=df); print(prompt)\n",
    "retrieve_information(prompt=prompt)"
   ]
  },
  {
   "cell_type": "code",
   "execution_count": 129,
   "metadata": {},
   "outputs": [
    {
     "name": "stdout",
     "output_type": "stream",
     "text": [
      "Selected 3 document sections, with indexes:\n",
      "1330\n",
      "1354\n",
      "1388\n",
      "Answer the question truthfully using context, if unsure, say \"I don't know.\"\n",
      "\n",
      "Context:\n",
      "\n",
      "*  Teenager LaShawn Merritt ran the third fastest indoor 400m of all time at the Fayetteville Invitational meeting.  The world junior champion clocked 44.93 seconds to finish well clear of fellow American Bershawn Jackson in Arkansas. Only Michael Johnson has gone quicker, setting the world record of 44.63secs in 1995 and running 44.66secs in 1996. Kenyan Bernard Lagat missed out on the world record by 1.45secs as he ran the third quickest indoor mile ever to beat Canada's Nate Brannen by almost 10secs. The Olympic silver medallist's time of three minutes 49.89secs was inferior only to the 1997 world record of Moroccan Hicham El Guerrouj and former world record holder Eamonn Coghlan of Ireland's 3:49.78. Lagat was on course to break El Guerrouj's record through 1200m but could not maintain the pace over the final 400m. Ireland's  continued his excellent form by winning a tight 3,000m in 7:40.53. Cragg, who recently defeated Olympic 10,000m champion Kenenisa Bekele in Boston, held off Bekele's Ethiopian colleague Markos Geneti by only 0.19secs to secure his victory. Mark Carroll, who will join Cragg in the European Indoor Championships next month, finished a solid third in 7:46.78. Olympic 200m gold medallist  of Jamaica ran the fastest women's 60m in the world this year as she equalled her personal best of 7.09secs. World indoor 60m hurdles champion  also won, improving his season-leading time to 7.51secs. \n",
      "*  Paula Radcliffe made a triumphant return to competitive running with victory in the New York Marathon.  The Briton, running for the first time since dropping out of the Olympic marathon and 10,000m, held off Kenyan Susan Chepkemei in a thrilling finish. The pair were locked together for the last few miles before Radcliffe finally sprinted clear to win in two hours, 23 minutes and 10 seconds. \"It's a good way to end the year,\" she said. \"I'm ready for a good rest now.\" Radcliffe decided only recently to run in the race and many had doubted whether she had sufficiently recovered from her Olympic ordeal just 11 weeks ago. But the world record-holder was prominent at the head of the field for the whole race as her rivals slowly dropped off the pace. Just Chepkemei and Radcliffe were left in contention as the race came into the final few miles. The Kenyan put in several bursts of speed to throw off Radcliffe but the Briton managed to hang in. Both runners looked to be suffering as they reached the final mile in Central Park. But it was Radcliffe who managed to dredge up a final sprint to see off Chepkemei in the closest finish in the race's history and in the process make a huge step in erasing the disappointment she suffered in Athens.   \n",
      "*  World 5000m champion Eliud Kipchoge won the 9.2km race at the View From Great Edinburgh Cross Country.  The Kenyan, who was second when Newcastle hosted the race last year, was in front from the outset. Ethiopian duo Gebre Gebremariam and Dejene Berhanu made last-gasp efforts to overtake him, but Kipchoge responded and a burst of speed clinched victory. Gavin Thompson was the first Briton in 12th place while Nick McCormick held of his British rivals to win the 4km race. The Morpeth Harrier led from the end of the first lap and ended Mike Skinner and Andrew Baddeley's hopes with a surge in the lasp lap. \"My training has gone so well I wasn't really worried about the opposition asI knew I was in great shape,\" said McCormick, who now hopes to earn a 1,500m place in the British team for the World Championships in Helsinki. In the women's race, Ethiopia's Tirunesh Dibaba won a battle with world cross country champion Benita Johnson to retain her title. Australian Johnson, who shocked her African rivals in Brussels last March, looked to be on course for another win in the 6.2km race. But world 5000m champion Dibaba make a telling strike for the finishing line in the final 20 metres. Britons Kathy Butler and Hayley Yelling were out of contention early on. \n",
      "\n",
      " Q: Who won in the running competition?\n",
      " A:\n",
      " Eliud Kipchoge won the 9.2km race at the View From Great Edinburgh Cross Country. Nick McCormick won the 4km race. Tirunesh Dibaba won the 6.2km race. Paula Radcliffe won the New York Marathon.\n"
     ]
    }
   ],
   "source": [
    "query = 'Who won in the running competition?'\n",
    "prompt = construct_prompt(query=query, context_embeddings=df['embedding'], df=df); print(prompt)\n",
    "retrieve_information(prompt=prompt)"
   ]
  }
 ],
 "metadata": {
  "kernelspec": {
   "display_name": "azureml_py38",
   "language": "python",
   "name": "python3"
  },
  "language_info": {
   "codemirror_mode": {
    "name": "ipython",
    "version": 3
   },
   "file_extension": ".py",
   "mimetype": "text/x-python",
   "name": "python",
   "nbconvert_exporter": "python",
   "pygments_lexer": "ipython3",
   "version": "3.8.5"
  },
  "orig_nbformat": 4,
  "vscode": {
   "interpreter": {
    "hash": "6d65a8c07f5b6469e0fc613f182488c0dccce05038bbda39e5ac9075c0454d11"
   }
  }
 },
 "nbformat": 4,
 "nbformat_minor": 2
}
