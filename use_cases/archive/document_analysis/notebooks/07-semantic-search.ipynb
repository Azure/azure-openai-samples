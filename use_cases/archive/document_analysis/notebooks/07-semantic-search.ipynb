{
 "cells": [
  {
   "attachments": {},
   "cell_type": "markdown",
   "metadata": {},
   "source": [
    "# Semantic Search on Specific Data Corpus\n",
    "Query within specifis corpus. "
   ]
  },
  {
   "cell_type": "code",
   "execution_count": 1,
   "metadata": {},
   "outputs": [],
   "source": [
    "%load_ext autoreload\n",
    "%autoreload 2\n",
    "\n",
    "from IPython.core.interactiveshell import InteractiveShell\n",
    "InteractiveShell.ast_node_interactivity = \"all\""
   ]
  },
  {
   "attachments": {},
   "cell_type": "markdown",
   "metadata": {},
   "source": [
    "## Set up Azure OpenAI"
   ]
  },
  {
   "cell_type": "code",
   "execution_count": 2,
   "metadata": {},
   "outputs": [
    {
     "data": {
      "text/plain": [
       "True"
      ]
     },
     "execution_count": 2,
     "metadata": {},
     "output_type": "execute_result"
    }
   ],
   "source": [
    "import os\n",
    "import openai\n",
    "from dotenv import load_dotenv\n",
    "\n",
    "# Set up Azure OpenAI\n",
    "load_dotenv()\n",
    "openai.api_type = \"azure\"\n",
    "openai.api_base = \"\" # Api base is the 'Endpoint' which can be found in Azure Portal where Azure OpenAI is created. It looks like https://xxxxxx.openai.azure.com/\n",
    "openai.api_version = \"2022-12-01\"\n",
    "openai.api_key = os.getenv(\"OPENAI_API_KEY\")"
   ]
  },
  {
   "attachments": {},
   "cell_type": "markdown",
   "metadata": {},
   "source": [
    "## Deploy a Language Model"
   ]
  },
  {
   "cell_type": "code",
   "execution_count": 3,
   "metadata": {},
   "outputs": [
    {
     "name": "stdout",
     "output_type": "stream",
     "text": [
      "Found a succeeded deployment that supports embeddings with id: deployment-89153abdfa934e1580296dbee586239b.\n"
     ]
    }
   ],
   "source": [
    "# list models deployed with embeddings capability\n",
    "deployment_id = None\n",
    "result = openai.Deployment.list()\n",
    "\n",
    "for deployment in result.data:\n",
    "    if deployment[\"status\"] != \"succeeded\":\n",
    "        continue\n",
    "    \n",
    "    model = openai.Model.retrieve(deployment[\"model\"])\n",
    "    if model[\"capabilities\"][\"embeddings\"] != True:\n",
    "        continue\n",
    "    \n",
    "    deployment_id = deployment[\"id\"]\n",
    "    break\n",
    "\n",
    "# if not model deployed, deploy one\n",
    "if not deployment_id:\n",
    "    print('No deployment with status: succeeded found.')\n",
    "    model = \"text-similarity-davinci-001\"\n",
    "\n",
    "    # Now let's create the deployment\n",
    "    print(f'Creating a new deployment with model: {model}')\n",
    "    result = openai.Deployment.create(model=model, scale_settings={\"scale_type\":\"standard\"})\n",
    "    deployment_id = result[\"id\"]\n",
    "    print(f'Successfully created {model} with deployment_id {deployment_id}')\n",
    "else:\n",
    "    print(f'Found a succeeded deployment that supports embeddings with id: {deployment_id}.')"
   ]
  },
  {
   "attachments": {},
   "cell_type": "markdown",
   "metadata": {},
   "source": [
    "## Load Data\n",
    "The next cell will load embeddings generated in notebook [01-get-embeddings.ipynb](./01-get-embeddings.ipynb)."
   ]
  },
  {
   "cell_type": "code",
   "execution_count": 4,
   "metadata": {},
   "outputs": [],
   "source": [
    "import pandas as pd\n",
    "fname = '../data/bbc-news-data-embedding.csv'\n",
    "df_orig = pd.read_csv(fname, delimiter='\\t', index_col=False)"
   ]
  },
  {
   "cell_type": "code",
   "execution_count": 5,
   "metadata": {},
   "outputs": [
    {
     "data": {
      "text/html": [
       "<div>\n",
       "<style scoped>\n",
       "    .dataframe tbody tr th:only-of-type {\n",
       "        vertical-align: middle;\n",
       "    }\n",
       "\n",
       "    .dataframe tbody tr th {\n",
       "        vertical-align: top;\n",
       "    }\n",
       "\n",
       "    .dataframe thead th {\n",
       "        text-align: right;\n",
       "    }\n",
       "</style>\n",
       "<table border=\"1\" class=\"dataframe\">\n",
       "  <thead>\n",
       "    <tr style=\"text-align: right;\">\n",
       "      <th></th>\n",
       "      <th>category</th>\n",
       "      <th>filename</th>\n",
       "      <th>title</th>\n",
       "      <th>content</th>\n",
       "      <th>embedding</th>\n",
       "    </tr>\n",
       "  </thead>\n",
       "  <tbody>\n",
       "    <tr>\n",
       "      <th>0</th>\n",
       "      <td>business</td>\n",
       "      <td>001.txt</td>\n",
       "      <td>Ad sales boost Time Warner profit</td>\n",
       "      <td>Quarterly profits at US media giant TimeWarne...</td>\n",
       "      <td>[-0.0012276918860152364, 0.00733763724565506, ...</td>\n",
       "    </tr>\n",
       "    <tr>\n",
       "      <th>1</th>\n",
       "      <td>business</td>\n",
       "      <td>002.txt</td>\n",
       "      <td>Dollar gains on Greenspan speech</td>\n",
       "      <td>The dollar has hit its highest level against ...</td>\n",
       "      <td>[0.0009311728645116091, 0.014099937863647938, ...</td>\n",
       "    </tr>\n",
       "    <tr>\n",
       "      <th>2</th>\n",
       "      <td>business</td>\n",
       "      <td>003.txt</td>\n",
       "      <td>Yukos unit buyer faces loan claim</td>\n",
       "      <td>The owners of embattled Russian oil giant Yuk...</td>\n",
       "      <td>[-0.010487922467291355, 0.009665092453360558, ...</td>\n",
       "    </tr>\n",
       "    <tr>\n",
       "      <th>3</th>\n",
       "      <td>business</td>\n",
       "      <td>004.txt</td>\n",
       "      <td>High fuel prices hit BA's profits</td>\n",
       "      <td>British Airways has blamed high fuel prices f...</td>\n",
       "      <td>[0.0111119095236063, 0.004624682944267988, -0....</td>\n",
       "    </tr>\n",
       "    <tr>\n",
       "      <th>4</th>\n",
       "      <td>business</td>\n",
       "      <td>005.txt</td>\n",
       "      <td>Pernod takeover talk lifts Domecq</td>\n",
       "      <td>Shares in UK drinks and food firm Allied Dome...</td>\n",
       "      <td>[-0.0021637482568621635, 0.005410161800682545,...</td>\n",
       "    </tr>\n",
       "    <tr>\n",
       "      <th>...</th>\n",
       "      <td>...</td>\n",
       "      <td>...</td>\n",
       "      <td>...</td>\n",
       "      <td>...</td>\n",
       "      <td>...</td>\n",
       "    </tr>\n",
       "    <tr>\n",
       "      <th>2219</th>\n",
       "      <td>tech</td>\n",
       "      <td>396.txt</td>\n",
       "      <td>New consoles promise big problems</td>\n",
       "      <td>Making games for future consoles will require...</td>\n",
       "      <td>[0.014879594556987286, 0.004789963364601135, -...</td>\n",
       "    </tr>\n",
       "    <tr>\n",
       "      <th>2220</th>\n",
       "      <td>tech</td>\n",
       "      <td>397.txt</td>\n",
       "      <td>BT program to beat dialler scams</td>\n",
       "      <td>BT is introducing two initiatives to help bea...</td>\n",
       "      <td>[0.007671569474041462, 0.00624304823577404, -0...</td>\n",
       "    </tr>\n",
       "    <tr>\n",
       "      <th>2221</th>\n",
       "      <td>tech</td>\n",
       "      <td>398.txt</td>\n",
       "      <td>Spam e-mails tempt net shoppers</td>\n",
       "      <td>Computer users across the world continue to i...</td>\n",
       "      <td>[0.0026338498573750257, 0.015989987179636955, ...</td>\n",
       "    </tr>\n",
       "    <tr>\n",
       "      <th>2222</th>\n",
       "      <td>tech</td>\n",
       "      <td>399.txt</td>\n",
       "      <td>Be careful how you code</td>\n",
       "      <td>A new European directive could put software w...</td>\n",
       "      <td>[0.007126151118427515, 0.008495588786900043, -...</td>\n",
       "    </tr>\n",
       "    <tr>\n",
       "      <th>2223</th>\n",
       "      <td>tech</td>\n",
       "      <td>400.txt</td>\n",
       "      <td>US cyber security chief resigns</td>\n",
       "      <td>The man making sure US computer networks are ...</td>\n",
       "      <td>[0.002447678940370679, 0.006076449993997812, -...</td>\n",
       "    </tr>\n",
       "  </tbody>\n",
       "</table>\n",
       "<p>2217 rows × 5 columns</p>\n",
       "</div>"
      ],
      "text/plain": [
       "      category filename                              title  \\\n",
       "0     business  001.txt  Ad sales boost Time Warner profit   \n",
       "1     business  002.txt   Dollar gains on Greenspan speech   \n",
       "2     business  003.txt  Yukos unit buyer faces loan claim   \n",
       "3     business  004.txt  High fuel prices hit BA's profits   \n",
       "4     business  005.txt  Pernod takeover talk lifts Domecq   \n",
       "...        ...      ...                                ...   \n",
       "2219      tech  396.txt  New consoles promise big problems   \n",
       "2220      tech  397.txt   BT program to beat dialler scams   \n",
       "2221      tech  398.txt    Spam e-mails tempt net shoppers   \n",
       "2222      tech  399.txt            Be careful how you code   \n",
       "2223      tech  400.txt    US cyber security chief resigns   \n",
       "\n",
       "                                                content  \\\n",
       "0      Quarterly profits at US media giant TimeWarne...   \n",
       "1      The dollar has hit its highest level against ...   \n",
       "2      The owners of embattled Russian oil giant Yuk...   \n",
       "3      British Airways has blamed high fuel prices f...   \n",
       "4      Shares in UK drinks and food firm Allied Dome...   \n",
       "...                                                 ...   \n",
       "2219   Making games for future consoles will require...   \n",
       "2220   BT is introducing two initiatives to help bea...   \n",
       "2221   Computer users across the world continue to i...   \n",
       "2222   A new European directive could put software w...   \n",
       "2223   The man making sure US computer networks are ...   \n",
       "\n",
       "                                              embedding  \n",
       "0     [-0.0012276918860152364, 0.00733763724565506, ...  \n",
       "1     [0.0009311728645116091, 0.014099937863647938, ...  \n",
       "2     [-0.010487922467291355, 0.009665092453360558, ...  \n",
       "3     [0.0111119095236063, 0.004624682944267988, -0....  \n",
       "4     [-0.0021637482568621635, 0.005410161800682545,...  \n",
       "...                                                 ...  \n",
       "2219  [0.014879594556987286, 0.004789963364601135, -...  \n",
       "2220  [0.007671569474041462, 0.00624304823577404, -0...  \n",
       "2221  [0.0026338498573750257, 0.015989987179636955, ...  \n",
       "2222  [0.007126151118427515, 0.008495588786900043, -...  \n",
       "2223  [0.002447678940370679, 0.006076449993997812, -...  \n",
       "\n",
       "[2217 rows x 5 columns]"
      ]
     },
     "execution_count": 5,
     "metadata": {},
     "output_type": "execute_result"
    }
   ],
   "source": [
    "import numpy as np\n",
    "\n",
    "DEVELOPMENT = False # Set this to True for development on small subset of data\n",
    "\n",
    "if DEVELOPMENT:\n",
    "    # Sub-sample for development\n",
    "    df = df_orig.sample(n=20, replace=False, random_state=9).copy() # Set sample size\n",
    "else:\n",
    "    df = df_orig.copy()\n",
    "\n",
    "# drop rows with NaN\n",
    "df.dropna(inplace=True)\n",
    "\n",
    "# convert string to array\n",
    "df[\"embedding\"] = df['embedding'].apply(eval).apply(np.array)\n",
    "df"
   ]
  },
  {
   "attachments": {},
   "cell_type": "markdown",
   "metadata": {},
   "source": [
    "## Find Articles with Similar Embeddings to that of the Question"
   ]
  },
  {
   "cell_type": "code",
   "execution_count": 7,
   "metadata": {},
   "outputs": [],
   "source": [
    "import numpy as np\n",
    "\n",
    "def get_embedding(text, deployment_id=deployment_id):\n",
    "    \"\"\" \n",
    "    Get embeddings for an input text from the dataframe. \n",
    "    \"\"\"\n",
    "    result = openai.Embedding.create(\n",
    "      deployment_id=deployment_id,\n",
    "      input=text\n",
    "    )\n",
    "    result = np.array(result[\"data\"][0][\"embedding\"])\n",
    "    return result\n",
    "\n",
    "def vector_similarity(x, y):\n",
    "    \"\"\"\n",
    "    Returns the similarity between two vectors.    \n",
    "    Because OpenAI Embeddings are normalized to length 1, the cosine similarity is the same as the dot product.\n",
    "    \"\"\"\n",
    "    similarity = np.dot(x, y)\n",
    "    return similarity \n",
    "\n",
    "def order_document_sections_by_query_similarity(query, contexts):\n",
    "    \"\"\"\n",
    "    Find the query embedding for the supplied query, and compare it against all of the pre-calculated articles embeddings\n",
    "    to find the most relevant articles. \n",
    "    Return the list of articles, sorted by relevance in descending order.\n",
    "    \"\"\"\n",
    "    query_embedding = get_embedding(query)\n",
    "\n",
    "    document_similarities = sorted(\n",
    "        [(vector_similarity(query_embedding, doc_embedding), doc_index) for doc_index, doc_embedding in contexts.items()], \n",
    "        reverse=True)\n",
    "    \n",
    "    return document_similarities"
   ]
  },
  {
   "attachments": {},
   "cell_type": "markdown",
   "metadata": {},
   "source": [
    "## Retrieve Relevant Articles "
   ]
  },
  {
   "cell_type": "code",
   "execution_count": 14,
   "metadata": {},
   "outputs": [],
   "source": [
    "def retrieve_relevant_documents(query, contexts = df['embedding']):\n",
    "    # find text most similar to the query\n",
    "    answers = order_document_sections_by_query_similarity(query=query, contexts=contexts)[0:3] # Set to top 3\n",
    "\n",
    "    # print top 3\n",
    "    for answer in answers:\n",
    "        print(f'similarity score:   {answer[0]}')\n",
    "        print(df['content'].loc[answer[1]], '\\n')\n",
    "\n",
    "    return"
   ]
  },
  {
   "attachments": {},
   "cell_type": "markdown",
   "metadata": {},
   "source": [
    "## Query Examples"
   ]
  },
  {
   "cell_type": "code",
   "execution_count": 15,
   "metadata": {},
   "outputs": [
    {
     "name": "stdout",
     "output_type": "stream",
     "text": [
      "similarity score:   0.5842770878602115\n",
      " The owner of the technology-dominated Nasdaq stock index plans to sell shares to the public and list itself on the market it operates.  According to a registration document filed with the Securities and Exchange Commission, Nasdaq Stock Market plans to raise $100m (£52m) from the sale. Some observers see this as another step closer to a full public listing. However Nasdaq, an icon of the 1990s technology boom, recently poured cold water on those suggestions.  The company first sold shares in private placements during 2000 and 2001. It technically went public in 2002 when the stock started trading on the OTC Bulletin Board, which lists equities that trade only occasionally. Nasdaq will not make money from the sale, only investors who bought shares in the private placings, the filing documents said. The Nasdaq is made up shares in technology firms and other companies with high growth potential. It was the most potent symbol of the 1990s internet and telecoms boom, nose-diving after the bubble burst. A recovery in the fortunes of tech giants such as Intel, and dot.com survivors such as Amazon has helped revive its fortunes.  \n",
      "\n",
      "similarity score:   0.5842770878602115\n",
      " The owner of the technology-dominated Nasdaq stock index plans to sell shares to the public and list itself on the market it operates.  According to a registration document filed with the Securities and Exchange Commission, Nasdaq Stock Market plans to raise $100m (£52m) from the sale. Some observers see this as another step closer to a full public listing. However Nasdaq, an icon of the 1990s technology boom, recently poured cold water on those suggestions.  The company first sold shares in private placements during 2000 and 2001. It technically went public in 2002 when the stock started trading on the OTC Bulletin Board, which lists equities that trade only occasionally. Nasdaq will not make money from the sale, only investors who bought shares in the private placings, the filing documents said. The Nasdaq is made up shares in technology firms and other companies with high growth potential. It was the most potent symbol of the 1990s internet and telecoms boom, nose-diving after the bubble burst. A recovery in the fortunes of tech giants such as Intel, and dot.com survivors such as Amazon has helped revive its fortunes.  \n",
      "\n",
      "similarity score:   0.584184967453397\n",
      " Shares in Google have fallen 6.7% after employees and early investors in the web search took advantage of the first chance to sell their holdings.  Restrictions were imposed ahead of its flotation in August, to prevent shares being dumped quickly onto the market. In one of the most closely-watched initial public offerings in stock market history, the US-based company sold 19.6 million shares at $85 each. Google shares have risen since but fell $12.33 on Tuesday to close at $172.55. The restriction - known as a lockup - is being eased piecemeal: in all, some 227 million additional shares will become free to trade by February 2005. Selling the shares could turn many of Google's workers into millionaires.  There were fears that the potential increase of shares in circulation from Tuesday would ease demand for stock. However, analysts say they expected most shareholders would be holding back from selling all their shares immediately, as Google's good performance and future growth potential means demand will hold.  In its first earnings report since floating on the stock market, Google said it made a net profit of $52m in the three months ending 30 September. Sales surged to $805.9m in the third quarter, up from $393.9m a year earlier. Google's main service - its internet search - is free to users, so the firm makes much of its money from selling advertising space linked to the words for which its users search. It also sells the use of its technology to companies who need to make either their websites, or their internal information systems, searchable.  \n",
      "\n"
     ]
    }
   ],
   "source": [
    "query = 'News about stock market.'\n",
    "retrieve_relevant_documents(query=query)"
   ]
  },
  {
   "cell_type": "code",
   "execution_count": 16,
   "metadata": {},
   "outputs": [
    {
     "name": "stdout",
     "output_type": "stream",
     "text": [
      "similarity score:   0.5842770878602115\n",
      " The owner of the technology-dominated Nasdaq stock index plans to sell shares to the public and list itself on the market it operates.  According to a registration document filed with the Securities and Exchange Commission, Nasdaq Stock Market plans to raise $100m (£52m) from the sale. Some observers see this as another step closer to a full public listing. However Nasdaq, an icon of the 1990s technology boom, recently poured cold water on those suggestions.  The company first sold shares in private placements during 2000 and 2001. It technically went public in 2002 when the stock started trading on the OTC Bulletin Board, which lists equities that trade only occasionally. Nasdaq will not make money from the sale, only investors who bought shares in the private placings, the filing documents said. The Nasdaq is made up shares in technology firms and other companies with high growth potential. It was the most potent symbol of the 1990s internet and telecoms boom, nose-diving after the bubble burst. A recovery in the fortunes of tech giants such as Intel, and dot.com survivors such as Amazon has helped revive its fortunes.  \n",
      "\n",
      "similarity score:   0.5842770878602115\n",
      " The owner of the technology-dominated Nasdaq stock index plans to sell shares to the public and list itself on the market it operates.  According to a registration document filed with the Securities and Exchange Commission, Nasdaq Stock Market plans to raise $100m (£52m) from the sale. Some observers see this as another step closer to a full public listing. However Nasdaq, an icon of the 1990s technology boom, recently poured cold water on those suggestions.  The company first sold shares in private placements during 2000 and 2001. It technically went public in 2002 when the stock started trading on the OTC Bulletin Board, which lists equities that trade only occasionally. Nasdaq will not make money from the sale, only investors who bought shares in the private placings, the filing documents said. The Nasdaq is made up shares in technology firms and other companies with high growth potential. It was the most potent symbol of the 1990s internet and telecoms boom, nose-diving after the bubble burst. A recovery in the fortunes of tech giants such as Intel, and dot.com survivors such as Amazon has helped revive its fortunes.  \n",
      "\n",
      "similarity score:   0.584184967453397\n",
      " Shares in Google have fallen 6.7% after employees and early investors in the web search took advantage of the first chance to sell their holdings.  Restrictions were imposed ahead of its flotation in August, to prevent shares being dumped quickly onto the market. In one of the most closely-watched initial public offerings in stock market history, the US-based company sold 19.6 million shares at $85 each. Google shares have risen since but fell $12.33 on Tuesday to close at $172.55. The restriction - known as a lockup - is being eased piecemeal: in all, some 227 million additional shares will become free to trade by February 2005. Selling the shares could turn many of Google's workers into millionaires.  There were fears that the potential increase of shares in circulation from Tuesday would ease demand for stock. However, analysts say they expected most shareholders would be holding back from selling all their shares immediately, as Google's good performance and future growth potential means demand will hold.  In its first earnings report since floating on the stock market, Google said it made a net profit of $52m in the three months ending 30 September. Sales surged to $805.9m in the third quarter, up from $393.9m a year earlier. Google's main service - its internet search - is free to users, so the firm makes much of its money from selling advertising space linked to the words for which its users search. It also sells the use of its technology to companies who need to make either their websites, or their internal information systems, searchable.  \n",
      "\n"
     ]
    }
   ],
   "source": [
    "query = 'News about stock market.'\n",
    "retrieve_relevant_documents(query=query)"
   ]
  },
  {
   "cell_type": "code",
   "execution_count": 17,
   "metadata": {},
   "outputs": [
    {
     "name": "stdout",
     "output_type": "stream",
     "text": [
      "similarity score:   0.5600900443509507\n",
      " England will have to negotiate their way through a tough draw if they are to win the Rugby World Cup Sevens in Hong Kong next month.  The second seeds have been drawn against Samoa, France, Italy, Georgia and Chinese Taipei. The top two sides in each pool qualify but England could face 2001 winners New Zealand in the quarter-finals if they stumble against Samoa. Scotland and Ireland are in Pool A together with the All Blacks. England won the first event of the International Rugby Board World Sevens series in Dubai but have slipped to fourth in the table after failing to build on that victory.  However, they beat Samoa in the recent Los Angeles Sevens before losing to Argentina in the semi-finals. \"England have the ability and determination to win this World Cup and create sporting history by being the only nation to hold both the 15s and Sevens World Cups at the same time,\" said England sevens coach Mike Friday. \"England have a fantastic record in Hong Kong and have won there the last three years, but the World Cup is on a different level. \"Every pool contains teams who have caused upsets before and we will have to work hard to ensure we progress from our group. \"We have not performed consistently to our true potential so far in the IRB Sevens which has been disappointing - but we can only look forward.\" England won the first Rugby World Cup Sevens in 1993 with a side that included the likes of Lawrence Dallaglio and Matt Dawson. In 1997 and 2001, England lost in the quarter-finals.  (seeds in brackets)  New Zealand (1), Scotland (8), Tonga, Ireland, Korea, USA.  England (2), Samoa (7), France, Italy, Georgia, Chinese Taipei.  Fiji (3), Australia (6), Canada, Portugal, Japan, Hong Kong.  Argentina (4), South Africa (5), Kenya, Tunisia, Russia, Uruguay.  \n",
      "\n",
      "similarity score:   0.5592240071488772\n",
      " The Welsh Rugby Union wants to restructure the Northern Hemisphere season into four separate blocks.  The season would start with the Celtic League in October, followed by the Heineken Cup in February and March, and the Six Nations moved to April and May. After a nine week break, the WRU then proposes a two-month period of away and home international matches. WRU chairman David Pickering said the structure would end problems of player availability for club and country. He added: \"We feel sure that spectator interest would respond to the impetus of high intensity rugby being played continuously rather than the fragmented timetable currently in operation. \"Equally, we suspect that the sponsors would prefer the sustained interest in a continuous tournament and hopefully, the broadcasters would also enjoy increased exposure.\" Moving the Six Nations from its traditional February beginning should also ensure better weather conditions and \"stimulate greater interest in the games and generally provide increased skills and competition and attract greater spectator viewing\", Pickering argued. The plan will be put before the International Rugby Board next month, where four other plans drawn up by independent consultants for a global integrated season will also be discussed. Pickering added: \"It's very early days and there are a number of caveats associated with it - not least the revenue from the broadcasters, which is extremely important. \"We've got a good plan and one which should be judged on its merits.\"  \n",
      "\n",
      "similarity score:   0.5505910793421455\n",
      " England coach Andy Robinson says English rugby has to act now to prevent injury destroying players' careers.  He will be without a host of big names for the Six Nations as the intensity of professional rugby union hits players. \"Injuries are part of the sport but we have to have a look at the amount of injuries that occur in the English season,\" Robinson told BBC Sport. \"I think players are probably going to have three or four years taken off their careers.\" Robinson will be missing an entire midfield for the Six Nations with the likes of Jonny Wilkinson, Mike Tindall and Will Greenwood injured.  Rugby union has become far more physically demanding since the game went professional nearly 10 years ago. As a result three of the major stakeholders in English rugby have launched an \"injury audit\" to find out how players are coping. The audit is jointly funded by the Professional Rugby Players' Association, the Rugby Football Union and Premier Rugby. As far as Robinson is concerned its findings must not be ignored. \"I think there's an injury audit coming out in March that's got some great information in there that I think everybody in the English game has got to look at,\" he said. \"If we don't the situation is going to get worse and not better, so I think rugby as a whole has got to look at this.\"  \n",
      "\n"
     ]
    }
   ],
   "source": [
    "query = 'What is happening in the rugby world?'\n",
    "retrieve_relevant_documents(query=query)"
   ]
  },
  {
   "cell_type": "code",
   "execution_count": 18,
   "metadata": {},
   "outputs": [
    {
     "name": "stdout",
     "output_type": "stream",
     "text": [
      "similarity score:   0.5232753153602943\n",
      " A major reform of Brazil's bankruptcy laws has been approved by the country's Congress, in a move which it is hoped will cut the cost of borrowing.  The bill, proposed in 1993, has finally been approved by the leadership of President Luiz Inacio Lula da Silva. The old law, dating from 1945, gave priority first to workers, second to tax revenue and finally to creditors. The new legislation changes this, giving priority to creditors and limiting payments to workers. The new regulations will limit payments to workers to 150 times the minimum monthly salary, which is currently $94. The law also makes it more difficult for a company to declare bankruptcy. However, when a firm is declared bankrupt it will gain protection from creditors for 180 days while a recovery plan is worked out.  The proposals were opposed in the past by leftist parties, including Mr Lula's Worker Party. They considered that they undermined workers' rights. But President Lula became a defender of the reforms, arguing that the country's bank lending margins were among the highest in the world and were damaging the economy. According to Andreas Adriano of Latin Trade Magazine, the new bankruptcy law will help in reducing the spread - difference between the interest rates of the banks and federal bonds. Nevertheless, Mr Adriano said to reduce the basic interest rate the Central Bank needs to change its policy, focusing not only on inflation but also on economic growth.  \n",
      "\n",
      "similarity score:   0.5192763546343225\n",
      " Brazil's unemployment rate fell to its lowest level in three years in December, according to the government.  The Brazilian Institute for Geography and Statistics (IBGE) said it fell to 9.6% in December from 10.6% in November and 10.9% in December 2003. IBGE also said that average monthly salaries grew 1.9% in December 2004 from December 2003. However, average monthly wages fell 1.8% in December to 895.4 reais ($332; £179.3) from November. Tuesday's figures represent the first time that the unemployment rate has fallen to a single digit since new measurement rules were introduced in 2001. The unemployment rate has been falling gradually since April 2004 when it reached a peak of 13.1%. The jobless rate average for the whole of 2004 was 11.5%, down from 12.3% in 2003, the IBGE said.  This improvement can be attributed to the country's strong economic growth, with the economy registering growth of 5.2% in 2004, the government said. The economy is expected to grow by about 4% this year. President Luiz Inacio Lula da Silva promised to reduce unemployment when he was elected two years ago. Nevertheless, some analysts say that unemployment could increase in the next months. \"The data is favourable, but a lot of jobs are temporary for the (Christmas) holiday season, so we may see slightly higher joblessness in January and February,\" Julio Hegedus, chief economist with Lopes Filho & Associates consultancy in Rio de Janeir, told Reuters news agency. Despite his leftist background, President Lula has pursued a surprisingly conservative economic policy, arguing that in order to meet its social promises, the government needs to first reach a sustained economic growth. The unemployment rate is measured in the six main metropolitan areas of Brazil (Sao Paolo, Rio de Janeiro, Belo Horizonte, Recife, Salvador and Porto Alegre), where most of the population is concentrated.  \n",
      "\n",
      "similarity score:   0.5156874118999003\n",
      " Belgian brewing giant Inbev has seen its profits soar thanks to its acquisition of Brazil's biggest beer firm Ambev last year.  Inbev, which makes Stella Artois, said pre-tax profits for 2004 rose 56% to 1.16bn euros ($1.5bn; £800m), and said it expected solid growth in 2005. The performance comes on sales up 21% at 8.6bn euros. The firm, formerly Interbrew, became the world's biggest brewer by volume when it bought Ambev in August 2004. The acquisition meant its sales by volume grew 57% in 2004, with four months of Ambev sales accounting for almost all of the increase. US beermaker Anheuser-Busch sells less beer by volume than Inbev but is bigger in terms of the value of its sales. Continuing demand for Inbev's products in the South American markets where its Brazilian arm is most popular means it expects to keep boosting its turnover. \"It's the Brazil business that's doing it,\" said ING analyst Gerard Rijk of Inbev's strong performance. Ambev boosted its share of Brazil's beer market from 62% at the end of 2003 to more than 68% by December 2004, Inbev reported. In contrast, Inbev's European business saw volume sales fall 2.5%, although Central and Eastern European sales rose 12%. Overall, net profits were up 42% to 719m euros.  \n",
      "\n"
     ]
    }
   ],
   "source": [
    "query = 'What happened in Brazil?'\n",
    "retrieve_relevant_documents(query=query)"
   ]
  }
 ],
 "metadata": {
  "kernelspec": {
   "display_name": "azureml_py38",
   "language": "python",
   "name": "python3"
  },
  "language_info": {
   "codemirror_mode": {
    "name": "ipython",
    "version": 3
   },
   "file_extension": ".py",
   "mimetype": "text/x-python",
   "name": "python",
   "nbconvert_exporter": "python",
   "pygments_lexer": "ipython3",
   "version": "3.8.5"
  },
  "orig_nbformat": 4,
  "vscode": {
   "interpreter": {
    "hash": "6d65a8c07f5b6469e0fc613f182488c0dccce05038bbda39e5ac9075c0454d11"
   }
  }
 },
 "nbformat": 4,
 "nbformat_minor": 2
}
