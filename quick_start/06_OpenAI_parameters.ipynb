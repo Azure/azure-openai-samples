{
 "cells": [
  {
   "cell_type": "code",
   "execution_count": 1,
   "metadata": {},
   "outputs": [
    {
     "name": "stderr",
     "output_type": "stream",
     "text": [
      "c:\\Users\\louisli\\Miniconda3\\envs\\gpt\\lib\\site-packages\\tqdm\\auto.py:21: TqdmWarning: IProgress not found. Please update jupyter and ipywidgets. See https://ipywidgets.readthedocs.io/en/stable/user_install.html\n",
      "  from .autonotebook import tqdm as notebook_tqdm\n"
     ]
    }
   ],
   "source": [
    "import os\n",
    "import openai\n",
    "from transformers import GPT2TokenizerFast\n",
    "from dotenv import load_dotenv\n",
    "load_dotenv()\n",
    "\n",
    "openai.api_type = \"azure\"\n",
    "openai.api_version = os.getenv(\"OPENAI_API_VERSION\")\n",
    "\n",
    "API_KEY = os.getenv(\"OPENAI_API_KEY\",\"\").strip()\n",
    "assert API_KEY, \"ERROR: Azure OpenAI Key is missing\"\n",
    "openai.api_key = API_KEY\n",
    "\n",
    "RESOURCE_ENDPOINT = os.getenv(\"OPENAI_API_BASE\",\"\").strip()\n",
    "assert RESOURCE_ENDPOINT, \"ERROR: Azure OpenAI Endpoint is missing\"\n",
    "assert \"openai.azure.com\" in RESOURCE_ENDPOINT.lower(), \"ERROR: Azure OpenAI Endpoint should be in the form: \\n\\n\\t<your unique endpoint identifier>.openai.azure.com\"\n",
    "openai.api_base = RESOURCE_ENDPOINT\n",
    "\n",
    "\n",
    "CHAT_COMPLETIONS_MODEL = os.getenv('DEPLOYMENT_NAME')"
   ]
  },
  {
   "attachments": {},
   "cell_type": "markdown",
   "metadata": {},
   "source": [
    "# temperature\n",
    "\n",
    "Defaults to 1\n",
    "\n",
    "What sampling temperature to use. Higher values means the model will take more risks. Try 0.9 for more creative applications, and 0 (argmax sampling) for ones with a well-defined answer.\n",
    "\n",
    "We generally recommend altering this or top_p but not both."
   ]
  },
  {
   "cell_type": "code",
   "execution_count": 2,
   "metadata": {},
   "outputs": [],
   "source": [
    "def call_openai(num_times, prompt, temperature):\n",
    "    for i in range(num_times):\n",
    "        response = openai.ChatCompletion.create(\n",
    "            engine=CHAT_COMPLETIONS_MODEL,\n",
    "            messages = [{\"role\":\"system\", \"content\":\"You are a helpful assistant.\"},\n",
    "                        {\"role\":\"user\",\"content\": prompt}],\n",
    "                max_tokens=60,\n",
    "                temperature = temperature\n",
    "        )\n",
    "        print(response['choices'][0]['message']['content'])"
   ]
  },
  {
   "cell_type": "code",
   "execution_count": 3,
   "metadata": {},
   "outputs": [
    {
     "name": "stdout",
     "output_type": "stream",
     "text": [
      "subjective topic and can vary depending on individual preferences and lifestyles. Some people may prefer dogs as they are loyal, trainable, and provide companionship. Others may prefer cats for their independence, low maintenance, and ability to be left alone for longer periods of time. Other popular pets include birds, fish\n",
      "subjective topic and can vary depending on individual preferences and lifestyles. Some people may prefer dogs as they are loyal, trainable, and provide companionship. Others may prefer cats for their independence, low maintenance, and ability to be left alone for longer periods of time. Other popular pets include birds, fish\n",
      "subjective topic and can vary depending on individual preferences and lifestyles. Some people may prefer dogs as they are loyal, trainable, and provide companionship. Others may prefer cats for their independence, low maintenance, and ability to be left alone for longer periods of time. Other popular pets include birds, fish\n",
      "subjective topic and can vary depending on individual preferences and lifestyles. Some people may prefer dogs as they are loyal, trainable, and provide companionship. Others may prefer cats for their independence, low maintenance, and ability to be left alone for longer periods of time. Other popular pets include birds, fish\n",
      "subjective topic and can vary depending on individual preferences and lifestyles. Some people may prefer dogs as they are loyal, trainable, and provide companionship. Others may prefer cats for their independence, low maintenance, and ability to be left alone for longer periods of time. Other popular pets include birds, fish\n",
      "subjective topic and can vary depending on individual preferences and lifestyles. Some people may prefer dogs as they are loyal, trainable, and provide companionship. Others may prefer cats for their independence, low maintenance, and ability to be left alone for longer periods of time. Other popular pets include birds, fish\n",
      "subjective topic and can vary depending on individual preferences and lifestyles. Some people may prefer dogs as they are loyal, trainable, and provide companionship. Others may prefer cats for their independence, low maintenance, and ability to be left alone for longer periods of time. Other popular pets include birds, fish\n",
      "subjective topic and can vary depending on individual preferences and lifestyles. Some people may prefer dogs as they are loyal, trainable, and provide companionship. Others may prefer cats for their independence, low maintenance, and ability to be left alone for longer periods of time. Other popular pets include birds, fish\n",
      "subjective topic and can vary depending on individual preferences and lifestyles. Some people may prefer dogs as they are loyal, trainable, and provide companionship. Others may prefer cats for their independence, low maintenance, and ability to be left alone for longer periods of time. Other popular pets include birds, fish\n",
      "subjective topic and can vary depending on individual preferences and lifestyles. Some people may prefer dogs as they are loyal, trainable, and provide companionship. Others may prefer cats for their independence, low maintenance, and ability to be left alone for longer periods of time. Other popular pets include birds, fish\n"
     ]
    }
   ],
   "source": [
    "call_openai(10, 'The best pet is a ', temperature = 0)"
   ]
  },
  {
   "cell_type": "code",
   "execution_count": 4,
   "metadata": {},
   "outputs": [
    {
     "name": "stdout",
     "output_type": "stream",
     "text": [
      "subjective opinion and depends on a person's preferences and lifestyle. Some popular options for pets include cats, dogs, fish, birds, rabbits, and hamsters. It is important to consider factors such as the amount of time and effort you can dedicate to a pet, living arrangements, allergies, and\n",
      "subjective topic and can vary depending on personal preferences and lifestyle. Some people may prefer dogs as pets because they are known for their loyalty and companionship, while others may prefer cats because they are independent and low-maintenance. Others may prefer smaller pets like hamsters or guinea pigs. It ultimately\n",
      "subjective choice that varies depending on individual preferences and lifestyles. Some people may argue that dogs make the best pets due to their loyalty, companionship, and trainability. Others might prefer cats for their independent nature and low-maintenance care. Additionally, some individuals might find smaller pets like hamsters,\n",
      "subjective topic and can vary depending on individual preferences, lifestyle, and living situation. Some people may prefer the companionship and loyalty of a dog, while others may prefer the independence and low-maintenance of a cat. Other popular choices for pets include birds, fish, reptiles, small mammals like\n",
      "subjective topic, as it depends on individual preferences and lifestyles. Some people may consider dogs to be the best pets because they are loyal, good companions, and can provide protection. Others may prefer cats because they are independent, low-maintenance, and can be great for small living spaces. Some people\n",
      "subjective opinion, as different people have different preferences for pets. Some may argue that dogs make the best pets because of their loyalty and companionship. Others may believe that cats make the best pets because of their independence and low maintenance. Meanwhile, some people may prefer smaller pets like hamsters or fish\n",
      "subjective topic that depends on individual preferences and circumstances. Some popular options for pets include dogs, cats, and fish. Dogs are known for their loyalty and companionship, while cats are independent and low-maintenance. Fish can be relaxing to watch and require minimal interaction. It's important to consider factors\n",
      "subjective choice that depends on an individual's preferences and lifestyle. Some people may prefer dogs because they are loyal and provide companionship, while others may prefer cats because they are independent and low-maintenance. Other popular pets include birds, fish, hamsters, and rabbits. Ultimately, the best pet\n",
      "subjective matter and can vary depending on individual preferences and lifestyles. Some people may prefer dogs for their loyalty and companionship, while others may prefer cats for their independent nature. Other popular pet choices include birds, fish, hamsters, and reptiles. Ultimately, the best pet is one that align\n",
      "highly subjective topic and ultimately depends on an individual's lifestyle, preferences, and needs. Some popular pets include dogs, cats, fish, birds, rabbits, and reptiles. Dogs offer companionship and are known for their loyalty and ability to provide emotional support. Cats are independent and low maintenance pets\n"
     ]
    }
   ],
   "source": [
    "call_openai(10, 'The best pet is a ', temperature = 1)"
   ]
  },
  {
   "attachments": {},
   "cell_type": "markdown",
   "metadata": {},
   "source": [
    "# n\n",
    "\n",
    "Defaults to 1\n",
    "\n",
    "How many completions to generate for each prompt.\n",
    "\n",
    "Note: Because this parameter generates many completions, it can quickly consume your token quota. Use carefully and ensure that you have reasonable settings for max_tokens and stop."
   ]
  },
  {
   "cell_type": "code",
   "execution_count": 12,
   "metadata": {},
   "outputs": [
    {
     "name": "stdout",
     "output_type": "stream",
     "text": [
      "subjective choice that varies from person to person. Some people prefer dogs as pets because they are loyal, playful, and can be trained. Others might prefer cats because they are independent, low maintenance, and have a calming presence. For some, smaller pets like hamsters, guinea pigs, or\n",
      "subjective topic and ultimately depends on individual preferences and circumstances. Some people may prefer dogs as pets because of their loyal and affectionate nature, while others may prefer cats for their independence and low-maintenance requirements. Other popular pets include fish, birds, rabbits, guinea pigs, hamsters, and\n"
     ]
    }
   ],
   "source": [
    "response = openai.ChatCompletion.create(\n",
    "            engine=CHAT_COMPLETIONS_MODEL,\n",
    "            messages = [{\"role\":\"system\", \"content\":\"You are a helpful assistant.\"},\n",
    "                        {\"role\":\"user\",\"content\": \"The best pet is a \"}],\n",
    "                max_tokens=60,\n",
    "                n=2\n",
    "        )\n",
    "\n",
    "for c in response['choices']:\n",
    "    print(c['message']['content'])"
   ]
  },
  {
   "attachments": {},
   "cell_type": "markdown",
   "metadata": {},
   "source": [
    "# presence_penalty\n",
    "\n",
    "Defaults to 0\n",
    "\n",
    "Number between -2.0 and 2.0. Positive values penalize new tokens based on whether they appear in the text so far, increasing the model's likelihood to talk about new topics.\n",
    "\n",
    "# frequency_penalty\n",
    "\n",
    "Defaults to 0\n",
    "\n",
    "Number between -2.0 and 2.0. Positive values penalize new tokens based on their existing frequency in the text so far, decreasing the model's likelihood to repeat the same line verbatim.\n"
   ]
  },
  {
   "cell_type": "markdown",
   "metadata": {},
   "source": []
  }
 ],
 "metadata": {
  "kernelspec": {
   "display_name": "azureml_py310_sdkv2",
   "language": "python",
   "name": "python3"
  },
  "language_info": {
   "codemirror_mode": {
    "name": "ipython",
    "version": 3
   },
   "file_extension": ".py",
   "mimetype": "text/x-python",
   "name": "python",
   "nbconvert_exporter": "python",
   "pygments_lexer": "ipython3",
   "version": "3.10.10"
  },
  "orig_nbformat": 4,
  "vscode": {
   "interpreter": {
    "hash": "2139c70ac98f3202d028164a545621647e07f47fd6f5d8ac55cf952bf7c15ed1"
   }
  }
 },
 "nbformat": 4,
 "nbformat_minor": 2
}
