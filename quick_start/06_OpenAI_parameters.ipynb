{
 "cells": [
  {
   "cell_type": "code",
   "execution_count": 1,
   "metadata": {},
   "outputs": [],
   "source": [
    "import os\n",
    "import openai\n",
    "from dotenv import load_dotenv\n",
    "load_dotenv()\n",
    "openai.api_type = \"azure\"\n",
    "openai.api_version = \"2022-12-01\"\n",
    "\n",
    "API_KEY = os.getenv(\"OPENAI_API_KEY\",\"\").strip()\n",
    "assert API_KEY, \"ERROR: Azure OpenAI Key is missing\"\n",
    "openai.api_key = API_KEY\n",
    "\n",
    "RESOURCE_ENDPOINT = os.getenv(\"OPENAI_API_BASE\",\"\").strip()\n",
    "assert RESOURCE_ENDPOINT, \"ERROR: Azure OpenAI Endpoint is missing\"\n",
    "assert \"openai.azure.com\" in RESOURCE_ENDPOINT.lower(), \"ERROR: Azure OpenAI Endpoint should be in the form: \\n\\n\\t<your unique endpoint identifier>.openai.azure.com\"\n",
    "openai.api_base = RESOURCE_ENDPOINT"
   ]
  },
  {
   "attachments": {},
   "cell_type": "markdown",
   "metadata": {},
   "source": [
    "# temperature\n",
    "\n",
    "Defaults to 1\n",
    "\n",
    "What sampling temperature to use. Higher values means the model will take more risks. Try 0.9 for more creative applications, and 0 (argmax sampling) for ones with a well-defined answer.\n",
    "\n",
    "We generally recommend altering this or top_p but not both."
   ]
  },
  {
   "cell_type": "code",
   "execution_count": 3,
   "metadata": {},
   "outputs": [
    {
     "name": "stderr",
     "output_type": "stream",
     "text": [
      "Incomplete environment configuration. These variables are set: AZURE_PASSWORD, AZURE_USERNAME\n"
     ]
    }
   ],
   "source": [
    "from utils import list_oai_models, popup_choice\n",
    "\n",
    "subscription_id = os.getenv(\"mysubscription\")\n",
    "resource_group = os.getenv(\"resource_group\")\n",
    "azure_openai_service = os.getenv(\"azure_openai_instance\")\n",
    "\n",
    "df = list_oai_models(\n",
    "    subscription_id=subscription_id,\n",
    "    resource_group=resource_group,\n",
    "    cognitive_service_name=azure_openai_service\n",
    ")\n"
   ]
  },
  {
   "cell_type": "code",
   "execution_count": 10,
   "metadata": {},
   "outputs": [],
   "source": [
    "\n",
    "def call_openai(num_times, prompt, temperature):\n",
    "    try:\n",
    "        for i in range(num_times):\n",
    "            \n",
    "            response = openai.Completion.create(\n",
    "                engine=df.display_name[i],\n",
    "                prompt=prompt,\n",
    "                max_tokens=60,\n",
    "                temperature = temperature\n",
    "            )\n",
    "            print(response['choices'][0]['text'])\n",
    "    except Exception as e:\n",
    "        print(e)"
   ]
  },
  {
   "cell_type": "code",
   "execution_count": 11,
   "metadata": {},
   "outputs": [
    {
     "name": "stdout",
     "output_type": "stream",
     "text": [
      "\n",
      "\n",
      "dog.\n",
      "\n",
      "dog. Dogs are loyal, loving, and make great companions. They can be trained to do a variety of tasks and can provide a great source of comfort and companionship.\n",
      "\n",
      "\n",
      "There is no definitive answer to this question as everyone's preferences will differ. Some people may prefer a more traditional pet such as a dog or cat, while others may prefer a more unique pet such as a reptile or amphibian. Ultimately, the best pet for someone is the one that\n",
      "The completion operation does not work with the specified model, text-similarity-curie-001. Please choose different model and try again. You can learn more about which models can be used with each operation here: https://go.microsoft.com/fwlink/?linkid=2197993.\n"
     ]
    }
   ],
   "source": [
    "call_openai(10, 'The best pet is a ', temperature = 0)"
   ]
  },
  {
   "cell_type": "code",
   "execution_count": 12,
   "metadata": {},
   "outputs": [
    {
     "name": "stdout",
     "output_type": "stream",
     "text": [
      "\n",
      "\n",
      "dog\n",
      "\n",
      "dog. Dogs make loyal and loving companions and are wonderful for families with kids.\n",
      "\n",
      "\n",
      "There is no best pet, as different people have different preferences. Some people may prefer dogs, while others may prefer cats. Some people may even prefer more exotic pets, such as reptiles or birds. Ultimately, the best pet is the one that is best suited to the individual's lifestyle and\n",
      "The completion operation does not work with the specified model, text-similarity-curie-001. Please choose different model and try again. You can learn more about which models can be used with each operation here: https://go.microsoft.com/fwlink/?linkid=2197993.\n"
     ]
    }
   ],
   "source": [
    "call_openai(10, 'The best pet is a ', temperature = 1)"
   ]
  },
  {
   "attachments": {},
   "cell_type": "markdown",
   "metadata": {},
   "source": [
    "# top_p\n",
    "\n",
    "Defaults to 1\n",
    "\n",
    "An alternative to sampling with temperature, called nucleus sampling, where the model considers the results of the tokens with top_p probability mass. So 0.1 means only the tokens comprising the top 10% probability mass are considered.\n",
    "\n",
    "We generally recommend altering this or temperature but not both."
   ]
  },
  {
   "cell_type": "code",
   "execution_count": 13,
   "metadata": {},
   "outputs": [],
   "source": [
    "def call_openai(num_times, prompt, top_p):\n",
    "    try:\n",
    "        for i in range(num_times):\n",
    "            \n",
    "            response = openai.Completion.create(\n",
    "                engine=df.display_name[0],\n",
    "                prompt=prompt,\n",
    "                max_tokens=60,\n",
    "                top_p = top_p\n",
    "            )\n",
    "            print(response['choices'][0]['text'])\n",
    "    except Exception as e:\n",
    "        print(e)"
   ]
  },
  {
   "cell_type": "code",
   "execution_count": 14,
   "metadata": {},
   "outputs": [
    {
     "name": "stdout",
     "output_type": "stream",
     "text": [
      "\n",
      "\n",
      "Dog.\n",
      "\n",
      "\n",
      "dog.\n",
      "\n",
      "\n",
      "dog.\n",
      "\n",
      "\n",
      "dog.\n",
      "\n",
      "\n",
      "If you have a dog or cat, you are definitely getting the best pet. If you are not sure what your best pet is, a rabbit or a guinea pig would be good options because they are low-maintenance and relatively easy to take care of.\n",
      "\n",
      "\n",
      "The best pet is a dog because they are playful, smelled good, and were loyal.\n",
      "\n",
      "\n",
      "dog because they are loyal, playful, and can be trained easily\n",
      "\n",
      "\n",
      "dog.\n",
      "\n",
      "\n",
      "puppy or kitten.\n",
      "\n",
      "\n",
      "dog!\n"
     ]
    }
   ],
   "source": [
    "call_openai(10, 'The best pet is a ', top_p = 1)"
   ]
  },
  {
   "cell_type": "code",
   "execution_count": 15,
   "metadata": {},
   "outputs": [
    {
     "name": "stdout",
     "output_type": "stream",
     "text": [
      "\n",
      "\n",
      "dog.\n",
      "\n",
      "\n",
      "dog.\n",
      "\n",
      "\n",
      "dog.\n",
      "\n",
      "\n",
      "dog.\n",
      "\n",
      "\n",
      "dog.\n",
      "\n",
      "\n",
      "dog.\n",
      "\n",
      "\n",
      "dog.\n",
      "\n",
      "\n",
      "dog.\n",
      "\n",
      "\n",
      "dog.\n",
      "\n",
      "\n",
      "dog.\n"
     ]
    }
   ],
   "source": [
    "call_openai(10, 'The best pet is a ', top_p = 0.1)"
   ]
  },
  {
   "attachments": {},
   "cell_type": "markdown",
   "metadata": {},
   "source": [
    "# n\n",
    "\n",
    "Defaults to 1\n",
    "\n",
    "How many completions to generate for each prompt.\n",
    "\n",
    "Note: Because this parameter generates many completions, it can quickly consume your token quota. Use carefully and ensure that you have reasonable settings for max_tokens and stop."
   ]
  },
  {
   "cell_type": "code",
   "execution_count": 17,
   "metadata": {},
   "outputs": [
    {
     "name": "stderr",
     "output_type": "stream",
     "text": [
      "Incomplete environment configuration. These variables are set: AZURE_PASSWORD, AZURE_USERNAME\n"
     ]
    },
    {
     "name": "stdout",
     "output_type": "stream",
     "text": [
      "event=Ok\n",
      "\n",
      "\n",
      "dog.\n",
      "\n",
      "\n",
      "dog\n"
     ]
    }
   ],
   "source": [
    "response = openai.Completion.create(\n",
    "            engine=popup_choice(),\n",
    "            prompt='The best pet is a ',\n",
    "            max_tokens=60,\n",
    "            n=2\n",
    "        )\n",
    "\n",
    "for c in response['choices']:\n",
    "    print(c['text'])"
   ]
  },
  {
   "attachments": {},
   "cell_type": "markdown",
   "metadata": {},
   "source": [
    "# logprobs\n",
    "\n",
    "Defaults to null\n",
    "\n",
    "Include the log probabilities on the logprobs most likely tokens, as well the chosen tokens. For example, if logprobs is 5, the API will return a list of the 5 most likely tokens. The API will always return the logprob of the sampled token, so there may be up to logprobs+1 elements in the response.\n",
    "\n",
    "The maximum value for logprobs is 5. If you need more than this, please contact us through our Help center and describe your use case."
   ]
  },
  {
   "cell_type": "code",
   "execution_count": 18,
   "metadata": {},
   "outputs": [
    {
     "name": "stderr",
     "output_type": "stream",
     "text": [
      "Incomplete environment configuration. These variables are set: AZURE_PASSWORD, AZURE_USERNAME\n"
     ]
    },
    {
     "name": "stdout",
     "output_type": "stream",
     "text": [
      "event=Ok\n",
      "{\n",
      "  \"text_offset\": [\n",
      "    18,\n",
      "    19,\n",
      "    20,\n",
      "    21,\n",
      "    27,\n",
      "    31,\n",
      "    36,\n",
      "    40,\n",
      "    43,\n",
      "    45,\n",
      "    49,\n",
      "    57,\n",
      "    62,\n",
      "    66,\n",
      "    69,\n",
      "    75,\n",
      "    79,\n",
      "    86,\n",
      "    87,\n",
      "    87,\n",
      "    87,\n",
      "    87,\n",
      "    87,\n",
      "    87\n",
      "  ],\n",
      "  \"token_logprobs\": [\n",
      "    -0.046530116,\n",
      "    -0.00025980148,\n",
      "    -3.3009164,\n",
      "    -0.14121832,\n",
      "    -4.1320116e-05,\n",
      "    -0.0015237144,\n",
      "    -6.5092986e-06,\n",
      "    -0.036904257,\n",
      "    -0.0032109495,\n",
      "    -0.38031587,\n",
      "    -0.96222407,\n",
      "    -0.00018045263,\n",
      "    -0.009486306,\n",
      "    -0.17102408,\n",
      "    -0.02099991,\n",
      "    -1.1278585e-05,\n",
      "    -0.25036526,\n",
      "    -6.3014224e-05,\n",
      "    -0.010864613,\n",
      "    -7.899444,\n",
      "    -7.970849,\n",
      "    -8.122194,\n",
      "    -3.595854,\n",
      "    -7.1629167\n",
      "  ],\n",
      "  \"tokens\": [\n",
      "    \"\\n\",\n",
      "    \"\\n\",\n",
      "    \"I\",\n",
      "    \" think\",\n",
      "    \" the\",\n",
      "    \" best\",\n",
      "    \" pet\",\n",
      "    \" is\",\n",
      "    \" a\",\n",
      "    \" dog\",\n",
      "    \" because\",\n",
      "    \" they\",\n",
      "    \" are\",\n",
      "    \" so\",\n",
      "    \" loyal\",\n",
      "    \" and\",\n",
      "    \" loving\",\n",
      "    \".\",\n",
      "    \"<|endoftext|>\",\n",
      "    \"Sim\",\n",
      "    \" is\",\n",
      "    \" to\",\n",
      "    \" use\",\n",
      "    \" System\"\n",
      "  ],\n",
      "  \"top_logprobs\": [\n",
      "    {\n",
      "      \"\\n\": -0.046530116,\n",
      "      \"\\n\\n\": -3.6946642\n",
      "    },\n",
      "    {\n",
      "      \"\\n\": -0.00025980148,\n",
      "      \"There\": -8.679506\n",
      "    },\n",
      "    {\n",
      "      \"The\": -1.5823425,\n",
      "      \"There\": -0.46958587\n",
      "    },\n",
      "    {\n",
      "      \" believe\": -2.9362984,\n",
      "      \" think\": -0.14121832\n",
      "    },\n",
      "    {\n",
      "      \" that\": -10.177571,\n",
      "      \" the\": -4.1320116e-05\n",
      "    },\n",
      "    {\n",
      "      \" answer\": -6.4903593,\n",
      "      \" best\": -0.0015237144\n",
      "    },\n",
      "    {\n",
      "      \" pet\": -6.5092986e-06,\n",
      "      \" type\": -12.352619\n",
      "    },\n",
      "    {\n",
      "      \" is\": -0.036904257,\n",
      "      \" would\": -4.0099077\n",
      "    },\n",
      "    {\n",
      "      \" a\": -0.0032109495,\n",
      "      \" the\": -6.7576914\n",
      "    },\n",
      "    {\n",
      "      \" cat\": -1.2223895,\n",
      "      \" dog\": -0.38031587\n",
      "    },\n",
      "    {\n",
      "      \" because\": -0.96222407,\n",
      "      \".\": -0.5122995\n",
      "    },\n",
      "    {\n",
      "      \" they\": -0.00018045263,\n",
      "      \" you\": -9.21775\n",
      "    },\n",
      "    {\n",
      "      \" are\": -0.009486306,\n",
      "      \" provide\": -4.9767046\n",
      "    },\n",
      "    {\n",
      "      \" loyal\": -2.376232,\n",
      "      \" so\": -0.17102408\n",
      "    },\n",
      "    {\n",
      "      \" loving\": -5.051432,\n",
      "      \" loyal\": -0.02099991\n",
      "    },\n",
      "    {\n",
      "      \" and\": -1.1278585e-05,\n",
      "      \" to\": -11.727567\n",
      "    },\n",
      "    {\n",
      "      \" loving\": -0.25036526,\n",
      "      \" they\": -3.022415\n",
      "    },\n",
      "    {\n",
      "      \" and\": -10.535797,\n",
      "      \".\": -6.3014224e-05\n",
      "    },\n",
      "    {\n",
      "      \" They\": -4.602108,\n",
      "      \"<|endoftext|>\": -0.010864613\n",
      "    },\n",
      "    {\n",
      "      \"#\": -3.026211,\n",
      "      \"Q\": -3.0093918\n",
      "    },\n",
      "    {\n",
      "      \"pl\": -0.9108296,\n",
      "      \"ulation\": -1.5558156\n",
      "    },\n",
      "    {\n",
      "      \" a\": -0.34577832,\n",
      "      \" an\": -1.8451744\n",
      "    },\n",
      "    {\n",
      "      \" be\": -2.1320946,\n",
      "      \" create\": -3.57765\n",
      "    },\n",
      "    {\n",
      "      \" a\": -2.1865535,\n",
      "      \" the\": -1.5357435\n",
      "    }\n",
      "  ]\n",
      "}\n",
      "\n",
      "\n",
      "I think the best pet is a dog because they are so loyal and loving.\n"
     ]
    }
   ],
   "source": [
    "response = openai.Completion.create(\n",
    "            engine=popup_choice(),\n",
    "            prompt='The best pet is a ',\n",
    "            max_tokens=60,\n",
    "            logprobs = 2,\n",
    "        )\n",
    "\n",
    "print(response['choices'][0]['logprobs'])\n",
    "print(response['choices'][0]['text'])"
   ]
  },
  {
   "attachments": {},
   "cell_type": "markdown",
   "metadata": {},
   "source": [
    "# presence_penalty\n",
    "\n",
    "Defaults to 0\n",
    "\n",
    "Number between -2.0 and 2.0. Positive values penalize new tokens based on whether they appear in the text so far, increasing the model's likelihood to talk about new topics.\n",
    "\n",
    "# frequency_penalty\n",
    "\n",
    "Defaults to 0\n",
    "\n",
    "Number between -2.0 and 2.0. Positive values penalize new tokens based on their existing frequency in the text so far, decreasing the model's likelihood to repeat the same line verbatim.\n",
    "\n",
    "# best_of\n",
    "\n",
    "Defaults to 1\n",
    "\n",
    "Generates best_of completions server-side and returns the \"best\" (the one with the highest log probability per token). Results cannot be streamed.\n",
    "\n",
    "When used with n, best_of controls the number of candidate completions and n specifies how many to return – best_of must be greater than n.\n",
    "\n",
    "Note: Because this parameter generates many completions, it can quickly consume your token quota. Use carefully and ensure that you have reasonable settings for max_tokens and stop.\n",
    "\n",
    "# logit_bias\n",
    "\n",
    "Defaults to null\n",
    "\n",
    "Modify the likelihood of specified tokens appearing in the completion.\n",
    "\n",
    "Accepts a json object that maps tokens (specified by their token ID in the GPT tokenizer) to an associated bias value from -100 to 100. You can use this tokenizer tool (which works for both GPT-2 and GPT-3) to convert text to token IDs. Mathematically, the bias is added to the logits generated by the model prior to sampling. The exact effect will vary per model, but values between -1 and 1 should decrease or increase likelihood of selection; values like -100 or 100 should result in a ban or exclusive selection of the relevant token.\n",
    "\n",
    "As an example, you can pass {\"50256\": -100} to prevent the <|endoftext|> token from being generated.\n",
    "\n",
    "Reference: OpenAI API Reference [https://platform.openai.com/docs/api-reference/completions]"
   ]
  }
 ],
 "metadata": {
  "kernelspec": {
   "display_name": "azureml_py310_sdkv2",
   "language": "python",
   "name": "python3"
  },
  "language_info": {
   "codemirror_mode": {
    "name": "ipython",
    "version": 3
   },
   "file_extension": ".py",
   "mimetype": "text/x-python",
   "name": "python",
   "nbconvert_exporter": "python",
   "pygments_lexer": "ipython3",
   "version": "3.10.10"
  },
  "orig_nbformat": 4,
  "vscode": {
   "interpreter": {
    "hash": "2139c70ac98f3202d028164a545621647e07f47fd6f5d8ac55cf952bf7c15ed1"
   }
  }
 },
 "nbformat": 4,
 "nbformat_minor": 2
}
