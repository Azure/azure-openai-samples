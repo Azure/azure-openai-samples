{
 "cells": [
  {
   "cell_type": "markdown",
   "metadata": {},
   "source": [
    "# OpenAI Code Generation"
   ]
  },
  {
   "cell_type": "markdown",
   "metadata": {},
   "source": [
    "# Overview  \n",
    "OpenAI Code Generation allows you to generate code snippets based on given instructions or prompts. \\\n",
    "This feature enables you to create code assistants, automated coding tools, and other developer-centric AI applications by providing a series of instructions as input and receiving a model-generated code snippet as output.\\\n",
    "\\\n",
    "For more detailed examples, refer to the official Training on [Generate code with Azure OpenAI Service](https://learn.microsoft.com/en-us/training/modules/generate-code-azure-openai/)\n"
   ]
  },
  {
   "cell_type": "markdown",
   "metadata": {},
   "source": [
    "### 1. Import helper libraries and instantiate credentials and model"
   ]
  },
  {
   "cell_type": "code",
   "execution_count": null,
   "metadata": {},
   "outputs": [],
   "source": [
    "import re\n",
    "import requests\n",
    "import sys\n",
    "import os\n",
    "from openai import AzureOpenAI\n",
    "from dotenv import load_dotenv\n",
    "load_dotenv()\n",
    "\n",
    "client = AzureOpenAI(\n",
    "  azure_endpoint = os.getenv(\"AZURE_OPENAI_ENDPOINT\"), \n",
    "  api_key=os.getenv(\"AZURE_OPENAI_KEY\"),  \n",
    "  api_version=\"2024-02-15-preview\"\n",
    ")\n",
    "CHAT_COMPLETIONS_MODEL = os.getenv('CHAT_COMPLETION_NAME') # model = \"deployment_name\""
   ]
  },
  {
   "cell_type": "markdown",
   "metadata": {},
   "source": [
    "## Generating SQL Queries\n",
    "In this example, we will use OpenAI to generate a SQL query that lists the names of departments which employed more than 10 employees in the last 3 months.\n",
    "\n",
    "#### Model Parameters:\n",
    " _temperature_: \\\n",
    "  Controls the randomness of the output. A value of 0 makes the output more deterministic.\n",
    "\n",
    " _max_tokens_:\\\n",
    "  The maximum number of tokens in the generated output.\n",
    "  \n",
    "   _top_p_: \\\n",
    "  Controls diversity via nucleus sampling.\n",
    "\n",
    "_frequency_penalty and presence_penalty_: \\\n",
    "  These parameters are set to 0 to avoid penalizing the generation of similar words.\n",
    "\n",
    " _stop_: \\\n",
    "  Specifies stopping sequences to end the generated text appropriately."
   ]
  },
  {
   "cell_type": "code",
   "execution_count": 3,
   "metadata": {},
   "outputs": [
    {
     "name": "stdout",
     "output_type": "stream",
     "text": [
      "### Postgres SQL tables, with their properties:\n",
      "#\n",
      "# Employee(id, name, department_id)\n",
      "# Department(id, name, address)\n",
      "# Salary_Payments(id, employee_id, amount, date)\n",
      "#\n",
      "### A query to list the names of the departments which employed more than 10 employees in the last 3 months\n",
      "\n",
      " query: \n",
      "Here's a query to list the names of the departments which employed more than 10 employees in the last 3 months:\n",
      "\n",
      "```sql\n",
      "SELECT d.name AS department_name\n",
      "FROM Department d\n",
      "JOIN Employee e ON d.id = e.department_id\n",
      "JOIN Salary_Payments sp ON e.id = sp.employee_id\n",
      "WHERE sp.date >= current_date - interval '3 months'\n",
      "GROUP BY d.id, d.name\n",
      "HAVING COUNT(e.id) > 10\n"
     ]
    }
   ],
   "source": [
    "prompt = \"### Postgres SQL tables, with their properties:\\n#\\n# Employee(id, name, department_id)\\n# Department(id, name, address)\\n# Salary_Payments(id, employee_id, amount, date)\\n#\\n### A query to list the names of the departments which employed more than 10 employees in the last 3 months\\n\\n query: \"\n",
    "print(prompt)\n",
    "response = client.chat.completions.create(\n",
    "  model = CHAT_COMPLETIONS_MODEL,\n",
    "  messages = [{\"role\":\"system\", \"content\":\"You are a helpful assistant.\"},\n",
    "               {\"role\":\"user\",\"content\": prompt}],\n",
    "  temperature=0,\n",
    "  max_tokens=150,\n",
    "  top_p=1,\n",
    "  frequency_penalty=0,\n",
    "  presence_penalty=0,\n",
    "  stop=[\"#\",\";\"])\n",
    "print(response.choices[0].message.content)\n"
   ]
  },
  {
   "cell_type": "markdown",
   "metadata": {},
   "source": [
    "#### Use cases to explore\n",
    "1. **Automated Query Generation** \\\n",
    "   Quickly generate complex SQL queries based on natural language descriptions.\n",
    "\n",
    "2. **Code Assistance** \\\n",
    "   Provide developers with code suggestions and examples to speed up development.\n",
    "\n",
    "3. **Educational Tools for Developers** \\\n",
    "   Help developers learn SQL by providing examples and explanations of different queries."
   ]
  },
  {
   "cell_type": "markdown",
   "metadata": {},
   "source": [
    "## Explaining SQL Code\n",
    "OpenAI can help you understand and explain code snippets by providing natural language descriptions of what the code does.  \\\n",
    "This feature is useful for creating educational tools, code documentation, and automated code review systems."
   ]
  },
  {
   "cell_type": "code",
   "execution_count": 5,
   "metadata": {},
   "outputs": [
    {
     "name": "stdout",
     "output_type": "stream",
     "text": [
      "This SQL code retrieves the names of departments that have more than 10 employees who have received salary payments within the last 3 months. It achieves this by joining the Department and Employee tables on the department_id and id columns, and then filtering the results based on the salary payments received within the specified time frame. Finally, it groups the results by department name and applies a condition to only include departments with more than 10 employees.\n"
     ]
    }
   ],
   "source": [
    "code = \"Can you explain what does this code do?\\n#\\n# ###\\n\\\n",
    "   Code:\\n\\\n",
    "   SELECT d.name FROM Department d JOIN Employee e ON d.id = e.department_id WHERE e.id IN (SELECT employee_id FROM Salary_Payments WHERE date > now() - interval '3 months') GROUP BY d.name HAVING COUNT(*) > 10\\n#\\n#\\\n",
    "   Answer:\\n# \"\n",
    "\n",
    "response = client.chat.completions.create(\n",
    "  model=CHAT_COMPLETIONS_MODEL,\n",
    "  messages = [{\"role\":\"system\", \"content\":\"You are a helpful assistant.\"},\n",
    "               {\"role\":\"user\",\"content\": code}],\n",
    "  temperature=0,\n",
    "  max_tokens=500,\n",
    "  top_p=1,\n",
    "  frequency_penalty=0,\n",
    "  presence_penalty=0,\n",
    "  stop=[\"#\",\";\"])\n",
    "print(response.choices[0].message.content)\n"
   ]
  },
  {
   "cell_type": "markdown",
   "metadata": {},
   "source": [
    "#### Use cases to explore\n",
    "1. **Educational Tools** \\\n",
    "Help your developers understand SQL queries even better by providing clear explanations.\n",
    "\n",
    "2. **Code Documentation** \\\n",
    "Automatically generate documentation for SQL queries to improve code readability and maintainability.\n",
    "\n",
    "\n",
    "3. **Automated Code Review** \\\n",
    "Enhance code review processes by providing automated explanations and insights into the code."
   ]
  },
  {
   "cell_type": "markdown",
   "metadata": {},
   "source": []
  }
 ],
 "metadata": {
  "kernelspec": {
   "display_name": "azureml_py310_sdkv2",
   "language": "python",
   "name": "python3"
  },
  "language_info": {
   "codemirror_mode": {
    "name": "ipython",
    "version": 3
   },
   "file_extension": ".py",
   "mimetype": "text/x-python",
   "name": "python",
   "nbconvert_exporter": "python",
   "pygments_lexer": "ipython3",
   "version": "3.11.9"
  },
  "orig_nbformat": 4,
  "vscode": {
   "interpreter": {
    "hash": "2139c70ac98f3202d028164a545621647e07f47fd6f5d8ac55cf952bf7c15ed1"
   }
  }
 },
 "nbformat": 4,
 "nbformat_minor": 2
}
