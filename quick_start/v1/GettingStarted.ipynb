{
 "cells": [
  {
   "cell_type": "markdown",
   "metadata": {},
   "source": [
    "## Setup\n",
    "##### Step 1\n",
    "!python -m pip install langchain-openai==0.0.6 openai==1.12.0\n",
    "\n",
    "##### ChatModels\n",
    "Applicable for following models and version\n",
    "- GPT-4 1106-Preview\n",
    "    - 2023-09-01-preview, 2023-07-01-preview\n",
    "- GPT-35-Turbo 0613\n",
    "- GPT-35-Turbo-16k 0613\n",
    "\n",
    "Environment \\\n",
    "Python 3.12.0 \\\n",
    "openai>=1"
   ]
  },
  {
   "cell_type": "code",
   "execution_count": 2,
   "metadata": {},
   "outputs": [],
   "source": [
    "from langchain_openai import AzureChatOpenAI\n",
    "from langchain.schema import HumanMessage\n",
    "import openai\n",
    "\n",
    "from IPython.display import Markdown\n",
    "\n",
    "from dotenv import load_dotenv\n",
    "import os"
   ]
  },
  {
   "cell_type": "markdown",
   "metadata": {},
   "source": [
    "##### Step 2\n",
    "Add following in .env file and load environment file \\\n",
    "\n",
    "AZURE_OPENAI_API_KEY = \"...\" \\\n",
    "AZURE_OPENAI_ENDPOINT = \"https://{openai service}.openai.azure.com/\" \\\n",
    "OPENAI_API_TYPE = \"azure\" \\\n",
    "OPENAI_API_VERSION = \"2023-09-01-preview\""
   ]
  },
  {
   "cell_type": "code",
   "execution_count": 3,
   "metadata": {},
   "outputs": [],
   "source": [
    "\n",
    "load_dotenv()\n",
    "\n",
    "def printmd(string):\n",
    "    display(Markdown(string.replace(\"$\",\"USD \")))"
   ]
  },
  {
   "cell_type": "code",
   "execution_count": 4,
   "metadata": {},
   "outputs": [
    {
     "data": {
      "text/markdown": [
       "A solar eclipse occurs when the Moon passes between Earth and the Sun, thereby totally or partly obscuring the image of the Sun for a viewer on Earth. This celestial event can only happen during a new moon, when the Sun and the Moon are in conjunction as seen from Earth. There are three main types of solar eclipses: total, partial, and annular.\n",
       "\n",
       "1. Total Solar Eclipse:\n",
       "During a total solar eclipse, the Moon completely covers the Sun, as viewed from Earth. This can only occur when the apparent size of the Moon is similar to or larger than that of the Sun, which means the Moon must be at or near its closest approach to Earth (perigee). The path of totality, where the total eclipse is visible, is typically very narrow, and you have to be within this path to see the total eclipse. Outside of this path, a partial solar eclipse may be visible. Totality can last for a few seconds to a few minutes, and during this time, the solar corona – the Sun's outer atmosphere – becomes visible.\n",
       "\n",
       "2. Partial Solar Eclipse:\n",
       "A partial solar eclipse happens when only a part of the Sun is obscured by the Moon. Observers within the penumbral shadow of the Moon will see the Sun with a \"bite\" taken out of it. The extent of the eclipse depends on the location of the observer relative to the path of the Moon's shadow.\n",
       "\n",
       "3. Annular Solar Eclipse:\n",
       "An annular eclipse occurs when the Moon is farther away from Earth in its orbit (apogee) and thus appears smaller than the Sun in the sky. As a result, the Moon does not cover the Sun completely, and a ring of sunlight remains visible around the Moon at the peak of the eclipse. This ring is often referred to as the \"ring of fire.\" An annular eclipse follows a similar path to a total eclipse, with the annular phase visible in a narrow path, while a partial eclipse can be seen over a larger area surrounding the path of annularity.\n",
       "\n",
       "Safety Measures:\n",
       "It is important to note that looking directly at the Sun, even during an eclipse, can cause permanent eye damage or blindness. Therefore, to observe a solar eclipse, it is crucial to use proper eye protection, such as eclipse glasses with solar filters or indirect viewing methods like pinhole projectors.\n",
       "\n",
       "Solar eclipses are significant in many cultures and have been observed and recorded by humans for thousands of years. They provide unique opportunities for scientists to study the Sun's atmosphere and have contributed to important astronomical discoveries, such as the confirmation of Einstein's theory of general relativity during a total solar eclipse in 1919."
      ],
      "text/plain": [
       "<IPython.core.display.Markdown object>"
      ]
     },
     "metadata": {},
     "output_type": "display_data"
    }
   ],
   "source": [
    "# Using AzureChatOpenAI\n",
    "os.environ[\"OPENAI_API_TYPE\"] = \"azure\"\n",
    "os.environ[\"OPENAI_API_VERSION\"] = \"2023-09-01-preview\"\n",
    "\n",
    "llm = AzureChatOpenAI(azure_deployment=\"gpt-4\")\n",
    "message = HumanMessage(\n",
    "    content=\"Tell me about solar eclipse.\"\n",
    ")\n",
    "\n",
    "result = llm.invoke([message])\n",
    "display(Markdown(result.content))\n",
    "\n"
   ]
  },
  {
   "cell_type": "code",
   "execution_count": 5,
   "metadata": {},
   "outputs": [
    {
     "data": {
      "text/markdown": [
       "A solar eclipse occurs when the Moon passes between the Earth and the Sun, temporarily obscuring the Sun's light. There are several types of solar eclipses, distinguished by how much of the Sun's disk is covered by the Moon:\n",
       "\n",
       "1. Total Solar Eclipse: During a total solar eclipse, the Moon completely covers the Sun as seen from a narrow path on the Earth's surface (known as the path of totality). People within this path experience a brief period of darkness during the day, and the Sun's corona, its outer atmosphere, becomes visible.\n",
       "\n",
       "2. Partial Solar Eclipse: A partial solar eclipse happens when only part of the Sun is obscured by the Moon. Observers in the area outside the path of totality will see the Sun as a crescent, with only a section covered by the Moon.\n",
       "\n",
       "3. Annular Solar Eclipse: This type of eclipse occurs when the Moon is too far away from the Earth to completely cover the Sun, even though it's directly in front of it. This results in a bright ring, or \"annulus,\" of sunlight visible around the Moon's silhouette.\n",
       "\n",
       "4. Hybrid Solar Eclipse: These are rare occurrences when the eclipse appears as annular in some locations on Earth and total in others. This happens because the curvature of the Earth's surface causes changes in the relative distances.\n",
       "\n",
       "Important safety note: When viewing a solar eclipse, it is essential to take precautions to protect your eyesight. Looking at the Sun without proper eye protection can cause serious and permanent eye damage. Eclipse glasses or indirect viewing methods, such as pinhole projectors, should be used to observe any phase of a solar eclipse.\n",
       "\n",
       "Eclipses can only happen at a new moon, but they do not occur every new moon due to the inclination of the Moon's orbit relative to the Earth's orbit around the Sun. For an eclipse to happen, the three bodies – Sun, Moon, and Earth – must be nearly aligned in a straight line.\n",
       "\n",
       "Solar eclipses are significant in many cultures and have historically been treated with both fascination and fear. Today, they are eagerly anticipated by scientists for the opportunities they provide to study the Sun, especially its corona, and by the public for their dramatic beauty."
      ],
      "text/plain": [
       "<IPython.core.display.Markdown object>"
      ]
     },
     "metadata": {},
     "output_type": "display_data"
    }
   ],
   "source": [
    "# Using openao client\n",
    "\n",
    "result = openai.chat.completions.create(\n",
    "            model=\"gpt-4\", \n",
    "            messages = [{\"role\":\"system\", \"content\":\"Tell me about solar eclipse.\"}])\n",
    "\n",
    "display(Markdown(result.choices[0].message.content))"
   ]
  }
 ],
 "metadata": {
  "kernelspec": {
   "display_name": "Python 3",
   "language": "python",
   "name": "python3"
  },
  "language_info": {
   "codemirror_mode": {
    "name": "ipython",
    "version": 3
   },
   "file_extension": ".py",
   "mimetype": "text/x-python",
   "name": "python",
   "nbconvert_exporter": "python",
   "pygments_lexer": "ipython3",
   "version": "3.12.0"
  }
 },
 "nbformat": 4,
 "nbformat_minor": 2
}
