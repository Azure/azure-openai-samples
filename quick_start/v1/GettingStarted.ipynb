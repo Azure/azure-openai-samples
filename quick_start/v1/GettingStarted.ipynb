{
 "cells": [
  {
   "cell_type": "markdown",
   "metadata": {},
   "source": [
    "## Setup\n",
    "##### Step 1\n",
    "!python -m pip install langchain-openai==0.0.6 openai==1.12.0\n",
    "\n",
    "##### ChatModels\n",
    "Applicable for following models and version\n",
    "- GPT-4 1106-Preview\n",
    "    - 2023-09-01-preview, 2023-07-01-preview\n",
    "- GPT-35-Turbo 0613\n",
    "- GPT-35-Turbo-16k 0613\n",
    "\n",
    "Environment \\\n",
    "Python 3.12.0 \\\n",
    "openai>=1"
   ]
  },
  {
   "cell_type": "code",
   "execution_count": 8,
   "metadata": {},
   "outputs": [],
   "source": [
    "from langchain_openai import AzureChatOpenAI\n",
    "from langchain.schema import HumanMessage\n",
    "import openai\n",
    "\n",
    "from IPython.display import Markdown\n",
    "\n",
    "from dotenv import load_dotenv\n",
    "import os"
   ]
  },
  {
   "cell_type": "markdown",
   "metadata": {},
   "source": [
    "##### Step 2\n",
    "Add following in .env file and load environment file \\\n",
    "\n",
    "AZURE_OPENAI_API_KEY = \"...\" \\\n",
    "AZURE_OPENAI_ENDPOINT = \"https://{openai service}.openai.azure.com/\" \\\n",
    "OPENAI_API_TYPE = \"azure\" \\\n",
    "OPENAI_API_VERSION = \"2023-09-01-preview\""
   ]
  },
  {
   "cell_type": "code",
   "execution_count": 9,
   "metadata": {},
   "outputs": [],
   "source": [
    "\n",
    "load_dotenv()\n",
    "\n",
    "def printmd(string):\n",
    "    display(Markdown(string.replace(\"$\",\"USD \")))"
   ]
  },
  {
   "cell_type": "code",
   "execution_count": 10,
   "metadata": {},
   "outputs": [],
   "source": [
    "# Using AzureChatOpenAI\n",
    "os.environ[\"OPENAI_API_TYPE\"] = \"azure\"\n",
    "os.environ[\"OPENAI_API_VERSION\"] = \"2023-09-01-preview\"\n",
    "\n",
    "llm = AzureChatOpenAI(azure_deployment=\"gpt-4\")\n",
    "message = HumanMessage(\n",
    "    content=\"Tell me about solar eclipse.\"\n",
    ")\n",
    "\n",
    "result = llm.invoke([message])\n",
    "display(Markdown(result.content))\n",
    "\n"
   ]
  },
  {
   "cell_type": "code",
   "execution_count": null,
   "metadata": {},
   "outputs": [
    {
     "data": {
      "text/markdown": [
       "A solar eclipse occurs when the Moon passes between Earth and the Sun, thereby totally or partly obscuring the Sun for a viewer on Earth. A solar eclipse can only happen during a new moon, when the Sun and the Moon are in conjunction as seen from Earth. There are three main types of solar eclipses:\n",
       "\n",
       "1. **Total solar eclipse:** This happens when the Moon completely covers the Sun, as seen from Earth. During a total eclipse, the day becomes night for a brief period. Observers within the path of totality (the area on Earth's surface directly beneath the Moon's shadow) can see the Sun's corona (its outer atmosphere). This is the most dramatic kind of solar eclipse and can only be seen from a relatively small area on Earth.\n",
       "\n",
       "2. **Partial solar eclipse:** When only a part of the Sun is obscured by the Moon, it's called a partial eclipse. This occurs when the Sun, Moon, and Earth are not exactly aligned, and the Moon only partially covers the Sun. Observers in the areas outside the path of totality will see a partial eclipse, where it looks like a dark shadow has taken a bite out of the Sun.\n",
       "\n",
       "3. **Annular solar eclipse:** This type of eclipse occurs when the Moon is near its apogee (the farthest point from Earth in its elliptical orbit) and is too small to cover the entire Sun's disk. As a result, the Sun appears as a bright ring, or annulus, surrounding the outline of the Moon, which leads to the term \"ring of fire\" eclipse.\n",
       "\n",
       "During a solar eclipse, the Sun's corona and chromosphere can also become visible to the naked eye during the period of totality. Observing the Sun directly during a solar eclipse (or any other time) without appropriate eye protection can cause serious and permanent damage to the eyes.\n",
       "\n",
       "Eclipses do not occur every new moon due to the tilt of the Moon's orbit. Instead, they can only happen when the Moon's orbit intersects the ecliptic plane (the plane of Earth's orbit around the Sun) at points called nodes. If the new moon occurs near these nodes, an eclipse can happen.\n",
       "\n",
       "Solar eclipses are significant events in many cultures and have historically been important both for scientific reasons (allowing astronomers to study the Sun's atmosphere) and for their impact on human affairs and beliefs."
      ],
      "text/plain": [
       "<IPython.core.display.Markdown object>"
      ]
     },
     "metadata": {},
     "output_type": "display_data"
    }
   ],
   "source": [
    "# Using openao client\n",
    "\n",
    "result = openai.chat.completions.create(\n",
    "            model=\"gpt-4\", \n",
    "            messages = [{\"role\":\"system\", \"content\":\"Tell me about solar eclipse.\"}])\n",
    "\n",
    "display(Markdown(result.choices[0].message.content))"
   ]
  }
 ],
 "metadata": {
  "kernelspec": {
   "display_name": "Python 3",
   "language": "python",
   "name": "python3"
  },
  "language_info": {
   "codemirror_mode": {
    "name": "ipython",
    "version": 3
   },
   "file_extension": ".py",
   "mimetype": "text/x-python",
   "name": "python",
   "nbconvert_exporter": "python",
   "pygments_lexer": "ipython3",
   "version": "3.12.0"
  }
 },
 "nbformat": 4,
 "nbformat_minor": 2
}
