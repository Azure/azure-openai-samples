{
 "cells": [
  {
   "attachments": {},
   "cell_type": "markdown",
   "metadata": {},
   "source": [
    "# LLM - RAG (Large Language Models - Retrievel-Augmented Generation)"
   ]
  },
  {
   "cell_type": "markdown",
   "metadata": {},
   "source": [
    "# Overview\n",
    "This demo showcases how to use the GPT-4 model in a Retrieval-Augmented Generation (RAG) setup. \\\n",
    "The model analyzes a natural language query, retrieves relevant information from a knowledge base, and provides an answer based on the retrieved information.\n",
    "\n"
   ]
  },
  {
   "cell_type": "code",
   "execution_count": 1,
   "metadata": {},
   "outputs": [],
   "source": [
    "import re\n",
    "import requests\n",
    "import sys\n",
    "import os\n",
    "from openai import AzureOpenAI\n",
    "import tiktoken\n",
    "from dotenv import load_dotenv\n",
    "load_dotenv()\n",
    "\n",
    "client = AzureOpenAI(\n",
    "  azure_endpoint = os.getenv(\"AZURE_OPENAI_ENDPOINT\"), \n",
    "  api_key=os.getenv(\"AZURE_OPENAI_KEY\"),  \n",
    "  api_version=\"2024-02-15-preview\"\n",
    ")\n",
    "\n",
    "CHAT_COMPLETIONS_MODEL = os.getenv('AZURE_OPENAI_DEPLOYMENT_NAME')"
   ]
  },
  {
   "attachments": {},
   "cell_type": "markdown",
   "metadata": {},
   "source": [
    "### Start with a natural question"
   ]
  },
  {
   "cell_type": "code",
   "execution_count": 2,
   "metadata": {},
   "outputs": [],
   "source": [
    "input = \"Which presendential candidate is likely to win in 2024 election? Explain the reasons.\""
   ]
  },
  {
   "attachments": {},
   "cell_type": "markdown",
   "metadata": {},
   "source": [
    "### Step 1: GPT-4o: What do I need to to answer this question?"
   ]
  },
  {
   "cell_type": "code",
   "execution_count": 6,
   "metadata": {},
   "outputs": [],
   "source": [
    "system_prompt=f'''Answer the following questions as best you can. You have access to the following tools:\n",
    "\n",
    "Web Search: Use the web to find information\n",
    "\n",
    "You need to follow STRICTLY below format:\n",
    "\n",
    "Question: the input question you must answer\n",
    "Thought: you should always think about what to do\n",
    "Action: the action to take, should be one of [Research]\n",
    "Action Input: the input to the action\n",
    "\n",
    "Begin!\n",
    "'''\n",
    "user_prompt = f'''\n",
    "Question: {input}\n",
    "Thought:'''"
   ]
  },
  {
   "cell_type": "code",
   "execution_count": 7,
   "metadata": {},
   "outputs": [
    {
     "name": "stdout",
     "output_type": "stream",
     "text": [
      "Thought: To determine which presidential candidate is likely to win the 2024 election, it is important to consider recent polling data, political analysis, and expert opinions. I will perform a web search to gather the most up-to-date information regarding the candidates and their standings. \n",
      "\n",
      "Action: Research\n",
      "Action Input: 2024 US presidential election candidates leading poll numbers and analysis\n"
     ]
    }
   ],
   "source": [
    "response = client.chat.completions.create(\n",
    "    model=CHAT_COMPLETIONS_MODEL,\n",
    "    messages = [{\"role\":\"system\", \"content\":system_prompt},\n",
    "                {\"role\":\"user\",\"content\": user_prompt,}],\n",
    "        max_tokens=400,)\n",
    "\n",
    "print(response.choices[0].message.content)"
   ]
  },
  {
   "attachments": {},
   "cell_type": "markdown",
   "metadata": {},
   "source": [
    "### Step 2: Search web for more details \n",
    "Before continuing please create a Bing Search Service in your subscription [Create Bing Search Resource](https://learn.microsoft.com/en-us/bing/search-apis/bing-web-search/create-bing-search-service-resource). \\\n",
    "This sample makes a call to the Bing Web Search API with a query and returns relevant web search."
   ]
  },
  {
   "cell_type": "code",
   "execution_count": 8,
   "metadata": {},
   "outputs": [],
   "source": [
    "# Use Azure BING Search API to get the results\n",
    "import requests\n",
    "import json\n",
    "url = \"https://api.bing.microsoft.com/v7.0/search\"\n",
    "headers = {\"Ocp-Apim-Subscription-Key\": os.getenv('BING_SUBSCRIPTION_KEY')}\n",
    "params = {\"q\": \"2024 presidential election candidates and current political analysis\"}\n",
    "response = requests.get(url, headers=headers, params=params)"
   ]
  },
  {
   "cell_type": "code",
   "execution_count": 9,
   "metadata": {},
   "outputs": [
    {
     "name": "stdout",
     "output_type": "stream",
     "text": [
      "{'_type': 'SearchResponse', 'queryContext': {'originalQuery': '2024 presidential election candidates and current political analysis'}, 'webPages': {'webSearchUrl': 'https://www.bing.com/search?q=2024+presidential+election+candidates+and+current+political+analysis', 'totalEstimatedMatches': 476000, 'value': [{'id': 'https://api.bing.microsoft.com/api/v7/#WebPages.0', 'name': 'Analysis: Almost everyone thinks the 2024 election results are ...', 'url': 'https://www.cnn.com/2024/11/20/politics/2024-results-legitimate-analysis/index.html', 'datePublished': '2024-11-20T11:00:00.0000000', 'datePublishedDisplayText': '20 בנוב׳ 2024', 'isFamilyFriendly': True, 'displayUrl': 'https://www.cnn.com/2024/11/20/politics/2024-results-legitimate-analysis', 'snippet': 'Overall, 18% of adults said Trump’s win wasn’t legitimate, three times as large as the figures for the 2024 election By April 2017, the percentage of adults who viewed Trump as an illegitimate ...', 'deepLinks': [{'name': 'Election 2024: Campaign news, presidential polls and results | CNN Politics', 'url': 'https://www.cnn.com/election/2024', 'snippet': '2024 election guide: Presidential candidates, polls, primaries and caucuses, voter information and results for November 5, 2024'}], 'dateLastCrawled': '2024-12-01T07:16:00.0000000Z', 'cachedPageUrl': 'http://cc.bingj.com/cache.aspx?q=2024+presidential+election+candidates+and+current+political+analysis&d=860984935081&mkt=en-WW&setlang=he-IL&w=JaZy70636qExipiKi3X_5TkXZCSnTzlL', 'language': 'en', 'isNavigational': True, 'noCache': False, 'siteName': 'CNN'}, {'id': 'https://api.bing.microsoft.com/api/v7/#WebPages.1', 'name': 'Presidential election results 2024 | CNN Politics - CNN International', 'url': 'https://edition.cnn.com/election/2024/results/president?election-data-id=2024-PG&election-painting-mode=projection-with-lead&filter-key-races=false&filter-flipped=false&filter-remaining=false', 'isFamilyFriendly': True, 'displayUrl': 'https://edition.cnn.com/election/2024/results/president?election-data-id=2024-PG&...', 'snippet': 'Four years after leaving Washington as a pariah, following his attempt to overturn the 2020 election to stay in office, Trump’s victory defied two assassination attempts, two presidential ...', 'dateLastCrawled': '2024-12-01T10:58:00.0000000Z', 'cachedPageUrl': 'http://cc.bingj.com/cache.aspx?q=2024+presidential+election+candidates+and+current+political+analysis&d=2785160613264&mkt=en-WW&setlang=he-IL&w=2CuN2svwBJ6ZrzvsxJVpiH8aNVrTNbzT', 'language': 'en', 'isNavigational': False, 'noCache': False, 'siteName': 'CNN'}, {'id': 'https://api.bing.microsoft.com/api/v7/#WebPages.2', 'name': 'Election 2024: Latest News, Results and Analysis | AP News', 'url': 'https://apnews.com/hub/election-2024', 'isFamilyFriendly': True, 'displayUrl': 'https://apnews.com/hub/election-2024', 'snippet': 'Follow the AP’s coverage of the 2024 presidential elections, including early voting, election results, Electoral College maps, and more.', 'dateLastCrawled': '2024-11-30T15:57:00.0000000Z', 'cachedPageUrl': 'http://cc.bingj.com/cache.aspx?q=2024+presidential+election+candidates+and+current+political+analysis&d=4715183081921525&mkt=en-WW&setlang=he-IL&w=uGxpSnJwGYJgN5YDAEbwBOtAV7oJPYBB', 'language': 'en', 'isNavigational': False, 'noCache': False, 'siteName': 'AP News'}, {'id': 'https://api.bing.microsoft.com/api/v7/#WebPages.3', 'name': 'Who Are the 2024 Presidential Election Candidates? - The New York Times', 'url': 'https://www.nytimes.com/interactive/2023/us/politics/presidential-candidates-2024.html', 'isFamilyFriendly': True, 'displayUrl': 'https://www.nytimes.com/interactive/2023/us/politics/presidential-candidates-2024.html', 'snippet': 'President Biden and former President Donald J. Trump cruised to victory in their respective parties’ primaries. Mr. Trump dispatched with a large group of Republican challengers, most of whom...', 'dateLastCrawled': '2024-11-30T17:17:00.0000000Z', 'language': 'en', 'isNavigational': False, 'noCache': True, 'siteName': 'New York Times'}, {'id': 'https://api.bing.microsoft.com/api/v7/#WebPages.4', 'name': 'Election 2024: Campaign news, presidential polls and results | CNN Politics', 'url': 'https://www.cnn.com/election/2024', 'isFamilyFriendly': True, 'displayUrl': 'https://www.cnn.com/election', 'snippet': '2024 election guide: Presidential candidates, polls, primaries and caucuses, voter information and results for November 5, 2024', 'dateLastCrawled': '2024-11-29T07:16:00.0000000Z', 'cachedPageUrl': 'http://cc.bingj.com/cache.aspx?q=2024+presidential+election+candidates+and+current+political+analysis&d=4941248688756254&mkt=en-WW&setlang=he-IL&w=D2MEoylIbjDHBW5MHT9V0cL41BUZZgXV', 'language': 'en', 'isNavigational': False, 'noCache': False, 'siteName': 'CNN'}, {'id': 'https://api.bing.microsoft.com/api/v7/#WebPages.5', 'name': '2024 Election Results: Updates and Analysis - TIME', 'url': 'https://time.com/7171938/2024-election-results/', 'datePublished': '2024-11-05T12:00:00.0000000', 'datePublishedDisplayText': '5 בנוב׳ 2024', 'isFamilyFriendly': True, 'displayUrl': 'https://time.com/7171938', 'snippet': 'Donald Trump has won the U.S. presidential election, defeating Kamala Harris. Here’s the latest on what you need to know.', 'dateLastCrawled': '2024-11-30T11:08:00.0000000Z', 'cachedPageUrl': 'http://cc.bingj.com/cache.aspx?q=2024+presidential+election+candidates+and+current+political+analysis&d=4766774234995318&mkt=en-WW&setlang=he-IL&w=9XVXvI9GJCl3rfv0ZTLLNV5TSq6J7Z0Q', 'language': 'en', 'isNavigational': False, 'noCache': False, 'siteName': 'TIME'}, {'id': 'https://api.bing.microsoft.com/api/v7/#WebPages.6', 'name': 'Election 2024 Polls: Harris vs. Trump - The New York Times', 'url': 'https://www.nytimes.com/interactive/2024/us/elections/polls-president.html', 'thumbnailUrl': 'https://www.bing.com/th?id=OIP.JpeWG0eRKjk48iQfKX-J5QHaD3&w=80&h=80&c=1&pid=5.1', 'datePublished': '2024-11-06T00:00:00.0000000', 'datePublishedDisplayText': '6 בנוב׳ 2024', 'isFamilyFriendly': True, 'displayUrl': 'https://www.nytimes.com/interactive/2024/us/elections/polls-president.html', 'snippet': 'It’s Election Day, and the polls show one of the closest presidential races in the history of American politics. Nationwide or across the key battlegrounds collectively, neither Kamala Harris...', 'dateLastCrawled': '2024-11-30T07:16:00.0000000Z', 'primaryImageOfPage': {'thumbnailUrl': 'https://www.bing.com/th?id=OIP.JpeWG0eRKjk48iQfKX-J5QHaD3&w=80&h=80&c=1&pid=5.1', 'width': 80, 'height': 80, 'sourceWidth': 474, 'sourceHeight': 247, 'imageId': 'OIP.JpeWG0eRKjk48iQfKX-J5QHaD3'}, 'language': 'en', 'isNavigational': False, 'noCache': True, 'siteName': 'New York Times'}, {'id': 'https://api.bing.microsoft.com/api/v7/#WebPages.7', 'name': '2024 Elections: News, Polls and Analysis - The New York Times', 'url': 'https://www.nytimes.com/news-event/2024-election', 'isFamilyFriendly': True, 'displayUrl': 'https://www.nytimes.com/news-event/2024-election', 'snippet': 'The latest news about the 2024 races, including updates on the presidential candidates, the primaries, the polls and the biggest issues.', 'dateLastCrawled': '2024-11-30T05:17:00.0000000Z', 'cachedPageUrl': 'http://cc.bingj.com/cache.aspx?q=2024+presidential+election+candidates+and+current+political+analysis&d=5021414249624548&mkt=en-WW&setlang=he-IL&w=TEev5JCG1ijreevISey85aLM25ZNWSCd', 'language': 'en', 'isNavigational': False, 'noCache': False, 'siteName': 'New York Times'}, {'id': 'https://api.bing.microsoft.com/api/v7/#WebPages.8', 'name': 'US presidential election 2024 - Financial Times', 'url': 'https://www.ft.com/us-presidential-election-2024', 'isFamilyFriendly': True, 'displayUrl': 'https://www.ft.com/us-presidential-election-2024', 'snippet': 'The latest news, analysis and polling data from the 2024 US election. Sign up to our White House Watch newsletter, your essential guide to what the incoming Trump administration means for...', 'dateLastCrawled': '2024-11-29T17:32:00.0000000Z', 'cachedPageUrl': 'http://cc.bingj.com/cache.aspx?q=2024+presidential+election+candidates+and+current+political+analysis&d=4712979764748048&mkt=en-WW&setlang=he-IL&w=G5mCZCRf-3pfNzYGRi9otMaTczaQLQmf', 'language': 'en', 'isNavigational': False, 'noCache': False, 'siteName': 'Financial Times'}, {'id': 'https://api.bing.microsoft.com/api/v7/#WebPages.9', 'name': 'Who Is Favored To Win The 2024 Presidential Election?', 'url': 'https://projects.fivethirtyeight.com/2024-election-forecast/', 'thumbnailUrl': 'https://www.bing.com/th?id=OIP.WBiiCWIh504OCJRpkzgffgHaEK&w=80&h=80&c=1&pid=5.1', 'datePublished': '2024-11-05T00:00:00.0000000', 'datePublishedDisplayText': '5 בנוב׳ 2024', 'isFamilyFriendly': True, 'displayUrl': 'https://projects.fivethirtyeight.com/2024-election-forecast', 'snippet': '538’s final forecast for the presidential race between Vice President Kamala Harris and former President Donald Trump is officially out, and it’s a real nail-biter. Our model gives Harris a XXX...', 'dateLastCrawled': '2024-11-30T19:39:00.0000000Z', 'primaryImageOfPage': {'thumbnailUrl': 'https://www.bing.com/th?id=OIP.WBiiCWIh504OCJRpkzgffgHaEK&w=80&h=80&c=1&pid=5.1', 'width': 80, 'height': 80, 'sourceWidth': 474, 'sourceHeight': 266, 'imageId': 'OIP.WBiiCWIh504OCJRpkzgffgHaEK'}, 'cachedPageUrl': 'http://cc.bingj.com/cache.aspx?q=2024+presidential+election+candidates+and+current+political+analysis&d=4623163411664269&mkt=en-WW&setlang=he-IL&w=L2RdbahftzA2Xwm26R81ho_USI4R2_HI', 'language': 'en', 'isNavigational': False, 'noCache': False, 'siteName': 'FiveThirtyEight'}]}, 'entities': {'value': [{'id': 'https://api.bing.microsoft.com/api/v7/#Entities.0', 'contractualRules': [{'_type': 'ContractualRules/LicenseAttribution', 'targetPropertyName': 'description', 'mustBeCloseToContent': True, 'license': {'name': 'CC-BY-SA', 'url': 'http://creativecommons.org/licenses/by-sa/3.0/'}, 'licenseNotice': 'Text under CC-BY-SA license'}, {'_type': 'ContractualRules/LinkAttribution', 'targetPropertyName': 'description', 'mustBeCloseToContent': True, 'text': 'ויקיפדיה', 'url': 'https://he.wikipedia.org/wiki/%D7%94%D7%91%D7%97%D7%99%D7%A8%D7%95%D7%AA_%D7%9C%D7%A0%D7%A9%D7%99%D7%90%D7%95%D7%AA_%D7%90%D7%A8%D7%A6%D7%95%D7%AA_%D7%94%D7%91%D7%A8%D7%99%D7%AA_2024'}, {'_type': 'ContractualRules/MediaAttribution', 'targetPropertyName': 'image', 'mustBeCloseToContent': True, 'url': 'https://he.wikipedia.org/wiki/%D7%94%D7%91%D7%97%D7%99%D7%A8%D7%95%D7%AA_%D7%9C%D7%A0%D7%A9%D7%99%D7%90%D7%95%D7%AA_%D7%90%D7%A8%D7%A6%D7%95%D7%AA_%D7%94%D7%91%D7%A8%D7%99%D7%AA_2024'}], 'webSearchUrl': 'https://www.bing.com/entityexplore?q=%D7%94%D7%91%D7%97%D7%99%D7%A8%D7%95%D7%AA+%D7%9C%D7%A0%D7%A9%D7%99%D7%90%D7%95%D7%AA+%D7%90%D7%A8%D7%A6%D7%95%D7%AA+%D7%94%D7%91%D7%A8%D7%99%D7%AA+2024&filters=sid:%22eb3d2900-d8f6-7103-31a3-4a9f285c366a%22&elv=AXXfrEiqqD9r3GuelwApulpoXjV87So8jxOixf9M99mLR9M27KlmxUqHhoRSmoKG*zNlrvTaq46O1BG5K06tbUGSuffX1vOUuGdNfAPF6cif', 'name': 'הבחירות לנשיאות ארצות הברית 2024', 'image': {'name': 'הבחירות לנשיאות ארצות הברית 2024', 'thumbnailUrl': 'http://www.bing.com/th?id=OSK.jVSnhcnnoQey-Z59IeyGfp6ed98tLpy9opzLUV060io&w=110&h=75&c=7', 'provider': [{'_type': 'Organization', 'url': 'https://he.wikipedia.org/wiki/%D7%94%D7%91%D7%97%D7%99%D7%A8%D7%95%D7%AA_%D7%9C%D7%A0%D7%A9%D7%99%D7%90%D7%95%D7%AA_%D7%90%D7%A8%D7%A6%D7%95%D7%AA_%D7%94%D7%91%D7%A8%D7%99%D7%AA_2024'}], 'hostPageUrl': 'https://upload.wikimedia.org/wikipedia/commons/thumb/a/a4/Flag_of_the_United_States.svg/50px-Flag_of_the_United_States.svg.png', 'width': 110, 'height': 75, 'sourceWidth': 50, 'sourceHeight': 27}, 'description': \"הבחירות לנשיאות ארצות הברית לשנת 2024 התקיימו ב-5 בנובמבר 2024, והסתיימו בניצחונו של דונלד טראמפ, מועמד המפלגה הרפובליקנית, על סגנית הנשיא המכהנת קמלה האריס, מועמדת המפלגה הדמוקרטית. טראמפ וסגנו, ג'יי. די. ואנס, צפויים להיכנס לתפקידם ב-20 בינואר 2025 לאחר אשרור התוצאות על ידי חבר האלקטורים.\", 'entityPresentationInfo': {'entityScenario': 'DominantEntity', 'entityTypeHints': ['Generic'], 'entityTypeDisplayHint': 'בחירות לנשיאות ארצות הברית'}, 'bingId': 'eb3d2900-d8f6-7103-31a3-4a9f285c366a'}]}, 'news': {'id': 'https://api.bing.microsoft.com/api/v7/#News', 'readLink': 'https://api.bing.microsoft.com/api/v7/news/search?q=2024+presidential+election+candidates+and+current+political+analysis', 'value': [{'contractualRules': [{'_type': 'ContractualRules/TextAttribution', 'text': 'MSN'}], 'name': 'The 2024 presidential election was close, not a landslide', 'url': 'https://www.msn.com/en-us/politics/elections/the-2024-presidential-election-was-close-not-a-landslide/ar-AA1uNXyO', 'image': {'contentUrl': 'https://img-s-msn-com.akamaized.net/tenant/amp/entityid/AA1uNXy7.img?w=1600&h=900&m=4&q=74', 'thumbnail': {'contentUrl': 'https://www.bing.com/th?id=OVFT.OEfLRxrJ_2rt4L-d0BjJTS&pid=News', 'width': 700, 'height': 393}}, 'description': \"Was the 2024 presidential election close? It certainly didn't feel that way on election night and in the days immediately after. It became clear that President-elect Donald Trump was on pace to win relatively early in the evening.\", 'about': [{'readLink': 'https://api.bing.microsoft.com/api/v7/entities/eb3d2900-d8f6-7103-31a3-4a9f285c366a', 'name': '2024 United States presidential election'}, {'readLink': 'https://api.bing.microsoft.com/api/v7/entities/f8275aff-436f-88eb-b986-8cd8c2c15c6b', 'name': 'Presidency of Donald Trump'}, {'readLink': 'https://api.bing.microsoft.com/api/v7/entities/ef5cf66f-32b7-7271-286a-8e8313eda5c5', 'name': 'Kamala Harris'}], 'provider': [{'_type': 'Organization', 'name': 'MSN', 'image': {'thumbnail': {'contentUrl': 'https://www.bing.com/th?id=ODF.-LMnifaGw_NvPvJr_0E9tA&pid=news'}}}], 'datePublished': '2024-11-26T21:02:00.0000000Z', 'video': {'name': 'How economic sentiment impacted the 2024 election', 'motionThumbnailUrl': 'https://prod-streaming-video-msn-com.akamaized.net/v1/eus004/a98f9a35-8c9c-4b5c-8d75-9b5cb69a02ec/d7207256-05e3-494c-aba1-8d669e10ca77_650.mp4', 'thumbnail': {'width': 640, 'height': 360}}}, {'contractualRules': [{'_type': 'ContractualRules/TextAttribution', 'text': 'PBS'}], 'name': 'The size of Donald Trump’s 2024 election victory, explained in 5 charts', 'url': 'https://www.pbs.org/newshour/politics/the-size-of-donald-trumps-2024-election-victory-explained-in-5-charts', 'image': {'contentUrl': 'https://d3i6fh83elv35t.cloudfront.net/static/2024/11/2024-11-06T080604Z_878771845_HP1EKB60MFK8B_RTRMADP_3_USA-ELECTION-TRUMP-1024x675.jpg', 'thumbnail': {'contentUrl': 'https://www.bing.com/th?id=OVFT.NEDrUEuT1rY_W-GtviZSsS&pid=News', 'width': 700, 'height': 461}}, 'description': 'How big was President-elect Donald Trump’s victory? It was clear, but not a landslide by historical standards. Here’s how 2024 sized up to other recent elections.', 'about': [{'readLink': 'https://api.bing.microsoft.com/api/v7/entities/1a466af2-ed23-25bd-794d-1ca925e4681b', 'name': 'Donald Trump'}, {'readLink': 'https://api.bing.microsoft.com/api/v7/entities/97257e49-4140-f51c-33cb-26bc0871432d', 'name': 'PolitiFact'}, {'readLink': 'https://api.bing.microsoft.com/api/v7/entities/912dcced-d84f-417b-9902-e7674e2ded5f', 'name': 'Electoral college'}, {'readLink': 'https://api.bing.microsoft.com/api/v7/entities/e2ee59a1-2d38-eeb9-6822-b42b353fab32', 'name': 'The Republicans'}, {'readLink': 'https://api.bing.microsoft.com/api/v7/entities/6d13e3bb-10af-1ea5-144b-02f642bbcd65', 'name': '2000 United States presidential election recount in Florida'}], 'provider': [{'_type': 'Organization', 'name': 'PBS', 'image': {'thumbnail': {'contentUrl': 'https://www.bing.com/th?id=ODF.6ks36T98eL13adVA4nwLZA&pid=news'}}}], 'datePublished': '2024-11-24T22:28:00.0000000Z'}, {'contractualRules': [{'_type': 'ContractualRules/TextAttribution', 'text': 'Al Jazeera English on MSN.com'}], 'name': 'How big was Donald Trump’s 2024 election victory?', 'url': 'https://www.msn.com/en-us/news/world/how-big-was-donald-trump-s-2024-election-victory/ar-AA1uEGaG', 'image': {'contentUrl': 'https://www.aljazeera.com/wp-content/uploads/2024/11/AP24313031183074-1731089508.jpg?resize=1920%2C1440', 'thumbnail': {'contentUrl': 'https://www.bing.com/th?id=OVFT.HzilLnJs2ktNDMqefi9CFC&pid=News', 'width': 700, 'height': 525}}, 'description': 'Donald Trump won both the Electoral College and the popular vote in the 2024 presidential election. In fact, Trump this year became only the second Republican to win the popular vote since 1988.', 'about': [{'readLink': 'https://api.bing.microsoft.com/api/v7/entities/1a466af2-ed23-25bd-794d-1ca925e4681b', 'name': 'Donald Trump'}, {'readLink': 'https://api.bing.microsoft.com/api/v7/entities/912dcced-d84f-417b-9902-e7674e2ded5f', 'name': 'Electoral college'}, {'readLink': 'https://api.bing.microsoft.com/api/v7/entities/eb3d2900-d8f6-7103-31a3-4a9f285c366a', 'name': '2024 United States presidential election'}, {'readLink': 'https://api.bing.microsoft.com/api/v7/entities/8e8f4910-fd14-4724-a9e9-e9f4506b0309', 'name': '1988'}, {'readLink': 'https://api.bing.microsoft.com/api/v7/entities/e2ee59a1-2d38-eeb9-6822-b42b353fab32', 'name': 'The Republicans'}, {'readLink': 'https://api.bing.microsoft.com/api/v7/entities/6d13e3bb-10af-1ea5-144b-02f642bbcd65', 'name': '2000 United States presidential election recount in Florida'}, {'readLink': 'https://api.bing.microsoft.com/api/v7/entities/78dbf457-fe85-aa64-d23c-46c99a7b7950', 'name': 'House of Representatives'}, {'readLink': 'https://api.bing.microsoft.com/api/v7/entities/b4c2306e-2065-801a-2c91-fea1cf1bbe68', 'name': 'Senate'}, {'readLink': 'https://api.bing.microsoft.com/api/v7/entities/ef5cf66f-32b7-7271-286a-8e8313eda5c5', 'name': 'Kamala Harris'}], 'mentions': [{'name': 'Donald Trump'}, {'name': 'United States presidential election'}, {'name': 'Al Jazeera'}], 'provider': [{'_type': 'Organization', 'name': 'Al Jazeera English on MSN.com', 'image': {'thumbnail': {'contentUrl': 'https://www.bing.com/th?id=ODF.XC9ck0RrjqDJbcDkwInLJw&pid=news'}}}], 'datePublished': '2024-11-24T11:29:00.0000000Z'}, {'contractualRules': [{'_type': 'ContractualRules/TextAttribution', 'text': 'NBC News on MSN.com'}], 'name': '5 Democratic assumptions shattered by the 2024 election: From the Politics Desk', 'url': 'https://www.msn.com/en-us/news/politics/5-democratic-assumptions-shattered-by-the-2024-election-from-the-politics-desk/ar-AA1uK4om', 'image': {'contentUrl': 'https://media-cldnry.s-nbcnews.com/image/upload/t_nbcnews-fp-1200-630,f_auto,q_auto:best/rockcms/2024-10/241024-election-ch-1557-d7a14a.jpg', 'thumbnail': {'contentUrl': 'https://www.bing.com/th?id=OVFT.MJ6hzui2O7HGUFgicdQzjy&pid=News', 'width': 700, 'height': 367}}, 'description': 'Plus, special counsel Jack Smith files to drop all federal charges against Trump. And Biden pardons his final turkeys.', 'about': [{'readLink': 'https://api.bing.microsoft.com/api/v7/entities/541cd519-750b-9c92-8413-a537def6abbe', 'name': 'White House'}, {'readLink': 'https://api.bing.microsoft.com/api/v7/entities/08c2022d-bae8-9192-2e59-6d44345ec246', 'name': 'Capitol Hill'}, {'readLink': 'https://api.bing.microsoft.com/api/v7/entities/672fe56b-394a-469a-868e-983f214d8bcf', 'name': 'Jack Smith'}, {'readLink': 'https://api.bing.microsoft.com/api/v7/entities/1a466af2-ed23-25bd-794d-1ca925e4681b', 'name': 'Donald Trump'}], 'provider': [{'_type': 'Organization', 'name': 'NBC News on MSN.com', 'image': {'thumbnail': {'contentUrl': 'https://www.bing.com/th?id=ODF.ighWNnrr5MMFUs8WKMme2A&pid=news'}}}], 'datePublished': '2024-11-25T22:15:00.0000000Z', 'video': {'name': '‘Entire Democratic Party bears responsibility’ for Kamala Harris’ loss, says Adam Schiff', 'motionThumbnailUrl': 'https://prod-streaming-video-msn-com.akamaized.net/v1/eus002/e7dd45c3-ec66-4f39-9383-9e717d0db82c/d0c4743e-904e-4063-b11c-3db78436d4ea_650.mp4', 'thumbnail': {'width': 640, 'height': 360}}}, {'contractualRules': [{'_type': 'ContractualRules/TextAttribution', 'text': 'Oracle'}], 'name': 'Making sense of the election results', 'url': 'https://hamlineoracle.com/13679/news/making-sense-of-the-election-results/', 'image': {'contentUrl': 'https://hamlineoracle.com/wp-content/uploads/2024/11/ZyuPS8ClnRgufmHpHgDkhTZ7XNyYefpmXZ3aBYEa.jpg', 'thumbnail': {'contentUrl': 'https://www.bing.com/th?id=OVFT.RFk0k1ecrIHXN0i2qmkFCi&pid=News', 'width': 700, 'height': 466}}, 'description': 'In an effort to offer insight on the results of the election, Hamline’s political science department hosted a post-election panel discussion to discuss the causes and future implications of President-Elect Donald Trump’s victory in the 2024 presidential election.', 'about': [{'readLink': 'https://api.bing.microsoft.com/api/v7/entities/1a466af2-ed23-25bd-794d-1ca925e4681b', 'name': 'Donald Trump'}, {'readLink': 'https://api.bing.microsoft.com/api/v7/entities/eb3d2900-d8f6-7103-31a3-4a9f285c366a', 'name': '2024 United States presidential election'}, {'readLink': 'https://api.bing.microsoft.com/api/v7/entities/cdd114cf-4de1-ba27-7809-4ebd71a0ac57', 'name': 'David Schultz'}, {'readLink': 'https://api.bing.microsoft.com/api/v7/entities/04c0ff96-6ede-4c69-92ee-1d2ffc835538', 'name': '2016'}], 'provider': [{'_type': 'Organization', 'name': 'Oracle', 'image': {'thumbnail': {'contentUrl': 'https://www.bing.com/th?id=ODF.5f6sUhpGcB3G6pqP8w-QWg&pid=news'}}}], 'datePublished': '2024-11-18T21:59:00.0000000Z'}]}, 'relatedSearches': {'id': 'https://api.bing.microsoft.com/api/v7/#RelatedSearches', 'value': [{'text': '2024 presidential candidates', 'displayText': '2024 presidential candidates', 'webSearchUrl': 'https://www.bing.com/search?q=2024+presidential+candidates'}, {'text': '2024 presidential election', 'displayText': '2024 presidential election', 'webSearchUrl': 'https://www.bing.com/search?q=2024+presidential+election'}, {'text': 'presidential election 2024 results', 'displayText': 'presidential election 2024 results', 'webSearchUrl': 'https://www.bing.com/search?q=presidential+election+2024+results'}]}, 'videos': {'id': 'https://api.bing.microsoft.com/api/v7/#Videos', 'readLink': 'https://api.bing.microsoft.com/api/v7/videos/search?q=2024+presidential+election+candidates+and+current+political+analysis', 'webSearchUrl': 'https://www.bing.com/videos/search?q=2024+presidential+election+candidates+and+current+political+analysis', 'isFamilyFriendly': True, 'value': [{'webSearchUrl': 'https://www.bing.com/videos/search?q=2024%20presidential%20election%20candidates%20and%20current%20political%20analysis&view=detail&mid=054294E1C840D04AE536054294E1C840D04AE536', 'name': '2024 US presidential primaries explained: When are they and who can vote', 'description': 'A primary is an election to select candidates, usually for a particular political party, to appear on the general election ballot.', 'thumbnailUrl': 'https://tse4.mm.bing.net/th?id=OVP.okqx_WrkTxAmvxUQJKTYTQIIEk&pid=Api', 'datePublished': '2024-01-09T17:12:00.0000000', 'publisher': [{'name': 'ABC13 Houston'}], 'creator': {'name': 'Analysis by Zachary B. Wolf,CNN'}, 'contentUrl': 'https://abc13.com/presidential-primaries-what-are-the-caucuses-2024/14301181/', 'hostPageUrl': 'https://abc13.com/presidential-primaries-what-are-the-caucuses-2024/14301181/', 'encodingFormat': 'mp4', 'hostPageDisplayUrl': 'https://abc13.com/presidential-primaries-what-are-the-caucuses-2024/14301181/', 'width': 1600, 'height': 900, 'duration': 'PT1M54S', 'motionThumbnailUrl': 'https://tse4.mm.bing.net/th?id=OM.NuVK0EDI4ZRCBQ_1723233529&pid=Api', 'embedHtml': '<iframe width=\"476\" height=\"267\" src=\"https://abc13.com/video/embed/?pid=14267460\" scrolling=\"no\" frameborder=\"0\" allowfullscreen></iframe>', 'allowHttpsEmbed': True, 'viewCount': 0, 'thumbnail': {'width': 160, 'height': 89}, 'allowMobileEmbed': True, 'isSuperfresh': False}, {'webSearchUrl': 'https://www.bing.com/videos/search?q=2024%20presidential%20election%20candidates%20and%20current%20political%20analysis&view=detail&mid=B935A98BFC0E0910EB87B935A98BFC0E0910EB87', 'name': 'The US 2024 Presidential election race | This World', 'description': 'Presidential candidates are already gearing up for the upcoming U.S. elections. The two candidates stealing the spotlight are President Biden and Former President Trump. Many candidates have dirt on their hands. It will be interesting to see who steals the lead in the race to the top seat. Listen in to @VikramChandra #us #elections #latestnews ...', 'thumbnailUrl': 'https://tse2.mm.bing.net/th?id=OVP.LBz90oTj80A0I4BtCdeoMQHgFo&pid=Api', 'datePublished': '2023-09-30T16:34:13.0000000', 'publisher': [{'name': 'YouTube'}], 'creator': {'name': 'WION'}, 'isAccessibleForFree': True, 'contentUrl': 'https://www.youtube.com/watch?v=M0IGsl0YRao', 'hostPageUrl': 'https://www.youtube.com/watch?v=M0IGsl0YRao', 'encodingFormat': 'mp4', 'hostPageDisplayUrl': 'https://www.youtube.com/watch?v=M0IGsl0YRao', 'width': 1920, 'height': 1080, 'duration': 'PT3M43S', 'motionThumbnailUrl': 'https://tse2.mm.bing.net/th?id=OM.h-sQCQ78i6k1uQ_1732695807&pid=Api', 'embedHtml': '<iframe width=\"1280\" height=\"720\" src=\"http://www.youtube.com/embed/M0IGsl0YRao?autoplay=1\" frameborder=\"0\" allowfullscreen></iframe>', 'allowHttpsEmbed': True, 'viewCount': 29479, 'thumbnail': {'width': 160, 'height': 120}, 'allowMobileEmbed': True, 'isSuperfresh': False}, {'webSearchUrl': 'https://www.bing.com/videos/search?q=2024%20presidential%20election%20candidates%20and%20current%20political%20analysis&view=detail&mid=C516CB0670912A49B27DC516CB0670912A49B27D', 'name': 'Who Are the 2024 US Presidential Election Candidates? | Firstpost Unpacked', 'description': 'Who Are the 2024 US Presidential Election Candidates? | Firstpost Unpacked Former Vice President Mike Pence and former New Jersey Governor Chris Christie plan to announce that they are running for president, joining former President Donald Trump and Florida Governor Ron DeSantis in a growing list of Republicans seeking to unseat Democratic ...', 'thumbnailUrl': 'https://tse2.mm.bing.net/th?id=OVP.fyQx9G0fZ1jJ3eCcO_IFpQHgFo&pid=Api', 'datePublished': '2023-06-02T13:15:02.0000000', 'publisher': [{'name': 'YouTube'}], 'creator': {'name': 'Firstpost'}, 'isAccessibleForFree': True, 'contentUrl': 'https://www.youtube.com/watch?v=Pft0L_SNG3A', 'hostPageUrl': 'https://www.youtube.com/watch?v=Pft0L_SNG3A', 'encodingFormat': 'mp4', 'hostPageDisplayUrl': 'https://www.youtube.com/watch?v=Pft0L_SNG3A', 'width': 1920, 'height': 1080, 'duration': 'PT5M18S', 'motionThumbnailUrl': 'https://tse2.mm.bing.net/th?id=OM1.fbJJKpFwBssWxQ&pid=Api', 'embedHtml': '<iframe width=\"1280\" height=\"720\" src=\"http://www.youtube.com/embed/Pft0L_SNG3A?autoplay=1\" frameborder=\"0\" allowfullscreen></iframe>', 'allowHttpsEmbed': True, 'viewCount': 59597, 'thumbnail': {'width': 160, 'height': 120}, 'allowMobileEmbed': True, 'isSuperfresh': False}, {'webSearchUrl': 'https://www.bing.com/videos/search?q=2024%20presidential%20election%20candidates%20and%20current%20political%20analysis&view=detail&mid=F1582A10D83C6F5C110CF1582A10D83C6F5C110C', 'name': 'The first 2024 GOP primary debate, in 3 minutes', 'description': 'Eight Republican presidential hopefuls took the stage for the first 2024 Republican primary debate on Aug. 23. Read more: https://wapo.st/45GPliZ. Subscribe to The Washington Post on YouTube: https://wapo.st/2QOdcqK Follow us: Twitter: https://twitter.com/washingtonpost Instagram: https://www.instagram.com/washingtonpost/ Facebook: https://www ...', 'thumbnailUrl': 'https://tse1.mm.bing.net/th?id=OVP.i0tUcLcyS3HkM2IJ1PF2pAHgFo&pid=Api', 'datePublished': '2023-08-24T04:20:08.0000000', 'publisher': [{'name': 'YouTube'}], 'creator': {'name': 'Washington Post'}, 'isAccessibleForFree': True, 'contentUrl': 'https://www.youtube.com/watch?v=82dDPbuPvFw', 'hostPageUrl': 'https://www.youtube.com/watch?v=82dDPbuPvFw', 'encodingFormat': 'mp4', 'hostPageDisplayUrl': 'https://www.youtube.com/watch?v=82dDPbuPvFw', 'width': 1920, 'height': 1080, 'duration': 'PT3M9S', 'motionThumbnailUrl': 'https://tse1.mm.bing.net/th?id=OM.DBFcbzzYECpY8Q_1732406194&pid=Api', 'embedHtml': '<iframe width=\"1280\" height=\"720\" src=\"http://www.youtube.com/embed/82dDPbuPvFw?autoplay=1\" frameborder=\"0\" allowfullscreen></iframe>', 'allowHttpsEmbed': True, 'viewCount': 754029, 'thumbnail': {'width': 160, 'height': 120}, 'allowMobileEmbed': True, 'isSuperfresh': False}, {'webSearchUrl': 'https://www.bing.com/videos/search?q=2024%20presidential%20election%20candidates%20and%20current%20political%20analysis&view=detail&mid=69637C669C180931A05669637C669C180931A056', 'name': 'GOP expands field of 2024 presidential candidates', 'description': 'The field of Republican candidates who have announced they will be running for the presidency in 2024 keeps widening. STORY: https://www.fox32chicago.com/election/former-vp-mike-pence-officially-launches-2024-white-house-bid Subscribe to FOX 32 Chicago: https://www.youtube.com/fox32chicago?sub_confirmation=1 Watch FOX 32 Chicago Live: https ...', 'thumbnailUrl': 'https://tse3.mm.bing.net/th?id=OVP.H7SXnym3ZIqkW-RGig5ozAHgFo&pid=Api', 'datePublished': '2023-06-07T17:28:57.0000000', 'publisher': [{'name': 'YouTube'}], 'creator': {'name': 'FOX 32 Chicago'}, 'isAccessibleForFree': True, 'contentUrl': 'https://www.youtube.com/watch?v=FNJ81BG7zxI', 'hostPageUrl': 'https://www.youtube.com/watch?v=FNJ81BG7zxI', 'encodingFormat': 'mp4', 'hostPageDisplayUrl': 'https://www.youtube.com/watch?v=FNJ81BG7zxI', 'width': 1280, 'height': 720, 'duration': 'PT1M52S', 'motionThumbnailUrl': 'https://tse3.mm.bing.net/th?id=OM.VqAxCRicZnxjaQ_1724983097&pid=Api', 'embedHtml': '<iframe width=\"1280\" height=\"720\" src=\"http://www.youtube.com/embed/FNJ81BG7zxI?autoplay=1\" frameborder=\"0\" allowfullscreen></iframe>', 'allowHttpsEmbed': True, 'viewCount': 49368, 'thumbnail': {'width': 160, 'height': 120}, 'allowMobileEmbed': True, 'isSuperfresh': False}, {'webSearchUrl': 'https://www.bing.com/videos/search?q=2024%20presidential%20election%20candidates%20and%20current%20political%20analysis&view=detail&mid=2E93955890CDA69818D22E93955890CDA69818D2', 'name': 'Who is running for president in 2024? Meet the candidates', 'description': 'The 2024 presidential election is still over a year away, but the field of hopefuls is beginning to fill up, with the Republican field expected to become especially crowded in the coming months. Subscribe to FOX 26 Houston: https://www.youtube.com/myfoxhouston26?sub_confirmation=1 Watch FOX 26 Houston Live: https://www.fox26houston.com/live ...', 'thumbnailUrl': 'https://tse1.mm.bing.net/th?id=OVP.heZXOSdXx8bJxo4xL6cQoAHgFo&pid=Api', 'datePublished': '2023-06-05T23:13:30.0000000', 'publisher': [{'name': 'YouTube'}], 'creator': {'name': 'FOX 26 Houston'}, 'isAccessibleForFree': True, 'contentUrl': 'https://www.youtube.com/watch?v=sPLOlCx-bF4', 'hostPageUrl': 'https://www.youtube.com/watch?v=sPLOlCx-bF4', 'encodingFormat': 'mp4', 'hostPageDisplayUrl': 'https://www.youtube.com/watch?v=sPLOlCx-bF4', 'width': 1280, 'height': 720, 'duration': 'PT1M47S', 'motionThumbnailUrl': 'https://tse1.mm.bing.net/th?id=OM.0hiYps2QWJWTLg_1724909018&pid=Api', 'embedHtml': '<iframe width=\"1280\" height=\"720\" src=\"http://www.youtube.com/embed/sPLOlCx-bF4?autoplay=1\" frameborder=\"0\" allowfullscreen></iframe>', 'allowHttpsEmbed': True, 'viewCount': 52014, 'thumbnail': {'width': 160, 'height': 120}, 'allowMobileEmbed': True, 'isSuperfresh': False}, {'webSearchUrl': 'https://www.bing.com/videos/search?q=2024%20presidential%20election%20candidates%20and%20current%20political%20analysis&view=detail&mid=034E62F480D01EB687DA034E62F480D01EB687DA', 'name': \"Here's where the 2024 presidential candidates stand on foreign policy\", 'description': \"Here's where the 2024 presidential candidates stand on foreign policy issues\", 'thumbnailUrl': 'https://tse3.mm.bing.net/th?id=OVP.tik9QWJpaUv5rdtrYYmFcQEsCo&pid=Api', 'datePublished': '2024-09-05T15:39:00.0000000', 'publisher': [{'name': 'ABC News'}], 'creator': {'name': 'ABC NEWS'}, 'contentUrl': 'https://abcnews.go.com/Politics/2024-presidential-candidates-stand-foreign-policy/story?id=103313100', 'hostPageUrl': 'https://abcnews.go.com/Politics/2024-presidential-candidates-stand-foreign-policy/story?id=103313100', 'encodingFormat': '', 'hostPageDisplayUrl': 'https://abcnews.go.com/Politics/2024-presidential-candidates-stand-foreign-policy/story?id=103313100', 'width': 1600, 'height': 900, 'duration': 'PT59M10S', 'viewCount': 0, 'thumbnail': {'width': 160, 'height': 89}, 'isSuperfresh': False}, {'webSearchUrl': 'https://www.bing.com/videos/search?q=2024%20presidential%20election%20candidates%20and%20current%20political%20analysis&view=detail&mid=8360B79E31EE95CE48CC8360B79E31EE95CE48CC', 'name': '2024 presidential election live updates: Trump and Harris project confidence over early results', 'description': '2024 presidential election live updates: Trump and Harris project confidence over early results', 'thumbnailUrl': 'https://tse3.mm.bing.net/th?id=OVP.x6Aq0YL1CKOW27x9HPwNcAEsCo&pid=Api', 'datePublished': '2024-11-05T00:00:00.0000000', 'publisher': [{'name': 'apnews.com'}], 'contentUrl': 'https://apnews.com/live/trump-harris-election-updates-11-5-2024', 'hostPageUrl': 'https://apnews.com/live/trump-harris-election-updates-11-5-2024', 'encodingFormat': '', 'hostPageDisplayUrl': 'https://apnews.com/live/trump-harris-election-updates-11-5-2024', 'width': 1440, 'height': 810, 'viewCount': 0, 'thumbnail': {'width': 160, 'height': 89}, 'isSuperfresh': False}, {'webSearchUrl': 'https://www.bing.com/videos/search?q=2024%20presidential%20election%20candidates%20and%20current%20political%20analysis&view=detail&mid=175F638406B11FDEAEA9175F638406B11FDEAEA9', 'name': \"Here's where the 2024 presidential candidates stand on climate change\", 'description': \"The 2024 U.S. presidential election may prove to be the most pivotal in the country's fight against climate change.\", 'thumbnailUrl': 'https://tse4.mm.bing.net/th?id=OVP.cICjP_IcZBcaF6ypcV_yugIIEk&pid=Api', 'datePublished': '2024-09-05T16:51:00.0000000', 'publisher': [{'name': 'ABC News'}], 'creator': {'name': 'Julia Jacobo,Alexandra Hutzler'}, 'contentUrl': 'https://abcnews.go.com/Politics/2024-presidential-candidates-stand-climate-change/story?id=103313379', 'hostPageUrl': 'https://abcnews.go.com/Politics/2024-presidential-candidates-stand-climate-change/story?id=103313379', 'encodingFormat': '', 'hostPageDisplayUrl': 'https://abcnews.go.com/Politics/2024-presidential-candidates-stand-climate-change/story?id=103313379', 'width': 1600, 'height': 900, 'duration': 'PT4M7S', 'viewCount': 0, 'thumbnail': {'width': 160, 'height': 89}, 'isSuperfresh': False}, {'webSearchUrl': 'https://www.bing.com/videos/search?q=2024%20presidential%20election%20candidates%20and%20current%20political%20analysis&view=detail&mid=3614455F7B11F146A2BC3614455F7B11F146A2BC', 'name': 'November 4, 2024 - US election news | CNN Politics', 'description': 'Vice President Kamala Harris and former President Donald Trump each need at least 270 electoral votes to win the presidency. Follow here for 2024 presidential election updates, results, analysis and more.', 'thumbnailUrl': 'https://tse1.mm.bing.net/th?id=OVP.Imafku6Wuzl-QWAZMxHx7AEsCo&pid=Api', 'datePublished': '2024-11-04T05:14:54.0000000', 'publisher': [{'name': 'cnn.com'}], 'contentUrl': 'https://www.cnn.com/politics/live-news/2024-election-trump-harris/index.html', 'hostPageUrl': 'https://www.cnn.com/politics/live-news/2024-election-trump-harris/index.html', 'encodingFormat': '', 'hostPageDisplayUrl': 'https://www.cnn.com/politics/live-news/2024-election-trump-harris/index.html', 'width': 800, 'height': 450, 'viewCount': 0, 'thumbnail': {'width': 160, 'height': 89}, 'isSuperfresh': False}], 'scenario': 'List'}, 'rankingResponse': {'mainline': {'items': [{'answerType': 'WebPages', 'resultIndex': 0, 'value': {'id': 'https://api.bing.microsoft.com/api/v7/#WebPages.0'}}, {'answerType': 'WebPages', 'resultIndex': 1, 'value': {'id': 'https://api.bing.microsoft.com/api/v7/#WebPages.1'}}, {'answerType': 'News', 'value': {'id': 'https://api.bing.microsoft.com/api/v7/#News'}}, {'answerType': 'WebPages', 'resultIndex': 2, 'value': {'id': 'https://api.bing.microsoft.com/api/v7/#WebPages.2'}}, {'answerType': 'WebPages', 'resultIndex': 3, 'value': {'id': 'https://api.bing.microsoft.com/api/v7/#WebPages.3'}}, {'answerType': 'Videos', 'value': {'id': 'https://api.bing.microsoft.com/api/v7/#Videos'}}, {'answerType': 'WebPages', 'resultIndex': 4, 'value': {'id': 'https://api.bing.microsoft.com/api/v7/#WebPages.4'}}, {'answerType': 'WebPages', 'resultIndex': 5, 'value': {'id': 'https://api.bing.microsoft.com/api/v7/#WebPages.5'}}, {'answerType': 'WebPages', 'resultIndex': 6, 'value': {'id': 'https://api.bing.microsoft.com/api/v7/#WebPages.6'}}, {'answerType': 'WebPages', 'resultIndex': 7, 'value': {'id': 'https://api.bing.microsoft.com/api/v7/#WebPages.7'}}, {'answerType': 'WebPages', 'resultIndex': 8, 'value': {'id': 'https://api.bing.microsoft.com/api/v7/#WebPages.8'}}, {'answerType': 'WebPages', 'resultIndex': 9, 'value': {'id': 'https://api.bing.microsoft.com/api/v7/#WebPages.9'}}]}, 'sidebar': {'items': [{'answerType': 'Entities', 'resultIndex': 0, 'value': {'id': 'https://api.bing.microsoft.com/api/v7/#Entities.0'}}, {'answerType': 'RelatedSearches', 'value': {'id': 'https://api.bing.microsoft.com/api/v7/#RelatedSearches'}}]}}}\n"
     ]
    }
   ],
   "source": [
    "context = ''\n",
    "print(response.json())\n",
    "for result in response.json()['webPages']['value']:\n",
    "    context += result['snippet'] + '\\n'"
   ]
  },
  {
   "attachments": {},
   "cell_type": "markdown",
   "metadata": {},
   "source": [
    "### Collected information for further processing"
   ]
  },
  {
   "cell_type": "code",
   "execution_count": 10,
   "metadata": {},
   "outputs": [
    {
     "name": "stdout",
     "output_type": "stream",
     "text": [
      "Overall, 18% of adults said Trump’s win wasn’t legitimate, three times as large as the figures for the 2024 election By April 2017, the percentage of adults who viewed Trump as an illegitimate ...\n",
      "Four years after leaving Washington as a pariah, following his attempt to overturn the 2020 election to stay in office, Trump’s victory defied two assassination attempts, two presidential ...\n",
      "Follow the AP’s coverage of the 2024 presidential elections, including early voting, election results, Electoral College maps, and more.\n",
      "President Biden and former President Donald J. Trump cruised to victory in their respective parties’ primaries. Mr. Trump dispatched with a large group of Republican challengers, most of whom...\n",
      "2024 election guide: Presidential candidates, polls, primaries and caucuses, voter information and results for November 5, 2024\n",
      "Donald Trump has won the U.S. presidential election, defeating Kamala Harris. Here’s the latest on what you need to know.\n",
      "It’s Election Day, and the polls show one of the closest presidential races in the history of American politics. Nationwide or across the key battlegrounds collectively, neither Kamala Harris...\n",
      "The latest news about the 2024 races, including updates on the presidential candidates, the primaries, the polls and the biggest issues.\n",
      "The latest news, analysis and polling data from the 2024 US election. Sign up to our White House Watch newsletter, your essential guide to what the incoming Trump administration means for...\n",
      "538’s final forecast for the presidential race between Vice President Kamala Harris and former President Donald Trump is officially out, and it’s a real nail-biter. Our model gives Harris a XXX...\n",
      "\n"
     ]
    }
   ],
   "source": [
    "print(context)"
   ]
  },
  {
   "cell_type": "code",
   "execution_count": 11,
   "metadata": {},
   "outputs": [],
   "source": [
    "system_prompt=f'''Answer the following questions as best you can. Use the context provided below:\n",
    "{context}\n",
    "\n",
    "Begin!\n",
    "'''\n",
    "user_prompt = f'''\n",
    "Question: {input}\\\n",
    "Answer:'''"
   ]
  },
  {
   "attachments": {},
   "cell_type": "markdown",
   "metadata": {},
   "source": [
    "### Step 3: GPT-4o: What do I need to do to answer this question? (Again)"
   ]
  },
  {
   "cell_type": "code",
   "execution_count": 12,
   "metadata": {},
   "outputs": [
    {
     "name": "stdout",
     "output_type": "stream",
     "text": [
      "Based on the context provided, Donald Trump has won the 2024 U.S. presidential election, defeating Kamala Harris. The information suggests that Trump succeeded despite facing a competitive race, as indicated by polls showing it to be one of the closest presidential races in American history. Additionally, Trump overcame significant challenges within his own party during the primaries, dispatching a large group of Republican challengers.\n",
      "\n",
      "Reasons for Trump's victory could include his strong support among Republican base voters, effective campaign strategy, and ability to rally voters despite facing two assassination attempts and previous controversies around his attempts to overturn the 2020 election. Trump's victory indicates that he was able to resonate with enough voters nationwide, or particularly in key battleground states, to secure a win in the Electoral College. However, this analysis is speculative in nature due to the lack of detailed polling data within the provided context.\n"
     ]
    }
   ],
   "source": [
    "response = client.chat.completions.create(\n",
    "    model=CHAT_COMPLETIONS_MODEL,\n",
    "    messages = [{\"role\":\"system\", \"content\":system_prompt},\n",
    "                {\"role\":\"user\",\"content\": user_prompt,}],\n",
    "        max_tokens=400,)\n",
    "\n",
    "print(response.choices[0].message.content)"
   ]
  },
  {
   "attachments": {},
   "cell_type": "markdown",
   "metadata": {},
   "source": [
    "### GPT-4o: I now have final answer to the question. "
   ]
  },
  {
   "cell_type": "markdown",
   "metadata": {},
   "source": [
    "#### Use cases to explore\n",
    "1. **Knowledge Management** \\\n",
    "Improve access to corporate knowledge by retrieving and presenting information from internal documents, manuals, and policies.\n",
    "\n",
    "2. **Business Intelligence and Analytics** \\\n",
    "Support market analysts by retrieving relevant market data, reports, and insights from various sources.\n",
    "\n",
    "3. **Legal and Compliance** \\\n",
    "Aid legal professionals by retrieving relevant case laws, statutes, and legal precedents based on queries."
   ]
  }
 ],
 "metadata": {
  "kernelspec": {
   "display_name": ".venv",
   "language": "python",
   "name": "python3"
  },
  "language_info": {
   "codemirror_mode": {
    "name": "ipython",
    "version": 3
   },
   "file_extension": ".py",
   "mimetype": "text/x-python",
   "name": "python",
   "nbconvert_exporter": "python",
   "pygments_lexer": "ipython3",
   "version": "3.12.5"
  },
  "orig_nbformat": 4
 },
 "nbformat": 4,
 "nbformat_minor": 2
}
