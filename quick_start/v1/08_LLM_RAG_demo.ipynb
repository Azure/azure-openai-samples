{
 "cells": [
  {
   "attachments": {},
   "cell_type": "markdown",
   "metadata": {},
   "source": [
    "# LLM - RAG (Large Language Models - Retrievel-Augmented Generation)"
   ]
  },
  {
   "cell_type": "markdown",
   "metadata": {},
   "source": [
    "# Overview\n",
    "This demo showcases how to use the GPT-3 model in a Retrieval-Augmented Generation (RAG) setup. \\\n",
    "The model analyzes a natural language query, retrieves relevant information from a knowledge base, and provides an answer based on the retrieved information.\n",
    "\n"
   ]
  },
  {
   "cell_type": "code",
   "execution_count": 10,
   "metadata": {},
   "outputs": [],
   "source": [
    "import re\n",
    "import requests\n",
    "import sys\n",
    "import os\n",
    "from openai import AzureOpenAI\n",
    "import tiktoken\n",
    "from dotenv import load_dotenv\n",
    "load_dotenv()\n",
    "\n",
    "client = AzureOpenAI(\n",
    "  azure_endpoint = os.getenv(\"AZURE_OPENAI_ENDPOINT\"), \n",
    "  api_key=os.getenv(\"AZURE_OPENAI_KEY\"),  \n",
    "  api_version=\"2024-02-15-preview\"\n",
    ")\n",
    "\n",
    "CHAT_COMPLETIONS_MODEL = os.getenv('CHAT_COMPLETION_NAME')"
   ]
  },
  {
   "attachments": {},
   "cell_type": "markdown",
   "metadata": {},
   "source": [
    "### Start with a natural question"
   ]
  },
  {
   "cell_type": "code",
   "execution_count": 11,
   "metadata": {},
   "outputs": [],
   "source": [
    "input = \"Which presendential candidate is likely to win in 2024 election? Explain the reasons.\""
   ]
  },
  {
   "attachments": {},
   "cell_type": "markdown",
   "metadata": {},
   "source": [
    "### Step 1: GPT3: What do I need to to answer this question?"
   ]
  },
  {
   "cell_type": "code",
   "execution_count": 12,
   "metadata": {},
   "outputs": [],
   "source": [
    "system_prompt=f'''Answer the following questions as best you can. You have access to the following tools:\n",
    "\n",
    "Web Search: Use the web to find information\n",
    "\n",
    "You need to follow STRICTLY below format:\n",
    "\n",
    "Question: the input question you must answer\n",
    "Thought: you should always think about what to do\n",
    "Action: the action to take, should be one of [Research]\n",
    "Action Input: the input to the action\n",
    "\n",
    "Begin!\n",
    "'''\n",
    "user_prompt = f'''\n",
    "Question: {input}\n",
    "Thought:'''"
   ]
  },
  {
   "cell_type": "code",
   "execution_count": 13,
   "metadata": {},
   "outputs": [
    {
     "name": "stdout",
     "output_type": "stream",
     "text": [
      "It is too early to accurately predict the outcome of the 2024 presidential election as it is still several years away. However, I can research current polls, political trends, and potential candidates to make an educated guess. \n",
      "Action: Research \n",
      "Action Input: Current polling data, political news and trends, potential candidates.\n"
     ]
    }
   ],
   "source": [
    "response = client.chat.completions.create(\n",
    "    model=CHAT_COMPLETIONS_MODEL,\n",
    "    messages = [{\"role\":\"system\", \"content\":system_prompt},\n",
    "                {\"role\":\"user\",\"content\": user_prompt,}],\n",
    "        max_tokens=400,)\n",
    "\n",
    "print(response.choices[0].message.content)"
   ]
  },
  {
   "attachments": {},
   "cell_type": "markdown",
   "metadata": {},
   "source": [
    "### Step 2: Search web for more details \n",
    "Before continuing please create a Bing Search Service in your subscription [Create Bing Search Resource](https://learn.microsoft.com/en-us/bing/search-apis/bing-web-search/create-bing-search-service-resource). \\\n",
    "This sample makes a call to the Bing Web Search API with a query and returns relevant web search."
   ]
  },
  {
   "cell_type": "code",
   "execution_count": 37,
   "metadata": {},
   "outputs": [],
   "source": [
    "# Use Azure BING Search API to get the results\n",
    "import requests\n",
    "import json\n",
    "url = \"https://api.bing.microsoft.com/v7.0/search\"\n",
    "headers = {\"Ocp-Apim-Subscription-Key\": os.getenv('BING_SUBSCRIPTION_KEY')}\n",
    "params = {\"q\": \"2024 presidential election candidates and current political analysis\"}\n",
    "response = requests.get(url, headers=headers, params=params)"
   ]
  },
  {
   "cell_type": "code",
   "execution_count": 38,
   "metadata": {},
   "outputs": [
    {
     "name": "stdout",
     "output_type": "stream",
     "text": [
      "{'_type': 'SearchResponse', 'queryContext': {'originalQuery': '2024 presidential election candidates and current political analysis'}, 'webPages': {'webSearchUrl': 'https://www.bing.com/search?q=2024+presidential+election+candidates+and+current+political+analysis', 'totalEstimatedMatches': 767000, 'value': [{'id': 'https://api.bing.microsoft.com/api/v7/#WebPages.0', 'name': 'Latest Election 2024 Polls: Biden vs. Trump - The New York Times', 'url': 'https://www.nytimes.com/interactive/2024/us/elections/polls-president.html', 'datePublished': '2024-06-24T00:00:00.0000000', 'datePublishedFreshnessText': '3 days ago', 'isFamilyFriendly': True, 'displayUrl': 'https://www.nytimes.com/interactive/2024/us/elections/polls-president.html', 'snippet': 'Our polling averages track the latest trends in the presidential race, using data from national and battleground state polls. ... On Politics Newsletter. The latest news and analysis on the 2024 ...', 'deepLinks': [{'name': 'Who Are the 2024 Presidential Election Candidates? - The New York Times', 'url': 'https://www.nytimes.com/interactive/2023/us/politics/presidential-candidates-2024.html', 'snippet': 'The presidential election is 132 days away. Here’s our guide to the run-up to Election Day. ... On Politics Newsletter. The latest news and analysis on the 2024 elections, sent to your inbox.'}], 'dateLastCrawled': '2024-06-27T13:58:00.0000000Z', 'language': 'en', 'isNavigational': True, 'noCache': True}, {'id': 'https://api.bing.microsoft.com/api/v7/#WebPages.1', 'name': 'Trump v Biden: The Economist’s presidential election prediction model', 'url': 'https://www.economist.com/interactive/us-2024-election/prediction-model/president', 'isFamilyFriendly': True, 'displayUrl': 'https://www.economist.com/interactive/us-2024-election/prediction-model/president', 'snippet': 'Joe Biden has about a 1 in 3 chance. 2020 results. 306 306 232 232. Likely range. Median. Our model is updated every day and combines state and national polls with economic indicators to predict ...', 'dateLastCrawled': '2024-06-26T03:48:00.0000000Z', 'cachedPageUrl': 'http://cc.bingj.com/cache.aspx?q=2024+presidential+election+candidates+and+current+political+analysis&d=4548276298280426&mkt=en-GB&setlang=en-GB&w=MXInWh2fEVYUUU0jsn3eTdJbv6ttCPNG', 'language': 'en', 'isNavigational': False, 'noCache': False}, {'id': 'https://api.bing.microsoft.com/api/v7/#WebPages.2', 'name': 'President: general election : 2024 Polls | FiveThirtyEight', 'url': 'https://projects.fivethirtyeight.com/polls/president-general/2024/', 'datePublished': '2024-06-26T00:00:00.0000000', 'datePublishedFreshnessText': '1 day ago', 'isFamilyFriendly': True, 'displayUrl': 'https://projects.fivethirtyeight.com/polls/president-general/2024', 'snippet': \"The latest political polls and polling averages from FiveThirtyEight. UPDATED Jun. 26, 2024, at 9:02 PM. ... Updating average for each candidate in 2024 presidential polls, accounting for each poll's recency, sample size, methodology and house effects. ... general election, 2024. AVG. June 22-24. 878: LV: June 22-24. 878 LV. Leger. The New York ...\", 'dateLastCrawled': '2024-06-27T02:07:00.0000000Z', 'cachedPageUrl': 'http://cc.bingj.com/cache.aspx?q=2024+presidential+election+candidates+and+current+political+analysis&d=4703865787076357&mkt=en-GB&setlang=en-GB&w=zByBrVFUHvtbEkjeav4TfduvX95_4F_4', 'language': 'en', 'isNavigational': False, 'noCache': False}, {'id': 'https://api.bing.microsoft.com/api/v7/#WebPages.3', 'name': 'Who Are the 2024 Presidential Election Candidates? - The New York Times', 'url': 'https://www.nytimes.com/interactive/2023/us/politics/presidential-candidates-2024.html', 'thumbnailUrl': 'https://www.bing.com/th?id=OIP.4Q13tzuQ3AWhqqdNwAPdgwAAAA&w=80&h=80&c=1&pid=5.1', 'datePublished': '2024-06-12T00:00:00.0000000', 'datePublishedDisplayText': '12 Jun 2024', 'isFamilyFriendly': True, 'displayUrl': 'https://www.nytimes.com/interactive/2023/us/politics/presidential-candidates-2024.html', 'snippet': 'The presidential election is 132 days away. Here’s our guide to the run-up to Election Day. ... On Politics Newsletter. The latest news and analysis on the 2024 elections, sent to your inbox.', 'dateLastCrawled': '2024-06-27T02:43:00.0000000Z', 'primaryImageOfPage': {'thumbnailUrl': 'https://www.bing.com/th?id=OIP.4Q13tzuQ3AWhqqdNwAPdgwAAAA&w=80&h=80&c=1&pid=5.1', 'width': 80, 'height': 80, 'imageId': 'OIP.4Q13tzuQ3AWhqqdNwAPdgwAAAA'}, 'language': 'en', 'isNavigational': False, 'noCache': True}, {'id': 'https://api.bing.microsoft.com/api/v7/#WebPages.4', 'name': '2024 Election: Presidential race news, polls and results | CNN Politics', 'url': 'https://www.cnn.com/election/2024', 'isFamilyFriendly': True, 'displayUrl': 'https://www.cnn.com/election', 'snippet': '2024 election guide: Presidential candidates, polls, primaries and caucuses, voter information and results for November 5, 2024', 'dateLastCrawled': '2024-06-27T02:33:00.0000000Z', 'cachedPageUrl': 'http://cc.bingj.com/cache.aspx?q=2024+presidential+election+candidates+and+current+political+analysis&d=4941248623550321&mkt=en-GB&setlang=en-GB&w=JszlCctJX7HHBW5MHT9V0cL41BUZZgXV', 'language': 'en', 'isNavigational': False, 'noCache': False}, {'id': 'https://api.bing.microsoft.com/api/v7/#WebPages.5', 'name': 'Who Is Favored To Win The 2024 Presidential Election?', 'url': 'https://projects.fivethirtyeight.com/2024-election-forecast/', 'datePublished': '2024-06-11T00:00:00.0000000', 'datePublishedDisplayText': '11 Jun 2024', 'isFamilyFriendly': True, 'displayUrl': 'https://projects.fivethirtyeight.com/2024-election-forecast', 'snippet': 'With 133 days until Election Day, our forecast still sees the presidential race as a pure toss-up. Right now, President Joe Biden is favored to win in 501 out of 1,000 of our model’s simulations of how the election could go, while former President Donald Trump wins in 495 of our simulations. There is still a small chance of the pure chaos ...', 'dateLastCrawled': '2024-06-27T02:24:00.0000000Z', 'cachedPageUrl': 'http://cc.bingj.com/cache.aspx?q=2024+presidential+election+candidates+and+current+political+analysis&d=4623163348156622&mkt=en-GB&setlang=en-GB&w=G1x-Z0ikuKg2Xwm26R81ho_USI4R2_HI', 'language': 'en', 'isNavigational': False, 'noCache': False}, {'id': 'https://api.bing.microsoft.com/api/v7/#WebPages.6', 'name': '2024 Presidential Election Polls: Biden vs. Trump', 'url': 'https://pro.morningconsult.com/trackers/2024-presidential-election-polling', 'datePublished': '2024-06-24T00:00:00.0000000', 'datePublishedFreshnessText': '3 days ago', 'isFamilyFriendly': True, 'displayUrl': 'https://pro.morningconsult.com/trackers/2024-presidential-election-polling', 'snippet': 'Ahead of the 2024 presidential election, Morning Consult is conducting thousands of surveys every day, asking registered U.S. voters whom they plan to vote for in 2024’s rematch between President Joe Biden and former President Donald Trump, as well as how they view these candidates and other top political figures.', 'dateLastCrawled': '2024-06-26T12:33:00.0000000Z', 'cachedPageUrl': 'http://cc.bingj.com/cache.aspx?q=2024+presidential+election+candidates+and+current+political+analysis&d=4655702024606684&mkt=en-GB&setlang=en-GB&w=wsUuXdR3idtFK0qzgZmcvZygeE3mQ38j', 'language': 'en', 'isNavigational': False, 'noCache': False}, {'id': 'https://api.bing.microsoft.com/api/v7/#WebPages.7', 'name': 'National : President: general election : 2024 Polls | FiveThirtyEight', 'url': 'https://projects.fivethirtyeight.com/polls/president-general/2024/national/', 'datePublished': '2024-06-25T00:00:00.0000000', 'datePublishedFreshnessText': '2 days ago', 'isFamilyFriendly': True, 'displayUrl': 'https://projects.fivethirtyeight.com/polls/president-general/2024/national', 'snippet': \"Updating average for each candidate in 2024 presidential polls, accounting for each poll's recency, sample size, methodology and house effects. Polling averages are adjusted based on state and national polls, which means candidates’ averages can shift even if no new polls have been added to this page. Read the full methodology here. Sort by date.\", 'dateLastCrawled': '2024-06-26T01:16:00.0000000Z', 'cachedPageUrl': 'http://cc.bingj.com/cache.aspx?q=2024+presidential+election+candidates+and+current+political+analysis&d=4646296045702115&mkt=en-GB&setlang=en-GB&w=V9Cb509iD9ZA5DOQAKpSWO6aiclfIJHD', 'language': 'en', 'isNavigational': False, 'noCache': False}, {'id': 'https://api.bing.microsoft.com/api/v7/#WebPages.8', 'name': 'Who is ahead in 2024 presidential polls right now?', 'url': 'https://www.washingtonpost.com/elections/interactive/2024/presidential-polling-averages/', 'datePublished': '2024-06-26T00:00:00.0000000', 'datePublishedFreshnessText': '1 day ago', 'isFamilyFriendly': True, 'displayUrl': 'https://www.washingtonpost.com/elections/interactive/2024/presidential-polling-averages', 'snippet': 'Take a look at how polling errors in the last three presidential elections would affect our current 2024 polling averages. Story continues below advertisement Advertisement', 'dateLastCrawled': '2024-06-27T13:20:00.0000000Z', 'cachedPageUrl': 'http://cc.bingj.com/cache.aspx?q=2024+presidential+election+candidates+and+current+political+analysis&d=802319961263&mkt=en-GB&setlang=en-GB&w=Gv2eoF_WlGYwC8H5PJxc6MMN6jPIoAHF', 'language': 'en', 'isNavigational': False, 'noCache': False}, {'id': 'https://api.bing.microsoft.com/api/v7/#WebPages.9', 'name': '2024 Election news: Latest on the presidential race, polls & results', 'url': 'https://www.politico.com/news/2024-elections', 'isFamilyFriendly': True, 'displayUrl': 'https://www.politico.com/news/2024-elections', 'snippet': 'Live 2024 election results and maps by state The presidential nominating contests begin with the Iowa caucuses on Jan. 15 and the first-in-the-nation New Hampshire primary on Jan. 23.', 'dateLastCrawled': '2024-06-26T12:06:00.0000000Z', 'cachedPageUrl': 'http://cc.bingj.com/cache.aspx?q=2024+presidential+election+candidates+and+current+political+analysis&d=4872121122308605&mkt=en-GB&setlang=en-GB&w=EWv8IdF3jg6nlfmWPkylW6KXAa3PrE6D', 'language': 'en', 'isNavigational': False, 'noCache': False}], 'someResultsRemoved': True}, 'entities': {'value': [{'id': 'https://api.bing.microsoft.com/api/v7/#Entities.0', 'contractualRules': [{'_type': 'ContractualRules/LicenseAttribution', 'targetPropertyName': 'description', 'mustBeCloseToContent': True, 'license': {'name': 'CC-BY-SA', 'url': 'http://creativecommons.org/licenses/by-sa/3.0/'}, 'licenseNotice': 'Text under CC-BY-SA license'}, {'_type': 'ContractualRules/LinkAttribution', 'targetPropertyName': 'description', 'mustBeCloseToContent': True, 'text': 'Wikipedia', 'url': 'https://en.wikipedia.org/wiki/2024_United_States_presidential_election'}, {'_type': 'ContractualRules/MediaAttribution', 'targetPropertyName': 'image', 'mustBeCloseToContent': True, 'url': 'https://en.wikipedia.org/wiki/2024_United_States_presidential_election'}], 'webSearchUrl': 'https://www.bing.com/entityexplore?q=2024+United+States+presidential+election&filters=sid:%22eb3d2900-d8f6-7103-31a3-4a9f285c366a%22&elv=AXXfrEiqqD9r3GuelwApulo8KUGqrKFxJ*KvS!1yaYHsOOQcNfU39or4mGf3!iseob5mWDMbs97vz7uySeTAEGuX!h012QDe181FTX1Cf1Dd', 'name': '2024 United States presidential election', 'image': {'name': '2024 United States presidential election', 'thumbnailUrl': 'http://www.bing.com/th?id=OSK.57d8cd23576ed9d1e7eb218d6e8a6a5f&w=110&h=75&c=7', 'provider': [{'_type': 'Organization', 'url': 'https://en.wikipedia.org/wiki/2024_United_States_presidential_election'}], 'hostPageUrl': 'https://upload.wikimedia.org/wikipedia/commons/thumb/f/f7/ElectoralCollege2024.svg/1200px-ElectoralCollege2024.svg.png', 'width': 110, 'height': 75, 'sourceWidth': 1200, 'sourceHeight': 698}, 'description': 'The 2024 United States presidential election will be the 60th quadrennial presidential election, set to be held on Tuesday, November 5, 2024. Voters will elect a president and vice president for a term of four years. The incumbent president, Joe Biden, a member of the Democratic Party, is running for re-election. His predecessor, Donald Trump, a member of the Republican Party, is running for re-election for a second, non-consecutive term, after losing to Biden in the 2020 presidential election. If both are nominated, this will mark the first presidential election rematch since 1956.', 'entityPresentationInfo': {'entityScenario': 'DominantEntity', 'entityTypeHints': ['Generic'], 'entityTypeDisplayHint': '60th presidential election'}, 'bingId': 'eb3d2900-d8f6-7103-31a3-4a9f285c366a'}]}, 'news': {'id': 'https://api.bing.microsoft.com/api/v7/#News', 'readLink': 'https://api.bing.microsoft.com/api/v7/news/search?q=2024+Presidential+Election+Candidates+And+Current+Political+Analysis', 'value': [{'contractualRules': [{'_type': 'ContractualRules/TextAttribution', 'text': 'ITV'}], 'name': 'Who will come out on top in the first US presidential debate of 2024?', 'url': 'https://www.itv.com/news/2024-06-27/who-will-come-out-on-top-in-the-first-us-presidential-debate-of-2024', 'image': {'contentUrl': 'https://images.ctfassets.net/pjshm78m9jt4/63JN3b5PkLWSZJwgf7X4Sc/acaeea16e58a4bc48fc0eb57afb39dc7/AP24178085642602.jpg?fm=jpg&fit=fill&w=1600&h=900&q=80', 'thumbnail': {'contentUrl': 'https://www.bing.com/th?id=OVFT.3l2Sf2Cc2QgWdMYsAmPGkC&pid=News', 'width': 700, 'height': 393}}, 'description': 'The first presidential debate takes place in the US on Thursday night, and all eyes will be on the re-match between President Biden, and former President Trump. | ITV National News', 'about': [{'readLink': 'https://api.bing.microsoft.com/api/v7/entities/f29259f0-fb31-42b7-8333-e1319ae56d5a', 'name': 'ITV'}, {'readLink': 'https://api.bing.microsoft.com/api/v7/entities/84604bc7-2c47-4f8d-8ea5-b6ac8c018a20', 'name': 'Georgia'}, {'readLink': 'https://api.bing.microsoft.com/api/v7/entities/cad484f9-be75-7a78-12dd-16233f823cd7', 'name': 'Joe Biden'}, {'readLink': 'https://api.bing.microsoft.com/api/v7/entities/1a466af2-ed23-25bd-794d-1ca925e4681b', 'name': 'Donald Trump'}, {'readLink': 'https://api.bing.microsoft.com/api/v7/entities/c4c637e5-f9cc-a3ed-3380-7152515e062e', 'name': 'CNN'}], 'provider': [{'_type': 'Organization', 'name': 'ITV', 'image': {'thumbnail': {'contentUrl': 'https://www.bing.com/th?id=ODF.HlKTyCgM99pRvmITMdZC2w&pid=news'}}}], 'datePublished': '2024-06-27T10:39:00.0000000Z', 'video': {'name': 'Who will come out on top in the first US presidential debate of 2024?', 'thumbnailUrl': 'https://www.bing.com/th?id=OVF.hArh81ln8mtva2orbeoe7Q&pid=News', 'thumbnail': {'width': 520, 'height': 292}}, 'category': 'Politics'}, {'contractualRules': [{'_type': 'ContractualRules/TextAttribution', 'text': 'CNN'}], 'name': 'The latest on the 2024 campaign and primary elections', 'url': 'https://www.cnn.com/politics/live-news/election-news-trump-biden-06-25-24/index.html', 'image': {'contentUrl': 'https://media.cnn.com/api/v1/images/stellar/prod/20240615-debate.jpg?c=16x9&q=w_800,c_fill', 'thumbnail': {'contentUrl': 'https://www.bing.com/th?id=OVFT.IiNRBsK59VYFBpslN23vNi&pid=News', 'width': 700, 'height': 393}}, 'description': 'Follow here for the latest live news updates on Tuesday’s primaries and CNN’s upcoming presidential debate with President Joe Biden and former President Donald Trump.', 'about': [{'readLink': 'https://api.bing.microsoft.com/api/v7/entities/1a466af2-ed23-25bd-794d-1ca925e4681b', 'name': 'Donald Trump'}, {'readLink': 'https://api.bing.microsoft.com/api/v7/entities/c4c637e5-f9cc-a3ed-3380-7152515e062e', 'name': 'CNN'}, {'readLink': 'https://api.bing.microsoft.com/api/v7/entities/53c34e6f-f7f3-a9b0-880a-612e57dd8e9b', 'name': 'Republican Party'}, {'readLink': 'https://api.bing.microsoft.com/api/v7/entities/5fece3f4-e8e8-4159-843e-f725a930ad50', 'name': 'Florida'}, {'readLink': 'https://api.bing.microsoft.com/api/v7/entities/a070c5c2-b22d-41d8-b869-f20e583c4f80', 'name': 'Colorado'}, {'readLink': 'https://api.bing.microsoft.com/api/v7/entities/caeb7b9a-f5d7-4686-8fb5-cf7628296b13', 'name': 'New York'}, {'readLink': 'https://api.bing.microsoft.com/api/v7/entities/810015e8-b10b-4232-9e2c-de87a67bd26e', 'name': 'South Carolina'}, {'readLink': 'https://api.bing.microsoft.com/api/v7/entities/c6705e44-d27f-4240-95a2-54e802e3b524', 'name': 'Utah'}, {'readLink': 'https://api.bing.microsoft.com/api/v7/entities/2a91ca9d-c324-4e1d-ac70-94e6e5625f76', 'name': 'Ken Buck'}], 'provider': [{'_type': 'Organization', 'name': 'CNN', 'image': {'thumbnail': {'contentUrl': 'https://www.bing.com/th?id=ODF.t0BGYosS4GKZSebCajKQGA&pid=news'}}}], 'datePublished': '2024-06-25T23:24:00.0000000Z', 'category': 'Politics'}, {'contractualRules': [{'_type': 'ContractualRules/TextAttribution', 'text': 'ABC News'}], 'name': \"Analysis: No matter who wins Iran's presidential election, much may hinge on the 'Great Satan' US\", 'url': 'https://abcnews.go.com/International/wireStory/analysis-matter-wins-irans-presidential-election-hinge-great-111466405', 'image': {'contentUrl': 'https://i.abcnewsfe.com/a/4fd0c65a-55b0-4064-bbf0-b902ed6fac76/wirestory_b876feed55807a36aef03ea44fd1c10d_16x9.jpg?w=1600', 'thumbnail': {'contentUrl': 'https://www.bing.com/th?id=OVFT.TWhdl7NbjLQdDxteHWVSNy&pid=News', 'width': 700, 'height': 393}}, 'description': 'That worsened the political ... the six presidential contenders, Trump has repeatedly emerged as a theme. One of them, hard-liner Amir Hossein Qazizadeh Hashemi, a current vice president, contended that if Trump wins the U.S. presidential election ...', 'about': [{'readLink': 'https://api.bing.microsoft.com/api/v7/entities/fd56a0c1-5b09-6e40-09dc-a8abf5069c30', 'name': 'Hamas'}, {'readLink': 'https://api.bing.microsoft.com/api/v7/entities/1ffafed3-2b37-b871-c271-aa855d98449a', 'name': 'Israel'}, {'readLink': 'https://api.bing.microsoft.com/api/v7/entities/90eb9ff6-60ad-da43-d3fe-1ee3e3cb775a', 'name': 'Gaza Strip'}, {'readLink': 'https://api.bing.microsoft.com/api/v7/entities/be495e21-8e36-a64d-d87a-350ba05996eb', 'name': 'Dubai'}, {'readLink': 'https://api.bing.microsoft.com/api/v7/entities/254a2621-4625-0f85-0b9d-13e4e75e5c9b', 'name': 'United Arab Emirates'}, {'readLink': 'https://api.bing.microsoft.com/api/v7/entities/502b5268-992d-26c9-a0d8-6f206338406e', 'name': 'Iran'}, {'readLink': 'https://api.bing.microsoft.com/api/v7/entities/f6890262-5877-5b01-f045-08a22405151a', 'name': 'Ebrahim Raisi'}, {'readLink': 'https://api.bing.microsoft.com/api/v7/entities/54761eba-5c6b-424a-30c0-a05c8de6fa19', 'name': 'Islamic republic'}], 'provider': [{'_type': 'Organization', 'name': 'ABC News'}], 'datePublished': '2024-06-27T05:22:00.0000000Z', 'category': 'World'}, {'contractualRules': [{'_type': 'ContractualRules/TextAttribution', 'text': 'Middle East Eye'}], 'name': 'Iranian press review: From gold handouts to free fuel, presidential candidates make wild promises', 'url': 'https://www.middleeasteye.net/news/iran-press-review-presidential-candidates-wild-promises-gold-giveaways-free-fuel', 'image': {'contentUrl': 'https://www.middleeasteye.net/sites/default/files/images-story/Iran-jalili-supporter-presidential-election-tehran-june2024-reuters.jpg', 'thumbnail': {'contentUrl': 'https://www.bing.com/th?id=OVFT.naN3OUgBYOQU513we0bbki&pid=News', 'width': 700, 'height': 393}}, 'description': 'The presidential campaign of the six candidates in Iran has been ... cleric running in the presidential election in Iran, made a rare move by defending his role in the execution of thousands of leftist political activists serving prison terms in 1988.', 'about': [{'readLink': 'https://api.bing.microsoft.com/api/v7/entities/8e8f4910-fd14-4724-a9e9-e9f4506b0309', 'name': '1988'}, {'readLink': 'https://api.bing.microsoft.com/api/v7/entities/502b5268-992d-26c9-a0d8-6f206338406e', 'name': 'Iran'}, {'readLink': 'https://api.bing.microsoft.com/api/v7/entities/29dc17c2-71e3-4d06-8b28-cbe9efeb0bc5', 'name': 'Alireza Zakani'}, {'readLink': 'https://api.bing.microsoft.com/api/v7/entities/08033170-d738-6401-e42a-fb99d1cdb464', 'name': 'Tehran'}], 'provider': [{'_type': 'Organization', 'name': 'Middle East Eye'}], 'datePublished': '2024-06-27T13:38:00.0000000Z', 'category': 'World'}, {'contractualRules': [{'_type': 'ContractualRules/TextAttribution', 'text': 'Sky'}], 'name': \"Iran's high-stakes presidential election will be crucial for regime's future\", 'url': 'https://news.sky.com/story/irans-high-stakes-presidential-election-will-be-crucial-for-regimes-future-13159472', 'image': {'contentUrl': 'https://e3.365dm.com/24/05/1600x900/skynews-mashhad-iran-ebrahim-raisi_6563554.jpg?20240523105847', 'thumbnail': {'contentUrl': 'https://www.bing.com/th?id=OVFT.ZXG-R1-y7h5_iTBHH814fy&pid=News', 'width': 700, 'height': 393}}, 'description': \"Six men are vying to be the country's new president following the death of Ebrahim Raisi in a helicopter crash last month. Whoever wins will play a major role in Iran's future - in more ways than one.\", 'about': [{'readLink': 'https://api.bing.microsoft.com/api/v7/entities/502b5268-992d-26c9-a0d8-6f206338406e', 'name': 'Iran'}, {'readLink': 'https://api.bing.microsoft.com/api/v7/entities/f6890262-5877-5b01-f045-08a22405151a', 'name': 'Ebrahim Raisi'}], 'provider': [{'_type': 'Organization', 'name': 'Sky', 'image': {'thumbnail': {'contentUrl': 'https://www.bing.com/th?id=ODF.Eg62H9DIbo-JYPI6GpAgGA&pid=news'}}}], 'datePublished': '2024-06-27T01:02:00.0000000Z', 'video': {'name': \"Iran's high-stakes presidential election will be crucial for regime's future | World News | Sky News\", 'thumbnailUrl': 'https://www.bing.com/th?id=OVF.Z5Zq9qcu2%2FZ6CCDHEzpzLg&pid=News', 'thumbnail': {'width': 520, 'height': 292}}, 'category': 'World'}]}, 'relatedSearches': {'id': 'https://api.bing.microsoft.com/api/v7/#RelatedSearches', 'value': [{'text': 'registered 2024 presidential candidates', 'displayText': 'registered 2024 presidential candidates', 'webSearchUrl': 'https://www.bing.com/search?q=registered+2024+presidential+candidates'}, {'text': 'us presidential election 2024 candidates list', 'displayText': 'us presidential election 2024 candidates list', 'webSearchUrl': 'https://www.bing.com/search?q=us+presidential+election+2024+candidates+list'}, {'text': '2024 current presidential candidates', 'displayText': '2024 current presidential candidates', 'webSearchUrl': 'https://www.bing.com/search?q=2024+current+presidential+candidates'}, {'text': 'whos running against biden 2024', 'displayText': 'whos running against biden 2024', 'webSearchUrl': 'https://www.bing.com/search?q=whos+running+against+biden+2024'}, {'text': 'democrat presidential candidates for 2024', 'displayText': 'democrat presidential candidates for 2024', 'webSearchUrl': 'https://www.bing.com/search?q=democrat+presidential+candidates+for+2024'}, {'text': '2024 leading presidential candidates', 'displayText': '2024 leading presidential candidates', 'webSearchUrl': 'https://www.bing.com/search?q=2024+leading+presidential+candidates'}, {'text': '2024 republican presidential contenders', 'displayText': '2024 republican presidential contenders', 'webSearchUrl': 'https://www.bing.com/search?q=2024+republican+presidential+contenders'}, {'text': 'who is running independent 2024', 'displayText': 'who is running independent 2024', 'webSearchUrl': 'https://www.bing.com/search?q=who+is+running+independent+2024'}]}, 'videos': {'id': 'https://api.bing.microsoft.com/api/v7/#Videos', 'readLink': 'https://api.bing.microsoft.com/api/v7/videos/search?q=2024+presidential+election+candidates+and+current+political+analysis', 'webSearchUrl': 'https://www.bing.com/videos/search?q=2024+presidential+election+candidates+and+current+political+analysis', 'isFamilyFriendly': True, 'value': [{'webSearchUrl': 'https://www.bing.com/videos/search?q=2024%20presidential%20election%20candidates%20and%20current%20political%20analysis&view=detail&mid=4E4FA4C7F1D57E86200E4E4FA4C7F1D57E86200E', 'name': 'Analysis | The top 10 Republican presidential candidates for 2024, ranked', 'description': 'This month’s biggest gainer: former South Carolina governor and United Nations ambassador Nikki Haley.', 'thumbnailUrl': 'https://tse2.mm.bing.net/th?id=OVP.TDT2TWO1qhTvwMsug4G5ygEsDI&pid=Api', 'datePublished': '2023-09-03T13:24:23.0000000', 'publisher': [{'name': 'The Washington Post'}], 'creator': {'name': 'aaron blake'}, 'contentUrl': 'https://www.washingtonpost.com/politics/2023/09/03/republican-presidential-rankings-2024/', 'hostPageUrl': 'https://www.washingtonpost.com/politics/2023/09/03/republican-presidential-rankings-2024/', 'encodingFormat': '', 'hostPageDisplayUrl': 'https://www.washingtonpost.com/politics/2023/09/03/republican-presidential-rankings-2024/', 'width': 1440, 'height': 960, 'embedHtml': '<iframe width=\"960\" height=\"720\" scrolling=\"no\" src=\"http://www.washingtonpost.com/posttv/c/embed/fe3f28f7-1ec7-4a7c-b1ef-224093c265f6\" frameborder=\"0\" allowfullscreen></iframe>', 'viewCount': 0, 'thumbnail': {'width': 160, 'height': 106}, 'isSuperfresh': False}, {'webSearchUrl': 'https://www.bing.com/videos/search?q=2024%20presidential%20election%20candidates%20and%20current%20political%20analysis&view=detail&mid=054294E1C840D04AE536054294E1C840D04AE536', 'name': '2024 US presidential primaries explained: When are they and who can vote', 'description': 'A primary is an election to select candidates, usually for a particular political party, to appear on the general election ballot.', 'thumbnailUrl': 'https://tse2.mm.bing.net/th?id=OVP.LgwbfBAd3fOsdwIGWbevcwEsCo&pid=Api', 'datePublished': '2024-01-09T17:12:00.0000000', 'publisher': [{'name': 'ABC13 Houston'}], 'creator': {'name': 'Analysis by Zachary B. Wolf,CNN'}, 'contentUrl': 'https://abc13.com/presidential-primaries-what-are-the-caucuses-2024/14301181/', 'hostPageUrl': 'https://abc13.com/presidential-primaries-what-are-the-caucuses-2024/14301181/', 'encodingFormat': 'mp4', 'hostPageDisplayUrl': 'https://abc13.com/presidential-primaries-what-are-the-caucuses-2024/14301181/', 'width': 1600, 'height': 900, 'duration': 'PT1M54S', 'motionThumbnailUrl': 'https://tse2.mm.bing.net/th?id=OM.NuVK0EDI4ZRCBQ_1707394969&pid=Api', 'embedHtml': '<iframe width=\"476\" height=\"267\" src=\"https://abc13.com/video/embed/?pid=14267460\" scrolling=\"no\" frameborder=\"0\" allowfullscreen></iframe>', 'allowHttpsEmbed': True, 'viewCount': 0, 'thumbnail': {'width': 160, 'height': 89}, 'allowMobileEmbed': True, 'isSuperfresh': False}, {'webSearchUrl': 'https://www.bing.com/videos/search?q=2024%20presidential%20election%20candidates%20and%20current%20political%20analysis&view=detail&mid=5F688E54B51ECEA13A2A5F688E54B51ECEA13A2A', 'name': 'Trump legal cases, U.S. elections and more — political analysts share 2024 predictions', 'description': 'CBS News political contributors Terry Sullivan and Joel Payne join \"CBS Mornings\" to share their expectations for the new year in politics, including the 2024 presidential election, and what issues will matter most to voters. #news #2024elections #trump Each weekday morning, \"CBS Mornings” co-hosts Gayle King, Tony Dokoupil and Nate Burleson ...', 'thumbnailUrl': 'https://tse1.mm.bing.net/th?id=OVP.gBYwdA658Yb8nKuJDU1-EQHgFo&pid=Api', 'datePublished': '2023-12-29T16:03:08.0000000', 'publisher': [{'name': 'YouTube'}], 'creator': {'name': 'CBS News'}, 'isAccessibleForFree': True, 'contentUrl': 'https://www.youtube.com/watch?v=b2tNVdGlkRM', 'hostPageUrl': 'https://www.youtube.com/watch?v=b2tNVdGlkRM', 'encodingFormat': 'mp4', 'hostPageDisplayUrl': 'https://www.youtube.com/watch?v=b2tNVdGlkRM', 'width': 1920, 'height': 1080, 'duration': 'PT6M21S', 'motionThumbnailUrl': 'https://tse1.mm.bing.net/th?id=OM.Kjqhzh61VI5oXw&pid=Api', 'embedHtml': '<iframe width=\"1280\" height=\"720\" src=\"http://www.youtube.com/embed/b2tNVdGlkRM?autoplay=1\" frameborder=\"0\" allowfullscreen></iframe>', 'allowHttpsEmbed': True, 'viewCount': 106325, 'thumbnail': {'width': 160, 'height': 120}, 'allowMobileEmbed': True, 'isSuperfresh': False}, {'webSearchUrl': 'https://www.bing.com/videos/search?q=2024%20presidential%20election%20candidates%20and%20current%20political%20analysis&view=detail&mid=05CC81DEA3695DC0719E05CC81DEA3695DC0719E', 'name': 'US Presidential elections 2024: Polls show tie between Ramaswamy & DeSaints | WION', 'description': \"The 2024 presidential race is heating up in the United States and it's not only the conventional red versus blue rivalry that's getting intense. The intra-party race for the Republican nomination is also getting interesting. #republican #ramaswamy #elections About Channel: WION The World is One News examines global issues with in-depth analysis ...\", 'thumbnailUrl': 'https://tse4.mm.bing.net/th?id=OVP.MYw8lCrNtd-iu4JI2DbUFQHgFo&pid=Api', 'datePublished': '2023-07-25T15:47:43.0000000', 'publisher': [{'name': 'YouTube'}], 'creator': {'name': 'WION'}, 'isAccessibleForFree': True, 'contentUrl': 'https://www.youtube.com/watch?v=15Bfx9gyMz0', 'hostPageUrl': 'https://www.youtube.com/watch?v=15Bfx9gyMz0', 'encodingFormat': 'mp4', 'hostPageDisplayUrl': 'https://www.youtube.com/watch?v=15Bfx9gyMz0', 'width': 1920, 'height': 1080, 'duration': 'PT2M21S', 'motionThumbnailUrl': 'https://tse4.mm.bing.net/th?id=OM1.nnHAXWmj3oHMBQ&pid=Api', 'embedHtml': '<iframe width=\"1280\" height=\"720\" src=\"http://www.youtube.com/embed/15Bfx9gyMz0?autoplay=1\" frameborder=\"0\" allowfullscreen></iframe>', 'allowHttpsEmbed': True, 'viewCount': 59089, 'thumbnail': {'width': 160, 'height': 120}, 'allowMobileEmbed': True, 'isSuperfresh': False}, {'webSearchUrl': 'https://www.bing.com/videos/search?q=2024%20presidential%20election%20candidates%20and%20current%20political%20analysis&view=detail&mid=69637C669C180931A05669637C669C180931A056', 'name': 'GOP expands field of 2024 presidential candidates', 'description': 'The field of Republican candidates who have announced they will be running for the presidency in 2024 keeps widening. STORY: https://www.fox32chicago.com/election/former-vp-mike-pence-officially-launches-2024-white-house-bid Subscribe to FOX 32 Chicago: https://www.youtube.com/fox32chicago?sub_confirmation=1 Watch FOX 32 Chicago Live: https ...', 'thumbnailUrl': 'https://tse1.mm.bing.net/th?id=OVP.NXD6IzdpoQHqxGlahlJCOQHgFo&pid=Api', 'datePublished': '2023-06-07T17:28:57.0000000', 'publisher': [{'name': 'YouTube'}], 'creator': {'name': 'FOX 32 Chicago'}, 'isAccessibleForFree': True, 'contentUrl': 'https://www.youtube.com/watch?v=FNJ81BG7zxI', 'hostPageUrl': 'https://www.youtube.com/watch?v=FNJ81BG7zxI', 'encodingFormat': 'mp4', 'hostPageDisplayUrl': 'https://www.youtube.com/watch?v=FNJ81BG7zxI', 'width': 1280, 'height': 720, 'duration': 'PT1M52S', 'motionThumbnailUrl': 'https://tse1.mm.bing.net/th?id=OM2.VqAxCRicZnxjaQ&pid=Api', 'embedHtml': '<iframe width=\"1280\" height=\"720\" src=\"http://www.youtube.com/embed/FNJ81BG7zxI?autoplay=1\" frameborder=\"0\" allowfullscreen></iframe>', 'allowHttpsEmbed': True, 'viewCount': 44075, 'thumbnail': {'width': 160, 'height': 120}, 'allowMobileEmbed': True, 'isSuperfresh': False}, {'webSearchUrl': 'https://www.bing.com/videos/search?q=2024%20presidential%20election%20candidates%20and%20current%20political%20analysis&view=detail&mid=1850FF68D3EC75DB4D391850FF68D3EC75DB4D39', 'name': '2024 US presidential primaries explained: When are they and who can vote', 'description': \"Wondering what a primary is and who can vote? Here's our guide to the 2024 presidential primaries.\", 'thumbnailUrl': 'https://tse3.mm.bing.net/th?id=OVP.hEmoklCESjVMzpxFJijupwEsCo&pid=Api', 'datePublished': '2024-01-09T17:12:00.0000000', 'publisher': [{'name': 'ABC7 Los Angeles'}], 'creator': {'name': 'Analysis by Zachary B. Wolf,CNN'}, 'contentUrl': 'https://abc7.com/presidential-primaries-what-are-the-caucuses-2024/14301181/', 'hostPageUrl': 'https://abc7.com/presidential-primaries-what-are-the-caucuses-2024/14301181/', 'encodingFormat': 'mp4', 'hostPageDisplayUrl': 'https://abc7.com/presidential-primaries-what-are-the-caucuses-2024/14301181/', 'width': 3264, 'height': 1836, 'duration': 'PT1M54S', 'motionThumbnailUrl': 'https://tse3.mm.bing.net/th?id=OM1.OU3bdezTaP9QGA&pid=Api', 'embedHtml': '<iframe width=\"476\" height=\"267\" src=\"https://abc7.com/video/embed/?pid=14267460\" frameborder=\"0\" allowfullscreen ></iframe>', 'allowHttpsEmbed': True, 'viewCount': 0, 'thumbnail': {'width': 160, 'height': 89}, 'allowMobileEmbed': True, 'isSuperfresh': False}, {'webSearchUrl': 'https://www.bing.com/videos/search?q=2024%20presidential%20election%20candidates%20and%20current%20political%20analysis&view=detail&mid=65A26DC786036286A29965A26DC786036286A299', 'name': 'Trump’s 2024 Presidential Bid: What’s Changed Since 2020? | WSJ', 'description': 'Donald Trump has announced his bid to run in the 2024 presidential race. WSJ’s Alex Leary breaks down the challenges the former president will face on the campaign trail, including new political rivals and a waning influence among voters. Photo Composite: Adele Morgan More from the Wall Street Journal: Visit WSJ.com: http://www.wsj.com Visit ...', 'thumbnailUrl': 'https://tse3.mm.bing.net/th?id=OVP.AuZhoutgGXPhyCtBeTZP0AEsDh&pid=Api', 'datePublished': '2022-11-16T14:37:57.0000000', 'publisher': [{'name': 'YouTube'}], 'creator': {'name': 'The Wall Street Journal'}, 'isAccessibleForFree': True, 'contentUrl': 'https://www.youtube.com/watch?v=pdrvrxkKco8', 'hostPageUrl': 'https://www.youtube.com/watch?v=pdrvrxkKco8', 'encodingFormat': 'mp4', 'hostPageDisplayUrl': 'https://www.youtube.com/watch?v=pdrvrxkKco8', 'width': 1920, 'height': 1080, 'duration': 'PT5M12S', 'motionThumbnailUrl': 'https://tse3.mm.bing.net/th?id=OM1.maKGYgOGx22iZQ&pid=Api', 'embedHtml': '<iframe width=\"1280\" height=\"720\" src=\"http://www.youtube.com/embed/pdrvrxkKco8?autoplay=1\" frameborder=\"0\" allowfullscreen></iframe>', 'allowHttpsEmbed': True, 'viewCount': 107309, 'thumbnail': {'width': 160, 'height': 120}, 'allowMobileEmbed': True, 'isSuperfresh': False}, {'webSearchUrl': 'https://www.bing.com/videos/search?q=2024%20presidential%20election%20candidates%20and%20current%20political%20analysis&view=detail&mid=566E2B29E29D99FA5B02566E2B29E29D99FA5B02', 'name': 'Donald Trump 2024', 'description': \"Read the latest streaming news and analysis on Donald Trump and the 2020 Presidential Election. Follow today's top polls, candidates, primaries, fundraising, debates and more with POLITICO.\", 'thumbnailUrl': 'https://tse3.mm.bing.net/th?id=OVP.vP2aI_PCI_9GyR572L4_UgEsCo&pid=Api', 'datePublished': '2024-06-17T13:50:00.0000000', 'publisher': [{'name': 'POLITICO'}], 'creator': {'name': 'MADISON FERNANDEZ'}, 'contentUrl': 'https://www.politico.com/news/trump-2020-presidential-election', 'hostPageUrl': 'https://www.politico.com/news/trump-2020-presidential-election', 'encodingFormat': '', 'hostPageDisplayUrl': 'https://www.politico.com/news/trump-2020-presidential-election', 'width': 1160, 'height': 653, 'embedHtml': \"<iframe src='//players.brightcove.net/1155968404/r1WF6V0Pl_default/index.html?videoId=6355246227112' allowfullscreen frameborder=0></iframe>\", 'allowHttpsEmbed': True, 'viewCount': 0, 'thumbnail': {'width': 160, 'height': 89}, 'allowMobileEmbed': True, 'isSuperfresh': False}, {'webSearchUrl': 'https://www.bing.com/videos/search?q=2024%20presidential%20election%20candidates%20and%20current%20political%20analysis&view=detail&mid=89CE55ED0A6479A7CC7489CE55ED0A6479A7CC74', 'name': 'GOP 2024 presidential field widens as candidates head to Iowa', 'description': '2024 Republican presidential hopefuls flocked to Iowa Saturday to woo voters as former New Jersey Governor Chris Christie prepares for his campaign launch. A political panel joined American Voices with Alicia Menendez to discuss the GOP field as the party fails to breakaway from Trumpism. » Subscribe to MSNBC: http://on.msnbc.com ...', 'thumbnailUrl': 'https://tse4.mm.bing.net/th?id=OVP.K8I1gZVA0EIDgA56t7M5lQHgFo&pid=Api', 'datePublished': '2023-06-04T20:00:12.0000000', 'publisher': [{'name': 'YouTube'}], 'creator': {'name': 'MSNBC'}, 'isAccessibleForFree': True, 'contentUrl': 'https://www.youtube.com/watch?v=nt_ymbZd1p0', 'hostPageUrl': 'https://www.youtube.com/watch?v=nt_ymbZd1p0', 'encodingFormat': 'mp4', 'hostPageDisplayUrl': 'https://www.youtube.com/watch?v=nt_ymbZd1p0', 'width': 1920, 'height': 1080, 'duration': 'PT5M8S', 'motionThumbnailUrl': 'https://tse4.mm.bing.net/th?id=OM.dMyneWQK7VXOiQ&pid=Api', 'embedHtml': '<iframe width=\"1280\" height=\"720\" src=\"http://www.youtube.com/embed/nt_ymbZd1p0?autoplay=1\" frameborder=\"0\" allowfullscreen></iframe>', 'allowHttpsEmbed': True, 'viewCount': 95527, 'thumbnail': {'width': 160, 'height': 120}, 'allowMobileEmbed': True, 'isSuperfresh': False}, {'webSearchUrl': 'https://www.bing.com/videos/search?q=2024%20presidential%20election%20candidates%20and%20current%20political%20analysis&view=detail&mid=990F58183CECC97A8491990F58183CECC97A8491', 'name': 'Biden leading Trump in new general election polling', 'description': 'President Biden is leading former President Trump by five points in new 2024 general election matchup polling from Quinnipiac. Also, Trump leads DeSantis by 29 points in the 2024 GOP primary. » Subscribe to MSNBC: http://on.msnbc.com/SubscribeTomsnbc Follow MSNBC Show Blogs MaddowBlog: https://www.msnbc.com/maddowblog ReidOut Blog: https://www ...', 'thumbnailUrl': 'https://tse2.mm.bing.net/th?id=OVP.qhiFmE0AA7uJj6ZlGs-P3gHgFo&pid=Api', 'datePublished': '2023-07-20T11:45:01.0000000', 'publisher': [{'name': 'YouTube'}], 'creator': {'name': 'MSNBC'}, 'isAccessibleForFree': True, 'contentUrl': 'https://www.youtube.com/watch?v=SeH8d5feMcg', 'hostPageUrl': 'https://www.youtube.com/watch?v=SeH8d5feMcg', 'encodingFormat': 'mp4', 'hostPageDisplayUrl': 'https://www.youtube.com/watch?v=SeH8d5feMcg', 'width': 1920, 'height': 1080, 'duration': 'PT6M42S', 'motionThumbnailUrl': 'https://tse2.mm.bing.net/th?id=OM.kYR6yew8GFgPmQ&pid=Api', 'embedHtml': '<iframe width=\"1280\" height=\"720\" src=\"http://www.youtube.com/embed/SeH8d5feMcg?autoplay=1\" frameborder=\"0\" allowfullscreen></iframe>', 'allowHttpsEmbed': True, 'viewCount': 208711, 'thumbnail': {'width': 160, 'height': 120}, 'allowMobileEmbed': True, 'isSuperfresh': False}], 'scenario': 'List'}, 'rankingResponse': {'mainline': {'items': [{'answerType': 'WebPages', 'resultIndex': 0, 'value': {'id': 'https://api.bing.microsoft.com/api/v7/#WebPages.0'}}, {'answerType': 'WebPages', 'resultIndex': 1, 'value': {'id': 'https://api.bing.microsoft.com/api/v7/#WebPages.1'}}, {'answerType': 'WebPages', 'resultIndex': 2, 'value': {'id': 'https://api.bing.microsoft.com/api/v7/#WebPages.2'}}, {'answerType': 'News', 'value': {'id': 'https://api.bing.microsoft.com/api/v7/#News'}}, {'answerType': 'Videos', 'value': {'id': 'https://api.bing.microsoft.com/api/v7/#Videos'}}, {'answerType': 'WebPages', 'resultIndex': 3, 'value': {'id': 'https://api.bing.microsoft.com/api/v7/#WebPages.3'}}, {'answerType': 'WebPages', 'resultIndex': 4, 'value': {'id': 'https://api.bing.microsoft.com/api/v7/#WebPages.4'}}, {'answerType': 'WebPages', 'resultIndex': 5, 'value': {'id': 'https://api.bing.microsoft.com/api/v7/#WebPages.5'}}, {'answerType': 'WebPages', 'resultIndex': 6, 'value': {'id': 'https://api.bing.microsoft.com/api/v7/#WebPages.6'}}, {'answerType': 'WebPages', 'resultIndex': 7, 'value': {'id': 'https://api.bing.microsoft.com/api/v7/#WebPages.7'}}, {'answerType': 'WebPages', 'resultIndex': 8, 'value': {'id': 'https://api.bing.microsoft.com/api/v7/#WebPages.8'}}, {'answerType': 'WebPages', 'resultIndex': 9, 'value': {'id': 'https://api.bing.microsoft.com/api/v7/#WebPages.9'}}, {'answerType': 'RelatedSearches', 'value': {'id': 'https://api.bing.microsoft.com/api/v7/#RelatedSearches'}}]}, 'sidebar': {'items': [{'answerType': 'Entities', 'resultIndex': 0, 'value': {'id': 'https://api.bing.microsoft.com/api/v7/#Entities.0'}}]}}}\n"
     ]
    }
   ],
   "source": [
    "context = ''\n",
    "print(response.json())\n",
    "for result in response.json()['webPages']['value']:\n",
    "    context += result['snippet'] + '\\n'"
   ]
  },
  {
   "attachments": {},
   "cell_type": "markdown",
   "metadata": {},
   "source": [
    "### Collected information for further processing"
   ]
  },
  {
   "cell_type": "code",
   "execution_count": 39,
   "metadata": {},
   "outputs": [
    {
     "name": "stdout",
     "output_type": "stream",
     "text": [
      "Our polling averages track the latest trends in the presidential race, using data from national and battleground state polls. ... On Politics Newsletter. The latest news and analysis on the 2024 ...\n",
      "Joe Biden has about a 1 in 3 chance. 2020 results. 306 306 232 232. Likely range. Median. Our model is updated every day and combines state and national polls with economic indicators to predict ...\n",
      "The latest political polls and polling averages from FiveThirtyEight. UPDATED Jun. 26, 2024, at 9:02 PM. ... Updating average for each candidate in 2024 presidential polls, accounting for each poll's recency, sample size, methodology and house effects. ... general election, 2024. AVG. June 22-24. 878: LV: June 22-24. 878 LV. Leger. The New York ...\n",
      "The presidential election is 132 days away. Here’s our guide to the run-up to Election Day. ... On Politics Newsletter. The latest news and analysis on the 2024 elections, sent to your inbox.\n",
      "2024 election guide: Presidential candidates, polls, primaries and caucuses, voter information and results for November 5, 2024\n",
      "With 133 days until Election Day, our forecast still sees the presidential race as a pure toss-up. Right now, President Joe Biden is favored to win in 501 out of 1,000 of our model’s simulations of how the election could go, while former President Donald Trump wins in 495 of our simulations. There is still a small chance of the pure chaos ...\n",
      "Ahead of the 2024 presidential election, Morning Consult is conducting thousands of surveys every day, asking registered U.S. voters whom they plan to vote for in 2024’s rematch between President Joe Biden and former President Donald Trump, as well as how they view these candidates and other top political figures.\n",
      "Updating average for each candidate in 2024 presidential polls, accounting for each poll's recency, sample size, methodology and house effects. Polling averages are adjusted based on state and national polls, which means candidates’ averages can shift even if no new polls have been added to this page. Read the full methodology here. Sort by date.\n",
      "Take a look at how polling errors in the last three presidential elections would affect our current 2024 polling averages. Story continues below advertisement Advertisement\n",
      "Live 2024 election results and maps by state The presidential nominating contests begin with the Iowa caucuses on Jan. 15 and the first-in-the-nation New Hampshire primary on Jan. 23.\n",
      "\n"
     ]
    }
   ],
   "source": [
    "print(context)"
   ]
  },
  {
   "cell_type": "code",
   "execution_count": 40,
   "metadata": {},
   "outputs": [],
   "source": [
    "system_prompt=f'''Answer the following questions as best you can. Use the context provided below:\n",
    "{context}\n",
    "\n",
    "Begin!\n",
    "'''\n",
    "user_prompt = f'''\n",
    "Question: {input}\\\n",
    "Answer:'''"
   ]
  },
  {
   "attachments": {},
   "cell_type": "markdown",
   "metadata": {},
   "source": [
    "### Step 3: GPT3: What do I need to do to answer this question? (Again)"
   ]
  },
  {
   "cell_type": "code",
   "execution_count": 41,
   "metadata": {},
   "outputs": [
    {
     "name": "stdout",
     "output_type": "stream",
     "text": [
      "According to the context provided, as of now, the 2024 presidential race is considered a pure toss-up, with President Joe Biden slightly favored to win in 501 out of 1,000 of their model's simulations. However, former President Donald Trump wins in 495 of their simulations, indicating a close race. The latest political polls and polling averages from FiveThirtyEight show updated averages for each candidate in the 2024 presidential polls, accounting for each poll's recency, sample size, methodology, and house effects. It is important to note that polling averages can shift even if no new polls have been added to the page. So, it is unclear which presidential candidate is likely to win in the 2024 election as of now, and the race appears to be very close.\n"
     ]
    }
   ],
   "source": [
    "response = client.chat.completions.create(\n",
    "    model=CHAT_COMPLETIONS_MODEL,\n",
    "    messages = [{\"role\":\"system\", \"content\":system_prompt},\n",
    "                {\"role\":\"user\",\"content\": user_prompt,}],\n",
    "        max_tokens=400,)\n",
    "\n",
    "print(response.choices[0].message.content)"
   ]
  },
  {
   "attachments": {},
   "cell_type": "markdown",
   "metadata": {},
   "source": [
    "### GPT3: I now have final answer to the question. "
   ]
  },
  {
   "cell_type": "markdown",
   "metadata": {},
   "source": [
    "#### Use cases to explore and think about with the customer\n",
    "1. **Knowledge Management** \\\n",
    "Improve access to corporate knowledge by retrieving and presenting information from internal documents, manuals, and policies.\n",
    "\n",
    "2. **Business Intelligence and Analytics** \\\n",
    "Support market analysts by retrieving relevant market data, reports, and insights from various sources.\n",
    "\n",
    "3. **Legal and Compliance** \\\n",
    "Aid legal professionals by retrieving relevant case laws, statutes, and legal precedents based on queries."
   ]
  }
 ],
 "metadata": {
  "kernelspec": {
   "display_name": "azureml_py310_sdkv2",
   "language": "python",
   "name": "python3"
  },
  "language_info": {
   "codemirror_mode": {
    "name": "ipython",
    "version": 3
   },
   "file_extension": ".py",
   "mimetype": "text/x-python",
   "name": "python",
   "nbconvert_exporter": "python",
   "pygments_lexer": "ipython3",
   "version": "3.11.9"
  },
  "orig_nbformat": 4
 },
 "nbformat": 4,
 "nbformat_minor": 2
}
