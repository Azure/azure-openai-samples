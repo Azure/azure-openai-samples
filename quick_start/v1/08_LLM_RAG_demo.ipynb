{
 "cells": [
  {
   "attachments": {},
   "cell_type": "markdown",
   "metadata": {},
   "source": [
    "# Demo: OpenAI Large Language Model - A RAG Sample\n",
    "\n",
    "In this demo, we show how to use GPT3 model to analyze natural query, use knowledge base to search for more information and answer questions."
   ]
  },
  {
   "cell_type": "code",
   "execution_count": 10,
   "metadata": {},
   "outputs": [],
   "source": [
    "import re\n",
    "import requests\n",
    "import sys\n",
    "import os\n",
    "from openai import AzureOpenAI\n",
    "import tiktoken\n",
    "from dotenv import load_dotenv\n",
    "load_dotenv()\n",
    "\n",
    "client = AzureOpenAI(\n",
    "  azure_endpoint = os.getenv(\"AZURE_OPENAI_ENDPOINT\"), \n",
    "  api_key=os.getenv(\"AZURE_OPENAI_KEY\"),  \n",
    "  api_version=\"2024-02-15-preview\"\n",
    ")\n",
    "\n",
    "CHAT_COMPLETIONS_MODEL = os.getenv('CHAT_COMPLETION_NAME')"
   ]
  },
  {
   "attachments": {},
   "cell_type": "markdown",
   "metadata": {},
   "source": [
    "### Start with a natural question"
   ]
  },
  {
   "cell_type": "code",
   "execution_count": 11,
   "metadata": {},
   "outputs": [],
   "source": [
    "input = \"Which presendential candidate is likely to win in 2024 election? Explain the reasons.\""
   ]
  },
  {
   "attachments": {},
   "cell_type": "markdown",
   "metadata": {},
   "source": [
    "### Step 1: GPT3: What do I need to to answer this question?"
   ]
  },
  {
   "cell_type": "code",
   "execution_count": 12,
   "metadata": {},
   "outputs": [],
   "source": [
    "system_prompt=f'''Answer the following questions as best you can. You have access to the following tools:\n",
    "\n",
    "Web Search: Use the web to find information\n",
    "\n",
    "You need to follow STRICTLY below format:\n",
    "\n",
    "Question: the input question you must answer\n",
    "Thought: you should always think about what to do\n",
    "Action: the action to take, should be one of [Research]\n",
    "Action Input: the input to the action\n",
    "\n",
    "Begin!\n",
    "'''\n",
    "user_prompt = f'''\n",
    "Question: {input}\n",
    "Thought:'''"
   ]
  },
  {
   "cell_type": "code",
   "execution_count": 13,
   "metadata": {},
   "outputs": [
    {
     "name": "stdout",
     "output_type": "stream",
     "text": [
      "It is too early to accurately predict the outcome of the 2024 presidential election as it is still several years away. However, I can research current polls, political trends, and potential candidates to make an educated guess. \n",
      "Action: Research \n",
      "Action Input: Current polling data, political news and trends, potential candidates.\n"
     ]
    }
   ],
   "source": [
    "response = client.chat.completions.create(\n",
    "    model=CHAT_COMPLETIONS_MODEL,\n",
    "    messages = [{\"role\":\"system\", \"content\":system_prompt},\n",
    "                {\"role\":\"user\",\"content\": user_prompt,}],\n",
    "        max_tokens=400,)\n",
    "\n",
    "print(response.choices[0].message.content)"
   ]
  },
  {
   "attachments": {},
   "cell_type": "markdown",
   "metadata": {},
   "source": [
    "### Step 2: Search web for more details \n",
    "Before continuing please create a Bing Search Service in your subscription [Create Bing Search Resource](https://learn.microsoft.com/en-us/bing/search-apis/bing-web-search/create-bing-search-service-resource).\n",
    "This sample makes a call to the Bing Web Search API with a query and returns relevant web search."
   ]
  },
  {
   "cell_type": "code",
   "execution_count": 31,
   "metadata": {},
   "outputs": [],
   "source": [
    "# Use Azure BING Search API to get the results\n",
    "import requests\n",
    "import json\n",
    "url = \"https://api.bing.microsoft.com/v7.0/search\"\n",
    "headers = {\"Ocp-Apim-Subscription-Key\": os.getenv('BING_SUBSCRIPTION_KEY')}\n",
    "params = {\"q\": \"2024 presidential election candidates and current political analysis\"}\n",
    "response = requests.get(url, headers=headers, params=params)"
   ]
  },
  {
   "cell_type": "code",
   "execution_count": 36,
   "metadata": {},
   "outputs": [
    {
     "name": "stdout",
     "output_type": "stream",
     "text": [
      "{'error': {'code': '404', 'message': 'Resource not found'}}\n"
     ]
    },
    {
     "ename": "KeyError",
     "evalue": "'webPages'",
     "output_type": "error",
     "traceback": [
      "\u001b[1;31m---------------------------------------------------------------------------\u001b[0m",
      "\u001b[1;31mKeyError\u001b[0m                                  Traceback (most recent call last)",
      "Cell \u001b[1;32mIn[36], line 3\u001b[0m\n\u001b[0;32m      1\u001b[0m context \u001b[38;5;241m=\u001b[39m \u001b[38;5;124m'\u001b[39m\u001b[38;5;124m'\u001b[39m\n\u001b[0;32m      2\u001b[0m \u001b[38;5;28mprint\u001b[39m(response\u001b[38;5;241m.\u001b[39mjson())\n\u001b[1;32m----> 3\u001b[0m \u001b[38;5;28;01mfor\u001b[39;00m result \u001b[38;5;129;01min\u001b[39;00m \u001b[43mresponse\u001b[49m\u001b[38;5;241;43m.\u001b[39;49m\u001b[43mjson\u001b[49m\u001b[43m(\u001b[49m\u001b[43m)\u001b[49m\u001b[43m[\u001b[49m\u001b[38;5;124;43m'\u001b[39;49m\u001b[38;5;124;43mwebPages\u001b[39;49m\u001b[38;5;124;43m'\u001b[39;49m\u001b[43m]\u001b[49m[\u001b[38;5;124m'\u001b[39m\u001b[38;5;124mvalue\u001b[39m\u001b[38;5;124m'\u001b[39m]:\n\u001b[0;32m      4\u001b[0m     context \u001b[38;5;241m+\u001b[39m\u001b[38;5;241m=\u001b[39m result[\u001b[38;5;124m'\u001b[39m\u001b[38;5;124msnippet\u001b[39m\u001b[38;5;124m'\u001b[39m] \u001b[38;5;241m+\u001b[39m \u001b[38;5;124m'\u001b[39m\u001b[38;5;130;01m\\n\u001b[39;00m\u001b[38;5;124m'\u001b[39m\n",
      "\u001b[1;31mKeyError\u001b[0m: 'webPages'"
     ]
    }
   ],
   "source": [
    "context = ''\n",
    "print(response.json())\n",
    "for result in response.json()['webPages']['value']:\n",
    "    context += result['snippet'] + '\\n'"
   ]
  },
  {
   "attachments": {},
   "cell_type": "markdown",
   "metadata": {},
   "source": [
    "### Collected information for further processing"
   ]
  },
  {
   "cell_type": "code",
   "execution_count": null,
   "metadata": {},
   "outputs": [
    {
     "name": "stdout",
     "output_type": "stream",
     "text": [
      "Francis Suarez The Democrats Incumbent Joe Biden Dean Phillips Marianne Williamson Third Party Robert F. Kennedy Jr. Cornel West Jill Stein The Republicans Back to Top Former President of the...\n",
      "Who Are the 2024 Presidential Election Candidates? - The New York Times Advertisement Who’s Running for President in 2024? By Martín González Gómez and Maggie Astor Updated Feb. 25,...\n",
      "Comment We asked each of the 2024 presidential candidates the same questions about abortion, climate, crime and guns, the economy, education, elections, foreign policy and immigration. If...\n",
      "Who’s running? Who has dropped out? Election news Republicans under scrutiny for supporting conception bill in wake of Alabama IVF ruling New York Democrats reject bipartisan congressional map...\n",
      "30 Things Joe Biden Did as President You Might Have Missed By POLITICO MAGAZINE | February 02, 2024 05:00 AM 55 Things You Need to Know About Nikki Haley By Michael Kruse and Sydney Gold |...\n",
      "Ana Marie Cox Three 2024 election myths that just aren’t true Michael A. Cohen Nikki Haley should've kicked Trump while he was down Hayes Brown How Biden’s new student loans win undercuts some...\n",
      "Binkley Haley Trump Democrats Biden Phillips Uygur Third party Kennedy Stein West Dropped out Williamson Burgum Christie DeSantis Elder Hurd Hutchinson Johnson Pence Ramaswamy Scott Suarez...\n",
      "Who’s Ahead In Republican Primary Polls? National polling average Who’s Ahead in Michigan Republican Primary Polls? State polling average How Popular Is Joe Biden? Approval polling average Do...\n",
      "Donald Trump has claimed he is immune from prosecution for actions he took as part of his job as president. An appeals court unanimously disagreed, allowing the many prosecutions of Trump to...\n",
      "\n"
     ]
    }
   ],
   "source": [
    "print(context)"
   ]
  },
  {
   "cell_type": "code",
   "execution_count": null,
   "metadata": {},
   "outputs": [],
   "source": [
    "system_prompt=f'''Answer the following questions as best you can. Use the context provided below:\n",
    "{context}\n",
    "\n",
    "Begin!\n",
    "'''\n",
    "user_prompt = f'''\n",
    "Question: {input}\\\n",
    "Answer:'''"
   ]
  },
  {
   "attachments": {},
   "cell_type": "markdown",
   "metadata": {},
   "source": [
    "### Step 3: GPT3: What do I need to do to answer this question? (Again)"
   ]
  },
  {
   "cell_type": "code",
   "execution_count": null,
   "metadata": {},
   "outputs": [
    {
     "name": "stdout",
     "output_type": "stream",
     "text": [
      "As an AI language model, I don't have the ability to predict the future, including the outcome of elections. Additionally, factors such as campaign strategies, evolving political landscapes, voter behavior, economic conditions, and unforeseen events can all play a significant role in determining the election outcome.\n",
      "\n",
      "Furthermore, the 2024 presidential election is still in the future, and a wide range of potential candidates representing various parties and ideologies are in the mix. It's important to note that making predictions about election outcomes involves complex analysis and assessments that go beyond the scope of this platform.\n",
      "\n",
      "The eventual winner of the 2024 presidential election will be determined by the voters' choices, and will likely be influenced by a multitude of factors unique to that particular election cycle. It's advisable to stay informed about the candidates, their platforms, and the issues at stake, while also understanding that election outcomes can be unpredictable.\n"
     ]
    }
   ],
   "source": [
    "response = client.chat.completions.create(\n",
    "    model=CHAT_COMPLETIONS_MODEL,\n",
    "    messages = [{\"role\":\"system\", \"content\":system_prompt},\n",
    "                {\"role\":\"user\",\"content\": user_prompt,}],\n",
    "        max_tokens=400,)\n",
    "\n",
    "print(response.choices[0].message.content)"
   ]
  },
  {
   "attachments": {},
   "cell_type": "markdown",
   "metadata": {},
   "source": [
    "### GPT3: I now have final answer to the question. "
   ]
  },
  {
   "cell_type": "code",
   "execution_count": null,
   "metadata": {},
   "outputs": [],
   "source": []
  }
 ],
 "metadata": {
  "kernelspec": {
   "display_name": "azureml_py310_sdkv2",
   "language": "python",
   "name": "python3"
  },
  "language_info": {
   "codemirror_mode": {
    "name": "ipython",
    "version": 3
   },
   "file_extension": ".py",
   "mimetype": "text/x-python",
   "name": "python",
   "nbconvert_exporter": "python",
   "pygments_lexer": "ipython3",
   "version": "3.11.9"
  },
  "orig_nbformat": 4
 },
 "nbformat": 4,
 "nbformat_minor": 2
}
