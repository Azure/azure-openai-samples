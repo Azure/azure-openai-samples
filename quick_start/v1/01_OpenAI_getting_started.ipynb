{
 "cells": [
  {
   "attachments": {},
   "cell_type": "markdown",
   "metadata": {
    "nteract": {
     "transient": {
      "deleting": false
     }
    }
   },
   "source": [
    "# OpenAI Quickstart"
   ]
  },
  {
   "attachments": {},
   "cell_type": "markdown",
   "metadata": {
    "nteract": {
     "transient": {
      "deleting": false
     }
    }
   },
   "source": [
    "# Overview  \n",
    "\"Large language models are functions that map text to text. Given an input string of text, a large language model tries to predict the text that will come next\"(1). This \"quickstart\" notebook will introduce users to high-level LLM concepts, core package requirements for getting started with AML, an soft introduction to prompt design, and severa short examples of different use cases.  \n",
    "\n",
    "For more quickstart examples please refer to the official Azure Open AI Quickstart Documentation https://learn.microsoft.com/en-us/azure/cognitive-services/openai/quickstart?pivots=programming-language-studio"
   ]
  },
  {
   "attachments": {},
   "cell_type": "markdown",
   "metadata": {
    "nteract": {
     "transient": {
      "deleting": false
     }
    }
   },
   "source": [
    "## Table of Contents  \n",
    "\n",
    "[Overview](#overview)  \n",
    "[How to use OpenAI Service](#how-to-use-openai-service)  \n",
    "[1. Creating your OpenAI Service](#1.-creating-your-openai-service)  \n",
    "[2. Installation](#2.-installation)    \n",
    "[3. Credentials](#3.-credentials)  \n",
    "\n",
    "[Use Cases](#use-cases)    \n",
    "[1. Summarize Text](#1.-summarize-text)  \n",
    "[2. Classify Text](#2.-classify-text)  \n",
    "[3. Generate New Product Names](#3.-generate-new-product-names)  \n",
    "[4. Fine Tune a Classifier](#4.fine-tune-a-classifier)  \n",
    "[5. Embeddings!]((#5.-embeddings!))\n",
    "\n",
    "[References](#references)"
   ]
  },
  {
   "attachments": {},
   "cell_type": "markdown",
   "metadata": {
    "nteract": {
     "transient": {
      "deleting": false
     }
    }
   },
   "source": [
    "### Getting started with Azure OpenAI Service\n",
    "\n",
    "New customers will need to [apply for access](https://aka.ms/oai/access) to Azure OpenAI Service.  \n",
    "After approval is complete, customers can log into the Azure portal, create an Azure OpenAI Service resource, and start experimenting with models via the studio  \n",
    "\n",
    "[Great resource for getting started quickly](https://techcommunity.microsoft.com/t5/educator-developer-blog/azure-openai-is-now-generally-available/ba-p/3719177 )\n"
   ]
  },
  {
   "attachments": {},
   "cell_type": "markdown",
   "metadata": {
    "nteract": {
     "transient": {
      "deleting": false
     }
    }
   },
   "source": [
    "### Build your first prompt  \n",
    "This short exercise will provide a basic introduction for submitting prompts to an OpenAI model for a simple task \"summarization\".  \n",
    "\n",
    "![](images/generative-AI-models-reduced.jpg)  \n",
    "\n",
    "\n",
    "**Steps**:  \n",
    "1. Install OpenAI library in your python environment  \n",
    "2. Load standard helper libraries and set your typical OpenAI security credentials for the OpenAI Service that you've created  \n",
    "3. Choose a model for your task  \n",
    "4. Create a simple prompt for the model  \n",
    "5. Submit your request to the model API!"
   ]
  },
  {
   "attachments": {},
   "cell_type": "markdown",
   "metadata": {
    "nteract": {
     "transient": {
      "deleting": false
     }
    }
   },
   "source": [
    "### 1. Import helper libraries and instantiate credentials"
   ]
  },
  {
   "cell_type": "code",
   "execution_count": 1,
   "metadata": {
    "gather": {
     "logged": 1674829434433
    },
    "jupyter": {
     "outputs_hidden": false,
     "source_hidden": false
    },
    "nteract": {
     "transient": {
      "deleting": false
     }
    }
   },
   "outputs": [],
   "source": [
    "import re\n",
    "import requests\n",
    "import sys\n",
    "import os\n",
    "from openai import AzureOpenAI\n",
    "import tiktoken\n",
    "from dotenv import load_dotenv\n",
    "load_dotenv()\n",
    "\n",
    "client = AzureOpenAI(\n",
    "  azure_endpoint = os.getenv(\"AZURE_OPENAI_ENDPOINT\"), \n",
    "  api_key=os.getenv(\"AZURE_OPENAI_KEY\"),  \n",
    "  api_version=\"2024-02-15-preview\"\n",
    ")\n"
   ]
  },
  {
   "attachments": {},
   "cell_type": "markdown",
   "metadata": {
    "nteract": {
     "transient": {
      "deleting": false
     }
    }
   },
   "source": [
    "### 2. Finding the right model  \n",
    "The GPT-3.5-turbi or GPT-4 models can understand and generate natural language. The service offers four model capabilities, each with different levels of power and speed suitable for different tasks. \n",
    "\n",
    "[Azure OpenAI models](https://learn.microsoft.com/en-us/azure/cognitive-services/openai/concepts/models)  \n",
    "![](images/a-b-c-d-models-reduced.jpg)  \n"
   ]
  },
  {
   "cell_type": "code",
   "execution_count": 4,
   "metadata": {
    "gather": {
     "logged": 1674742720788
    },
    "jupyter": {
     "outputs_hidden": true,
     "source_hidden": false
    },
    "nteract": {
     "transient": {
      "deleting": false
     }
    }
   },
   "outputs": [],
   "source": [
    "# Select the GPT-4o model for text\n",
    "model = os.getenv(\"AZURE_OPENAI_DEPLOYMENT_NAME\")"
   ]
  },
  {
   "attachments": {},
   "cell_type": "markdown",
   "metadata": {
    "nteract": {
     "transient": {
      "deleting": false
     }
    }
   },
   "source": [
    "### 3. Prompt Design  \n",
    "\n",
    "\"The magic of large language models is that by being trained to minimize this prediction error over vast quantities of text, the models end up learning concepts useful for these predictions. For example, they learn concepts like\"(1):\n",
    "\n",
    "* how to spell\n",
    "* how grammar works\n",
    "* how to paraphrase\n",
    "* how to answer questions\n",
    "* how to hold a conversation\n",
    "* how to write in many languages\n",
    "* how to code\n",
    "* etc.\n",
    "\n",
    "#### How to control a large language model  \n",
    "\"Of all the inputs to a large language model, by far the most influential is the text prompt(1).\n",
    "\n",
    "Large language models can be prompted to produce output in a few ways:\n",
    "\n",
    "Instruction: Tell the model what you want\n",
    "Completion: Induce the model to complete the beginning of what you want\n",
    "Demonstration: Show the model what you want, with either:\n",
    "A few examples in the prompt\n",
    "Many hundreds or thousands of examples in a fine-tuning training dataset\"\n",
    "\n",
    "\n",
    "\n",
    "#### There are three basic guidelines to creating prompts:\n",
    "\n",
    "**Show and tell**. Make it clear what you want either through instructions, examples, or a combination of the two. If you want the model to rank a list of items in alphabetical order or to classify a paragraph by sentiment, show it that's what you want.\n",
    "\n",
    "**Provide quality data**. If you're trying to build a classifier or get the model to follow a pattern, make sure that there are enough examples. Be sure to proofread your examples — the model is usually smart enough to see through basic spelling mistakes and give you a response, but it also might assume this is intentional and it can affect the response.\n",
    "\n",
    "**Check your settings.** The temperature and top_p settings control how deterministic the model is in generating a response. If you're asking it for a response where there's only one right answer, then you'd want to set these lower. If you're looking for more diverse responses, then you might want to set them higher. The number one mistake people use with these settings is assuming that they're \"cleverness\" or \"creativity\" controls.\n",
    "\n",
    "\n",
    "Source: https://github.com/Azure/OpenAI/blob/main/How%20to/Completions.md"
   ]
  },
  {
   "attachments": {},
   "cell_type": "markdown",
   "metadata": {
    "nteract": {
     "transient": {
      "deleting": false
     }
    }
   },
   "source": [
    "![](images/prompt_design.jpg)\n",
    "image is creating your first text prompt!"
   ]
  },
  {
   "attachments": {},
   "cell_type": "markdown",
   "metadata": {
    "nteract": {
     "transient": {
      "deleting": false
     }
    }
   },
   "source": [
    "### 4. Submit!"
   ]
  },
  {
   "cell_type": "code",
   "execution_count": 5,
   "metadata": {
    "gather": {
     "logged": 1674494935186
    },
    "jupyter": {
     "outputs_hidden": false,
     "source_hidden": false
    },
    "nteract": {
     "transient": {
      "deleting": false
     }
    }
   },
   "outputs": [
    {
     "data": {
      "text/plain": [
       "'The use of the Oxford comma, also known as the serial comma, is a matter of style and preference. It is the comma placed before the conjunction (usually \"and\" or \"or\") in a list of three or more items. For example:\\n\\n- With Oxford comma: \"We invited the strippers, JFK, and Stalin.\"\\n- Without Oxford comma: \"We invited the strippers, JFK and Stalin.\"\\n\\nSome style guides, like The Chicago Manual of Style and the APA Style, recommend using the Oxford comma for clarity, as it can help prevent ambiguity in sentences. Other guides, like the Associated Press Stylebook, typically omit it unless it is necessary to avoid confusion.\\n\\nUltimately, the decision to use the Oxford comma should be guided by which style guide you are following or your preference, with a focus on maintaining consistency and clarity in your writing.'"
      ]
     },
     "execution_count": 5,
     "metadata": {},
     "output_type": "execute_result"
    }
   ],
   "source": [
    "# Create your first prompt\n",
    "text_prompt = \"Should oxford commas always be used?\"\n",
    "\n",
    "response = client.chat.completions.create(\n",
    "  model=model,\n",
    "  messages = [{\"role\":\"system\", \"content\":\"You are a helpful assistant.\"},\n",
    "               {\"role\":\"user\",\"content\":text_prompt},])\n",
    "\n",
    "response.choices[0].message.content"
   ]
  },
  {
   "attachments": {},
   "cell_type": "markdown",
   "metadata": {
    "nteract": {
     "transient": {
      "deleting": false
     }
    }
   },
   "source": [
    "### Repeat the same call, how do the results compare?"
   ]
  },
  {
   "cell_type": "code",
   "execution_count": 6,
   "metadata": {
    "gather": {
     "logged": 1674494940872
    },
    "jupyter": {
     "outputs_hidden": false,
     "source_hidden": false
    },
    "nteract": {
     "transient": {
      "deleting": false
     }
    }
   },
   "outputs": [
    {
     "data": {
      "text/plain": [
       "'The use of the Oxford comma, also known as the serial comma, is a matter of style and can depend on which style guide you are following. The Oxford comma is the comma placed before the last item in a list of three or more items, as in: \"We bought apples, oranges, and bananas.\"\\n\\nAdvocates for the Oxford comma, such as those following the Chicago Manual of Style or the Oxford University Press style, argue that it can eliminate ambiguity. For example, without the Oxford comma: \"I love my parents, Lady Gaga and Humpty Dumpty,\" can imply that your parents are Lady Gaga and Humpty Dumpty. Adding the comma: \"I love my parents, Lady Gaga, and Humpty Dumpty,\" clarifies that these are three distinct entities.\\n\\nIn contrast, the Associated Press (AP) Stylebook, often used in journalism, traditionally does not mandate the use of the Oxford comma unless it is necessary for clarity.\\n\\nUltimately, whether or not to use the Oxford comma depends on your specific context, the style guide you are adhering to, and your personal or organizational preference. In formal and academic writing, using the Oxford comma is often preferred to ensure clarity and consistency.'"
      ]
     },
     "execution_count": 6,
     "metadata": {},
     "output_type": "execute_result"
    }
   ],
   "source": [
    "\n",
    "response = client.chat.completions.create(\n",
    "  model=model,\n",
    "  messages = [{\"role\":\"system\", \"content\":\"You are a helpful assistant.\"},\n",
    "               {\"role\":\"user\",\"content\":text_prompt},])\n",
    "\n",
    "response.choices[0].message.content"
   ]
  },
  {
   "attachments": {},
   "cell_type": "markdown",
   "metadata": {
    "nteract": {
     "transient": {
      "deleting": false
     }
    }
   },
   "source": [
    "## Summarize Text  \n",
    "#### Challenge  \n",
    "Summarize text by adding a 'tl;dr:' to the end of a text passage. Notice how the model understands how to perform a number of tasks with no additional instructions. You can experiment with more descriptive prompts than tl;dr to modify the model’s behavior and customize the summarization you receive(3).  \n",
    "\n",
    "Recent work has demonstrated substantial gains on many NLP tasks and benchmarks by pre-training on a large corpus of text followed by fine-tuning on a specific task. While typically task-agnostic in architecture, this method still requires task-specific fine-tuning datasets of thousands or tens of thousands of examples. By contrast, humans can generally perform a new language task from only a few examples or from simple instructions - something which current NLP systems still largely struggle to do. Here we show that scaling up language models greatly improves task-agnostic, few-shot performance, sometimes even reaching competitiveness with prior state-of-the-art fine-tuning approaches. \n",
    "\n",
    "\n",
    "\n",
    "Tl;dr"
   ]
  },
  {
   "attachments": {},
   "cell_type": "markdown",
   "metadata": {
    "nteract": {
     "transient": {
      "deleting": false
     }
    }
   },
   "source": [
    "# Exercises for several use cases  \n",
    "1. Summarize Text  \n",
    "2. Classify Text  \n",
    "3. Generate New Product Names\n",
    "4. Embeddings\n",
    "5. Fine tune a classifier"
   ]
  },
  {
   "cell_type": "code",
   "execution_count": 7,
   "metadata": {
    "gather": {
     "logged": 1674495198534
    },
    "jupyter": {
     "outputs_hidden": false,
     "source_hidden": false
    },
    "nteract": {
     "transient": {
      "deleting": false
     }
    }
   },
   "outputs": [],
   "source": [
    "prompt = \"Recent work has demonstrated substantial gains on many NLP tasks and benchmarks by pre-training on a large corpus of text followed by fine-tuning on a specific task. While typically task-agnostic in architecture, this method still requires task-specific fine-tuning datasets of thousands or tens of thousands of examples. By contrast, humans can generally perform a new language task from only a few examples or from simple instructions - something which current NLP systems still largely struggle to do. Here we show that scaling up language models greatly improves task-agnostic, few-shot performance, sometimes even reaching competitiveness with prior state-of-the-art fine-tuning approaches.\\n\\nTl;dr\"\n"
   ]
  },
  {
   "cell_type": "code",
   "execution_count": 8,
   "metadata": {
    "gather": {
     "logged": 1674495201868
    },
    "jupyter": {
     "outputs_hidden": false,
     "source_hidden": false
    },
    "nteract": {
     "transient": {
      "deleting": false
     }
    }
   },
   "outputs": [
    {
     "data": {
      "text/plain": [
       "'Scaling up language models significantly enhances their ability to perform tasks without task-specific fine-tuning, achieving competitive results with few-shot examples compared to traditional fine-tuned approaches.'"
      ]
     },
     "execution_count": 8,
     "metadata": {},
     "output_type": "execute_result"
    }
   ],
   "source": [
    "#Setting a few additional, typical parameters during API Call\n",
    "\n",
    "response = client.chat.completions.create(\n",
    "  model=model,\n",
    "  messages = [{\"role\":\"system\", \"content\":\"You are a helpful assistant.\"},\n",
    "               {\"role\":\"user\",\"content\":prompt},])\n",
    "\n",
    "response.choices[0].message.content"
   ]
  },
  {
   "attachments": {},
   "cell_type": "markdown",
   "metadata": {
    "nteract": {
     "transient": {
      "deleting": false
     }
    }
   },
   "source": [
    "## Classify Text  \n",
    "#### Challenge  \n",
    "Classify items into categories provided at inference time. In the following example we provide both the categories and the text to classify in the prompt(*playground_reference). \n",
    "\n",
    "Customer Inquiry: Hello, one of the keys on my laptop keyboard broke recently and I'll need a replacement:\n",
    "\n",
    "Classified category:\n"
   ]
  },
  {
   "cell_type": "code",
   "execution_count": 9,
   "metadata": {
    "gather": {
     "logged": 1674499424645
    },
    "jupyter": {
     "outputs_hidden": false,
     "source_hidden": false
    },
    "nteract": {
     "transient": {
      "deleting": false
     }
    }
   },
   "outputs": [
    {
     "name": "stdout",
     "output_type": "stream",
     "text": [
      "Classify the following inquiry into one of the following: categories: [Pricing, Hardware Support, Software Support]\n",
      "\n",
      "inquiry: Hello, one of the keys on my laptop keyboard broke recently and I'll need a replacement:\n",
      "\n",
      "Classified category:\n"
     ]
    }
   ],
   "source": [
    "prompt = \"Classify the following inquiry into one of the following: categories: [Pricing, Hardware Support, Software Support]\\n\\ninquiry: Hello, one of the keys on my laptop keyboard broke recently and I'll need a replacement:\\n\\nClassified category:\"\n",
    "print(prompt)"
   ]
  },
  {
   "cell_type": "code",
   "execution_count": 10,
   "metadata": {
    "gather": {
     "logged": 1674499378518
    },
    "jupyter": {
     "outputs_hidden": false,
     "source_hidden": false
    },
    "nteract": {
     "transient": {
      "deleting": false
     }
    }
   },
   "outputs": [
    {
     "data": {
      "text/plain": [
       "'Hardware Support'"
      ]
     },
     "execution_count": 10,
     "metadata": {},
     "output_type": "execute_result"
    }
   ],
   "source": [
    "#Setting a few additional, typical parameters during API Call\n",
    "\n",
    "response = client.chat.completions.create(\n",
    "       model=model,\n",
    "  messages = [{\"role\":\"system\", \"content\":\"You are a helpful assistant.\"},\n",
    "               {\"role\":\"user\",\"content\":prompt},])\n",
    "\n",
    "response.choices[0].message.content"
   ]
  },
  {
   "attachments": {},
   "cell_type": "markdown",
   "metadata": {
    "nteract": {
     "transient": {
      "deleting": false
     }
    }
   },
   "source": [
    "## Generate New Product Names\n",
    "#### Challenge\n",
    "Create product names from examples words. Here we include in the prompt information about the product we are going to generate names for. We also provide a similar example to show the pattern we wish to receive. We have also set the temperature value high to increase randomness and more innovative responses.\n",
    "\n",
    "Product description: A home milkshake maker\n",
    "Seed words: fast, healthy, compact.\n",
    "Product names: HomeShaker, Fit Shaker, QuickShake, Shake Maker\n",
    "\n",
    "Product description: A pair of shoes that can fit any foot size.\n",
    "Seed words: adaptable, fit, omni-fit."
   ]
  },
  {
   "cell_type": "code",
   "execution_count": 11,
   "metadata": {
    "gather": {
     "logged": 1674257087279
    },
    "jupyter": {
     "outputs_hidden": false,
     "source_hidden": false
    },
    "nteract": {
     "transient": {
      "deleting": false
     }
    }
   },
   "outputs": [
    {
     "name": "stdout",
     "output_type": "stream",
     "text": [
      "Product description: A home milkshake maker\n",
      "Seed words: fast, healthy, compact.\n",
      "Product names: HomeShaker, Fit Shaker, QuickShake, Shake Maker\n",
      "\n",
      "Product description: A pair of shoes that can fit any foot size.\n",
      "Seed words: adaptable, fit, omni-fit.\n"
     ]
    }
   ],
   "source": [
    "prompt = \"Product description: A home milkshake maker\\nSeed words: fast, healthy, compact.\\nProduct names: HomeShaker, Fit Shaker, QuickShake, Shake Maker\\n\\nProduct description: A pair of shoes that can fit any foot size.\\nSeed words: adaptable, fit, omni-fit.\"\n",
    "\n",
    "print(prompt)"
   ]
  },
  {
   "cell_type": "code",
   "execution_count": 12,
   "metadata": {
    "jupyter": {
     "outputs_hidden": false,
     "source_hidden": false
    },
    "nteract": {
     "transient": {
      "deleting": false
     }
    }
   },
   "outputs": [
    {
     "data": {
      "text/plain": [
       "'Product names: UniFit Shoes, FlexiStep, AdaptStride, OmniSole\\n\\nIf you need more options or any additional help, feel free to ask!'"
      ]
     },
     "execution_count": 12,
     "metadata": {},
     "output_type": "execute_result"
    }
   ],
   "source": [
    "#Setting a few additional, typical parameters during API Call\n",
    "response = client.chat.completions.create(\n",
    "       model=model,\n",
    "  messages = [{\"role\":\"system\", \"content\":\"You are a helpful assistant.\"},\n",
    "               {\"role\":\"user\",\"content\":prompt},]\n",
    ")\n",
    "\n",
    "response.choices[0].message.content"
   ]
  },
  {
   "attachments": {},
   "cell_type": "markdown",
   "metadata": {
    "nteract": {
     "transient": {
      "deleting": false
     }
    }
   },
   "source": [
    "## Embeddings!  \n",
    "This section will show how to retrieve embeddings, and find similarity between words, sentences, and documents"
   ]
  },
  {
   "attachments": {},
   "cell_type": "markdown",
   "metadata": {
    "nteract": {
     "transient": {
      "deleting": false
     }
    }
   },
   "source": [
    "### Model Taxonomy - Choosing a similarity model\n",
    "Let's choose a similarity model, using the  most powerful model (davinci)\n",
    "\n",
    "**Model taxonomy**: {family} - {capability} - {input-type} - {identifier}  \n",
    "\n",
    "{family}     --> text-similarity  (general text GPT-3 model)  \n",
    "{capability} --> davincie         (curie is second most powerful in ada-babbage-curie-davinci family)  \n",
    "{input-type} --> n/a              (only specified for search models)  \n",
    "{identifier} --> 001              (version 001)  \n",
    "\n",
    "model = 'text-embedding-ada-002'"
   ]
  },
  {
   "cell_type": "code",
   "execution_count": 13,
   "metadata": {
    "gather": {
     "logged": 1674829364153
    },
    "jupyter": {
     "outputs_hidden": false,
     "source_hidden": false
    },
    "nteract": {
     "transient": {
      "deleting": false
     }
    }
   },
   "outputs": [],
   "source": [
    "import numpy as np\n",
    "model=os.getenv(\"EMBEDDING_MODEL_NAME\")\n",
    "def cosine_similarity(query_embedding, embeddings, distance_metric='cosine'):\n",
    "    if distance_metric == 'cosine':\n",
    "        distances = np.dot(embeddings, query_embedding) / (np.linalg.norm(embeddings) * np.linalg.norm(query_embedding))\n",
    "        distances = 1 - distances  \n",
    "    else:\n",
    "        raise ValueError(\"Métrica de distância não suportada. Utilize 'cosine'.\")\n",
    "\n",
    "    return distances"
   ]
  },
  {
   "cell_type": "code",
   "execution_count": 14,
   "metadata": {
    "gather": {
     "logged": 1674829424097
    },
    "jupyter": {
     "outputs_hidden": false,
     "source_hidden": false
    },
    "nteract": {
     "transient": {
      "deleting": false
     }
    }
   },
   "outputs": [
    {
     "data": {
      "text/plain": [
       "[-0.0046152775175869465,\n",
       " 0.009807861410081387,\n",
       " -0.015035336837172508,\n",
       " -0.00635036826133728,\n",
       " -0.011387523263692856,\n",
       " 0.015568234957754612,\n",
       " -0.024145355448126793,\n",
       " -0.0158600602298975,\n",
       " -0.015923500061035156,\n",
       " -0.029512399807572365,\n",
       " 0.02156968228518963,\n",
       " 0.02121441625058651,\n",
       " 0.018930567428469658,\n",
       " 0.004018939100205898,\n",
       " -0.0006974461721256375,\n",
       " -0.007644549012184143,\n",
       " 0.024906639009714127,\n",
       " -0.004215604159981012,\n",
       " 0.011089353822171688,\n",
       " -0.008577120490372181,\n",
       " -0.008983138017356396,\n",
       " 0.02122710458934307,\n",
       " -0.006413808558136225,\n",
       " -0.008532712236046791,\n",
       " 0.006416980642825365,\n",
       " 0.013208257965743542,\n",
       " 0.007524012587964535,\n",
       " -0.0032576564699411392,\n",
       " -0.009040234610438347,\n",
       " 0.0014020293019711971,\n",
       " 0.00668660132214427,\n",
       " 0.003920606803148985,\n",
       " -0.039409078657627106,\n",
       " -0.0026660761795938015,\n",
       " -0.012751488946378231,\n",
       " -0.021645810455083847,\n",
       " -0.0037651783786714077,\n",
       " -0.010486671701073647,\n",
       " 0.026238882914185524,\n",
       " -0.04544859007000923,\n",
       " 0.00947162788361311,\n",
       " 0.01566973887383938,\n",
       " -0.0224832221865654,\n",
       " -0.01119720283895731,\n",
       " -0.002677178243175149,\n",
       " 0.011945797130465508,\n",
       " 0.009953773580491543,\n",
       " -0.012269342318177223,\n",
       " -0.02277504652738571,\n",
       " 0.010309039615094662,\n",
       " -0.0005515335942618549,\n",
       " 0.006572409067302942,\n",
       " -0.009547756053507328,\n",
       " -0.011565156280994415,\n",
       " -0.004415440838783979,\n",
       " -0.007200467400252819,\n",
       " -0.0015931430971249938,\n",
       " -0.006223487667739391,\n",
       " 0.009173458442091942,\n",
       " -0.005582741461694241,\n",
       " 0.01110204216092825,\n",
       " 0.013588899746537209,\n",
       " -0.005414624698460102,\n",
       " -0.005833330098539591,\n",
       " 0.0007747639319859445,\n",
       " -0.009351091459393501,\n",
       " 0.01105763390660286,\n",
       " -0.010759465396404266,\n",
       " -0.013094065710902214,\n",
       " -0.005138659384101629,\n",
       " 0.029588527977466583,\n",
       " -0.0017398486379534006,\n",
       " 8.143149898387492e-05,\n",
       " 0.005896770395338535,\n",
       " 0.03146636113524437,\n",
       " -0.008856257423758507,\n",
       " -0.027456937357783318,\n",
       " 0.008957762271165848,\n",
       " 0.01437555905431509,\n",
       " 0.011463651433587074,\n",
       " 0.02974078431725502,\n",
       " -0.04222582280635834,\n",
       " -0.006128327455371618,\n",
       " 0.01427405420690775,\n",
       " 0.017611011862754822,\n",
       " 0.002988035324960947,\n",
       " -0.025718674063682556,\n",
       " 0.03770887851715088,\n",
       " -0.01678628847002983,\n",
       " 0.011305050924420357,\n",
       " 0.0055129569955170155,\n",
       " 0.030578196048736572,\n",
       " 0.008285295218229294,\n",
       " -0.0055954293347895145,\n",
       " -0.016925856471061707,\n",
       " 0.006769073661416769,\n",
       " -0.0007160817040130496,\n",
       " 0.018917879089713097,\n",
       " -0.01020753476768732,\n",
       " -0.025769425556063652,\n",
       " 0.006864234339445829,\n",
       " -0.011546123772859573,\n",
       " -0.02702554315328598,\n",
       " -0.002705726306885481,\n",
       " 0.006578753236681223,\n",
       " -0.02712704800069332,\n",
       " -0.0052591958083212376,\n",
       " 0.02212795615196228,\n",
       " 0.01796627603471279,\n",
       " -0.014134486205875874,\n",
       " 0.016215326264500618,\n",
       " 0.023625146597623825,\n",
       " 0.017801331356167793,\n",
       " -0.039941977709531784,\n",
       " -0.004015767481178045,\n",
       " -0.011469995602965355,\n",
       " 0.009839581325650215,\n",
       " -0.00965560507029295,\n",
       " -0.009135394357144833,\n",
       " -0.009033890441060066,\n",
       " 0.009414532221853733,\n",
       " 0.017839396372437477,\n",
       " 0.02212795615196228,\n",
       " -0.002654974116012454,\n",
       " -0.014210614375770092,\n",
       " -0.010372479446232319,\n",
       " -0.004006251227110624,\n",
       " 0.007384444121271372,\n",
       " -0.010905377566814423,\n",
       " 0.003470181254670024,\n",
       " 0.032608285546302795,\n",
       " 0.023802777752280235,\n",
       " 0.03309043124318123,\n",
       " -0.012396222911775112,\n",
       " -0.03679534047842026,\n",
       " 0.02339676022529602,\n",
       " 0.0050593591295182705,\n",
       " -0.011089353822171688,\n",
       " -0.03055281937122345,\n",
       " -0.022533973678946495,\n",
       " -0.0015709389699622989,\n",
       " 0.016367582604289055,\n",
       " -0.006673913449048996,\n",
       " 0.008723033592104912,\n",
       " 0.022470533847808838,\n",
       " 0.023713963106274605,\n",
       " 0.02140473760664463,\n",
       " 0.008583464659750462,\n",
       " -0.002150624291971326,\n",
       " -0.0065153129398822784,\n",
       " 0.018296165391802788,\n",
       " -0.002030087634921074,\n",
       " 0.02984228916466236,\n",
       " 0.00042425660649314523,\n",
       " 0.009630228392779827,\n",
       " 0.015657052397727966,\n",
       " 0.003758834209293127,\n",
       " 0.014400934800505638,\n",
       " -0.028091339394450188,\n",
       " -0.021836131811141968,\n",
       " 0.024145355448126793,\n",
       " 0.021785378456115723,\n",
       " -0.00025118369376286864,\n",
       " -0.008266263641417027,\n",
       " 0.0020364318042993546,\n",
       " 0.03146636113524437,\n",
       " 0.03298892453312874,\n",
       " 0.003092711791396141,\n",
       " 0.008196479640901089,\n",
       " -0.010328071191906929,\n",
       " 0.004881726577877998,\n",
       " 0.03281129151582718,\n",
       " -0.011501715518534184,\n",
       " 0.03760737553238869,\n",
       " 0.002126834122464061,\n",
       " 0.0067056333646178246,\n",
       " 0.02158237062394619,\n",
       " -0.0074859485030174255,\n",
       " -0.03230376914143562,\n",
       " 0.0016764083411544561,\n",
       " 0.0039618429727852345,\n",
       " 0.01414717361330986,\n",
       " 0.038850802928209305,\n",
       " 0.02386621944606304,\n",
       " 0.00505618704482913,\n",
       " 0.02221677266061306,\n",
       " 0.005547848995774984,\n",
       " -0.027507688850164413,\n",
       " -0.007479604333639145,\n",
       " -0.0009944257326424122,\n",
       " 0.009211523458361626,\n",
       " 0.001749364659190178,\n",
       " -0.018575303256511688,\n",
       " -0.013525459915399551,\n",
       " -0.6857636570930481,\n",
       " -0.029893042519688606,\n",
       " 0.003863510675728321,\n",
       " -0.010562799870967865,\n",
       " 0.021836131811141968,\n",
       " 0.034054722636938095,\n",
       " -0.012117085978388786,\n",
       " -0.010638928040862083,\n",
       " -0.00045795924961566925,\n",
       " 0.035780295729637146,\n",
       " -0.030324434861540794,\n",
       " 0.002107802079990506,\n",
       " 0.004700921941548586,\n",
       " -0.0030197554733604193,\n",
       " -0.009712700732052326,\n",
       " -0.0034130848944187164,\n",
       " 0.02730467915534973,\n",
       " -0.02274966984987259,\n",
       " -0.008215511217713356,\n",
       " 0.020833775401115417,\n",
       " 0.004545493517071009,\n",
       " 0.0069276741705834866,\n",
       " -0.010721400380134583,\n",
       " 0.00197140546515584,\n",
       " -0.00509742321446538,\n",
       " 0.011476339772343636,\n",
       " -0.00220930646173656,\n",
       " 0.005519301164895296,\n",
       " -0.0013972712913528085,\n",
       " 0.017281122505664825,\n",
       " -0.002001539571210742,\n",
       " 0.018714871257543564,\n",
       " -0.006566064897924662,\n",
       " 0.0053955926559865475,\n",
       " 0.04283485189080238,\n",
       " 0.004523289389908314,\n",
       " -0.00600779103115201,\n",
       " 0.020618079230189323,\n",
       " 0.040043480694293976,\n",
       " 0.05369582027196884,\n",
       " -0.035678792744874954,\n",
       " -0.013436643406748772,\n",
       " 0.014616631902754307,\n",
       " 0.008856257423758507,\n",
       " -0.011431931518018246,\n",
       " 0.0012188456021249294,\n",
       " 0.02531265653669834,\n",
       " 0.017103489488363266,\n",
       " -0.005392420571297407,\n",
       " -0.015809308737516403,\n",
       " 0.014071045443415642,\n",
       " 0.017801331356167793,\n",
       " 0.016101133078336716,\n",
       " 0.005008607171475887,\n",
       " -0.018346916884183884,\n",
       " 0.02684791013598442,\n",
       " 0.01084193680435419,\n",
       " -0.0002571312361396849,\n",
       " -0.0016795804258435965,\n",
       " -0.002469411352649331,\n",
       " -0.010962474159896374,\n",
       " 0.001914309337735176,\n",
       " -0.010315382853150368,\n",
       " 0.008818193338811398,\n",
       " -0.022648166865110397,\n",
       " 0.003879370866343379,\n",
       " -0.0071687474846839905,\n",
       " 0.010023558512330055,\n",
       " 0.02212795615196228,\n",
       " -0.0144136231392622,\n",
       " 0.02257203869521618,\n",
       " 0.01985679566860199,\n",
       " -0.010480327531695366,\n",
       " 0.010042590089142323,\n",
       " 0.014565879479050636,\n",
       " 0.010740432888269424,\n",
       " 0.008983138017356396,\n",
       " -0.006410636473447084,\n",
       " -0.01169838011264801,\n",
       " 0.006464560516178608,\n",
       " -0.012282030656933784,\n",
       " -0.002735860412940383,\n",
       " -0.03945982828736305,\n",
       " -0.0013512771110981703,\n",
       " 0.03603405877947807,\n",
       " 0.01712886430323124,\n",
       " -0.0351712703704834,\n",
       " -0.006312304176390171,\n",
       " -0.00509742321446538,\n",
       " -0.024259548634290695,\n",
       " 0.016900479793548584,\n",
       " 0.02439911663532257,\n",
       " -0.031796250492334366,\n",
       " -0.0008374112076126039,\n",
       " -0.012459663674235344,\n",
       " 0.008221855387091637,\n",
       " -0.005858706310391426,\n",
       " 0.038774676620960236,\n",
       " 0.04113465175032616,\n",
       " -0.032608285546302795,\n",
       " 0.012142462655901909,\n",
       " -0.0016653063939884305,\n",
       " -0.0035336215514689684,\n",
       " -0.004095067735761404,\n",
       " 0.014121797867119312,\n",
       " 0.030628949403762817,\n",
       " 0.016824351623654366,\n",
       " 0.0016415162244811654,\n",
       " 0.01740800216794014,\n",
       " -0.010911721736192703,\n",
       " -0.00870400108397007,\n",
       " -0.017534881830215454,\n",
       " 0.01721768081188202,\n",
       " 0.00514500355347991,\n",
       " -0.006572409067302942,\n",
       " -0.024906639009714127,\n",
       " 0.015631675720214844,\n",
       " -0.0048373183235526085,\n",
       " 0.015517483465373516,\n",
       " -0.019793355837464333,\n",
       " 0.009357435628771782,\n",
       " -0.011685692705214024,\n",
       " 0.008780129253864288,\n",
       " -0.000971428700722754,\n",
       " 0.0076128290966153145,\n",
       " 0.0019095512107014656,\n",
       " -0.02674640528857708,\n",
       " -0.029537776485085487,\n",
       " -0.01624070107936859,\n",
       " -0.004913446493446827,\n",
       " -0.007105307187885046,\n",
       " 0.020351629704236984,\n",
       " 0.03552653640508652,\n",
       " -0.002068151952698827,\n",
       " -0.003240210236981511,\n",
       " -0.00446302117779851,\n",
       " 0.014083733782172203,\n",
       " 0.0059697264805436134,\n",
       " 0.018626054748892784,\n",
       " -0.01603769324719906,\n",
       " -0.031491734087467194,\n",
       " 0.009249587543308735,\n",
       " -0.014362870715558529,\n",
       " -0.01360158808529377,\n",
       " 0.007682613097131252,\n",
       " -0.019996363669633865,\n",
       " -0.02584555372595787,\n",
       " 0.004634309560060501,\n",
       " 0.006604128982871771,\n",
       " 0.03001992218196392,\n",
       " -0.012186869978904724,\n",
       " -0.023422136902809143,\n",
       " -0.012434286996722221,\n",
       " -0.015377914533019066,\n",
       " 0.023066870868206024,\n",
       " -0.005160863511264324,\n",
       " -0.03237989917397499,\n",
       " -0.004428128711879253,\n",
       " -0.004504257347434759,\n",
       " -0.02837047539651394,\n",
       " 0.027685321867465973,\n",
       " 0.014172550290822983,\n",
       " -0.006242519710212946,\n",
       " -0.004263184033334255,\n",
       " 0.010575488209724426,\n",
       " -0.03506976366043091,\n",
       " 0.003165668109431863,\n",
       " 0.023054184392094612,\n",
       " -0.024919327348470688,\n",
       " -0.02712704800069332,\n",
       " -0.004913446493446827,\n",
       " -0.02267354167997837,\n",
       " -0.006359884049743414,\n",
       " -0.0013457260793074965,\n",
       " -0.017268434166908264,\n",
       " 0.011704724282026291,\n",
       " -0.027228550985455513,\n",
       " -0.024462556466460228,\n",
       " -0.002049119910225272,\n",
       " -0.010543768294155598,\n",
       " -0.004539149347692728,\n",
       " 0.01905744895339012,\n",
       " 0.006442356389015913,\n",
       " -0.022635478526353836,\n",
       " 0.015479418449103832,\n",
       " -0.005179895553737879,\n",
       " 0.024525998160243034,\n",
       " 0.01264998409897089,\n",
       " -0.02395503595471382,\n",
       " -0.010264631360769272,\n",
       " 0.02120172791182995,\n",
       " 0.027228550985455513,\n",
       " 0.012954497709870338,\n",
       " -0.01351277157664299,\n",
       " -0.005570053122937679,\n",
       " -0.020199373364448547,\n",
       " 0.005598601419478655,\n",
       " 0.03012142702937126,\n",
       " 0.01492114458233118,\n",
       " 0.009306683205068111,\n",
       " 0.01632951758801937,\n",
       " -0.007701645139604807,\n",
       " 0.007517668418586254,\n",
       " -0.026949414983391762,\n",
       " 0.021912259981036186,\n",
       " -0.03184700012207031,\n",
       " -0.0017366765532642603,\n",
       " -0.0038539946544915438,\n",
       " 0.006207627709954977,\n",
       " 2.276166560477577e-05,\n",
       " -0.020009052008390427,\n",
       " 1.185167820949573e-05,\n",
       " 0.019628411158919334,\n",
       " -0.038952309638261795,\n",
       " 0.017204994335770607,\n",
       " 0.02395503595471382,\n",
       " -0.012307406403124332,\n",
       " 0.022445157170295715,\n",
       " 0.008773785084486008,\n",
       " -0.01278955303132534,\n",
       " 0.002838950837031007,\n",
       " -0.02068151906132698,\n",
       " 0.015631675720214844,\n",
       " -0.00523382006213069,\n",
       " 0.0222040843218565,\n",
       " 0.02467825450003147,\n",
       " 0.00875475350767374,\n",
       " 0.0156951155513525,\n",
       " 0.0016351721715182066,\n",
       " -0.004123615566641092,\n",
       " -0.023409448564052582,\n",
       " 0.0033496448304504156,\n",
       " 0.017154240980744362,\n",
       " 0.01658327877521515,\n",
       " 0.0085707763209939,\n",
       " 0.0006907056085765362,\n",
       " 0.007003802806138992,\n",
       " -0.010880001820623875,\n",
       " 0.014451687224209309,\n",
       " -0.0013147989520803094,\n",
       " 0.017890147864818573,\n",
       " -0.0071814353577792645,\n",
       " 0.00784755777567625,\n",
       " -0.014248678460717201,\n",
       " 0.011692036874592304,\n",
       " 0.011095697991549969,\n",
       " 0.02946164831519127,\n",
       " -0.005681073758751154,\n",
       " -0.01724305748939514,\n",
       " 0.0062964437529444695,\n",
       " -0.0020427757408469915,\n",
       " -0.0035209334455430508,\n",
       " -0.024881262332201004,\n",
       " 0.027913706377148628,\n",
       " 0.007428852375596762,\n",
       " -0.014946521259844303,\n",
       " 0.021074848249554634,\n",
       " 0.004961026832461357,\n",
       " 0.02920788712799549,\n",
       " 0.02522384002804756,\n",
       " 0.0041711959056556225,\n",
       " 0.0030895397067070007,\n",
       " 0.008976793847978115,\n",
       " 0.010270975530147552,\n",
       " 0.01885443925857544,\n",
       " -0.0005618426366709173,\n",
       " -0.006369400303810835,\n",
       " 0.013030625879764557,\n",
       " 0.013309762813150883,\n",
       " -0.020161308348178864,\n",
       " -0.02566792257130146,\n",
       " -0.005351184401661158,\n",
       " 0.0017065424472093582,\n",
       " -0.017839396372437477,\n",
       " 0.02050388604402542,\n",
       " 0.013119441457092762,\n",
       " -0.035501159727573395,\n",
       " 0.013994917273521423,\n",
       " 0.01877831108868122,\n",
       " 0.02030087634921074,\n",
       " -0.021924948319792747,\n",
       " -0.027279304340481758,\n",
       " -0.006185423582792282,\n",
       " 0.004234636202454567,\n",
       " 0.00398721918463707,\n",
       " 0.005319464020431042,\n",
       " -0.028065962716937065,\n",
       " -0.0006573994760401547,\n",
       " -0.0034511492121964693,\n",
       " 0.022533973678946495,\n",
       " -0.0001861574564827606,\n",
       " -0.004961026832461357,\n",
       " -0.00013233238132670522,\n",
       " -0.009706356562674046,\n",
       " -0.008691312745213509,\n",
       " -0.013588899746537209,\n",
       " 0.020009052008390427,\n",
       " -0.011235266923904419,\n",
       " 0.0005757202161476016,\n",
       " -0.028522731736302376,\n",
       " 0.008380455896258354,\n",
       " -0.0007061691721901298,\n",
       " -0.007219499442726374,\n",
       " -0.007365412078797817,\n",
       " 0.025883618742227554,\n",
       " -0.00035427408874966204,\n",
       " -0.013119441457092762,\n",
       " -0.0015772830229252577,\n",
       " -0.001289422856643796,\n",
       " 0.019260456785559654,\n",
       " -0.020161308348178864,\n",
       " -0.014438998885452747,\n",
       " -0.01750950701534748,\n",
       " 0.013677716255187988,\n",
       " 0.0023123968858271837,\n",
       " -0.00884357001632452,\n",
       " -0.020186685025691986,\n",
       " -0.011381179094314575,\n",
       " 0.02829434722661972,\n",
       " 0.010055278427898884,\n",
       " -0.013030625879764557,\n",
       " -0.015898125246167183,\n",
       " -0.006458216346800327,\n",
       " 0.022457845509052277,\n",
       " 0.08049298077821732,\n",
       " 0.020998720079660416,\n",
       " -0.018461110070347786,\n",
       " 0.013170193880796432,\n",
       " 0.01894325576722622,\n",
       " -0.02730467915534973,\n",
       " -0.022889239713549614,\n",
       " -0.006369400303810835,\n",
       " 0.028142090886831284,\n",
       " -0.018105844035744667,\n",
       " -0.0039269509725272655,\n",
       " -0.008989482186734676,\n",
       " 0.005516129080206156,\n",
       " -0.008006158284842968,\n",
       " 0.0239296592772007,\n",
       " -0.007581108715385199,\n",
       " 0.003619265742599964,\n",
       " -0.008596152998507023,\n",
       " 0.001638344256207347,\n",
       " 0.0018048748606815934,\n",
       " -0.0049324785359203815,\n",
       " -0.0036605019122362137,\n",
       " -9.461517038289458e-05,\n",
       " 0.012446975335478783,\n",
       " -0.014451687224209309,\n",
       " 0.0036827060393989086,\n",
       " -0.0025899477768689394,\n",
       " 0.016887791454792023,\n",
       " 0.02837047539651394,\n",
       " -0.029588527977466583,\n",
       " -0.0034321171697229147,\n",
       " 0.00798078253865242,\n",
       " 0.015644364058971405,\n",
       " 0.006680257618427277,\n",
       " 0.02120172791182995,\n",
       " 0.020719582214951515,\n",
       " -0.005084735341370106,\n",
       " 0.014667383395135403,\n",
       " 0.03281129151582718,\n",
       " -0.03154248744249344,\n",
       " 0.011730100959539413,\n",
       " 0.007543044630438089,\n",
       " 0.004409096669405699,\n",
       " 0.004605761729180813,\n",
       " 0.024284925311803818,\n",
       " 0.0002622857573442161,\n",
       " -0.01794089935719967,\n",
       " 0.016532527282834053,\n",
       " 0.0060395109467208385,\n",
       " -0.0296646561473608,\n",
       " 0.03636394813656807,\n",
       " -0.005287744104862213,\n",
       " -0.01028366293758154,\n",
       " 0.002195032313466072,\n",
       " 0.0060712313279509544,\n",
       " 0.025896307080984116,\n",
       " -0.01950152963399887,\n",
       " -0.004244151990860701,\n",
       " -0.013208257965743542,\n",
       " 0.0014710206305608153,\n",
       " -0.01033441536128521,\n",
       " -0.020085180178284645,\n",
       " -0.002930939197540283,\n",
       " -0.009452596306800842,\n",
       " -0.0015376328956335783,\n",
       " -0.025553729385137558,\n",
       " -0.011673004366457462,\n",
       " -0.008805505931377411,\n",
       " -0.0064835925586521626,\n",
       " -0.014933832921087742,\n",
       " -0.021455489099025726,\n",
       " -0.018524549901485443,\n",
       " -0.01877831108868122,\n",
       " -0.010010870173573494,\n",
       " 0.015238345600664616,\n",
       " 0.030222931876778603,\n",
       " 0.0103788236156106,\n",
       " -0.0014020293019711971,\n",
       " 0.004475709050893784,\n",
       " 0.010702368803322315,\n",
       " -0.01731918565928936,\n",
       " -0.016278766095638275,\n",
       " -0.0010079068597406149,\n",
       " -0.02611200325191021,\n",
       " 0.002415487077087164,\n",
       " 0.00970001332461834,\n",
       " 0.013398579321801662,\n",
       " -0.006455044727772474,\n",
       " 0.011850637383759022,\n",
       " 0.012066333554685116,\n",
       " 0.010803872719407082,\n",
       " 0.008545400574803352,\n",
       " -0.010810216888785362,\n",
       " 0.005846018437296152,\n",
       " 0.02267354167997837,\n",
       " -0.01114645041525364,\n",
       " 0.01242794282734394,\n",
       " 0.03456224501132965,\n",
       " 0.0191462654620409,\n",
       " -0.005585913080722094,\n",
       " 0.03291279822587967,\n",
       " -0.01704004965722561,\n",
       " 0.001068175071850419,\n",
       " 0.000574530684389174,\n",
       " 0.014642007648944855,\n",
       " -0.007606484927237034,\n",
       " 0.029867665842175484,\n",
       " 0.005030811298638582,\n",
       " -0.020173996686935425,\n",
       " -0.03293817490339279,\n",
       " 0.031694743782281876,\n",
       " -0.00552881695330143,\n",
       " 0.014565879479050636,\n",
       " 0.012459663674235344,\n",
       " 0.01092440914362669,\n",
       " 0.014984585344791412,\n",
       " 0.01578393206000328,\n",
       " 0.011374834924936295,\n",
       " -0.00015156270819716156,\n",
       " -0.009763453155755997,\n",
       " -0.00856443215161562,\n",
       " -0.021341297775506973,\n",
       " -0.001030903891660273,\n",
       " 0.02946164831519127,\n",
       " -0.025274591520428658,\n",
       " 0.021633122116327286,\n",
       " -0.004041143227368593,\n",
       " -0.015352538786828518,\n",
       " -0.0030308575369417667,\n",
       " 0.003375020809471607,\n",
       " 0.011806229129433632,\n",
       " 0.007067243102937937,\n",
       " 0.0015542858745902777,\n",
       " -0.009801517240703106,\n",
       " -0.04199744015932083,\n",
       " -0.01084193680435419,\n",
       " -0.0036795339547097683,\n",
       " 0.012383535504341125,\n",
       " -0.01351277157664299,\n",
       " 0.0012093295808881521,\n",
       " -0.031237974762916565,\n",
       " -0.008849913254380226,\n",
       " 0.012434286996722221,\n",
       " -0.04270797222852707,\n",
       " 0.01986948400735855,\n",
       " -0.025515664368867874,\n",
       " -0.0018508690409362316,\n",
       " -0.014426310546696186,\n",
       " -0.0023679069709032774,\n",
       " 0.013994917273521423,\n",
       " -0.01568242721259594,\n",
       " -0.010740432888269424,\n",
       " -0.024246860295534134,\n",
       " -0.016126509755849838,\n",
       " -0.002261644694954157,\n",
       " -0.03618631511926651,\n",
       " 0.007803149521350861,\n",
       " -0.0156951155513525,\n",
       " 0.04017036035656929,\n",
       " 0.017636386677622795,\n",
       " 0.030045298859477043,\n",
       " -0.0034130848944187164,\n",
       " 0.0048151141963899136,\n",
       " 0.024322988465428352,\n",
       " -0.02674640528857708,\n",
       " -0.003698565997183323,\n",
       " -0.0016573762986809015,\n",
       " -0.003179942024871707,\n",
       " -0.016189949586987495,\n",
       " -0.007035522721707821,\n",
       " 0.029588527977466583,\n",
       " 0.0058174701407551765,\n",
       " 0.026594148948788643,\n",
       " 0.018803687766194344,\n",
       " -0.017788643017411232,\n",
       " 0.011311395093798637,\n",
       " -0.0036953941453248262,\n",
       " 0.009433563798666,\n",
       " -0.012129774317145348,\n",
       " -0.016253389418125153,\n",
       " 0.020427757874131203,\n",
       " -0.0054907528683543205,\n",
       " 0.016304142773151398,\n",
       " -0.0072639076970517635,\n",
       " -0.008602497167885303,\n",
       " -0.004085551481693983,\n",
       " 0.010435919277369976,\n",
       " 0.03293817490339279,\n",
       " 0.03735361248254776,\n",
       " 0.0065153129398822784,\n",
       " 0.02202645130455494,\n",
       " 0.0008723033242858946,\n",
       " -0.004995918832719326,\n",
       " 0.0047199539840221405,\n",
       " -0.003314752597361803,\n",
       " -0.027177799493074417,\n",
       " -0.0018524550832808018,\n",
       " 0.010987849906086922,\n",
       " 0.006461388431489468,\n",
       " 0.026974789798259735,\n",
       " -0.0011665074853226542,\n",
       " 0.01624070107936859,\n",
       " -0.013144818134605885,\n",
       " 0.024145355448126793,\n",
       " -0.0038444786332547665,\n",
       " 0.005376560613512993,\n",
       " -0.011406555771827698,\n",
       " -0.012136118486523628,\n",
       " -0.0014337494503706694,\n",
       " -0.025870930403470993,\n",
       " -0.010740432888269424,\n",
       " -0.03481600433588028,\n",
       " -0.011520748026669025,\n",
       " -0.016849728301167488,\n",
       " 0.006077575031667948,\n",
       " 0.01966647431254387,\n",
       " -0.011799884960055351,\n",
       " 0.010822905227541924,\n",
       " -0.014464374631643295,\n",
       " -0.03755662217736244,\n",
       " -0.004291732329875231,\n",
       " 0.0014274053974077106,\n",
       " 0.045296333730220795,\n",
       " -0.010315382853150368,\n",
       " 0.00802519079297781,\n",
       " 0.0117427883669734,\n",
       " -0.00466920156031847,\n",
       " 0.0015178078319877386,\n",
       " 0.01615188457071781,\n",
       " 0.012630952522158623,\n",
       " 0.00514183146879077,\n",
       " -0.00048531783977523446,\n",
       " 0.01830885373055935,\n",
       " -0.008900665678083897,\n",
       " -0.004830974154174328,\n",
       " -0.019983675330877304,\n",
       " -0.008989482186734676,\n",
       " -0.024449868127703667,\n",
       " -0.010588176548480988,\n",
       " 0.027989834547042847,\n",
       " 0.0008524782606400549,\n",
       " -0.00017882218526210636,\n",
       " -0.008735720999538898,\n",
       " -0.017534881830215454,\n",
       " -0.0004873003636021167,\n",
       " 0.011032258160412312,\n",
       " -0.015162217430770397,\n",
       " -0.00600461894646287,\n",
       " -0.02420879527926445,\n",
       " -0.00018011081556323916,\n",
       " -0.042022816836833954,\n",
       " 0.009357435628771782,\n",
       " -0.01894325576722622,\n",
       " 0.0035399654880166054,\n",
       " -0.03075582906603813,\n",
       " -0.012726112268865108,\n",
       " 0.0072068115696311,\n",
       " 0.015555547550320625,\n",
       " -0.02755844034254551,\n",
       " -0.006267895922064781,\n",
       " -0.018994009122252464,\n",
       " 0.01264363992959261,\n",
       " -0.025071583688259125,\n",
       " -0.002328256843611598,\n",
       " 0.013322451151907444,\n",
       " 0.0026295979041606188,\n",
       " -0.022242149338126183,\n",
       " -0.02021206170320511,\n",
       " -0.0059348344802856445,\n",
       " 0.025261905044317245,\n",
       " -0.01427405420690775,\n",
       " -0.01667209528386593,\n",
       " -0.006026823073625565,\n",
       " 0.012529447674751282,\n",
       " 0.01712886430323124,\n",
       " -0.019793355837464333,\n",
       " 0.0005384490359574556,\n",
       " -0.028954125940799713,\n",
       " -0.00467237364500761,\n",
       " 0.015720492228865623,\n",
       " 0.02112559974193573,\n",
       " -0.0011228922521695495,\n",
       " -0.0041838837787508965,\n",
       " 0.007251219358295202,\n",
       " -0.009503347799181938,\n",
       " 0.002283848589286208,\n",
       " 0.0040347995236516,\n",
       " -0.014223301783204079,\n",
       " 0.009795173071324825,\n",
       " -0.019603034481406212,\n",
       " -0.0006090262904763222,\n",
       " -0.017027361318469048,\n",
       " -0.0015233587473630905,\n",
       " 0.0030054813250899315,\n",
       " 0.02077033556997776,\n",
       " 0.0002999533899128437,\n",
       " -0.006965738721191883,\n",
       " 0.02439911663532257,\n",
       " -0.028142090886831284,\n",
       " 0.017649075016379356,\n",
       " -0.03083195723593235,\n",
       " 0.006125155370682478,\n",
       " -0.024970078840851784,\n",
       " 0.007784117478877306,\n",
       " 0.01020753476768732,\n",
       " 0.00635036826133728,\n",
       " 0.0144136231392622,\n",
       " -0.020021740347146988,\n",
       " 0.0032798603642731905,\n",
       " -0.02503351867198944,\n",
       " -0.005351184401661158,\n",
       " -0.003619265742599964,\n",
       " 0.02283848635852337,\n",
       " -0.024373739957809448,\n",
       " 0.01105763390660286,\n",
       " 0.00034356856485828757,\n",
       " 0.01110838633030653,\n",
       " -0.031872376799583435,\n",
       " -0.007879277691245079,\n",
       " 0.03311580419540405,\n",
       " 0.0012362917186692357,\n",
       " 0.024805134162306786,\n",
       " 0.03583104908466339,\n",
       " -0.02458943799138069,\n",
       " 0.006978426594287157,\n",
       " 0.005636665504425764,\n",
       " 0.009649260900914669,\n",
       " 0.012262999080121517,\n",
       " -0.02239440567791462,\n",
       " -0.007790461648255587,\n",
       " -0.010321727022528648,\n",
       " 0.02857348509132862,\n",
       " 0.0037778664845973253,\n",
       " -0.01092440914362669,\n",
       " -0.011469995602965355,\n",
       " -0.003381364978849888,\n",
       " -0.01658327877521515,\n",
       " 0.015745867043733597,\n",
       " -0.023701274767518044,\n",
       " -0.003048303537070751,\n",
       " 0.018194660544395447,\n",
       " 0.0021157320588827133,\n",
       " -0.02702554315328598,\n",
       " 0.01107032224535942,\n",
       " -0.013436643406748772,\n",
       " -0.011996549554169178,\n",
       " -0.013576211407780647,\n",
       " -0.005084735341370106,\n",
       " -0.030502067878842354,\n",
       " -0.01966647431254387,\n",
       " -0.007790461648255587,\n",
       " 0.002493201522156596,\n",
       " 0.013829972594976425,\n",
       " -0.011666660197079182,\n",
       " -0.02538878470659256,\n",
       " -0.008945073932409286,\n",
       " -0.006661225575953722,\n",
       " -0.010137750767171383,\n",
       " 0.026594148948788643,\n",
       " 0.003847650717943907,\n",
       " 0.02121441625058651,\n",
       " -0.02276235818862915,\n",
       " 0.011298706755042076,\n",
       " 0.014350182376801968,\n",
       " -0.013309762813150883,\n",
       " 0.030146801844239235,\n",
       " -0.012973529286682606,\n",
       " -0.009725389070808887,\n",
       " -0.0066104731522500515,\n",
       " -0.002271160716190934,\n",
       " -0.0022299245465546846,\n",
       " -0.000904023414477706,\n",
       " -0.004811942111700773,\n",
       " -0.0103788236156106,\n",
       " 0.0048246304504573345,\n",
       " 0.021988388150930405,\n",
       " 0.010734088718891144,\n",
       " 0.01101956982165575,\n",
       " -0.008253575302660465,\n",
       " 6.408455374184996e-05,\n",
       " -0.0036668458487838507,\n",
       " -0.019260456785559654,\n",
       " 0.007530356757342815,\n",
       " -0.008520024828612804,\n",
       " 0.011330426670610905,\n",
       " -0.026822533458471298,\n",
       " -0.0112416110932827,\n",
       " 0.006692945491522551,\n",
       " -0.012117085978388786,\n",
       " -0.02628963626921177,\n",
       " -0.005750857759267092,\n",
       " 0.017750579863786697,\n",
       " -0.0058713941834867,\n",
       " 0.00957313273102045,\n",
       " -0.02211526781320572,\n",
       " -0.004995918832719326,\n",
       " -0.01088634505867958,\n",
       " -0.029766160994768143,\n",
       " 0.013791908510029316,\n",
       " -0.012903745286166668,\n",
       " 0.030070673674345016,\n",
       " 0.024970078840851784,\n",
       " -0.011806229129433632,\n",
       " -0.01024559885263443,\n",
       " 0.0009341575787402689,\n",
       " 0.0012545307399705052,\n",
       " -0.013779220171272755,\n",
       " -0.021734626963734627,\n",
       " 0.00711799506098032,\n",
       " -0.017369939014315605,\n",
       " -0.0014369214186444879,\n",
       " -0.029690032824873924,\n",
       " 0.0018746590940281749,\n",
       " -0.022876551374793053,\n",
       " 0.006826169788837433,\n",
       " -0.022001076489686966,\n",
       " -0.015504795126616955,\n",
       " -0.017204994335770607,\n",
       " 0.024779757484793663,\n",
       " -0.008640561252832413,\n",
       " -0.021150976419448853,\n",
       " -0.0023092248011380434,\n",
       " -0.022242149338126183,\n",
       " 0.00394281093031168,\n",
       " -0.0009872887749224901,\n",
       " -0.010397855192422867,\n",
       " 0.006921330466866493,\n",
       " 0.003955499269068241,\n",
       " -0.01823272556066513,\n",
       " -0.0068325139582157135,\n",
       " 4.004665242973715e-05,\n",
       " -0.023358697071671486,\n",
       " -0.013017937541007996,\n",
       " 0.015314474701881409,\n",
       " -0.006997458636760712,\n",
       " 0.021975699812173843,\n",
       " 0.2084900140762329,\n",
       " -0.0017826707335188985,\n",
       " 0.0050688753835856915,\n",
       " 0.03687146678566933,\n",
       " -0.010550112463533878,\n",
       " 0.030349811539053917,\n",
       " 0.021709250286221504,\n",
       " -0.0035494815092533827,\n",
       " -0.006718321703374386,\n",
       " 0.02575673721730709,\n",
       " -0.002483685500919819,\n",
       " 0.012967185117304325,\n",
       " -0.02150624245405197,\n",
       " 0.004618449602276087,\n",
       " 0.014603943563997746,\n",
       " 0.008735720999538898,\n",
       " -0.005179895553737879,\n",
       " -0.0025566418189555407,\n",
       " -0.014337494969367981,\n",
       " -0.03009605035185814,\n",
       " -0.014591255225241184,\n",
       " -0.00600779103115201,\n",
       " -0.026797158643603325,\n",
       " -0.004443989135324955,\n",
       " 0.010689680464565754,\n",
       " 0.01912088878452778,\n",
       " -0.007898310199379921,\n",
       " -0.0009555686265230179,\n",
       " 0.032785918563604355,\n",
       " 0.01849917508661747,\n",
       " -0.017369939014315605,\n",
       " -0.0026216679252684116,\n",
       " -0.011140106245875359,\n",
       " 0.02258472517132759,\n",
       " -0.014781576581299305,\n",
       " 0.00793637428432703,\n",
       " 0.016469087451696396,\n",
       " 0.01848648674786091,\n",
       " 0.012592887505888939,\n",
       " -0.003911091014742851,\n",
       " 0.020998720079660416,\n",
       " 0.0015186007367447019,\n",
       " -0.007308315951377153,\n",
       " -0.014730824157595634,\n",
       " 0.0021236620377749205,\n",
       " 0.025439536198973656,\n",
       " ...]"
      ]
     },
     "execution_count": 14,
     "metadata": {},
     "output_type": "execute_result"
    }
   ],
   "source": [
    "text = 'the quick brown fox jumped over the lazy dog'\n",
    "client.embeddings.create(input=[text], model=model).data[0].embedding\n"
   ]
  },
  {
   "cell_type": "code",
   "execution_count": 15,
   "metadata": {
    "gather": {
     "logged": 1674829555255
    },
    "jupyter": {
     "outputs_hidden": false,
     "source_hidden": false
    },
    "nteract": {
     "transient": {
      "deleting": false
     }
    }
   },
   "outputs": [
    {
     "name": "stdout",
     "output_type": "stream",
     "text": [
      "0.08432575427242661\n",
      "0.16712270943943375\n",
      "0.21808605456406338\n"
     ]
    }
   ],
   "source": [
    "# compare several words\n",
    "automobile_embedding    = client.embeddings.create(input='automobile', model=model).data[0].embedding\n",
    "vehicle_embedding       = client.embeddings.create(input='vehicle', model=model).data[0].embedding\n",
    "dinosaur_embedding      = client.embeddings.create(input='dinosaur', model=model).data[0].embedding\n",
    "stick_embedding         = client.embeddings.create(input='stick', model=model).data[0].embedding\n",
    "\n",
    "print(cosine_similarity(automobile_embedding, vehicle_embedding))\n",
    "print(cosine_similarity(automobile_embedding, dinosaur_embedding))\n",
    "print(cosine_similarity(automobile_embedding, stick_embedding))"
   ]
  },
  {
   "attachments": {},
   "cell_type": "markdown",
   "metadata": {
    "nteract": {
     "transient": {
      "deleting": false
     }
    }
   },
   "source": [
    "## Comparing article from cnn daily news dataset\n",
    "source: https://huggingface.co/datasets/cnn_dailymail\n"
   ]
  },
  {
   "cell_type": "code",
   "execution_count": 16,
   "metadata": {
    "gather": {
     "logged": 1674831122093
    },
    "jupyter": {
     "outputs_hidden": false,
     "source_hidden": false
    },
    "nteract": {
     "transient": {
      "deleting": false
     }
    }
   },
   "outputs": [
    {
     "data": {
      "text/html": [
       "<div>\n",
       "<style scoped>\n",
       "    .dataframe tbody tr th:only-of-type {\n",
       "        vertical-align: middle;\n",
       "    }\n",
       "\n",
       "    .dataframe tbody tr th {\n",
       "        vertical-align: top;\n",
       "    }\n",
       "\n",
       "    .dataframe thead th {\n",
       "        text-align: right;\n",
       "    }\n",
       "</style>\n",
       "<table border=\"1\" class=\"dataframe\">\n",
       "  <thead>\n",
       "    <tr style=\"text-align: right;\">\n",
       "      <th></th>\n",
       "      <th>articles</th>\n",
       "      <th>highligths</th>\n",
       "    </tr>\n",
       "  </thead>\n",
       "  <tbody>\n",
       "    <tr>\n",
       "      <th>0</th>\n",
       "      <td>BREMEN, Germany -- Carlos Alberto, who scored ...</td>\n",
       "      <td>Werder Bremen pay a club record $10.7 million ...</td>\n",
       "    </tr>\n",
       "    <tr>\n",
       "      <th>1</th>\n",
       "      <td>(CNN) -- Football superstar, celebrity, fashio...</td>\n",
       "      <td>Beckham has agreed to a five-year contract wit...</td>\n",
       "    </tr>\n",
       "    <tr>\n",
       "      <th>2</th>\n",
       "      <td>LOS ANGELES, California (CNN) -- Youssif, the ...</td>\n",
       "      <td>Boy on meeting Spider-Man: \"It was my favorite...</td>\n",
       "    </tr>\n",
       "  </tbody>\n",
       "</table>\n",
       "</div>"
      ],
      "text/plain": [
       "                                            articles  \\\n",
       "0  BREMEN, Germany -- Carlos Alberto, who scored ...   \n",
       "1  (CNN) -- Football superstar, celebrity, fashio...   \n",
       "2  LOS ANGELES, California (CNN) -- Youssif, the ...   \n",
       "\n",
       "                                          highligths  \n",
       "0  Werder Bremen pay a club record $10.7 million ...  \n",
       "1  Beckham has agreed to a five-year contract wit...  \n",
       "2  Boy on meeting Spider-Man: \"It was my favorite...  "
      ]
     },
     "execution_count": 16,
     "metadata": {},
     "output_type": "execute_result"
    }
   ],
   "source": [
    "import pandas as pd\n",
    "cnn_daily_articles = ['BREMEN, Germany -- Carlos Alberto, who scored in FC Porto\\'s Champions League final victory against Monaco in 2004, has joined Bundesliga club Werder Bremen for a club record fee of 7.8 million euros ($10.7 million). Carlos Alberto enjoyed success at FC Porto under Jose Mourinho. \"I\\'m here to win titles with Werder,\" the 22-year-old said after his first training session with his new club. \"I like Bremen and would only have wanted to come here.\" Carlos Alberto started his career with Fluminense, and helped them to lift the Campeonato Carioca in 2002. In January 2004 he moved on to FC Porto, who were coached by José Mourinho, and the club won the Portuguese title as well as the Champions League. Early in 2005, he moved to Corinthians, where he impressed as they won the Brasileirão,but in 2006 Corinthians had a poor season and Carlos Alberto found himself at odds with manager, Emerson Leão. Their poor relationship came to a climax at a Copa Sul-Americana game against Club Atlético Lanús, and Carlos Alberto declared that he would not play for Corinthians again while Leão remained as manager. Since January this year he has been on loan with his first club Fluminense. Bundesliga champions VfB Stuttgart said on Sunday that they would sign a loan agreement with Real Zaragoza on Monday for Ewerthon, the third top Brazilian player to join the German league in three days. A VfB spokesman said Ewerthon, who played in the Bundesliga for Borussia Dortmund from 2001 to 2005, was expected to join the club for their pre-season training in Austria on Monday. On Friday, Ailton returned to Germany where he was the league\\'s top scorer in 2004, signing a one-year deal with Duisburg on a transfer from Red Star Belgrade. E-mail to a friend .',\n",
    "                        '(CNN) -- Football superstar, celebrity, fashion icon, multimillion-dollar heartthrob. Now, David Beckham is headed for the Hollywood Hills as he takes his game to U.S. Major League Soccer. CNN looks at how Bekham fulfilled his dream of playing for Manchester United, and his time playing for England. The world\\'s famous footballer has begun a five-year contract with the Los Angeles Galaxy team, and on Friday Beckham will meet the press and reveal his new shirt number. This week, we take an in depth look at the life and times of Beckham, as CNN\\'s very own \"Becks,\" Becky Anderson, sets out to examine what makes the man tick -- as footballer, fashion icon and global phenomenon. It\\'s a long way from the streets of east London to the Hollywood Hills and Becky charts Beckham\\'s incredible rise to football stardom, a journey that has seen his skills grace the greatest stages in world soccer. She goes in pursuit of the current hottest property on the sports/celebrity circuit in the U.S. and along the way explores exactly what\\'s behind the man with the golden boot. CNN will look back at the life of Beckham, the wonderfully talented youngster who fulfilled his dream of playing for Manchester United, his marriage to pop star Victoria, and the trials and tribulations of playing for England. We\\'ll look at the highs (scoring against Greece), the lows (being sent off during the World Cup), the Man. U departure for the Galacticos of Madrid -- and now the Home Depot stadium in L.A. We\\'ll ask how Beckham and his family will adapt to life in Los Angeles -- the people, the places to see and be seen and the celebrity endorsement. Beckham is no stranger to exposure. He has teamed with Reggie Bush in an Adidas commercial, is the face of Motorola, is the face on a PlayStation game and doesn\\'t need fashion tips as he has his own international clothing line. But what does the star couple need to do to become an accepted part of Tinseltown\\'s glitterati? The road to major league football in the U.S.A. is a well-worn route for some of the world\\'s greatest players. We talk to some of the former greats who came before him and examine what impact these overseas stars had on U.S. soccer and look at what is different now. We also get a rare glimpse inside the David Beckham academy in L.A, find out what drives the kids and who are their heroes. The perception that in the U.S.A. soccer is a \"game for girls\" after the teenage years is changing. More and more young kids are choosing the European game over the traditional U.S. sports. E-mail to a friend .',\n",
    "                        'LOS ANGELES, California (CNN) -- Youssif, the 5-year-old burned Iraqi boy, rounded the corner at Universal Studios when suddenly the little boy hero met his favorite superhero. Youssif has always been a huge Spider-Man fan. Meeting him was \"my favorite thing,\" he said. Spider-Man was right smack dab in front of him, riding a four-wheeler amid a convoy of other superheroes. The legendary climber of buildings and fighter of evil dismounted, walked over to Youssif and introduced himself. Spidey then gave the boy from a far-away land a gentle hug, embracing him in his iconic blue and red tights. He showed Youssif a few tricks, like how to shoot a web from his wrist. Only this time, no web was spun. \"All right Youssif!\" Spider-Man said after the boy mimicked his wrist movement. Other superheroes crowded around to get a closer look. Even the Green Goblin stopped his villainous ways to tell the boy hi. Youssif remained unfazed. He didn\\'t take a liking to Spider-Man\\'s nemesis. Spidey was just too cool. \"It was my favorite thing,\" the boy said later. \"I want to see him again.\" He then felt compelled to add: \"I know it\\'s not the real Spider-Man.\" This was the day of dreams when the boy\\'s nightmares were, at least temporarily, forgotten. He met SpongeBob, Lassie and a 3-year-old orangutan named Archie. The hairy, brownish-red primate took to the boy, grabbing his hand and holding it. Even when Youssif pulled away, Archie would inch his hand back toward the boy\\'s and then snatch it. See Youssif enjoy being a boy again » . The boy giggled inside a play area where sponge-like balls shot out of toy guns. It was a far different artillery than what he was used to seeing in central Baghdad, as recently as a week ago. He squealed with delight and raced around the room collecting as many balls as he could. He rode a tram through the back stages at Universal Studios. At one point, the car shook. Fire and smoke filled the air, debris cascaded down and a big rig skidded toward the vehicle. The boy and his family survived the pretend earthquake unscathed. \"Even I was scared,\" the dad said. \"Well, I wasn\\'t,\" Youssif replied. The father and mother grinned from ear to ear throughout the day. Youssif pushed his 14-month-old sister, Ayaa, in a stroller. \"Did you even need to ask us if we were interested in coming here?\" Youssif\\'s father said in amazement. \"Other than my wedding day, this is the happiest day of my life,\" he said. Just a day earlier, the mother and father talked about their journey out of Iraq and to the United States. They also discussed that day nine months ago when masked men grabbed their son outside the family home, doused him in gas and set him on fire. His mother heard her boy screaming from inside. The father sought help for his boy across Baghdad, but no one listened. He remembers his son\\'s two months of hospitalization. The doctors didn\\'t use anesthetics. He could hear his boy\\'s piercing screams from the other side of the hospital. Watch Youssif meet his doctor and play with his little sister » . The father knew that speaking to CNN would put his family\\'s lives in jeopardy. The possibility of being killed was better than seeing his son suffer, he said. \"Anything for Youssif,\" he said. \"We had to do it.\" They described a life of utter chaos in Baghdad. Neighbors had recently given birth to a baby girl. Shortly afterward, the father was kidnapped and killed. Then, there was the time when some girls wore tanktops and jeans. They were snatched off the street by gunmen. The stories can be even more gruesome. The couple said they had heard reports that a young girl was kidnapped and beheaded --and her killers sewed a dog\\'s head on the corpse and delivered it to her family\\'s doorstep. \"These are just some of the stories,\" said Youssif\\'s mother, Zainab. Under Saddam Hussein, there was more security and stability, they said. There was running water and electricity most of the time. But still life was tough under the dictator, like the time when Zainab\\'s uncle disappeared and was never heard from again after he read a \"religious book,\" she said. Sitting in the parking lot of a Target in suburban Los Angeles, Youssif\\'s father watched as husbands and wives, boyfriends and girlfriends, parents and their children, came and went. Some held hands. Others smiled and laughed. \"Iraq finished,\" he said in what few English words he knows. He elaborated in Arabic: His homeland won\\'t be enjoying such freedoms anytime soon. It\\'s just not possible. Too much violence. Too many killings. His two children have only seen war. But this week, the family has seen a much different side of America -- an outpouring of generosity and a peaceful nation at home. \"It\\'s been a dream,\" the father said. He used to do a lot of volunteer work back in Baghdad. \"Maybe that\\'s why I\\'m being helped now,\" the father said. At Universal Studios, he looked out across the valley below. The sun glistened off treetops and buildings. It was a picturesque sight fit for a Hollywood movie. \"Good America, good America,\" he said in English. E-mail to a friend . CNN\\'s Arwa Damon contributed to this report.'\n",
    "]\n",
    "\n",
    "cnn_daily_article_highlights = ['Werder Bremen pay a club record $10.7 million for Carlos Alberto .\\nThe Brazilian midfielder won the Champions League with FC Porto in 2004 .\\nSince January he has been on loan with his first club, Fluminense .',\n",
    "                                'Beckham has agreed to a five-year contract with Los Angeles Galaxy .\\nNew contract took effect July 1, 2007 .\\nFormer English captain to meet press, unveil new shirt number Friday .\\nCNN to look at Beckham as footballer, fashion icon and global phenomenon .',\n",
    "                                'Boy on meeting Spider-Man: \"It was my favorite thing\"\\nYoussif also met SpongeBob, Lassie and an orangutan at Universal Studios .\\nDad: \"Other than my wedding day, this is the happiest day of my life\"' \n",
    "]\n",
    "\n",
    "cnn_df = pd.DataFrame({\"articles\":cnn_daily_articles, \"highligths\":cnn_daily_article_highlights})\n",
    "\n",
    "cnn_df.head()                      "
   ]
  },
  {
   "cell_type": "code",
   "execution_count": 17,
   "metadata": {
    "gather": {
     "logged": 1674831294043
    },
    "jupyter": {
     "outputs_hidden": false,
     "source_hidden": false
    },
    "nteract": {
     "transient": {
      "deleting": false
     }
    }
   },
   "outputs": [
    {
     "name": "stdout",
     "output_type": "stream",
     "text": [
      "0.23841659796484627\n",
      "0.2904369599725425\n"
     ]
    }
   ],
   "source": [
    "article1_embedding    = client.embeddings.create(input=cnn_df.articles.iloc[0], model=model).data[0].embedding\n",
    "article2_embedding    = client.embeddings.create(input=cnn_df.articles.iloc[1], model=model).data[0].embedding\n",
    "article3_embedding    = client.embeddings.create(input=cnn_df.articles.iloc[2], model=model).data[0].embedding\n",
    "\n",
    "print(cosine_similarity(article1_embedding, article2_embedding))\n",
    "print(cosine_similarity(article1_embedding, article3_embedding))"
   ]
  },
  {
   "attachments": {},
   "cell_type": "markdown",
   "metadata": {
    "nteract": {
     "transient": {
      "deleting": false
     }
    }
   },
   "source": [
    "# References  \n",
    "-Azure Reference Documentation  \n",
    "-Azure OpenAI GitHub Repo\n",
    "-cookbooks  \n",
    "-OpenAI website  \n",
    "\n",
    "1 - [Openai Cookbook](https://github.com/openai/openai-cookbook)  \n",
    "2 - [Azure Documentation - Azure Open AI Models](https://learn.microsoft.com/en-us/azure/cognitive-services/openai/concepts/models)  \n",
    "3 - [OpenAI Studio Examples](https://oai.azure.com/portal)  \n",
    "4 - [[PUBLIC] Best practices for fine-tuning GPT-3 to classify text](https://docs.google.com/document/d/1rqj7dkuvl7Byd5KQPUJRxc19BJt8wo0yHNwK84KfU3Q/edit#)"
   ]
  },
  {
   "attachments": {},
   "cell_type": "markdown",
   "metadata": {
    "nteract": {
     "transient": {
      "deleting": false
     }
    }
   },
   "source": [
    "# For More Help  \n",
    "[OpenAI Commercialization Team](AzureOpenAITeam@microsoft.com)  \n",
    "AI Specialized CSAs [aka.ms/airangers](aka.ms/airangers)"
   ]
  },
  {
   "attachments": {},
   "cell_type": "markdown",
   "metadata": {
    "nteract": {
     "transient": {
      "deleting": false
     }
    }
   },
   "source": [
    "# Contributors\n",
    "* Louis Li  \n"
   ]
  },
  {
   "cell_type": "code",
   "execution_count": null,
   "metadata": {},
   "outputs": [],
   "source": []
  }
 ],
 "metadata": {
  "kernel_info": {
   "name": "python310-sdkv2"
  },
  "kernelspec": {
   "display_name": ".venv",
   "language": "python",
   "name": "python3"
  },
  "language_info": {
   "codemirror_mode": {
    "name": "ipython",
    "version": 3
   },
   "file_extension": ".py",
   "mimetype": "text/x-python",
   "name": "python",
   "nbconvert_exporter": "python",
   "pygments_lexer": "ipython3",
   "version": "3.12.5"
  },
  "microsoft": {
   "host": {
    "AzureML": {
     "notebookHasBeenCompleted": true
    }
   }
  },
  "nteract": {
   "version": "nteract-front-end@1.0.0"
  }
 },
 "nbformat": 4,
 "nbformat_minor": 2
}
