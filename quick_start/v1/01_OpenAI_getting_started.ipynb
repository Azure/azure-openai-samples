{
  "cells": [
    {
      "attachments": {},
      "cell_type": "markdown",
      "metadata": {
        "nteract": {
          "transient": {
            "deleting": false
          }
        }
      },
      "source": [
        "# OpenAI Quickstart"
      ]
    },
    {
      "attachments": {},
      "cell_type": "markdown",
      "metadata": {
        "nteract": {
          "transient": {
            "deleting": false
          }
        }
      },
      "source": [
        "# Overview  \n",
        "\"Large language models are functions that map text to text. Given an input string of text, a large language model tries to predict the text that will come next\"(1). This \"quickstart\" notebook will introduce users to high-level LLM concepts, core package requirements for getting started with AML, an soft introduction to prompt design, and severa short examples of different use cases.  \n",
        "\n",
        "For more quickstart examples please refer to the official Azure Open AI Quickstart Documentation https://learn.microsoft.com/en-us/azure/cognitive-services/openai/quickstart?pivots=programming-language-studio"
      ]
    },
    {
      "attachments": {},
      "cell_type": "markdown",
      "metadata": {
        "nteract": {
          "transient": {
            "deleting": false
          }
        }
      },
      "source": [
        "## Table of Contents  \n",
        "\n",
        "[Overview](#overview)  \n",
        "[How to use OpenAI Service](#how-to-use-openai-service)  \n",
        "[1. Creating your OpenAI Service](#1.-creating-your-openai-service)  \n",
        "[2. Installation](#2.-installation)    \n",
        "[3. Credentials](#3.-credentials)  \n",
        "\n",
        "[Use Cases](#use-cases)    \n",
        "[1. Summarize Text](#1.-summarize-text)  \n",
        "[2. Classify Text](#2.-classify-text)  \n",
        "[3. Generate New Product Names](#3.-generate-new-product-names)  \n",
        "[4. Fine Tune a Classifier](#4.fine-tune-a-classifier)  \n",
        "[5. Embeddings!]((#5.-embeddings!))\n",
        "\n",
        "[References](#references)"
      ]
    },
    {
      "attachments": {},
      "cell_type": "markdown",
      "metadata": {
        "nteract": {
          "transient": {
            "deleting": false
          }
        }
      },
      "source": [
        "### Getting started with Azure OpenAI Service\n",
        "\n",
        "New customers will need to [apply for access](https://aka.ms/oai/access) to Azure OpenAI Service.  \n",
        "After approval is complete, customers can log into the Azure portal, create an Azure OpenAI Service resource, and start experimenting with models via the studio  \n",
        "\n",
        "[Great resource for getting started quickly](https://techcommunity.microsoft.com/t5/educator-developer-blog/azure-openai-is-now-generally-available/ba-p/3719177 )\n"
      ]
    },
    {
      "attachments": {},
      "cell_type": "markdown",
      "metadata": {
        "nteract": {
          "transient": {
            "deleting": false
          }
        }
      },
      "source": [
        "### Build your first prompt  \n",
        "This short exercise will provide a basic introduction for submitting prompts to an OpenAI model for a simple task \"summarization\".  \n",
        "\n",
        "![](images/generative-AI-models-reduced.jpg)  \n",
        "\n",
        "\n",
        "**Steps**:  \n",
        "1. Install OpenAI library in your python environment  \n",
        "2. Load standard helper libraries and set your typical OpenAI security credentials for the OpenAI Service that you've created  \n",
        "3. Choose a model for your task  \n",
        "4. Create a simple prompt for the model  \n",
        "5. Submit your request to the model API!"
      ]
    },
    {
      "attachments": {},
      "cell_type": "markdown",
      "metadata": {
        "nteract": {
          "transient": {
            "deleting": false
          }
        }
      },
      "source": [
        "### 1. Import helper libraries and instantiate credentials"
      ]
    },
    {
      "cell_type": "code",
      "execution_count": 1,
      "metadata": {
        "gather": {
          "logged": 1674829434433
        },
        "jupyter": {
          "outputs_hidden": false,
          "source_hidden": false
        },
        "nteract": {
          "transient": {
            "deleting": false
          }
        }
      },
      "outputs": [],
      "source": [
        "import re\n",
        "import requests\n",
        "import sys\n",
        "import os\n",
        "from openai import AzureOpenAI\n",
        "import tiktoken\n",
        "from dotenv import load_dotenv\n",
        "load_dotenv()\n",
        "\n",
        "client = AzureOpenAI(\n",
        "  azure_endpoint = os.getenv(\"AZURE_OPENAI_ENDPOINT\"), \n",
        "  api_key=os.getenv(\"AZURE_OPENAI_KEY\"),  \n",
        "  api_version=\"2024-02-15-preview\"\n",
        ")\n"
      ]
    },
    {
      "attachments": {},
      "cell_type": "markdown",
      "metadata": {
        "nteract": {
          "transient": {
            "deleting": false
          }
        }
      },
      "source": [
        "### 2. Finding the right model  \n",
        "The GPT-3.5-turbi or GPT-4 models can understand and generate natural language. The service offers four model capabilities, each with different levels of power and speed suitable for different tasks. \n",
        "\n",
        "[Azure OpenAI models](https://learn.microsoft.com/en-us/azure/cognitive-services/openai/concepts/models)  \n",
        "![](images/a-b-c-d-models-reduced.jpg)  \n"
      ]
    },
    {
      "cell_type": "code",
      "execution_count": 2,
      "metadata": {
        "gather": {
          "logged": 1674742720788
        },
        "jupyter": {
          "outputs_hidden": true,
          "source_hidden": false
        },
        "nteract": {
          "transient": {
            "deleting": false
          }
        }
      },
      "outputs": [],
      "source": [
        "# Select the General Purpose curie model for text\n",
        "model = os.getenv(\"CHAT_COMPLETION_NAME\")"
      ]
    },
    {
      "attachments": {},
      "cell_type": "markdown",
      "metadata": {
        "nteract": {
          "transient": {
            "deleting": false
          }
        }
      },
      "source": [
        "### 3. Prompt Design  \n",
        "\n",
        "\"The magic of large language models is that by being trained to minimize this prediction error over vast quantities of text, the models end up learning concepts useful for these predictions. For example, they learn concepts like\"(1):\n",
        "\n",
        "* how to spell\n",
        "* how grammar works\n",
        "* how to paraphrase\n",
        "* how to answer questions\n",
        "* how to hold a conversation\n",
        "* how to write in many languages\n",
        "* how to code\n",
        "* etc.\n",
        "\n",
        "#### How to control a large language model  \n",
        "\"Of all the inputs to a large language model, by far the most influential is the text prompt(1).\n",
        "\n",
        "Large language models can be prompted to produce output in a few ways:\n",
        "\n",
        "Instruction: Tell the model what you want\n",
        "Completion: Induce the model to complete the beginning of what you want\n",
        "Demonstration: Show the model what you want, with either:\n",
        "A few examples in the prompt\n",
        "Many hundreds or thousands of examples in a fine-tuning training dataset\"\n",
        "\n",
        "\n",
        "\n",
        "#### There are three basic guidelines to creating prompts:\n",
        "\n",
        "**Show and tell**. Make it clear what you want either through instructions, examples, or a combination of the two. If you want the model to rank a list of items in alphabetical order or to classify a paragraph by sentiment, show it that's what you want.\n",
        "\n",
        "**Provide quality data**. If you're trying to build a classifier or get the model to follow a pattern, make sure that there are enough examples. Be sure to proofread your examples — the model is usually smart enough to see through basic spelling mistakes and give you a response, but it also might assume this is intentional and it can affect the response.\n",
        "\n",
        "**Check your settings.** The temperature and top_p settings control how deterministic the model is in generating a response. If you're asking it for a response where there's only one right answer, then you'd want to set these lower. If you're looking for more diverse responses, then you might want to set them higher. The number one mistake people use with these settings is assuming that they're \"cleverness\" or \"creativity\" controls.\n",
        "\n",
        "\n",
        "Source: https://github.com/Azure/OpenAI/blob/main/How%20to/Completions.md"
      ]
    },
    {
      "attachments": {},
      "cell_type": "markdown",
      "metadata": {
        "nteract": {
          "transient": {
            "deleting": false
          }
        }
      },
      "source": [
        "![](images/prompt_design.jpg)\n",
        "image is creating your first text prompt!"
      ]
    },
    {
      "attachments": {},
      "cell_type": "markdown",
      "metadata": {
        "nteract": {
          "transient": {
            "deleting": false
          }
        }
      },
      "source": [
        "### 4. Submit!"
      ]
    },
    {
      "cell_type": "code",
      "execution_count": 5,
      "metadata": {
        "gather": {
          "logged": 1674494935186
        },
        "jupyter": {
          "outputs_hidden": false,
          "source_hidden": false
        },
        "nteract": {
          "transient": {
            "deleting": false
          }
        }
      },
      "outputs": [
        {
          "data": {
            "text/plain": [
              "'The use of Oxford commas is a matter of style and preference. Some style guides, such as the Associated Press Stylebook, do not require the use of Oxford commas, while others, such as the Chicago Manual of Style, recommend their use. Ultimately, it is important to be consistent in your usage within a given document or publication.'"
            ]
          },
          "execution_count": 5,
          "metadata": {},
          "output_type": "execute_result"
        }
      ],
      "source": [
        "# Create your first prompt\n",
        "text_prompt = \"Should oxford commas always be used?\"\n",
        "\n",
        "response = client.chat.completions.create(\n",
        "  model=model,\n",
        "  messages = [{\"role\":\"system\", \"content\":\"You are a helpful assistant.\"},\n",
        "               {\"role\":\"user\",\"content\":text_prompt},])\n",
        "\n",
        "response.choices[0].message.content"
      ]
    },
    {
      "attachments": {},
      "cell_type": "markdown",
      "metadata": {
        "nteract": {
          "transient": {
            "deleting": false
          }
        }
      },
      "source": [
        "### Repeat the same call, how do the results compare?"
      ]
    },
    {
      "cell_type": "code",
      "execution_count": 6,
      "metadata": {
        "gather": {
          "logged": 1674494940872
        },
        "jupyter": {
          "outputs_hidden": false,
          "source_hidden": false
        },
        "nteract": {
          "transient": {
            "deleting": false
          }
        }
      },
      "outputs": [
        {
          "data": {
            "text/plain": [
              "\"The use of Oxford commas is a matter of style, and different style guides have different opinions on whether they should always be used. Some style guides, like the Associated Press (AP) Stylebook, recommend against using Oxford commas except when necessary for clarity. However, other style guides, such as The Chicago Manual of Style, advocate for consistently using Oxford commas to avoid potential confusion.\\n\\nUltimately, whether to use Oxford commas depends on the style guide you are following or the preferences of the publisher you are writing for. If there are no specific guidelines, it's a good idea to be consistent throughout your writing and use Oxford commas or not based on your personal preference or the requirements of the situation.\""
            ]
          },
          "execution_count": 6,
          "metadata": {},
          "output_type": "execute_result"
        }
      ],
      "source": [
        "\n",
        "response = client.chat.completions.create(\n",
        "  model=model,\n",
        "  messages = [{\"role\":\"system\", \"content\":\"You are a helpful assistant.\"},\n",
        "               {\"role\":\"user\",\"content\":text_prompt},])\n",
        "\n",
        "response.choices[0].message.content"
      ]
    },
    {
      "attachments": {},
      "cell_type": "markdown",
      "metadata": {
        "nteract": {
          "transient": {
            "deleting": false
          }
        }
      },
      "source": [
        "## Summarize Text  \n",
        "#### Challenge  \n",
        "Summarize text by adding a 'tl;dr:' to the end of a text passage. Notice how the model understands how to perform a number of tasks with no additional instructions. You can experiment with more descriptive prompts than tl;dr to modify the model’s behavior and customize the summarization you receive(3).  \n",
        "\n",
        "Recent work has demonstrated substantial gains on many NLP tasks and benchmarks by pre-training on a large corpus of text followed by fine-tuning on a specific task. While typically task-agnostic in architecture, this method still requires task-specific fine-tuning datasets of thousands or tens of thousands of examples. By contrast, humans can generally perform a new language task from only a few examples or from simple instructions - something which current NLP systems still largely struggle to do. Here we show that scaling up language models greatly improves task-agnostic, few-shot performance, sometimes even reaching competitiveness with prior state-of-the-art fine-tuning approaches. \n",
        "\n",
        "\n",
        "\n",
        "Tl;dr"
      ]
    },
    {
      "attachments": {},
      "cell_type": "markdown",
      "metadata": {
        "nteract": {
          "transient": {
            "deleting": false
          }
        }
      },
      "source": [
        "# Exercises for several use cases  \n",
        "1. Summarize Text  \n",
        "2. Classify Text  \n",
        "3. Generate New Product Names\n",
        "4. Embeddings\n",
        "5. Fine tune a classifier"
      ]
    },
    {
      "cell_type": "code",
      "execution_count": 7,
      "metadata": {
        "gather": {
          "logged": 1674495198534
        },
        "jupyter": {
          "outputs_hidden": false,
          "source_hidden": false
        },
        "nteract": {
          "transient": {
            "deleting": false
          }
        }
      },
      "outputs": [],
      "source": [
        "prompt = \"Recent work has demonstrated substantial gains on many NLP tasks and benchmarks by pre-training on a large corpus of text followed by fine-tuning on a specific task. While typically task-agnostic in architecture, this method still requires task-specific fine-tuning datasets of thousands or tens of thousands of examples. By contrast, humans can generally perform a new language task from only a few examples or from simple instructions - something which current NLP systems still largely struggle to do. Here we show that scaling up language models greatly improves task-agnostic, few-shot performance, sometimes even reaching competitiveness with prior state-of-the-art fine-tuning approaches.\\n\\nTl;dr\"\n"
      ]
    },
    {
      "cell_type": "code",
      "execution_count": 9,
      "metadata": {
        "gather": {
          "logged": 1674495201868
        },
        "jupyter": {
          "outputs_hidden": false,
          "source_hidden": false
        },
        "nteract": {
          "transient": {
            "deleting": false
          }
        }
      },
      "outputs": [
        {
          "data": {
            "text/plain": [
              "'Research has shown that pre-training language models on large amounts of text, followed by fine-tuning on specific tasks, has led to significant improvements in natural language processing (NLP) tasks. However, these methods still require large task-specific fine-tuning datasets, unlike human ability to perform a new language task with just a few examples or simple instructions. Scaling up language models has been found to greatly improve few-shot performance, sometimes even achieving similar results to traditional fine-tuning approaches.'"
            ]
          },
          "execution_count": 9,
          "metadata": {},
          "output_type": "execute_result"
        }
      ],
      "source": [
        "#Setting a few additional, typical parameters during API Call\n",
        "\n",
        "response = client.chat.completions.create(\n",
        "  model=model,\n",
        "  messages = [{\"role\":\"system\", \"content\":\"You are a helpful assistant.\"},\n",
        "               {\"role\":\"user\",\"content\":prompt},])\n",
        "\n",
        "response.choices[0].message.content"
      ]
    },
    {
      "attachments": {},
      "cell_type": "markdown",
      "metadata": {
        "nteract": {
          "transient": {
            "deleting": false
          }
        }
      },
      "source": [
        "## Classify Text  \n",
        "#### Challenge  \n",
        "Classify items into categories provided at inference time. In the following example we provide both the categories and the text to classify in the prompt(*playground_reference). \n",
        "\n",
        "Customer Inquiry: Hello, one of the keys on my laptop keyboard broke recently and I'll need a replacement:\n",
        "\n",
        "Classified category:\n"
      ]
    },
    {
      "cell_type": "code",
      "execution_count": 10,
      "metadata": {
        "gather": {
          "logged": 1674499424645
        },
        "jupyter": {
          "outputs_hidden": false,
          "source_hidden": false
        },
        "nteract": {
          "transient": {
            "deleting": false
          }
        }
      },
      "outputs": [
        {
          "name": "stdout",
          "output_type": "stream",
          "text": [
            "Classify the following inquiry into one of the following: categories: [Pricing, Hardware Support, Software Support]\n",
            "\n",
            "inquiry: Hello, one of the keys on my laptop keyboard broke recently and I'll need a replacement:\n",
            "\n",
            "Classified category:\n"
          ]
        }
      ],
      "source": [
        "prompt = \"Classify the following inquiry into one of the following: categories: [Pricing, Hardware Support, Software Support]\\n\\ninquiry: Hello, one of the keys on my laptop keyboard broke recently and I'll need a replacement:\\n\\nClassified category:\"\n",
        "print(prompt)"
      ]
    },
    {
      "cell_type": "code",
      "execution_count": 11,
      "metadata": {
        "gather": {
          "logged": 1674499378518
        },
        "jupyter": {
          "outputs_hidden": false,
          "source_hidden": false
        },
        "nteract": {
          "transient": {
            "deleting": false
          }
        }
      },
      "outputs": [
        {
          "data": {
            "text/plain": [
              "'The classified category for this inquiry would be \"Hardware Support.\"'"
            ]
          },
          "execution_count": 11,
          "metadata": {},
          "output_type": "execute_result"
        }
      ],
      "source": [
        "#Setting a few additional, typical parameters during API Call\n",
        "\n",
        "response = client.chat.completions.create(\n",
        "       model=model,\n",
        "  messages = [{\"role\":\"system\", \"content\":\"You are a helpful assistant.\"},\n",
        "               {\"role\":\"user\",\"content\":prompt},])\n",
        "\n",
        "response.choices[0].message.content"
      ]
    },
    {
      "attachments": {},
      "cell_type": "markdown",
      "metadata": {
        "nteract": {
          "transient": {
            "deleting": false
          }
        }
      },
      "source": [
        "## Generate New Product Names\n",
        "#### Challenge\n",
        "Create product names from examples words. Here we include in the prompt information about the product we are going to generate names for. We also provide a similar example to show the pattern we wish to receive. We have also set the temperature value high to increase randomness and more innovative responses.\n",
        "\n",
        "Product description: A home milkshake maker\n",
        "Seed words: fast, healthy, compact.\n",
        "Product names: HomeShaker, Fit Shaker, QuickShake, Shake Maker\n",
        "\n",
        "Product description: A pair of shoes that can fit any foot size.\n",
        "Seed words: adaptable, fit, omni-fit."
      ]
    },
    {
      "cell_type": "code",
      "execution_count": 12,
      "metadata": {
        "gather": {
          "logged": 1674257087279
        },
        "jupyter": {
          "outputs_hidden": false,
          "source_hidden": false
        },
        "nteract": {
          "transient": {
            "deleting": false
          }
        }
      },
      "outputs": [
        {
          "name": "stdout",
          "output_type": "stream",
          "text": [
            "Product description: A home milkshake maker\n",
            "Seed words: fast, healthy, compact.\n",
            "Product names: HomeShaker, Fit Shaker, QuickShake, Shake Maker\n",
            "\n",
            "Product description: A pair of shoes that can fit any foot size.\n",
            "Seed words: adaptable, fit, omni-fit.\n"
          ]
        }
      ],
      "source": [
        "prompt = \"Product description: A home milkshake maker\\nSeed words: fast, healthy, compact.\\nProduct names: HomeShaker, Fit Shaker, QuickShake, Shake Maker\\n\\nProduct description: A pair of shoes that can fit any foot size.\\nSeed words: adaptable, fit, omni-fit.\"\n",
        "\n",
        "print(prompt)"
      ]
    },
    {
      "cell_type": "code",
      "execution_count": 13,
      "metadata": {
        "jupyter": {
          "outputs_hidden": false,
          "source_hidden": false
        },
        "nteract": {
          "transient": {
            "deleting": false
          }
        }
      },
      "outputs": [
        {
          "data": {
            "text/plain": [
              "'Product names: FlexiFit Shoes, OmniSize Shoes, AdaptiveStep Shoes'"
            ]
          },
          "execution_count": 13,
          "metadata": {},
          "output_type": "execute_result"
        }
      ],
      "source": [
        "#Setting a few additional, typical parameters during API Call\n",
        "response = client.chat.completions.create(\n",
        "       model=model,\n",
        "  messages = [{\"role\":\"system\", \"content\":\"You are a helpful assistant.\"},\n",
        "               {\"role\":\"user\",\"content\":prompt},]\n",
        ")\n",
        "\n",
        "response.choices[0].message.content"
      ]
    },
    {
      "attachments": {},
      "cell_type": "markdown",
      "metadata": {
        "nteract": {
          "transient": {
            "deleting": false
          }
        }
      },
      "source": [
        "## Embeddings!  \n",
        "This section will show how to retrieve embeddings, and find similarity between words, sentences, and documents"
      ]
    },
    {
      "attachments": {},
      "cell_type": "markdown",
      "metadata": {
        "nteract": {
          "transient": {
            "deleting": false
          }
        }
      },
      "source": [
        "### Model Taxonomy - Choosing a similarity model\n",
        "Let's choose a similarity model, using the  most powerful model (davinci)\n",
        "\n",
        "**Model taxonomy**: {family} - {capability} - {input-type} - {identifier}  \n",
        "\n",
        "{family}     --> text-similarity  (general text GPT-3 model)  \n",
        "{capability} --> davincie         (curie is second most powerful in ada-babbage-curie-davinci family)  \n",
        "{input-type} --> n/a              (only specified for search models)  \n",
        "{identifier} --> 001              (version 001)  \n",
        "\n",
        "model = 'text-embedding-ada-002'"
      ]
    },
    {
      "cell_type": "code",
      "execution_count": 26,
      "metadata": {
        "gather": {
          "logged": 1674829364153
        },
        "jupyter": {
          "outputs_hidden": false,
          "source_hidden": false
        },
        "nteract": {
          "transient": {
            "deleting": false
          }
        }
      },
      "outputs": [],
      "source": [
        "import numpy as np\n",
        "model=os.getenv(\"EMBEDDING_MODEL_NAME\")\n",
        "def cosine_similarity(query_embedding, embeddings, distance_metric='cosine'):\n",
        "    if distance_metric == 'cosine':\n",
        "        distances = np.dot(embeddings, query_embedding) / (np.linalg.norm(embeddings) * np.linalg.norm(query_embedding))\n",
        "        distances = 1 - distances  \n",
        "    else:\n",
        "        raise ValueError(\"Métrica de distância não suportada. Utilize 'cosine'.\")\n",
        "\n",
        "    return distances"
      ]
    },
    {
      "cell_type": "code",
      "execution_count": 17,
      "metadata": {
        "gather": {
          "logged": 1674829424097
        },
        "jupyter": {
          "outputs_hidden": false,
          "source_hidden": false
        },
        "nteract": {
          "transient": {
            "deleting": false
          }
        }
      },
      "outputs": [
        {
          "data": {
            "text/plain": [
              "[-0.004474656656384468,\n",
              " 0.00978652760386467,\n",
              " -0.014904950745403767,\n",
              " -0.006424985360354185,\n",
              " -0.01135313231498003,\n",
              " 0.015513833612203598,\n",
              " -0.02372107096016407,\n",
              " -0.016414472833275795,\n",
              " -0.0158182755112648,\n",
              " -0.029632311314344406,\n",
              " 0.021298224106431007,\n",
              " 0.021095262840390205,\n",
              " 0.018570933490991592,\n",
              " 0.004170214757323265,\n",
              " -0.0007155169150792062,\n",
              " -0.007579326163977385,\n",
              " 0.02521790750324726,\n",
              " -0.004214612767100334,\n",
              " 0.011175542138516903,\n",
              " -0.008587788790464401,\n",
              " -0.009513798169791698,\n",
              " 0.021577294915914536,\n",
              " -0.005993693135678768,\n",
              " -0.008257976733148098,\n",
              " 0.006041261833161116,\n",
              " 0.013040246441960335,\n",
              " 0.007439790293574333,\n",
              " -0.0035169341135770082,\n",
              " -0.008955655619502068,\n",
              " 0.0011939817341044545,\n",
              " 0.00666600139811635,\n",
              " 0.0038657733239233494,\n",
              " -0.039272960275411606,\n",
              " -0.002559211803600192,\n",
              " -0.012761174701154232,\n",
              " -0.0217422004789114,\n",
              " -0.0037072100676596165,\n",
              " -0.010458835400640965,\n",
              " 0.02597901225090027,\n",
              " -0.0456916019320488,\n",
              " 0.009399632923305035,\n",
              " 0.015653369948267937,\n",
              " -0.02261747047305107,\n",
              " -0.01161951944231987,\n",
              " -0.0028573106974363327,\n",
              " 0.012215716764330864,\n",
              " 0.010534945875406265,\n",
              " -0.01253284327685833,\n",
              " -0.0228965412825346,\n",
              " 0.01036369800567627,\n",
              " -0.00026955761131830513,\n",
              " 0.006583548616617918,\n",
              " -0.009919720701873302,\n",
              " -0.011625861749053001,\n",
              " -0.004718843847513199,\n",
              " -0.0072368294931948185,\n",
              " -0.0013802936300635338,\n",
              " -0.006250565405935049,\n",
              " 0.009380605071783066,\n",
              " -0.0057621905580163,\n",
              " 0.010782305151224136,\n",
              " 0.013547648675739765,\n",
              " -0.005140622146427631,\n",
              " -0.005632168613374233,\n",
              " 0.0007163097034208477,\n",
              " -0.009399632923305035,\n",
              " 0.011105773970484734,\n",
              " -0.010534945875406265,\n",
              " -0.013052931055426598,\n",
              " -0.004890092182904482,\n",
              " 0.02935323864221573,\n",
              " -0.001888489001430571,\n",
              " 0.00033754162723198533,\n",
              " 0.005996864289045334,\n",
              " 0.0315350703895092,\n",
              " -0.008784406818449497,\n",
              " -0.027450479567050934,\n",
              " 0.00896834023296833,\n",
              " 0.014499028213322163,\n",
              " 0.01159414928406477,\n",
              " 0.029733791947364807,\n",
              " -0.04188608378171921,\n",
              " -0.006066631991416216,\n",
              " 0.0144609734416008,\n",
              " 0.01740390807390213,\n",
              " 0.002544941147789359,\n",
              " -0.025852160528302193,\n",
              " 0.03785223141312599,\n",
              " -0.017036041244864464,\n",
              " 0.011093088425695896,\n",
              " 0.005644853692501783,\n",
              " 0.030748596414923668,\n",
              " 0.008105755783617496,\n",
              " -0.0055275168269872665,\n",
              " -0.017239002510905266,\n",
              " 0.0063901012763381,\n",
              " -0.0008657556609250605,\n",
              " 0.0192305576056242,\n",
              " -0.010046571493148804,\n",
              " -0.025852160528302193,\n",
              " 0.007040210533887148,\n",
              " -0.011714656837284565,\n",
              " -0.027171408757567406,\n",
              " -0.0031125976238399744,\n",
              " 0.006856277119368315,\n",
              " -0.026790855452418327,\n",
              " -0.005492632742971182,\n",
              " 0.022262288257479668,\n",
              " 0.018063532188534737,\n",
              " -0.014219957403838634,\n",
              " 0.01633836328983307,\n",
              " 0.023416629061102867,\n",
              " 0.018203066661953926,\n",
              " -0.039704252034425735,\n",
              " -0.004090933129191399,\n",
              " -0.011308735236525536,\n",
              " 0.009659676812589169,\n",
              " -0.009444030933082104,\n",
              " -0.009266439825296402,\n",
              " -0.008651213720440865,\n",
              " 0.009380605071783066,\n",
              " 0.017657609656453133,\n",
              " 0.02236376889050007,\n",
              " -0.0024339468218386173,\n",
              " -0.01397894136607647,\n",
              " -0.00952014047652483,\n",
              " -0.0038974860217422247,\n",
              " 0.007141691166907549,\n",
              " -0.011308735236525536,\n",
              " 0.0036945249885320663,\n",
              " 0.03249913454055786,\n",
              " 0.023708386346697807,\n",
              " 0.032905057072639465,\n",
              " -0.012437705881893635,\n",
              " -0.03706575930118561,\n",
              " 0.023695699870586395,\n",
              " 0.0051342798396945,\n",
              " -0.011200912296772003,\n",
              " -0.030241193249821663,\n",
              " -0.02241450920701027,\n",
              " -0.001587218721397221,\n",
              " 0.016414472833275795,\n",
              " -0.006577205844223499,\n",
              " 0.008727324195206165,\n",
              " 0.022452564910054207,\n",
              " 0.024088937789201736,\n",
              " 0.02155192382633686,\n",
              " 0.008708296343684196,\n",
              " -0.0020581516437232494,\n",
              " -0.007090950850397348,\n",
              " 0.0181776974350214,\n",
              " -0.0023292950354516506,\n",
              " 0.029860641807317734,\n",
              " 0.0003857052361126989,\n",
              " 0.00962162110954523,\n",
              " 0.015640685334801674,\n",
              " 0.003875287249684334,\n",
              " 0.0144356032833457,\n",
              " -0.027932511642575264,\n",
              " -0.021628035232424736,\n",
              " 0.023683015257120132,\n",
              " 0.022008586674928665,\n",
              " -0.0004213819920551032,\n",
              " -0.008137469179928303,\n",
              " 0.002119991462677717,\n",
              " 0.031154518947005272,\n",
              " 0.03320949897170067,\n",
              " 0.002744730794802308,\n",
              " 0.008035988546907902,\n",
              " -0.010604714043438435,\n",
              " 0.005102567374706268,\n",
              " 0.03298116847872734,\n",
              " -0.011759054847061634,\n",
              " 0.03754778951406479,\n",
              " 0.002018510829657316,\n",
              " 0.006868962198495865,\n",
              " 0.021704144775867462,\n",
              " -0.0078583974391222,\n",
              " -0.03206784278154373,\n",
              " 0.00159118277952075,\n",
              " 0.0040497067384421825,\n",
              " 0.014219957403838634,\n",
              " 0.03881629556417465,\n",
              " 0.0240508820861578,\n",
              " 0.005204047542065382,\n",
              " 0.022541359066963196,\n",
              " 0.005651195999234915,\n",
              " -0.027602700516581535,\n",
              " -0.007344652432948351,\n",
              " -0.0013327245833352208,\n",
              " 0.008733666501939297,\n",
              " 0.0020835218019783497,\n",
              " -0.01879926584661007,\n",
              " -0.01371255423873663,\n",
              " -0.6864141821861267,\n",
              " -0.029860641807317734,\n",
              " 0.004097275901585817,\n",
              " -0.010833045467734337,\n",
              " 0.02160266414284706,\n",
              " 0.0335393100976944,\n",
              " -0.012323539704084396,\n",
              " -0.010446150787174702,\n",
              " -0.00034368596971035004,\n",
              " 0.03544206917285919,\n",
              " -0.03052026592195034,\n",
              " 0.002197687514126301,\n",
              " 0.004687131382524967,\n",
              " -0.0027272887527942657,\n",
              " -0.009824582375586033,\n",
              " -0.00333934323862195,\n",
              " 0.02719677798449993,\n",
              " -0.022972650825977325,\n",
              " -0.007959878072142601,\n",
              " 0.020854245871305466,\n",
              " 0.004791783168911934,\n",
              " 0.006983127910643816,\n",
              " -0.010978923179209232,\n",
              " 0.0017330968985334039,\n",
              " -0.0051342798396945,\n",
              " 0.011296049691736698,\n",
              " -0.0020407098345458508,\n",
              " 0.005349925719201565,\n",
              " -0.001236000913195312,\n",
              " 0.016972616314888,\n",
              " -0.0020359528716653585,\n",
              " 0.018875375390052795,\n",
              " -0.006488410290330648,\n",
              " 0.005441892426460981,\n",
              " 0.04262181743979454,\n",
              " 0.004484170116484165,\n",
              " -0.005946123972535133,\n",
              " 0.020600544288754463,\n",
              " 0.03978036344051361,\n",
              " 0.05337874963879585,\n",
              " -0.03559429198503494,\n",
              " -0.013623759150505066,\n",
              " 0.0145878242328763,\n",
              " 0.008930285461246967,\n",
              " -0.011511695571243763,\n",
              " 0.0011789181735366583,\n",
              " 0.025471609085798264,\n",
              " 0.01716289296746254,\n",
              " -0.0055877710692584515,\n",
              " -0.0156660545617342,\n",
              " 0.013573018833994865,\n",
              " 0.01778445951640606,\n",
              " 0.01635104790329933,\n",
              " 0.00512159476056695,\n",
              " -0.018101586028933525,\n",
              " 0.02704455703496933,\n",
              " 0.010972580872476101,\n",
              " -0.0004316885897424072,\n",
              " -0.0017441964009776711,\n",
              " -0.002383206505328417,\n",
              " -0.010560316033661366,\n",
              " 0.0014667105861008167,\n",
              " -0.0103446701541543,\n",
              " 0.008676583878695965,\n",
              " -0.022579414770007133,\n",
              " 0.0035232766531407833,\n",
              " -0.007046553306281567,\n",
              " 0.010287587530910969,\n",
              " 0.022097382694482803,\n",
              " -0.014321438036859035,\n",
              " 0.0228458009660244,\n",
              " 0.01986481063067913,\n",
              " -0.010553973726928234,\n",
              " 0.01009731087833643,\n",
              " 0.014638564549386501,\n",
              " 0.01080133207142353,\n",
              " 0.009279124438762665,\n",
              " -0.006564520765095949,\n",
              " -0.011581463739275932,\n",
              " 0.006437669973820448,\n",
              " -0.012158634141087532,\n",
              " -0.0026115376967936754,\n",
              " -0.039272960275411606,\n",
              " -0.0015031801303848624,\n",
              " 0.03567039966583252,\n",
              " 0.017200946807861328,\n",
              " -0.03511225804686546,\n",
              " -0.0064027863554656506,\n",
              " -0.005089882295578718,\n",
              " -0.0241523627191782,\n",
              " 0.016845766454935074,\n",
              " 0.024672450497746468,\n",
              " -0.031890250742435455,\n",
              " -0.0011583049781620502,\n",
              " -0.012431363575160503,\n",
              " 0.0085116783156991,\n",
              " -0.006142742466181517,\n",
              " 0.03848648443818092,\n",
              " 0.0411757193505764,\n",
              " -0.03229617327451706,\n",
              " 0.012298169545829296,\n",
              " -0.0018742182292044163,\n",
              " -0.003532790346071124,\n",
              " -0.004239982925355434,\n",
              " 0.014308752492070198,\n",
              " 0.03046952560544014,\n",
              " 0.016756970435380936,\n",
              " 0.0018076216802001,\n",
              " 0.017429279163479805,\n",
              " -0.011156514286994934,\n",
              " -0.008594131097197533,\n",
              " -0.01754344440996647,\n",
              " 0.017467333003878593,\n",
              " 0.00509622460231185,\n",
              " -0.0064598689787089825,\n",
              " -0.02501494623720646,\n",
              " 0.0156660545617342,\n",
              " -0.004465142730623484,\n",
              " 0.015830960124731064,\n",
              " -0.01947157457470894,\n",
              " 0.009425003081560135,\n",
              " -0.011784425005316734,\n",
              " 0.00889222975820303,\n",
              " -0.0008221507305279374,\n",
              " 0.007655436173081398,\n",
              " 0.001875803922303021,\n",
              " -0.026790855452418327,\n",
              " -0.02935323864221573,\n",
              " -0.015919756144285202,\n",
              " -0.004804468248039484,\n",
              " -0.007458817679435015,\n",
              " 0.02024536207318306,\n",
              " 0.03544206917285919,\n",
              " -0.0024339468218386173,\n",
              " -0.0031268682796508074,\n",
              " -0.0043795183300971985,\n",
              " 0.014422918669879436,\n",
              " 0.006161769852042198,\n",
              " 0.01831723377108574,\n",
              " -0.015970496460795403,\n",
              " -0.0316365510225296,\n",
              " 0.009006395936012268,\n",
              " -0.014296067878603935,\n",
              " -0.013611074537038803,\n",
              " 0.007224144414067268,\n",
              " -0.01991555094718933,\n",
              " -0.025826791301369667,\n",
              " 0.004401717334985733,\n",
              " 0.006646973546594381,\n",
              " 0.03052026592195034,\n",
              " -0.012203032150864601,\n",
              " -0.02313755825161934,\n",
              " -0.012367937713861465,\n",
              " -0.015348928049206734,\n",
              " 0.02285848557949066,\n",
              " -0.0053974948823452,\n",
              " -0.03270209580659866,\n",
              " -0.004297065548598766,\n",
              " -0.004645904991775751,\n",
              " -0.02859213575720787,\n",
              " 0.027704181149601936,\n",
              " 0.01402968168258667,\n",
              " -0.0065328083001077175,\n",
              " -0.00420509884133935,\n",
              " 0.01038906816393137,\n",
              " -0.03534058853983879,\n",
              " 0.0032600616104900837,\n",
              " 0.0228965412825346,\n",
              " -0.024596339091658592,\n",
              " -0.026968447491526604,\n",
              " -0.004877407103776932,\n",
              " -0.02260478399693966,\n",
              " -0.006247394252568483,\n",
              " -0.001054445980116725,\n",
              " -0.01755612902343273,\n",
              " 0.011600491590797901,\n",
              " -0.027171408757567406,\n",
              " -0.024266527965664864,\n",
              " -0.002250013407319784,\n",
              " -0.011074061505496502,\n",
              " -0.004347805865108967,\n",
              " 0.018837321549654007,\n",
              " 0.006434498820453882,\n",
              " -0.022769691422581673,\n",
              " 0.015678739175200462,\n",
              " -0.004877407103776932,\n",
              " 0.02468513511121273,\n",
              " 0.012431363575160503,\n",
              " -0.023987457156181335,\n",
              " -0.01007194072008133,\n",
              " 0.021057207137346268,\n",
              " 0.027298258617520332,\n",
              " 0.01277386024594307,\n",
              " -0.013370057567954063,\n",
              " -0.005537030752748251,\n",
              " -0.02019462175667286,\n",
              " 0.0053974948823452,\n",
              " 0.030190452933311462,\n",
              " 0.01494300551712513,\n",
              " 0.009444030933082104,\n",
              " 0.016186142340302467,\n",
              " -0.007541270926594734,\n",
              " 0.007300254423171282,\n",
              " -0.027019187808036804,\n",
              " 0.022021271288394928,\n",
              " -0.03201710432767868,\n",
              " -0.0016078319167718291,\n",
              " -0.004157529678195715,\n",
              " 0.006031747907400131,\n",
              " -0.00013874289288651198,\n",
              " -0.019991662353277206,\n",
              " 0.0004197963571641594,\n",
              " 0.019420834258198738,\n",
              " -0.03871481493115425,\n",
              " 0.017340483143925667,\n",
              " 0.023898661136627197,\n",
              " -0.012298169545829296,\n",
              " 0.02260478399693966,\n",
              " 0.008657556027173996,\n",
              " -0.012843627482652664,\n",
              " 0.002595681231468916,\n",
              " -0.020473694428801537,\n",
              " 0.015285502187907696,\n",
              " -0.005568743217736483,\n",
              " 0.02227497287094593,\n",
              " 0.024672450497746468,\n",
              " 0.008949313312768936,\n",
              " 0.015564573928713799,\n",
              " 0.0016030750703066587,\n",
              " -0.004119474906474352,\n",
              " -0.023505425080657005,\n",
              " 0.003209321293979883,\n",
              " 0.0170740969479084,\n",
              " 0.017036041244864464,\n",
              " 0.008479965850710869,\n",
              " 0.000265197129920125,\n",
              " 0.0073763648979365826,\n",
              " -0.0108203599229455,\n",
              " 0.014714675024151802,\n",
              " -0.0013795007253065705,\n",
              " 0.018063532188534737,\n",
              " -0.006894332356750965,\n",
              " 0.007763259578496218,\n",
              " -0.014016996137797832,\n",
              " 0.011638546362519264,\n",
              " 0.011600491590797901,\n",
              " 0.029327869415283203,\n",
              " -0.005432378966361284,\n",
              " -0.017226317897439003,\n",
              " 0.006463040132075548,\n",
              " -0.0017441964009776711,\n",
              " -0.0035137629602104425,\n",
              " -0.024456804618239403,\n",
              " 0.02767881006002426,\n",
              " 0.007433447986841202,\n",
              " -0.015120596624910831,\n",
              " 0.020955726504325867,\n",
              " 0.005080368369817734,\n",
              " 0.029251758009195328,\n",
              " 0.025141797959804535,\n",
              " 0.004027507733553648,\n",
              " 0.003006360260769725,\n",
              " 0.00889222975820303,\n",
              " 0.01033832784742117,\n",
              " 0.018685100600123405,\n",
              " -0.0005585392354987562,\n",
              " -0.006405957508832216,\n",
              " 0.013116356916725636,\n",
              " 0.013179781846702099,\n",
              " -0.020308788865804672,\n",
              " -0.02564920112490654,\n",
              " -0.005530687980353832,\n",
              " 0.002032781485468149,\n",
              " -0.01754344440996647,\n",
              " 0.020524434745311737,\n",
              " 0.012989506125450134,\n",
              " -0.035315219312906265,\n",
              " 0.013623759150505066,\n",
              " 0.01869778521358967,\n",
              " 0.020334158092737198,\n",
              " -0.021678775548934937,\n",
              " -0.027399739250540733,\n",
              " -0.006104687228798866,\n",
              " 0.004135331138968468,\n",
              " 0.0038372320123016834,\n",
              " 0.005194534081965685,\n",
              " -0.027932511642575264,\n",
              " -0.0003151445707771927,\n",
              " -0.003237862605601549,\n",
              " 0.022287657484412193,\n",
              " -0.00013160755042918026,\n",
              " -0.004766413010656834,\n",
              " 8.805218385532498e-05,\n",
              " -0.00954551063477993,\n",
              " -0.0090127382427454,\n",
              " -0.013446168042719364,\n",
              " 0.020042402669787407,\n",
              " -0.011207254603505135,\n",
              " 0.000565278169233352,\n",
              " -0.028516024351119995,\n",
              " 0.00834042951464653,\n",
              " -0.0005803416715934873,\n",
              " -0.0072621991857886314,\n",
              " -0.007370022591203451,\n",
              " 0.026308823376893997,\n",
              " -0.0006679479265585542,\n",
              " -0.012964135967195034,\n",
              " -0.0011043933918699622,\n",
              " -0.0009379019611515105,\n",
              " 0.019205188378691673,\n",
              " -0.019788701087236404,\n",
              " -0.01402968168258667,\n",
              " -0.017378538846969604,\n",
              " 0.013573018833994865,\n",
              " 0.0025211565662175417,\n",
              " -0.008955655619502068,\n",
              " -0.020017031580209732,\n",
              " -0.011315077543258667,\n",
              " 0.028186213225126266,\n",
              " 0.010084626264870167,\n",
              " -0.013052931055426598,\n",
              " -0.01628762297332287,\n",
              " -0.00637741619721055,\n",
              " 0.02265552431344986,\n",
              " 0.08037257194519043,\n",
              " 0.020740080624818802,\n",
              " -0.018494823947548866,\n",
              " 0.0133827431127429,\n",
              " 0.019116392359137535,\n",
              " -0.026968447491526604,\n",
              " -0.022769691422581673,\n",
              " -0.00637741619721055,\n",
              " 0.027983251959085464,\n",
              " -0.0181269571185112,\n",
              " -0.003780149156227708,\n",
              " -0.009342550300061703,\n",
              " 0.005977836437523365,\n",
              " -0.007890109904110432,\n",
              " 0.024025512859225273,\n",
              " -0.0073763648979365826,\n",
              " 0.0037420939188450575,\n",
              " -0.008448252454400063,\n",
              " 0.002061323029920459,\n",
              " 0.0016300308052450418,\n",
              " -0.005407008808106184,\n",
              " -0.003770635463297367,\n",
              " 0.0002251598925795406,\n",
              " 0.012190346606075764,\n",
              " -0.014207271859049797,\n",
              " 0.0039799390360713005,\n",
              " -0.002403819700703025,\n",
              " 0.016858451068401337,\n",
              " 0.02816084213554859,\n",
              " -0.029632311314344406,\n",
              " -0.0031649235170334578,\n",
              " 0.0075349281542003155,\n",
              " 0.015780219808220863,\n",
              " 0.006272764410823584,\n",
              " 0.021095262840390205,\n",
              " 0.020524434745311737,\n",
              " -0.005191362462937832,\n",
              " 0.014511713758111,\n",
              " 0.032955799251794815,\n",
              " -0.03166192024946213,\n",
              " 0.011797109618782997,\n",
              " 0.007496872916817665,\n",
              " 0.004591993521898985,\n",
              " 0.004842523485422134,\n",
              " 0.023936716839671135,\n",
              " 0.00018294241453986615,\n",
              " -0.01769566535949707,\n",
              " 0.016566693782806396,\n",
              " 0.005981008056551218,\n",
              " -0.029708420857787132,\n",
              " 0.0364568755030632,\n",
              " -0.005235760472714901,\n",
              " -0.010458835400640965,\n",
              " 0.0021723173558712006,\n",
              " 0.0058985548093914986,\n",
              " 0.02554772049188614,\n",
              " -0.019446203485131264,\n",
              " -0.004338291939347982,\n",
              " -0.012964135967195034,\n",
              " 0.0016744284657761455,\n",
              " -0.01036369800567627,\n",
              " -0.020131196826696396,\n",
              " -0.002717775059863925,\n",
              " -0.009507455863058567,\n",
              " -0.001725168782286346,\n",
              " -0.025484293699264526,\n",
              " -0.011740026995539665,\n",
              " -0.008492650464177132,\n",
              " -0.006837249733507633,\n",
              " -0.01501911599189043,\n",
              " -0.02165340445935726,\n",
              " -0.018291862681508064,\n",
              " -0.01890074647963047,\n",
              " -0.010433465242385864,\n",
              " 0.015082541853189468,\n",
              " 0.030444154515862465,\n",
              " 0.010325642302632332,\n",
              " -0.0013271748321130872,\n",
              " 0.004636391066014767,\n",
              " 0.010579343885183334,\n",
              " -0.016858451068401337,\n",
              " -0.01605929248034954,\n",
              " -0.0008498993120156229,\n",
              " -0.026156602427363396,\n",
              " 0.0026384934317320585,\n",
              " 0.009773842059075832,\n",
              " 0.013725239783525467,\n",
              " -0.006478896830230951,\n",
              " 0.0120254410430789,\n",
              " 0.01193030271679163,\n",
              " 0.010579343885183334,\n",
              " 0.008657556027173996,\n",
              " -0.010573001578450203,\n",
              " 0.005739991553127766,\n",
              " 0.02256673015654087,\n",
              " -0.01072522159665823,\n",
              " 0.01195567287504673,\n",
              " 0.03455411642789841,\n",
              " 0.019078336656093597,\n",
              " -0.0053974948823452,\n",
              " 0.03318412974476814,\n",
              " -0.016756970435380936,\n",
              " 0.0008776478935033083,\n",
              " 8.19574052002281e-05,\n",
              " 0.014511713758111,\n",
              " -0.007553956005722284,\n",
              " 0.029962122440338135,\n",
              " 0.005058169364929199,\n",
              " -0.020321473479270935,\n",
              " -0.033285610377788544,\n",
              " 0.03171266242861748,\n",
              " -0.0057621905580163,\n",
              " 0.014866895973682404,\n",
              " 0.012526500970125198,\n",
              " 0.011004293337464333,\n",
              " 0.015069856308400631,\n",
              " 0.015589944086968899,\n",
              " 0.011238967068493366,\n",
              " -0.0001285353791899979,\n",
              " -0.009767499752342701,\n",
              " -0.008467280305922031,\n",
              " -0.021374333649873734,\n",
              " -0.000982299679890275,\n",
              " 0.02935323864221573,\n",
              " -0.025484293699264526,\n",
              " 0.021387018263339996,\n",
              " -0.004198756534606218,\n",
              " -0.015513833612203598,\n",
              " -0.003520105266943574,\n",
              " 0.0032077357172966003,\n",
              " 0.011720999144017696,\n",
              " 0.007370022591203451,\n",
              " 0.0016379589214920998,\n",
              " -0.009780184365808964,\n",
              " -0.04183534160256386,\n",
              " -0.011238967068493366,\n",
              " -0.0036723262164741755,\n",
              " 0.012456733733415604,\n",
              " -0.013509593904018402,\n",
              " 0.0011694043641909957,\n",
              " -0.03095155768096447,\n",
              " -0.008746352046728134,\n",
              " 0.012431363575160503,\n",
              " -0.04285014793276787,\n",
              " 0.019902866333723068,\n",
              " -0.025636514648795128,\n",
              " -0.0015420281561091542,\n",
              " -0.014118476770818233,\n",
              " -0.0023039248771965504,\n",
              " 0.01402968168258667,\n",
              " -0.015780219808220863,\n",
              " -0.010503233410418034,\n",
              " -0.024609025567770004,\n",
              " -0.015792904421687126,\n",
              " -0.002170731546357274,\n",
              " -0.03572114184498787,\n",
              " 0.0079091377556324,\n",
              " -0.015894385054707527,\n",
              " 0.040516097098588943,\n",
              " 0.0180254764854908,\n",
              " 0.03008897230029106,\n",
              " -0.003612072207033634,\n",
              " 0.004699816461652517,\n",
              " 0.024380693212151527,\n",
              " -0.026816226541996002,\n",
              " -0.0038435745518654585,\n",
              " -0.0016680859262123704,\n",
              " -0.0030158739537000656,\n",
              " -0.016427159309387207,\n",
              " -0.0071036359295248985,\n",
              " 0.029632311314344406,\n",
              " 0.005581428296864033,\n",
              " 0.026587894186377525,\n",
              " 0.018811950460076332,\n",
              " -0.01750538870692253,\n",
              " 0.011137486435472965,\n",
              " -0.003894314868375659,\n",
              " 0.008911257609724998,\n",
              " -0.012203032150864601,\n",
              " -0.016173457726836205,\n",
              " 0.020080456510186195,\n",
              " -0.0058287871070206165,\n",
              " 0.016224198043346405,\n",
              " -0.00724317179992795,\n",
              " -0.008689269423484802,\n",
              " -0.0042082699947059155,\n",
              " 0.010465177707374096,\n",
              " 0.03249913454055786,\n",
              " 0.03726872056722641,\n",
              " 0.006450355052947998,\n",
              " 0.022186176851391792,\n",
              " 0.0006576413288712502,\n",
              " -0.004956688731908798,\n",
              " 0.0048139821738004684,\n",
              " -0.003409111173823476,\n",
              " -0.02694307640194893,\n",
              " -0.0016744284657761455,\n",
              " 0.01082670222967863,\n",
              " 0.0063139908015728,\n",
              " 0.026968447491526604,\n",
              " -0.0011440342059358954,\n",
              " 0.016135402023792267,\n",
              " -0.012919737957417965,\n",
              " 0.024190418422222137,\n",
              " -0.003805519314482808,\n",
              " 0.005419693887233734,\n",
              " -0.0115243811160326,\n",
              " -0.011974700726568699,\n",
              " -0.001221730257384479,\n",
              " -0.025864847004413605,\n",
              " -0.010515918023884296,\n",
              " -0.034833185374736786,\n",
              " -0.0113975303247571,\n",
              " -0.017137521877884865,\n",
              " 0.006215681787580252,\n",
              " 0.01957305520772934,\n",
              " -0.011689286679029465,\n",
              " 0.010541288182139397,\n",
              " -0.014714675024151802,\n",
              " -0.037623900920152664,\n",
              " -0.004607849754393101,\n",
              " 0.001599110895767808,\n",
              " 0.044955868273973465,\n",
              " -0.010408095084130764,\n",
              " 0.007902795448899269,\n",
              " 0.012012756429612637,\n",
              " -0.004401717334985733,\n",
              " 0.0011884319828823209,\n",
              " 0.016262251883745193,\n",
              " 0.012437705881893635,\n",
              " 0.004867893643677235,\n",
              " -0.0006806330056861043,\n",
              " 0.018114272505044937,\n",
              " -0.008594131097197533,\n",
              " -0.005032799206674099,\n",
              " -0.01996629126369953,\n",
              " -0.009291809983551502,\n",
              " -0.02439337968826294,\n",
              " -0.010687166824936867,\n",
              " 0.02795788273215294,\n",
              " 0.0008011410827748477,\n",
              " 0.00036429919418878853,\n",
              " -0.008682926185429096,\n",
              " -0.017657609656453133,\n",
              " -0.0003391272621229291,\n",
              " 0.011232624761760235,\n",
              " -0.015171336941421032,\n",
              " -0.006111030001193285,\n",
              " -0.024621710181236267,\n",
              " -4.697437907452695e-05,\n",
              " -0.04183534160256386,\n",
              " 0.009412317536771297,\n",
              " -0.018964171409606934,\n",
              " 0.0034598512575030327,\n",
              " -0.030621744692325592,\n",
              " -0.01260895375162363,\n",
              " 0.007395392749458551,\n",
              " 0.015323557890951633,\n",
              " -0.027704181149601936,\n",
              " -0.006507438141852617,\n",
              " -0.01874852553009987,\n",
              " 0.012805572710931301,\n",
              " -0.025129113346338272,\n",
              " -0.002119991462677717,\n",
              " 0.013408113270998001,\n",
              " 0.002923907246440649,\n",
              " -0.021945161744952202,\n",
              " -0.019978975877165794,\n",
              " -0.005933438893407583,\n",
              " 0.025332072749733925,\n",
              " -0.014042366296052933,\n",
              " -0.01635104790329933,\n",
              " -0.0061300573870539665,\n",
              " 0.012602611444890499,\n",
              " 0.016947245225310326,\n",
              " -0.019776014611124992,\n",
              " 0.00030107208294793963,\n",
              " -0.028718985617160797,\n",
              " -0.005004257895052433,\n",
              " 0.015577259473502636,\n",
              " 0.021539239212870598,\n",
              " -0.001147205475717783,\n",
              " -0.004157529678195715,\n",
              " 0.00729391211643815,\n",
              " -0.009583566337823868,\n",
              " 0.0025306702591478825,\n",
              " 0.003922855947166681,\n",
              " -0.014016996137797832,\n",
              " 0.009919720701873302,\n",
              " -0.019370093941688538,\n",
              " -0.0006207753322087228,\n",
              " -0.016909191384911537,\n",
              " -0.0015380640979856253,\n",
              " 0.003497906494885683,\n",
              " 0.020904986187815666,\n",
              " 0.00032624401501379907,\n",
              " -0.006970442831516266,\n",
              " 0.024368008598685265,\n",
              " -0.02843991480767727,\n",
              " 0.017480019479990005,\n",
              " -0.030723225325345993,\n",
              " 0.006095173303037882,\n",
              " -0.02502763271331787,\n",
              " 0.007813999429345131,\n",
              " 0.010509575717151165,\n",
              " 0.006463040132075548,\n",
              " 0.01405505184084177,\n",
              " -0.020093142986297607,\n",
              " 0.0032568902242928743,\n",
              " -0.025230593979358673,\n",
              " -0.005223075393587351,\n",
              " -0.0036025582812726498,\n",
              " 0.022871172055602074,\n",
              " -0.024862727150321007,\n",
              " 0.011245309375226498,\n",
              " 0.0003555782022885978,\n",
              " 0.010985265485942364,\n",
              " -0.031611181795597076,\n",
              " -0.0079091377556324,\n",
              " 0.033234868198633194,\n",
              " 0.0014722603373229504,\n",
              " 0.024888096377253532,\n",
              " 0.03597484156489372,\n",
              " -0.02434263937175274,\n",
              " 0.007186089176684618,\n",
              " 0.005543373059481382,\n",
              " 0.009488428011536598,\n",
              " 0.012190346606075764,\n",
              " -0.02260478399693966,\n",
              " -0.008048673160374165,\n",
              " -0.009995831176638603,\n",
              " 0.028313063085079193,\n",
              " 0.0039482261054217815,\n",
              " -0.011270679533481598,\n",
              " -0.011600491590797901,\n",
              " -0.0031236971262842417,\n",
              " -0.016465213149785995,\n",
              " 0.015551889315247536,\n",
              " -0.02318829856812954,\n",
              " -0.0029540343675762415,\n",
              " 0.018063532188534737,\n",
              " 0.0026860623620450497,\n",
              " -0.026486415416002274,\n",
              " 0.011010635644197464,\n",
              " -0.013293947093188763,\n",
              " -0.012298169545829296,\n",
              " -0.013192467391490936,\n",
              " -0.005067683290690184,\n",
              " -0.030215824022889137,\n",
              " -0.01967453584074974,\n",
              " -0.0076364087872207165,\n",
              " 0.0023784495424479246,\n",
              " 0.01373792439699173,\n",
              " -0.01164488960057497,\n",
              " -0.025573089718818665,\n",
              " -0.008727324195206165,\n",
              " -0.007002155762165785,\n",
              " -0.010395410470664501,\n",
              " 0.026410304009914398,\n",
              " 0.0037008675280958414,\n",
              " 0.021107947453856468,\n",
              " -0.0228458009660244,\n",
              " 0.011340447701513767,\n",
              " 0.013890145346522331,\n",
              " -0.012976820580661297,\n",
              " 0.030444154515862465,\n",
              " -0.0127040920779109,\n",
              " -0.009558196179568768,\n",
              " -0.006440841592848301,\n",
              " -0.002129505155608058,\n",
              " -0.0023261236492544413,\n",
              " -0.0010695095406845212,\n",
              " -0.004468313883990049,\n",
              " -0.0108964703977108,\n",
              " 0.004598335828632116,\n",
              " 0.021526554599404335,\n",
              " 0.010833045467734337,\n",
              " 0.011238967068493366,\n",
              " -0.008714639581739902,\n",
              " -0.0001291299849981442,\n",
              " -0.004224126227200031,\n",
              " -0.019116392359137535,\n",
              " 0.007579326163977385,\n",
              " -0.008524362929165363,\n",
              " 0.011175542138516903,\n",
              " -0.0267654862254858,\n",
              " -0.011359475553035736,\n",
              " 0.006513780448585749,\n",
              " -0.011974700726568699,\n",
              " -0.026410304009914398,\n",
              " -0.005882698576897383,\n",
              " 0.017873255535960197,\n",
              " -0.005765361711382866,\n",
              " 0.00962162110954523,\n",
              " -0.022300343960523605,\n",
              " -0.0049249762669205666,\n",
              " -0.010985265485942364,\n",
              " -0.02945471927523613,\n",
              " 0.01397894136607647,\n",
              " -0.013002190738916397,\n",
              " 0.029530830681324005,\n",
              " 0.024723190814256668,\n",
              " -0.011695628985762596,\n",
              " -0.010186106897890568,\n",
              " 0.0007638787501491606,\n",
              " 0.0013168682344257832,\n",
              " -0.013623759150505066,\n",
              " -0.021513869985938072,\n",
              " 0.007129006087779999,\n",
              " -0.016997985541820526,\n",
              " -0.0012264872202649713,\n",
              " -0.02950545959174633,\n",
              " 0.001980455592274666,\n",
              " -0.0230995025485754,\n",
              " 0.006710398942232132,\n",
              " -0.022021271288394928,\n",
              " -0.01515865232795477,\n",
              " -0.01740390807390213,\n",
              " 0.024723190814256668,\n",
              " -0.0084609379991889,\n",
              " -0.02117137238383293,\n",
              " -0.0020851073786616325,\n",
              " -0.022287657484412193,\n",
              " 0.003605729667469859,\n",
              " -0.0010718879057094455,\n",
              " -0.0101924492046237,\n",
              " 0.006742111872881651,\n",
              " 0.003875287249684334,\n",
              " -0.01779714599251747,\n",
              " -0.006526465527713299,\n",
              " -0.00012070631782989949,\n",
              " -0.023302463814616203,\n",
              " -0.012818257324397564,\n",
              " 0.015348928049206734,\n",
              " -0.007027525920420885,\n",
              " 0.02208469808101654,\n",
              " 0.20864394307136536,\n",
              " -0.001875803922303021,\n",
              " 0.005407008808106184,\n",
              " 0.036862798035144806,\n",
              " -0.010592028498649597,\n",
              " 0.030139712616801262,\n",
              " 0.021767569705843925,\n",
              " -0.0037262376863509417,\n",
              " -0.006472554057836533,\n",
              " 0.02578873559832573,\n",
              " -0.0026051951572299004,\n",
              " 0.012907053343951702,\n",
              " -0.021615350618958473,\n",
              " 0.005200876388698816,\n",
              " 0.014854210428893566,\n",
              " 0.008467280305922031,\n",
              " -0.005445064045488834,\n",
              " -0.0027685153763741255,\n",
              " -0.014410233125090599,\n",
              " -0.03031730465590954,\n",
              " -0.014473658986389637,\n",
              " -0.006310819648206234,\n",
              " -0.026841595768928528,\n",
              " -0.004344634711742401,\n",
              " 0.010883784852921963,\n",
              " 0.0192812979221344,\n",
              " -0.0085116783156991,\n",
              " -0.0008475208887830377,\n",
              " 0.03267672657966614,\n",
              " 0.018342602998018265,\n",
              " -0.017391223460435867,\n",
              " -0.0027986422646790743,\n",
              " -0.0115243811160326,\n",
              " 0.02255404368042946,\n",
              " -0.014714675024151802,\n",
              " 0.0078583974391222,\n",
              " 0.016274938359856606,\n",
              " 0.018215753138065338,\n",
              " 0.012399650178849697,\n",
              " -0.003875287249684334,\n",
              " 0.0206893403083086,\n",
              " 0.0012185589876025915,\n",
              " -0.0075666410848498344,\n",
              " -0.015107912011444569,\n",
              " 0.0019408148946240544,\n",
              " 0.0253574438393116,\n",
              " ...]"
            ]
          },
          "execution_count": 17,
          "metadata": {},
          "output_type": "execute_result"
        }
      ],
      "source": [
        "text = 'the quick brown fox jumped over the lazy dog'\n",
        "client.embeddings.create(input=[text], model=model).data[0].embedding\n"
      ]
    },
    {
      "cell_type": "code",
      "execution_count": 27,
      "metadata": {
        "gather": {
          "logged": 1674829555255
        },
        "jupyter": {
          "outputs_hidden": false,
          "source_hidden": false
        },
        "nteract": {
          "transient": {
            "deleting": false
          }
        }
      },
      "outputs": [
        {
          "name": "stdout",
          "output_type": "stream",
          "text": [
            "0.08382373906311491\n",
            "0.1665570317722117\n",
            "0.21796415287146154\n"
          ]
        }
      ],
      "source": [
        "# compare several words\n",
        "automobile_embedding    = client.embeddings.create(input='automobile', model=model).data[0].embedding\n",
        "vehicle_embedding       = client.embeddings.create(input='vehicle', model=model).data[0].embedding\n",
        "dinosaur_embedding      = client.embeddings.create(input='dinosaur', model=model).data[0].embedding\n",
        "stick_embedding         = client.embeddings.create(input='stick', model=model).data[0].embedding\n",
        "\n",
        "print(cosine_similarity(automobile_embedding, vehicle_embedding))\n",
        "print(cosine_similarity(automobile_embedding, dinosaur_embedding))\n",
        "print(cosine_similarity(automobile_embedding, stick_embedding))"
      ]
    },
    {
      "attachments": {},
      "cell_type": "markdown",
      "metadata": {
        "nteract": {
          "transient": {
            "deleting": false
          }
        }
      },
      "source": [
        "## Comparing article from cnn daily news dataset\n",
        "source: https://huggingface.co/datasets/cnn_dailymail\n"
      ]
    },
    {
      "cell_type": "code",
      "execution_count": 28,
      "metadata": {
        "gather": {
          "logged": 1674831122093
        },
        "jupyter": {
          "outputs_hidden": false,
          "source_hidden": false
        },
        "nteract": {
          "transient": {
            "deleting": false
          }
        }
      },
      "outputs": [
        {
          "data": {
            "text/html": [
              "<div>\n",
              "<style scoped>\n",
              "    .dataframe tbody tr th:only-of-type {\n",
              "        vertical-align: middle;\n",
              "    }\n",
              "\n",
              "    .dataframe tbody tr th {\n",
              "        vertical-align: top;\n",
              "    }\n",
              "\n",
              "    .dataframe thead th {\n",
              "        text-align: right;\n",
              "    }\n",
              "</style>\n",
              "<table border=\"1\" class=\"dataframe\">\n",
              "  <thead>\n",
              "    <tr style=\"text-align: right;\">\n",
              "      <th></th>\n",
              "      <th>articles</th>\n",
              "      <th>highligths</th>\n",
              "    </tr>\n",
              "  </thead>\n",
              "  <tbody>\n",
              "    <tr>\n",
              "      <th>0</th>\n",
              "      <td>BREMEN, Germany -- Carlos Alberto, who scored ...</td>\n",
              "      <td>Werder Bremen pay a club record $10.7 million ...</td>\n",
              "    </tr>\n",
              "    <tr>\n",
              "      <th>1</th>\n",
              "      <td>(CNN) -- Football superstar, celebrity, fashio...</td>\n",
              "      <td>Beckham has agreed to a five-year contract wit...</td>\n",
              "    </tr>\n",
              "    <tr>\n",
              "      <th>2</th>\n",
              "      <td>LOS ANGELES, California (CNN) -- Youssif, the ...</td>\n",
              "      <td>Boy on meeting Spider-Man: \"It was my favorite...</td>\n",
              "    </tr>\n",
              "  </tbody>\n",
              "</table>\n",
              "</div>"
            ],
            "text/plain": [
              "                                            articles  \\\n",
              "0  BREMEN, Germany -- Carlos Alberto, who scored ...   \n",
              "1  (CNN) -- Football superstar, celebrity, fashio...   \n",
              "2  LOS ANGELES, California (CNN) -- Youssif, the ...   \n",
              "\n",
              "                                          highligths  \n",
              "0  Werder Bremen pay a club record $10.7 million ...  \n",
              "1  Beckham has agreed to a five-year contract wit...  \n",
              "2  Boy on meeting Spider-Man: \"It was my favorite...  "
            ]
          },
          "execution_count": 28,
          "metadata": {},
          "output_type": "execute_result"
        }
      ],
      "source": [
        "import pandas as pd\n",
        "cnn_daily_articles = ['BREMEN, Germany -- Carlos Alberto, who scored in FC Porto\\'s Champions League final victory against Monaco in 2004, has joined Bundesliga club Werder Bremen for a club record fee of 7.8 million euros ($10.7 million). Carlos Alberto enjoyed success at FC Porto under Jose Mourinho. \"I\\'m here to win titles with Werder,\" the 22-year-old said after his first training session with his new club. \"I like Bremen and would only have wanted to come here.\" Carlos Alberto started his career with Fluminense, and helped them to lift the Campeonato Carioca in 2002. In January 2004 he moved on to FC Porto, who were coached by José Mourinho, and the club won the Portuguese title as well as the Champions League. Early in 2005, he moved to Corinthians, where he impressed as they won the Brasileirão,but in 2006 Corinthians had a poor season and Carlos Alberto found himself at odds with manager, Emerson Leão. Their poor relationship came to a climax at a Copa Sul-Americana game against Club Atlético Lanús, and Carlos Alberto declared that he would not play for Corinthians again while Leão remained as manager. Since January this year he has been on loan with his first club Fluminense. Bundesliga champions VfB Stuttgart said on Sunday that they would sign a loan agreement with Real Zaragoza on Monday for Ewerthon, the third top Brazilian player to join the German league in three days. A VfB spokesman said Ewerthon, who played in the Bundesliga for Borussia Dortmund from 2001 to 2005, was expected to join the club for their pre-season training in Austria on Monday. On Friday, Ailton returned to Germany where he was the league\\'s top scorer in 2004, signing a one-year deal with Duisburg on a transfer from Red Star Belgrade. E-mail to a friend .',\n",
        "                        '(CNN) -- Football superstar, celebrity, fashion icon, multimillion-dollar heartthrob. Now, David Beckham is headed for the Hollywood Hills as he takes his game to U.S. Major League Soccer. CNN looks at how Bekham fulfilled his dream of playing for Manchester United, and his time playing for England. The world\\'s famous footballer has begun a five-year contract with the Los Angeles Galaxy team, and on Friday Beckham will meet the press and reveal his new shirt number. This week, we take an in depth look at the life and times of Beckham, as CNN\\'s very own \"Becks,\" Becky Anderson, sets out to examine what makes the man tick -- as footballer, fashion icon and global phenomenon. It\\'s a long way from the streets of east London to the Hollywood Hills and Becky charts Beckham\\'s incredible rise to football stardom, a journey that has seen his skills grace the greatest stages in world soccer. She goes in pursuit of the current hottest property on the sports/celebrity circuit in the U.S. and along the way explores exactly what\\'s behind the man with the golden boot. CNN will look back at the life of Beckham, the wonderfully talented youngster who fulfilled his dream of playing for Manchester United, his marriage to pop star Victoria, and the trials and tribulations of playing for England. We\\'ll look at the highs (scoring against Greece), the lows (being sent off during the World Cup), the Man. U departure for the Galacticos of Madrid -- and now the Home Depot stadium in L.A. We\\'ll ask how Beckham and his family will adapt to life in Los Angeles -- the people, the places to see and be seen and the celebrity endorsement. Beckham is no stranger to exposure. He has teamed with Reggie Bush in an Adidas commercial, is the face of Motorola, is the face on a PlayStation game and doesn\\'t need fashion tips as he has his own international clothing line. But what does the star couple need to do to become an accepted part of Tinseltown\\'s glitterati? The road to major league football in the U.S.A. is a well-worn route for some of the world\\'s greatest players. We talk to some of the former greats who came before him and examine what impact these overseas stars had on U.S. soccer and look at what is different now. We also get a rare glimpse inside the David Beckham academy in L.A, find out what drives the kids and who are their heroes. The perception that in the U.S.A. soccer is a \"game for girls\" after the teenage years is changing. More and more young kids are choosing the European game over the traditional U.S. sports. E-mail to a friend .',\n",
        "                        'LOS ANGELES, California (CNN) -- Youssif, the 5-year-old burned Iraqi boy, rounded the corner at Universal Studios when suddenly the little boy hero met his favorite superhero. Youssif has always been a huge Spider-Man fan. Meeting him was \"my favorite thing,\" he said. Spider-Man was right smack dab in front of him, riding a four-wheeler amid a convoy of other superheroes. The legendary climber of buildings and fighter of evil dismounted, walked over to Youssif and introduced himself. Spidey then gave the boy from a far-away land a gentle hug, embracing him in his iconic blue and red tights. He showed Youssif a few tricks, like how to shoot a web from his wrist. Only this time, no web was spun. \"All right Youssif!\" Spider-Man said after the boy mimicked his wrist movement. Other superheroes crowded around to get a closer look. Even the Green Goblin stopped his villainous ways to tell the boy hi. Youssif remained unfazed. He didn\\'t take a liking to Spider-Man\\'s nemesis. Spidey was just too cool. \"It was my favorite thing,\" the boy said later. \"I want to see him again.\" He then felt compelled to add: \"I know it\\'s not the real Spider-Man.\" This was the day of dreams when the boy\\'s nightmares were, at least temporarily, forgotten. He met SpongeBob, Lassie and a 3-year-old orangutan named Archie. The hairy, brownish-red primate took to the boy, grabbing his hand and holding it. Even when Youssif pulled away, Archie would inch his hand back toward the boy\\'s and then snatch it. See Youssif enjoy being a boy again » . The boy giggled inside a play area where sponge-like balls shot out of toy guns. It was a far different artillery than what he was used to seeing in central Baghdad, as recently as a week ago. He squealed with delight and raced around the room collecting as many balls as he could. He rode a tram through the back stages at Universal Studios. At one point, the car shook. Fire and smoke filled the air, debris cascaded down and a big rig skidded toward the vehicle. The boy and his family survived the pretend earthquake unscathed. \"Even I was scared,\" the dad said. \"Well, I wasn\\'t,\" Youssif replied. The father and mother grinned from ear to ear throughout the day. Youssif pushed his 14-month-old sister, Ayaa, in a stroller. \"Did you even need to ask us if we were interested in coming here?\" Youssif\\'s father said in amazement. \"Other than my wedding day, this is the happiest day of my life,\" he said. Just a day earlier, the mother and father talked about their journey out of Iraq and to the United States. They also discussed that day nine months ago when masked men grabbed their son outside the family home, doused him in gas and set him on fire. His mother heard her boy screaming from inside. The father sought help for his boy across Baghdad, but no one listened. He remembers his son\\'s two months of hospitalization. The doctors didn\\'t use anesthetics. He could hear his boy\\'s piercing screams from the other side of the hospital. Watch Youssif meet his doctor and play with his little sister » . The father knew that speaking to CNN would put his family\\'s lives in jeopardy. The possibility of being killed was better than seeing his son suffer, he said. \"Anything for Youssif,\" he said. \"We had to do it.\" They described a life of utter chaos in Baghdad. Neighbors had recently given birth to a baby girl. Shortly afterward, the father was kidnapped and killed. Then, there was the time when some girls wore tanktops and jeans. They were snatched off the street by gunmen. The stories can be even more gruesome. The couple said they had heard reports that a young girl was kidnapped and beheaded --and her killers sewed a dog\\'s head on the corpse and delivered it to her family\\'s doorstep. \"These are just some of the stories,\" said Youssif\\'s mother, Zainab. Under Saddam Hussein, there was more security and stability, they said. There was running water and electricity most of the time. But still life was tough under the dictator, like the time when Zainab\\'s uncle disappeared and was never heard from again after he read a \"religious book,\" she said. Sitting in the parking lot of a Target in suburban Los Angeles, Youssif\\'s father watched as husbands and wives, boyfriends and girlfriends, parents and their children, came and went. Some held hands. Others smiled and laughed. \"Iraq finished,\" he said in what few English words he knows. He elaborated in Arabic: His homeland won\\'t be enjoying such freedoms anytime soon. It\\'s just not possible. Too much violence. Too many killings. His two children have only seen war. But this week, the family has seen a much different side of America -- an outpouring of generosity and a peaceful nation at home. \"It\\'s been a dream,\" the father said. He used to do a lot of volunteer work back in Baghdad. \"Maybe that\\'s why I\\'m being helped now,\" the father said. At Universal Studios, he looked out across the valley below. The sun glistened off treetops and buildings. It was a picturesque sight fit for a Hollywood movie. \"Good America, good America,\" he said in English. E-mail to a friend . CNN\\'s Arwa Damon contributed to this report.'\n",
        "]\n",
        "\n",
        "cnn_daily_article_highlights = ['Werder Bremen pay a club record $10.7 million for Carlos Alberto .\\nThe Brazilian midfielder won the Champions League with FC Porto in 2004 .\\nSince January he has been on loan with his first club, Fluminense .',\n",
        "                                'Beckham has agreed to a five-year contract with Los Angeles Galaxy .\\nNew contract took effect July 1, 2007 .\\nFormer English captain to meet press, unveil new shirt number Friday .\\nCNN to look at Beckham as footballer, fashion icon and global phenomenon .',\n",
        "                                'Boy on meeting Spider-Man: \"It was my favorite thing\"\\nYoussif also met SpongeBob, Lassie and an orangutan at Universal Studios .\\nDad: \"Other than my wedding day, this is the happiest day of my life\"' \n",
        "]\n",
        "\n",
        "cnn_df = pd.DataFrame({\"articles\":cnn_daily_articles, \"highligths\":cnn_daily_article_highlights})\n",
        "\n",
        "cnn_df.head()                      "
      ]
    },
    {
      "cell_type": "code",
      "execution_count": 30,
      "metadata": {
        "gather": {
          "logged": 1674831294043
        },
        "jupyter": {
          "outputs_hidden": false,
          "source_hidden": false
        },
        "nteract": {
          "transient": {
            "deleting": false
          }
        }
      },
      "outputs": [
        {
          "name": "stdout",
          "output_type": "stream",
          "text": [
            "0.2378745657639586\n",
            "0.2896765175077112\n"
          ]
        }
      ],
      "source": [
        "article1_embedding    = client.embeddings.create(input=cnn_df.articles.iloc[0], model=model).data[0].embedding\n",
        "article2_embedding    = client.embeddings.create(input=cnn_df.articles.iloc[1], model=model).data[0].embedding\n",
        "article3_embedding    = client.embeddings.create(input=cnn_df.articles.iloc[2], model=model).data[0].embedding\n",
        "\n",
        "print(cosine_similarity(article1_embedding, article2_embedding))\n",
        "print(cosine_similarity(article1_embedding, article3_embedding))"
      ]
    },
    {
      "attachments": {},
      "cell_type": "markdown",
      "metadata": {
        "nteract": {
          "transient": {
            "deleting": false
          }
        }
      },
      "source": [
        "# References  \n",
        "-Azure Reference Documentation  \n",
        "-Azure OpenAI GitHub Repo\n",
        "-cookbooks  \n",
        "-OpenAI website  \n",
        "\n",
        "1 - [Openai Cookbook](https://github.com/openai/openai-cookbook)  \n",
        "2 - [Azure Documentation - Azure Open AI Models](https://learn.microsoft.com/en-us/azure/cognitive-services/openai/concepts/models)  \n",
        "3 - [OpenAI Studio Examples](https://oai.azure.com/portal)  \n",
        "4 - [[PUBLIC] Best practices for fine-tuning GPT-3 to classify text](https://docs.google.com/document/d/1rqj7dkuvl7Byd5KQPUJRxc19BJt8wo0yHNwK84KfU3Q/edit#)"
      ]
    },
    {
      "attachments": {},
      "cell_type": "markdown",
      "metadata": {
        "nteract": {
          "transient": {
            "deleting": false
          }
        }
      },
      "source": [
        "# For More Help  \n",
        "[OpenAI Commercialization Team](AzureOpenAITeam@microsoft.com)  \n",
        "AI Specialized CSAs [aka.ms/airangers](aka.ms/airangers)"
      ]
    },
    {
      "attachments": {},
      "cell_type": "markdown",
      "metadata": {
        "nteract": {
          "transient": {
            "deleting": false
          }
        }
      },
      "source": [
        "# Contributors\n",
        "* Louis Li  \n"
      ]
    },
    {
      "cell_type": "code",
      "execution_count": null,
      "metadata": {},
      "outputs": [],
      "source": []
    }
  ],
  "metadata": {
    "kernel_info": {
      "name": "python310-sdkv2"
    },
    "kernelspec": {
      "display_name": "base",
      "language": "python",
      "name": "python3"
    },
    "language_info": {
      "codemirror_mode": {
        "name": "ipython",
        "version": 3
      },
      "file_extension": ".py",
      "mimetype": "text/x-python",
      "name": "python",
      "nbconvert_exporter": "python",
      "pygments_lexer": "ipython3",
      "version": "3.11.5"
    },
    "microsoft": {
      "host": {
        "AzureML": {
          "notebookHasBeenCompleted": true
        }
      }
    },
    "nteract": {
      "version": "nteract-front-end@1.0.0"
    }
  },
  "nbformat": 4,
  "nbformat_minor": 2
}
