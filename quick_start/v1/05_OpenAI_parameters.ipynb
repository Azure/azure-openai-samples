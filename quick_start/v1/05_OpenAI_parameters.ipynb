{
 "cells": [
  {
   "cell_type": "code",
   "execution_count": 6,
   "metadata": {},
   "outputs": [],
   "source": [
    "import re\n",
    "import requests\n",
    "import sys\n",
    "import os\n",
    "from openai import AzureOpenAI\n",
    "import tiktoken\n",
    "from dotenv import load_dotenv\n",
    "load_dotenv()\n",
    "\n",
    "client = AzureOpenAI(\n",
    "  azure_endpoint = os.getenv(\"AZURE_OPENAI_ENDPOINT\"), \n",
    "  api_key=os.getenv(\"AZURE_OPENAI_KEY\"),  \n",
    "  api_version=\"2024-02-15-preview\"\n",
    ")\n",
    "\n",
    "CHAT_COMPLETIONS_MODEL = os.getenv('CHAT_COMPLETION_NAME')\n",
    "SEED=123"
   ]
  },
  {
   "attachments": {},
   "cell_type": "markdown",
   "metadata": {},
   "source": [
    "# temperature\n",
    "\n",
    "Defaults to 1\n",
    "\n",
    "What sampling temperature to use. Higher values means the model will take more risks. Try 0.9 for more creative applications, and 0 (argmax sampling) for ones with a well-defined answer.\n",
    "\n",
    "We generally recommend altering this or top_p but not both."
   ]
  },
  {
   "cell_type": "code",
   "execution_count": 13,
   "metadata": {},
   "outputs": [],
   "source": [
    "def call_openai(num_times, prompt, temperature=0.75, use_seed=False):\n",
    "    for i in range(num_times):\n",
    "        if use_seed:\n",
    "            response = client.chat.completions.create(\n",
    "                model=CHAT_COMPLETIONS_MODEL,\n",
    "                messages = [{\"role\":\"system\", \"content\":\"You are a helpful assistant.\"},\n",
    "                            {\"role\":\"user\",\"content\": prompt}],\n",
    "                    max_tokens=60,\n",
    "                    seed=SEED,\n",
    "                    temperature = temperature\n",
    "            )\n",
    "        else:\n",
    "            response = client.chat.completions.create(\n",
    "                model=CHAT_COMPLETIONS_MODEL,\n",
    "                messages = [{\"role\":\"system\", \"content\":\"You are a helpful assistant.\"},\n",
    "                            {\"role\":\"user\",\"content\": prompt}],\n",
    "                    max_tokens=60,\n",
    "                    temperature = temperature\n",
    "            )\n",
    "        print(response.choices[0].message.content)"
   ]
  },
  {
   "cell_type": "code",
   "execution_count": 14,
   "metadata": {},
   "outputs": [
    {
     "name": "stdout",
     "output_type": "stream",
     "text": [
      "It really depends on your lifestyle and preferences. Some people love the companionship of dogs, while others prefer the independence of cats. Others may enjoy the low maintenance of small pets like fish or birds. It's important to consider your living situation, schedule, and the level of care and attention you can\n",
      "The best pet is a personal preference and can depend on individual circumstances, lifestyle, and preferences. Some people may find dogs to be the best pet for their active lifestyle and desire for companionship, while others may prefer the low-maintenance nature of cats or the unique companionship of smaller animals like rabbits\n",
      "The best pet is a subjective choice and varies from person to person. Some people may prefer dogs for their loyalty and companionship, while others may prefer cats for their independence and low maintenance. Other popular pets include birds, fish, rabbits, and reptiles. It ultimately depends on your lifestyle, living\n",
      "The best pet is subjective and depends on your lifestyle, preferences, and needs. Dogs, cats, birds, rabbits, and other animals can all make great pets, so it's important to choose one that aligns with your lifestyle and that you can provide proper care for. If you have specific requirements\n",
      "The best pet is a matter of personal preference and can vary depending on factors such as lifestyle, living situation, and individual preferences. Some people may prefer dogs for their loyalty and companionship, while others may prefer cats for their independence and low-maintenance nature. Other popular pets include fish, birds,\n",
      "The best pet is a subjective choice and depends on individual preferences, lifestyle, and living situation. Some people may prefer dogs for companionship and loyalty, while others may prefer cats for their independence and low-maintenance care. Others may enjoy the companionship of small animals like rabbits, guinea pigs,\n",
      "The best pet is subjective and can vary depending on personal preferences, lifestyle, and individual circumstances. Some people may consider dogs to be the best pets because of their loyalty and companionship, while others may prefer cats for their independence and low maintenance. Other popular pets include birds, rabbits, and fish.\n",
      "That's subjective and depends on individual preferences and lifestyle. Some people might prefer dogs, while others might prefer cats, birds, or other animals. Each pet has its own unique attributes and can be the best for different people.\n",
      "The best pet is subjective and depends on an individual's lifestyle, preferences, and the amount of time and effort they can dedicate to their pet. Some people may find dogs to be the best pet for their active lifestyle and desire for companionship, while others may prefer the low-maintenance nature of cats\n",
      "The best pet is a subjective matter and can vary depending on a person's lifestyle, preferences, and needs. Some people may prefer dogs for their loyalty and companionship, while others may prefer cats for their independent nature. Other popular pets include birds, fish, and small mammals like hamsters or gu\n"
     ]
    }
   ],
   "source": [
    "# Without seed and temperature, the response is different each time\n",
    "call_openai(10, 'The best pet is a ')"
   ]
  },
  {
   "cell_type": "code",
   "execution_count": 15,
   "metadata": {},
   "outputs": [
    {
     "name": "stdout",
     "output_type": "stream",
     "text": [
      "The best pet is a subjective choice and depends on individual preferences, lifestyle, and circumstances. Some people may prefer dogs for their loyalty and companionship, while others may prefer cats for their independence and low maintenance. Other popular pets include birds, fish, rabbits, and small mammals. It's important to\n",
      "The best pet is a subjective choice and depends on individual preferences, lifestyle, and living situation. Some people may prefer dogs for their loyalty and companionship, while others may prefer cats for their independence and low maintenance. Other popular pets include birds, fish, rabbits, and reptiles. It's important\n",
      "The best pet is a matter of personal preference and lifestyle. Some people may prefer dogs for their loyalty and companionship, while others may prefer cats for their independence and low maintenance. Other popular pets include birds, fish, rabbits, and reptiles. It's important to consider your living situation, schedule\n",
      "The best pet is a matter of personal preference and lifestyle. Some people may prefer dogs for their loyalty and companionship, while others may prefer cats for their independence and low maintenance. Other popular pets include birds, fish, and small mammals like rabbits or guinea pigs. It's important to consider your\n",
      "The best pet is a matter of personal preference and lifestyle. Some people may prefer dogs for their loyalty and companionship, while others may prefer cats for their independence and low maintenance. Other popular pets include birds, fish, rabbits, and reptiles. It's important to consider your living situation, schedule\n",
      "The best pet is a matter of personal preference and lifestyle. Some people may prefer dogs for their loyalty and companionship, while others may prefer cats for their independence and low maintenance. Other popular pets include birds, fish, rabbits, and reptiles. It's important to consider your living situation, schedule\n",
      "The best pet is a subjective choice and depends on individual preferences, lifestyle, and living situation. Some people may prefer dogs for their loyalty and companionship, while others may prefer cats for their independence and low maintenance. Other popular pets include birds, fish, rabbits, and reptiles. It's important\n",
      "The best pet is a subjective choice and depends on individual preferences, lifestyle, and living situation. Some people may prefer dogs for their loyalty and companionship, while others may prefer cats for their independence and low maintenance. Other popular pets include birds, fish, rabbits, and reptiles. It's important\n",
      "The best pet is a matter of personal preference and lifestyle. Some people may prefer dogs for their loyalty and companionship, while others may prefer cats for their independence and low maintenance. Other popular pets include birds, fish, rabbits, and guinea pigs. It's important to consider your living situation,\n",
      "The best pet is a subjective choice and depends on individual preferences, lifestyle, and circumstances. Some people may prefer dogs for their loyalty and companionship, while others may prefer cats for their independence and low maintenance. Other popular pets include birds, fish, rabbits, and small mammals. It's important to\n"
     ]
    }
   ],
   "source": [
    "# Now using a seed and 0 temperature, the response is the much more consisitent\n",
    "call_openai(10, 'The best pet is a ', temperature = 0, use_seed=True)"
   ]
  },
  {
   "attachments": {},
   "cell_type": "markdown",
   "metadata": {},
   "source": [
    "# n\n",
    "\n",
    "Defaults to 1\n",
    "\n",
    "How many completions to generate for each prompt.\n",
    "\n",
    "Note: Because this parameter generates many completions, it can quickly consume your token quota. Use carefully and ensure that you have reasonable settings for max_tokens and stop."
   ]
  },
  {
   "cell_type": "code",
   "execution_count": 17,
   "metadata": {},
   "outputs": [
    {
     "name": "stdout",
     "output_type": "stream",
     "text": [
      "The best pet for someone can vary depending on their lifestyle, preferences, and living situation. Some people might prefer a dog for companionship and outdoor activities, while others might prefer a cat for low-maintenance companionship. Other options, such as birds, fish, or small mammals, could also make\n",
      "It depends on your lifestyle and what you're looking for in a pet. Some people might prefer dogs for their loyalty and companionship, while others might prefer cats for their independence and low-maintenance care. Fish, birds, reptiles, and small mammals are also popular choices for different reasons. It\n"
     ]
    }
   ],
   "source": [
    "response = client.chat.completions.create(\n",
    "            model=CHAT_COMPLETIONS_MODEL,\n",
    "            messages = [{\"role\":\"system\", \"content\":\"You are a helpful assistant.\"},\n",
    "                        {\"role\":\"user\",\"content\": \"The best pet is a \"}],\n",
    "                max_tokens=60,\n",
    "                n=2\n",
    "        )\n",
    "\n",
    "for c in response.choices:\n",
    "    print(c.message.content)"
   ]
  },
  {
   "attachments": {},
   "cell_type": "markdown",
   "metadata": {},
   "source": [
    "# presence_penalty\n",
    "\n",
    "Defaults to 0\n",
    "\n",
    "Number between -2.0 and 2.0. Positive values penalize new tokens based on whether they appear in the text so far, increasing the model's likelihood to talk about new topics.\n",
    "\n",
    "# frequency_penalty\n",
    "\n",
    "Defaults to 0\n",
    "\n",
    "Number between -2.0 and 2.0. Positive values penalize new tokens based on their existing frequency in the text so far, decreasing the model's likelihood to repeat the same line verbatim.\n"
   ]
  },
  {
   "cell_type": "markdown",
   "metadata": {},
   "source": []
  }
 ],
 "metadata": {
  "kernelspec": {
   "display_name": "azureml_py310_sdkv2",
   "language": "python",
   "name": "python3"
  },
  "language_info": {
   "codemirror_mode": {
    "name": "ipython",
    "version": 3
   },
   "file_extension": ".py",
   "mimetype": "text/x-python",
   "name": "python",
   "nbconvert_exporter": "python",
   "pygments_lexer": "ipython3",
   "version": "0.0.0"
  },
  "orig_nbformat": 4,
  "vscode": {
   "interpreter": {
    "hash": "2139c70ac98f3202d028164a545621647e07f47fd6f5d8ac55cf952bf7c15ed1"
   }
  }
 },
 "nbformat": 4,
 "nbformat_minor": 2
}
