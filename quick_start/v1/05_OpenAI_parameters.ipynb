{
 "cells": [
  {
   "cell_type": "markdown",
   "metadata": {},
   "source": [
    "# OpenAI Parameters"
   ]
  },
  {
   "cell_type": "markdown",
   "metadata": {},
   "source": [
    "# Overview\n",
    "When making requests to OpenAI models, several parameters can be used to control the behavior and output of the model. \\\n",
    "Understanding these parameters helps in fine-tuning the responses to meet specific requirements, whether for generating text, answering questions, or any other use case.\n",
    "\n",
    "For more detailed examples, refer to the official documentation [Azure OpenAI Service](https://learn.microsoft.com/en-us/azure/ai-services/openai/reference)\n"
   ]
  },
  {
   "cell_type": "code",
   "execution_count": 9,
   "metadata": {},
   "outputs": [],
   "source": [
    "import re\n",
    "import requests\n",
    "import sys\n",
    "import os\n",
    "from openai import AzureOpenAI\n",
    "import tiktoken\n",
    "from dotenv import load_dotenv\n",
    "load_dotenv()\n",
    "\n",
    "client = AzureOpenAI(\n",
    "  azure_endpoint = os.getenv(\"AZURE_OPENAI_ENDPOINT\"), \n",
    "  api_key=os.getenv(\"AZURE_OPENAI_KEY\"),  \n",
    "  api_version=\"2024-02-15-preview\"\n",
    ")\n",
    "\n",
    "CHAT_COMPLETIONS_MODEL = os.getenv('CHAT_COMPLETION_NAME')\n",
    "SEED = 123"
   ]
  },
  {
   "cell_type": "markdown",
   "metadata": {},
   "source": [
    "# Parameter: max_tokens\n",
    "**Description**: The maximum number of tokens to generate in the completion. \\\n",
    "**Default**: 16 \\\n",
    "**Example**: max_tokens=50\n",
    "\n",
    "The token count of your prompt plus max_tokens can't exceed the model's context length. \\\n",
    "Most models have a context length of 2048 tokens (except for the newest models, which support 4096). Please refer to documentation."
   ]
  },
  {
   "cell_type": "code",
   "execution_count": 16,
   "metadata": {},
   "outputs": [
    {
     "name": "stdout",
     "output_type": "stream",
     "text": [
      "Max Tokens: 16\n",
      "\n",
      "personal preference and varies from person to person. Some people prefer dogs because they are\n",
      "\n",
      "--------------------------------------------------------------------------------\n",
      "\n",
      "Max Tokens: 32\n",
      "\n",
      "matter of personal preference and lifestyle. Each pet has its own unique characteristics and requirements, so it's important to consider what kind of pet will fit best with your\n",
      "\n",
      "--------------------------------------------------------------------------------\n",
      "\n",
      "Max Tokens: 60\n",
      "\n",
      "subjective opinion and can vary depending on the person's lifestyle, preferences, and needs. Some people might prefer dogs for their loyalty and protection, while others might prefer cats for their independence and low-maintenance. Some people might prefer small animals like hamsters or guinea pigs for their adorable and cudd\n",
      "\n",
      "--------------------------------------------------------------------------------\n",
      "\n",
      "Max Tokens: 100\n",
      "\n",
      "subjective matter that varies from person to person. Different people have different preferences when it comes to pets. Some people may prefer dogs as they are loyal, interactive, and playful, while others may prefer cats who are independent, low maintenance, and can be easily left alone for long periods. Some people may find birds, fish, or even exotic pets like snakes or lizards to be the best pets. Ultimately, the best pet is one that suits your lifestyle, personality, and interests.\n",
      "\n",
      "--------------------------------------------------------------------------------\n",
      "\n"
     ]
    }
   ],
   "source": [
    "def call_openai_with_max_tokens(max_tokens):\n",
    "    response = client.chat.completions.create(\n",
    "          model=CHAT_COMPLETIONS_MODEL,\n",
    "          messages = [{\"role\":\"system\", \"content\":\"You are a helpful assistant.\"},\n",
    "                    {\"role\":\"user\",\"content\": \"The best pet is a\"}],\n",
    "                    max_tokens=max_tokens\n",
    "    )\n",
    "    return response.choices[0].message.content\n",
    "\n",
    "# Generate with different presence_penalty values\n",
    "penalties = [16, 32, 60, 100]\n",
    "for penalty in penalties:\n",
    "    print(f\"Max Tokens: {penalty}\\n\")\n",
    "    print(call_openai_with_max_tokens(penalty))\n",
    "    print(\"\\n\" + \"-\"*80 + \"\\n\")"
   ]
  },
  {
   "attachments": {},
   "cell_type": "markdown",
   "metadata": {},
   "source": [
    "# Parameter: temperature\n",
    "\n",
    "**Description**: Controls the randomness of the output. Lower values make the output more deterministic, while higher values increase randomness. \\\n",
    "**Value Range**: 0 to 1 \\\n",
    "**Default Value**: 1 \\\n",
    "**Example**: temperature=0.7\n",
    "\n",
    "Higher values means the model will take more risks. \\\n",
    "Try 0.9 for more creative applications, and 0 (argmax sampling) for ones with a well-defined answer.\n",
    "\n",
    "---\n",
    "**NOTE**: We generally recommend altering this or top_p but not both.\n"
   ]
  },
  {
   "cell_type": "code",
   "execution_count": 10,
   "metadata": {},
   "outputs": [],
   "source": [
    "def call_openai(num_times, prompt, temperature=0.75, use_seed=False):\n",
    "    for i in range(num_times):\n",
    "        if use_seed:\n",
    "            response = client.chat.completions.create(\n",
    "                model=CHAT_COMPLETIONS_MODEL,\n",
    "                messages = [{\"role\":\"system\", \"content\":\"You are a helpful assistant.\"},\n",
    "                            {\"role\":\"user\",\"content\": prompt}],\n",
    "                    max_tokens=60,\n",
    "                    seed=SEED,\n",
    "                    temperature = temperature\n",
    "            )\n",
    "        else:\n",
    "            response = client.chat.completions.create(\n",
    "                model=CHAT_COMPLETIONS_MODEL,\n",
    "                messages = [{\"role\":\"system\", \"content\":\"You are a helpful assistant.\"},\n",
    "                            {\"role\":\"user\",\"content\": prompt}],\n",
    "                    max_tokens=60,\n",
    "                    temperature = temperature\n",
    "            )\n",
    "        print(response.choices[0].message.content)"
   ]
  },
  {
   "cell_type": "code",
   "execution_count": 11,
   "metadata": {},
   "outputs": [
    {
     "name": "stdout",
     "output_type": "stream",
     "text": [
      "subjective topic as it depends on personal preference and lifestyle. Some people may prefer dogs as they provide companionship and can be trained for various tasks. Others may prefer cats as they are more independent and require less maintenance. Some people may prefer smaller pets like hamsters or fish as they are easier to\n",
      "subjective matter and varies from person to person based on their preferences, lifestyle, and living conditions. Some people might prefer dogs or cats, while others might prefer birds, fish, or small mammals like hamsters or guinea pigs. It's important to do research and consider all factors before choosing a\n",
      "That depends on your lifestyle, living situation, and personal preferences. Some people may prefer dogs because they are loyal and active, while others may prefer cats because they are independent and low-maintenance. Other popular pets include birds, fish, rabbits, and rodents like hamsters and guinea pigs. It\n",
      "matter of personal preference and lifestyle. Some people may prefer dogs as pets because they are loyal and affectionate, while others may prefer cats because they are independent and low-maintenance. Other popular pets include birds, fish, rabbits, guinea pigs, hamsters, and snakes. Ultimately, it's\n",
      "subjective matter and varies from person to person, depending on their preferences, lifestyle, and circumstances. Some popular pet options include dogs, cats, fish, birds, rabbits, and hamsters. Each type of pet has its unique benefits and challenges, so it's essential to do thorough research and consider\n",
      "matter of personal preference and lifestyle. Some people prefer dogs for their loyalty and companionship, while others prefer cats for their independence and low-maintenance care. Other options include birds, fish, rabbits, hamsters, and guinea pigs. Ultimately, the best pet for you is one that fits your\n",
      "subjective matter and can vary depending on individual preferences, lifestyles, and living situations. Some popular pets include dogs, cats, fish, birds, rabbits, and hamsters. It's important to do research and consider factors such as space, time commitment, and financial resources before selecting a pet.\n",
      "subjective matter and depends on personal preferences, lifestyle, and circumstances. Some people may prefer dogs as loyal companions, while others may prefer cats for their low-maintenance and independent nature. Others may prefer birds, fish, or even exotic animals like reptiles or rodents. Ultimately, the best pet is\n",
      "subjective matter and varies from person to person based on their lifestyle, preferences, and living situation. Some people may prefer dogs for their loyalty and companionship, while others may prefer cats for their independence and low maintenance. Some may prefer birds, reptiles, or small mammals as pets. Ultimately,\n",
      "subjective matter and depends on personal preference, lifestyle, and availability to care for the pet. Some popular pets include dogs, cats, birds, fish, rabbits, and guinea pigs. It is important to do research and consider factors such as space, time, and cost before choosing a pet.\n"
     ]
    }
   ],
   "source": [
    "# Without seed and temperature, the response is different each time\n",
    "call_openai(10, 'The best pet is a ')"
   ]
  },
  {
   "cell_type": "code",
   "execution_count": 12,
   "metadata": {},
   "outputs": [
    {
     "name": "stdout",
     "output_type": "stream",
     "text": [
      "subjective matter and depends on personal preferences and lifestyle. Some people may prefer dogs for their loyalty and companionship, while others may prefer cats for their independence and low-maintenance nature. Other popular pets include birds, fish, rabbits, and hamsters. Ultimately, the best pet is one that fits\n",
      "subjective matter and depends on personal preferences and lifestyle. Some people may prefer dogs for their loyalty and companionship, while others may prefer cats for their independence and low-maintenance nature. Other popular pets include birds, fish, rabbits, and hamsters. Ultimately, the best pet is one that fits\n",
      "subjective matter and depends on personal preferences and lifestyle. Some people may prefer dogs for their loyalty and companionship, while others may prefer cats for their independence and low-maintenance nature. Other popular pets include birds, fish, rabbits, and hamsters. Ultimately, the best pet is one that fits\n",
      "subjective matter and depends on personal preferences and lifestyle. Some people may prefer dogs for their loyalty and companionship, while others may prefer cats for their independence and low-maintenance nature. Other popular pets include birds, fish, rabbits, and hamsters. Ultimately, the best pet is one that fits\n",
      "subjective matter and depends on personal preferences and lifestyle. Some people may prefer dogs for their loyalty and companionship, while others may prefer cats for their independence and low-maintenance nature. Other popular pets include birds, fish, rabbits, and hamsters. Ultimately, the best pet is one that fits\n",
      "subjective matter and depends on personal preferences and lifestyle. Some people may prefer dogs for their loyalty and companionship, while others may prefer cats for their independence and low-maintenance nature. Other popular pets include birds, fish, rabbits, and hamsters. Ultimately, the best pet is one that fits\n",
      "subjective matter and depends on personal preferences and lifestyle. Some people may prefer dogs for their loyalty and companionship, while others may prefer cats for their independence and low-maintenance nature. Other popular pets include birds, fish, rabbits, and hamsters. Ultimately, the best pet is one that fits\n",
      "subjective matter and depends on personal preferences and lifestyle. Some people may prefer dogs for their loyalty and companionship, while others may prefer cats for their independence and low-maintenance nature. Other popular pets include birds, fish, rabbits, and hamsters. Ultimately, the best pet is one that fits\n",
      "subjective matter and depends on personal preferences and lifestyle. Some people may prefer dogs for their loyalty and companionship, while others may prefer cats for their independence and low-maintenance nature. Other popular pets include birds, fish, rabbits, and hamsters. Ultimately, the best pet is one that fits\n",
      "subjective matter and depends on personal preferences and lifestyle. Some people may prefer dogs for their loyalty and companionship, while others may prefer cats for their independence and low-maintenance nature. Other popular pets include birds, fish, rabbits, and hamsters. Ultimately, the best pet is one that fits\n"
     ]
    }
   ],
   "source": [
    "# Now using a seed and 0 temperature, the response is the much more consisitent\n",
    "call_openai(10, 'The best pet is a ', temperature = 0, use_seed=True)"
   ]
  },
  {
   "attachments": {},
   "cell_type": "markdown",
   "metadata": {},
   "source": [
    "# Parameter: n\n",
    "**Description**: Specifies the number of completions to generate for each prompt. \\\n",
    "**Default Value**: 1 \\\n",
    "**Example**: n = 3 \n",
    "\n",
    "---\n",
    "**Note**: Because this parameter generates many completions, it can quickly consume your token quota. Use carefully and ensure that you have reasonable settings for max_tokens and stop."
   ]
  },
  {
   "cell_type": "code",
   "execution_count": 13,
   "metadata": {},
   "outputs": [
    {
     "name": "stdout",
     "output_type": "stream",
     "text": [
      "0 personal preference, as different people have different needs and preferences for pets. Some popular pets include dogs, cats, fish, birds, hamsters, and rabbits. It's important to consider factors such as time, space, budget, and lifestyle when choosing a pet. Ultimately, the best pet is one\n",
      "1 companion that suits your lifestyle and preferences. Some popular choices include cats, dogs, rabbits, birds, fish, and even reptiles. It's essential to consider the time, effort, and resources required to care for a pet before making a decision. You should also consider factors such as your living\n"
     ]
    }
   ],
   "source": [
    "response = client.chat.completions.create(\n",
    "            model=CHAT_COMPLETIONS_MODEL,\n",
    "            messages = [{\"role\":\"system\", \"content\":\"You are a helpful assistant.\"},\n",
    "                        {\"role\":\"user\",\"content\": \"The best pet is a \"}],\n",
    "                max_tokens=60,\n",
    "                n=2\n",
    "        )\n",
    "\n",
    "for index, c in enumerate(response.choices):\n",
    "    print(index, c.message.content)"
   ]
  },
  {
   "attachments": {},
   "cell_type": "markdown",
   "metadata": {},
   "source": [
    "# Parameter: presence_penalty\n",
    "**Description**: Penalizes new tokens based on whether they appear in the text so far, encouraging the model to use new tokens. \\\n",
    "**Value Range**: -2.0 to 2.0 \\\n",
    "**Default Value**: 0 \\\n",
    "**Example**: presence_penalty=0.5"
   ]
  },
  {
   "cell_type": "markdown",
   "metadata": {},
   "source": []
  },
  {
   "cell_type": "code",
   "execution_count": 15,
   "metadata": {},
   "outputs": [
    {
     "name": "stdout",
     "output_type": "stream",
     "text": [
      "Presence Penalty: 0\n",
      "\n",
      "matter of personal preference, some people prefer cats, while others prefer dogs or other types of animals. It's essential to consider factors such as your lifestyle, living situation, and the amount of time you can dedicate to taking care of a pet before adopting any animal. It's also important to research the\n",
      "\n",
      "--------------------------------------------------------------------------------\n",
      "\n",
      "Presence Penalty: 0.5\n",
      "\n",
      "matter of personal preference and lifestyle. Some people might prefer a dog for their loyalty and companionship, while others might prefer a cat for their independence and low-maintenance care. Other popular pets include birds, fish, rabbits, and guinea pigs. It ultimately depends on what kind of pet fits with\n",
      "\n",
      "--------------------------------------------------------------------------------\n",
      "\n",
      "Presence Penalty: 1.0\n",
      "\n",
      "subjective decision that depends on individual preferences and lifestyles. Some people may prefer dogs as pets for their loyalty and companionship, while others may prefer cats for their independence and low maintenance. Other popular pet options include fish, birds, guinea pigs, hamsters, and rabbits. It is essential to\n",
      "\n",
      "--------------------------------------------------------------------------------\n",
      "\n",
      "Presence Penalty: 1.5\n",
      "\n",
      "personal preference, as it depends on the individual's lifestyle and preferences. Some popular options include cats, dogs, fish, birds, rabbits, guinea pigs, hamsters, and reptiles. It is important to do research on each type of pet and consider factors such as the level of care required\n",
      "\n",
      "--------------------------------------------------------------------------------\n",
      "\n",
      "Presence Penalty: 2.0\n",
      "\n",
      "highly subjective matter and depends on individual preferences, lifestyle, and circumstances. Some people prefer dogs for their loyalty and companionship while others may prefer cats for their independence and low-maintenance nature. Others may like the company of birds or smaller animals such as hamsters or rabbits. Ultimately, the best\n",
      "\n",
      "--------------------------------------------------------------------------------\n",
      "\n"
     ]
    }
   ],
   "source": [
    "def call_openai_with_presence_penalty(presence_penalty):\n",
    "    response = client.chat.completions.create(\n",
    "          model=CHAT_COMPLETIONS_MODEL,\n",
    "          messages = [{\"role\":\"system\", \"content\":\"You are a helpful assistant.\"},\n",
    "                    {\"role\":\"user\",\"content\": \"The best pet is a\"}],\n",
    "                    max_tokens=60,\n",
    "                    presence_penalty=presence_penalty\n",
    "    )\n",
    "    return response.choices[0].message.content\n",
    "\n",
    "# Generate with different presence_penalty values\n",
    "penalties = [0, 0.5, 1.0, 1.5, 2.0]\n",
    "for penalty in penalties:\n",
    "    print(f\"Presence Penalty: {penalty}\\n\")\n",
    "    print(call_openai_with_presence_penalty(penalty))\n",
    "    print(\"\\n\" + \"-\"*80 + \"\\n\")"
   ]
  },
  {
   "cell_type": "markdown",
   "metadata": {},
   "source": [
    "# Parameter: frequency_penalty\n",
    "**Description**: Penalizes new tokens based on their existing frequency in the text so far, reducing the likelihood of repeating the same line verbatim. \\\n",
    "**Value Range**: -2.0 to 2.0 \\\n",
    "**Default Value**: 0 \\\n",
    "**Example**: frequency_penalty=0.5"
   ]
  },
  {
   "cell_type": "markdown",
   "metadata": {},
   "source": [
    "#### Use cases to explore\n",
    "1. **Compare Responses** \\\n",
    "Generate multiple completions to compare and choose the best response for your use case.\n",
    "\n",
    "2. **Increase Diversity** \\\n",
    "Use multiple completions to get a variety of responses, which is useful in creative applications.\n",
    "\n",
    "3. **Enhance Robustness** \\\n",
    "Generate multiple responses to ensure consistency and accuracy across different completions.\n",
    "\n",
    "#### Best Practices\n",
    "1. **Optimize Prompt Length** \\\n",
    "Keep your prompts concise but informative to ensure the model has enough context.\n",
    "\n",
    "2. **Adjust Temperature and Top_p** \\\n",
    "Use these parameters to balance between deterministic and creative responses.\n",
    "\n",
    "3. **Monitor Token Usage** \\\n",
    "Be mindful of the max_tokens parameter to manage costs and response length.\n",
    "\n",
    "4. **Use Stopping Sequences** \\\n",
    "Define stopping sequences to control where the model should stop generating text, ensuring the output is within the desired context.\n",
    "\n",
    "5. **Generate Multiple Completions** \\\n",
    "Use the n parameter to generate multiple completions and select the best one for your needs."
   ]
  }
 ],
 "metadata": {
  "kernelspec": {
   "display_name": "azureml_py310_sdkv2",
   "language": "python",
   "name": "python3"
  },
  "language_info": {
   "codemirror_mode": {
    "name": "ipython",
    "version": 3
   },
   "file_extension": ".py",
   "mimetype": "text/x-python",
   "name": "python",
   "nbconvert_exporter": "python",
   "pygments_lexer": "ipython3",
   "version": "3.11.9"
  },
  "orig_nbformat": 4,
  "vscode": {
   "interpreter": {
    "hash": "2139c70ac98f3202d028164a545621647e07f47fd6f5d8ac55cf952bf7c15ed1"
   }
  }
 },
 "nbformat": 4,
 "nbformat_minor": 2
}
