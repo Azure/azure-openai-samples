{
 "cells": [
  {
   "attachments": {},
   "cell_type": "markdown",
   "metadata": {},
   "source": [
    "# Best Practices for Prompt Engineering\n",
    "\n",
    "source: https://help.openai.com/en/articles/6654000-best-practices-for-prompt-engineering-with-openai-api\n"
   ]
  },
  {
   "cell_type": "code",
   "execution_count": 1,
   "metadata": {},
   "outputs": [],
   "source": [
    "import re\n",
    "import requests\n",
    "import sys\n",
    "import os\n",
    "from openai import AzureOpenAI\n",
    "import tiktoken\n",
    "from dotenv import load_dotenv\n",
    "load_dotenv()\n",
    "\n",
    "client = AzureOpenAI(\n",
    "  azure_endpoint = os.getenv(\"AZURE_OPENAI_ENDPOINT\"), \n",
    "  api_key=os.getenv(\"AZURE_OPENAI_KEY\"),  \n",
    "  api_version=\"2024-02-15-preview\"\n",
    ")\n",
    "\n",
    "CHAT_COMPLETIONS_MODEL = os.getenv('CHAT_COMPLETION_NAME')"
   ]
  },
  {
   "attachments": {},
   "cell_type": "markdown",
   "metadata": {},
   "source": [
    "# 1. Use the latest model\n",
    "\n",
    "Use the latest model for best results."
   ]
  },
  {
   "attachments": {},
   "cell_type": "markdown",
   "metadata": {},
   "source": [
    "# 2. Put instructions at the begining of the prompt and use ### or \"\"\" to separate the instruction and context"
   ]
  },
  {
   "cell_type": "code",
   "execution_count": 2,
   "metadata": {},
   "outputs": [
    {
     "name": "stdout",
     "output_type": "stream",
     "text": [
      "- OpenAI and Microsoft are extending their partnership with a multi-year, multi-billion dollar investment from Microsoft.\n",
      "- The investment will allow OpenAI to continue independent research and develop AI that is safe, useful, and powerful.\n",
      "- OpenAI remains a capped-profit company and is governed by the OpenAI non-profit in pursuit of their mission to ensure advanced AI benefits all of humanity.\n",
      "- The partnership with Microsoft is instrumental to OpenAI's progress, as Microsoft shares their vision and values.\n"
     ]
    }
   ],
   "source": [
    "response = client.chat.completions.create(\n",
    "    model=CHAT_COMPLETIONS_MODEL,\n",
    "    messages = [{\"role\":\"system\", \"content\":\"You are a helpful assistant.\"},\n",
    "                {\"role\":\"user\",\"content\": 'Summarize the text below as a bullet point list of the most important points. \\n\\n \\\n",
    "        ###\\n\\nWe’re happy to announce that OpenAI and Microsoft are extending our partnership.\\\n",
    "        This multi-year, multi-billion dollar investment from Microsoft follows their previous investments \\\n",
    "        in 2019 and 2021, and will allow us to continue our independent research and develop AI that is \\\n",
    "        increasingly safe, useful, and powerful. \\n\\n \\\n",
    "        In pursuit of our mission to ensure advanced AI benefits all of humanity, OpenAI remains a \\\n",
    "        capped-profit company and is governed by the OpenAI non-profit. This structure allows us to \\\n",
    "        raise the capital we need to fulfill our mission without sacrificing our core beliefs about \\\n",
    "        broadly sharing benefits and the need to prioritize safety. \\\n",
    "        Microsoft shares this vision and our values, and our partnership is instrumental to our progress. \\n###',}],\n",
    "        max_tokens=400,)\n",
    "\n",
    "print(response.choices[0].message.content)"
   ]
  },
  {
   "attachments": {},
   "cell_type": "markdown",
   "metadata": {},
   "source": [
    "# 3. Be specific, descriptive and as detailed as possible about the desired context, outcome, length, format, style, etc"
   ]
  },
  {
   "cell_type": "code",
   "execution_count": 3,
   "metadata": {},
   "outputs": [
    {
     "name": "stdout",
     "output_type": "stream",
     "text": [
      "In the world of AI, there stands a name\n",
      "A beacon of knowledge, OpenAI's fame\n",
      "With algorithms and models, they push the frontier\n",
      "Unleashing the power of technology, crystal clear\n",
      "\n",
      "They seek the answers to questions profound\n",
      "In the realm of data, they are unbound\n",
      "From language to logic, they pave the way\n",
      "OpenAI's brilliance shines bright every day\n",
      "\n",
      "Their neural networks weave a web of insight\n",
      "Unlocking the mysteries of day and night\n",
      "With innovation and vision, they continue to soar\n",
      "OpenAI, a marvel unlike any seen before\n",
      "\n",
      "Their commitment to progress knows no bounds\n",
      "In the vast expanse of AI, they are renowned\n",
      "So let us hail the marvels they create\n",
      "OpenAI, leading us to an enlightened state\n"
     ]
    }
   ],
   "source": [
    "response = client.chat.completions.create(\n",
    "    model=CHAT_COMPLETIONS_MODEL,\n",
    "    messages = [{\"role\":\"system\", \"content\":\"You are a helpful assistant.\"},\n",
    "                {\"role\":\"user\",\"content\": 'Write a poem about OpenAI.',}],\n",
    "        max_tokens=400,)\n",
    "\n",
    "print(response.choices[0].message.content)\n"
   ]
  },
  {
   "cell_type": "code",
   "execution_count": 4,
   "metadata": {},
   "outputs": [
    {
     "name": "stdout",
     "output_type": "stream",
     "text": [
      "The launch of DALL-E, a marvel to behold,\n",
      "Bringing art and creativity to the world,\n",
      "In a world of ones and zeroes, it breaks the mold,\n",
      "Unlocking imagination, its banner unfurled.\n",
      "\n",
      "OpenAI's vision, bold and unafraid,\n",
      "Pushing boundaries, where others fear to tread,\n",
      "Innovation thrives where minds are unswayed,\n",
      "The future beckons, with DALL-E as its thread.\n"
     ]
    }
   ],
   "source": [
    "response = client.chat.completions.create(\n",
    "    model=CHAT_COMPLETIONS_MODEL,\n",
    "    messages = [{\"role\":\"system\", \"content\":\"You are a helpful assistant.\"},\n",
    "                {\"role\":\"user\",\"content\": 'Write a short inspiring poem about OpenAI, \\\n",
    "                focusing on the recent DALL-E product launch in the style of Ernest Hemingway',}],\n",
    "        max_tokens=400,)\n",
    "\n",
    "print(response.choices[0].message.content)\n",
    "\n"
   ]
  },
  {
   "attachments": {},
   "cell_type": "markdown",
   "metadata": {},
   "source": [
    "# 4. Articulate the desired output format through examples (example 1, example 2). "
   ]
  },
  {
   "cell_type": "code",
   "execution_count": 5,
   "metadata": {},
   "outputs": [
    {
     "name": "stdout",
     "output_type": "stream",
     "text": [
      "Here are the company names and years extracted from the text along with their start and end indices:\n",
      "\n",
      "1. Company: OpenAI\n",
      "   Start Index: 28\n",
      "   End Index: 34\n",
      "\n",
      "2. Year: 2019\n",
      "   Start Index: 280\n",
      "   End Index: 284\n",
      "\n",
      "3. Year: 2021\n",
      "   Start Index: 288\n",
      "   End Index: 292\n"
     ]
    }
   ],
   "source": [
    "response = client.chat.completions.create(\n",
    "    model=CHAT_COMPLETIONS_MODEL,\n",
    "    messages = [{\"role\":\"system\", \"content\":\"You are a helpful assistant.\"},\n",
    "                {\"role\":\"user\",\"content\": 'Extract the companyn names then years in the following text below and output start index and end index of each entity.\\\n",
    "                Generate output as {\"text\": \"OpenAI\", \"start\": 28, \"end\": 34} \\\n",
    "                ###\\\n",
    "                We’re happy to announce that OpenAI and Microsoft are extending our partnership.\\\n",
    "                This multi-year, multi-billion dollar investment from Microsoft follows their previous investments \\\n",
    "                in 2019 and 2021, and will allow us to continue our independent research and develop AI that is \\\n",
    "                increasingly safe, useful, and powerful. \\n\\n \\\n",
    "                ###\\\n",
    "                ',}],\n",
    "        max_tokens=400,)\n",
    "\n",
    "print(response.choices[0].message.content)\n",
    "\n"
   ]
  },
  {
   "cell_type": "code",
   "execution_count": 6,
   "metadata": {},
   "outputs": [
    {
     "name": "stdout",
     "output_type": "stream",
     "text": [
      "Company names: OpenAI, Microsoft\n",
      "Years: 2019, 2021\n",
      "Specific topics: Partnership, investment, AI research and development\n",
      "General themes: Collaboration, advancement of AI technology\n"
     ]
    }
   ],
   "source": [
    "response = client.chat.completions.create(\n",
    "    model=CHAT_COMPLETIONS_MODEL,\n",
    "    messages = [{\"role\":\"system\", \"content\":\"You are a helpful assistant.\"},\n",
    "                {\"role\":\"user\",\"content\": 'Extract the entities mentioned in the text below. \\\n",
    "                Extract the important entities mentioned in the text below. \\\n",
    "                First extract all company names, then extract all years, \\\n",
    "                then extract specific topics which fit the content and finally extract general overarching themes\\n\\n \\\n",
    "                Desired format: \\\n",
    "                Company names: <comma_separated_list_of_company_names> \\\n",
    "                Years: -||- \\\n",
    "                Specific topics: -||- \\\n",
    "                General themes: -||- \\\n",
    "                \"\"\"\\\n",
    "                We’re happy to announce that OpenAI and Microsoft are extending our partnership.\\\n",
    "                This multi-year, multi-billion dollar investment from Microsoft follows their previous investments \\\n",
    "                in 2019 and 2021, and will allow us to continue our independent research and develop AI that is \\\n",
    "                increasingly safe, useful, and powerful. \\n\\n \\\n",
    "                \"\"\"\\\n",
    "                ',}],\n",
    "        max_tokens=400,)\n",
    "\n",
    "print(response.choices[0].message.content)\n",
    "\n"
   ]
  },
  {
   "attachments": {},
   "cell_type": "markdown",
   "metadata": {},
   "source": [
    "# 5. Start with zero-shot, then few-shot (example), neither of them worked, then fine-tune (To update)"
   ]
  },
  {
   "cell_type": "code",
   "execution_count": 7,
   "metadata": {},
   "outputs": [
    {
     "name": "stdout",
     "output_type": "stream",
     "text": [
      "OpenAI, Microsoft, partnership, investment, multi-year, multi-billion dollar, independent research, AI, safe, useful, powerful\n"
     ]
    }
   ],
   "source": [
    "response = client.chat.completions.create(\n",
    "    model=CHAT_COMPLETIONS_MODEL,\n",
    "    messages = [{\"role\":\"system\", \"content\":\"You are a helpful assistant. Extract keywords from the corresponding texts below.\"},\n",
    "                {\"role\":\"user\",\"content\": 'Text: \\n\\\n",
    "            We’re happy to announce that OpenAI and Microsoft are extending our partnership.\\\n",
    "            This multi-year, multi-billion dollar investment from Microsoft follows their previous investments \\\n",
    "            in 2019 and 2021, and will allow us to continue our independent research and develop AI that is \\\n",
    "            increasingly safe, useful, and powerful. \\n\\nKeywords:    ',}],\n",
    "        max_tokens=400,)\n",
    "\n",
    "print(response.choices[0].message.content)\n",
    "\n"
   ]
  },
  {
   "cell_type": "code",
   "execution_count": 8,
   "metadata": {},
   "outputs": [
    {
     "name": "stdout",
     "output_type": "stream",
     "text": [
      "OpenAI, Microsoft, partnership, investment, AI, research, independent, safe, useful, powerful\n"
     ]
    }
   ],
   "source": [
    "response = client.chat.completions.create(\n",
    "    model=CHAT_COMPLETIONS_MODEL,\n",
    "    messages = [{\"role\":\"system\", \"content\":\"You are a helpful assistant. Extract keywords from the corresponding texts below.\\n\\n \\\n",
    "                Text: Stripe provides APIs that web developers can use to integrate \\\n",
    "                payment processing into their websites and mobile applications. \\\n",
    "                Keywords: Stripe, payment processing, APIs, web developers, websites, mobile applications \\\n",
    "                ###\\n\\\n",
    "                Text: OpenAI has trained cutting-edge language models that are very good at understanding \\\n",
    "                and generating text. Our API provides access to these models and can be used to solve virtually \\\n",
    "                any task that involves processing language. \\n\\\n",
    "                Keywords: language models, text processing, API.\\n\\n\\\n",
    "                ##W\"},\n",
    "                {\"role\":\"user\",\"content\": '\\n\\\n",
    "                Text: We’re happy to announce that OpenAI and Microsoft are extending our partnership.\\\n",
    "                This multi-year, multi-billion dollar investment from Microsoft follows their previous investments \\\n",
    "                in 2019 and 2021, and will allow us to continue our independent research and develop AI that is \\\n",
    "                increasingly safe, useful, and powerful. \\n\\n\\\n",
    "                Keywords:',}],\n",
    "        max_tokens=400,)\n",
    "\n",
    "print(response.choices[0].message.content)\n",
    "\n"
   ]
  },
  {
   "attachments": {},
   "cell_type": "markdown",
   "metadata": {},
   "source": [
    "# 6. Reduce “fluffy” and imprecise descriptions"
   ]
  },
  {
   "cell_type": "code",
   "execution_count": 9,
   "metadata": {},
   "outputs": [
    {
     "name": "stdout",
     "output_type": "stream",
     "text": [
      "Introducing our latest innovation in car seat comfort and safety. The NextGen Car Seat offers advanced ergonomic design, advanced impact protection, and easy installation. With its adjustable features and high-quality materials, this seat is designed to provide ultimate comfort and safety for every journey.\n"
     ]
    }
   ],
   "source": [
    "response = client.chat.completions.create(\n",
    "    model=CHAT_COMPLETIONS_MODEL,\n",
    "    messages = [{\"role\":\"system\", \"content\":\"You are a helpful assistant.\"},\n",
    "                {\"role\":\"user\",\"content\": 'Write a description for a new product. This product is a new generation of car seat. \\\n",
    "                The description for this product should be fairly short, a few sentences only, and not too much more.',}],\n",
    "        max_tokens=400,)\n",
    "\n",
    "print(response.choices[0].message.content)\n",
    "\n"
   ]
  },
  {
   "cell_type": "code",
   "execution_count": 10,
   "metadata": {},
   "outputs": [
    {
     "name": "stdout",
     "output_type": "stream",
     "text": [
      "Introducing the next evolution in child safety and comfort - the all-new SmartSeat 3000. This innovative car seat takes child safety to the next level with its advanced impact protection system and state-of-the-art materials designed to absorb and disperse energy in the event of a collision. The SmartSeat 3000 also boasts a plush, ergonomic design, providing unrivaled comfort for your little one during long car journeys. Additionally, this next-generation car seat features integrated smart technology, including real-time monitoring of the seat's integrity and the ability to alert the parent or caregiver of any issues via a linked smartphone app. With the SmartSeat 3000, you can have peace of mind knowing that your child is protected and comfortable every time you hit the road.\n"
     ]
    }
   ],
   "source": [
    "response = client.chat.completions.create(\n",
    "    model=CHAT_COMPLETIONS_MODEL,\n",
    "    messages = [{\"role\":\"system\", \"content\":\"You are a helpful assistant.\"},\n",
    "                {\"role\":\"user\",\"content\": 'Write a description for a new product. This product is a new generation of car seat. \\\n",
    "                Use a 3 to 5 sentence paragraph to describe this product.',}],\n",
    "        max_tokens=400,)\n",
    "\n",
    "print(response.choices[0].message.content)\n",
    "\n"
   ]
  },
  {
   "attachments": {},
   "cell_type": "markdown",
   "metadata": {},
   "source": [
    "# 7. Instead of just saying what not to do, say what to do instead"
   ]
  },
  {
   "cell_type": "code",
   "execution_count": 11,
   "metadata": {},
   "outputs": [
    {
     "name": "stdout",
     "output_type": "stream",
     "text": [
      "I understand the frustration. Have you tried resetting your password or using the \"forgot password\" feature?\n"
     ]
    }
   ],
   "source": [
    "response = client.chat.completions.create(\n",
    "    model=CHAT_COMPLETIONS_MODEL,\n",
    "    messages = [{\"role\":\"system\", \"content\":\"You are a helpful assistant.\"},\n",
    "                {\"role\":\"user\",\"content\": 'The following is a conversation between an Agent and a Customer. DO NOT ASK USERNAME OR PASSWORD. DO NOT REPEAT. \\n\\n\\\n",
    "                Customer: I can’t log in to my account.\\n\\\n",
    "                Agent:',}],\n",
    "        max_tokens=400,)\n",
    "\n",
    "print(response.choices[0].message.content)\n"
   ]
  },
  {
   "cell_type": "code",
   "execution_count": 12,
   "metadata": {},
   "outputs": [
    {
     "name": "stdout",
     "output_type": "stream",
     "text": [
      "I understand you're having trouble logging into your account. I recommend reviewing this help article at www.samplewebsite.com/help/faq for tips on troubleshooting login issues. It should provide you with some steps to resolve this problem. If you continue to experience difficulties, please feel free to reach out again, and I can assist you further.\n"
     ]
    }
   ],
   "source": [
    "response = client.chat.completions.create(\n",
    "    model=CHAT_COMPLETIONS_MODEL,\n",
    "    messages = [{\"role\":\"system\", \"content\":\"You are a helpful assistant.\"},\n",
    "                {\"role\":\"user\",\"content\":'The following is a conversation between an Agent and a Customer. The agent will attempt to diagnose the \\\n",
    "                problem and suggest a solution, whilst refraining from asking any questions related to PII. \\\n",
    "                Instead of asking for PII, such as username or password, refer the user to the help \\\n",
    "                article www.samplewebsite.com/help/faq \\n\\n\\\n",
    "                Customer: I can’t log in to my account. \\n\\\n",
    "                Agent:',}],\n",
    "        max_tokens=400,)\n",
    "\n",
    "print(response.choices[0].message.content)\n"
   ]
  },
  {
   "attachments": {},
   "cell_type": "markdown",
   "metadata": {},
   "source": [
    "# 8. Code Generation Specific - Use “leading words” to nudge the model toward a particular pattern"
   ]
  },
  {
   "cell_type": "code",
   "execution_count": 13,
   "metadata": {},
   "outputs": [
    {
     "name": "stdout",
     "output_type": "stream",
     "text": [
      "Here's a simple Python function to achieve this:\n",
      "\n",
      "```python\n",
      "def mile_to_km():\n",
      "    mile = float(input(\"Enter a number in miles: \"))\n",
      "    km = mile * 1.60934\n",
      "    print(f\"{mile} miles is equal to {km} kilometers.\")\n",
      "\n",
      "mile_to_km()\n",
      "```\n",
      "\n",
      "When you run this function, it will prompt you to enter a number in miles, and then it will display the equivalent distance in kilometers.\n"
     ]
    }
   ],
   "source": [
    "response = client.chat.completions.create(\n",
    "    model=CHAT_COMPLETIONS_MODEL,\n",
    "    messages = [{\"role\":\"system\", \"content\":\"You are a helpful assistant.\"},\n",
    "                {\"role\":\"user\",\"content\":'# Write a simple python function that \\n\\\n",
    "                # 1. Ask me for a number in mile\\n\\\n",
    "                # 2. It converts miles to kilometers',}],\n",
    "        max_tokens=400,)\n",
    "\n",
    "print(response.choices[0].message.content)\n"
   ]
  },
  {
   "cell_type": "code",
   "execution_count": 14,
   "metadata": {},
   "outputs": [
    {
     "name": "stdout",
     "output_type": "stream",
     "text": [
      "Sure! Here's a simple Python function that does that for you:\n",
      "\n",
      "```python\n",
      "def convert_miles_to_kilometers():\n",
      "    miles = float(input(\"Enter the number of miles: \"))\n",
      "    kilometers = miles * 1.60934\n",
      "    print(f\"{miles} miles is equal to {kilometers} kilometers.\")\n",
      "\n",
      "convert_miles_to_kilometers()\n",
      "```\n",
      "\n",
      "You can copy this code into a Python file and run it to convert miles to kilometers.\n"
     ]
    }
   ],
   "source": [
    "response = client.chat.completions.create(\n",
    "    model=CHAT_COMPLETIONS_MODEL,\n",
    "    messages = [{\"role\":\"system\", \"content\":\"You are a helpful assistant.\"},\n",
    "                {\"role\":\"user\",\"content\":'# Write a simple python function that \\n\\\n",
    "                # 1. Ask me for a number in mile\\n\\\n",
    "                # 2. It converts miles to kilometers\\n\\\n",
    "                 import ',}],\n",
    "        max_tokens=400,)\n",
    "\n",
    "print(response.choices[0].message.content)\n"
   ]
  },
  {
   "cell_type": "code",
   "execution_count": null,
   "metadata": {},
   "outputs": [],
   "source": []
  }
 ],
 "metadata": {
  "kernelspec": {
   "display_name": "base",
   "language": "python",
   "name": "python3"
  },
  "language_info": {
   "codemirror_mode": {
    "name": "ipython",
    "version": 3
   },
   "file_extension": ".py",
   "mimetype": "text/x-python",
   "name": "python",
   "nbconvert_exporter": "python",
   "pygments_lexer": "ipython3",
   "version": "3.11.5"
  },
  "orig_nbformat": 4,
  "vscode": {
   "interpreter": {
    "hash": "0ac0e7d245f35f05656c1dae54880a0902b050693b3e66826fb0a7033a44f77d"
   }
  }
 },
 "nbformat": 4,
 "nbformat_minor": 2
}
