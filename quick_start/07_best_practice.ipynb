{
 "cells": [
  {
   "attachments": {},
   "cell_type": "markdown",
   "metadata": {},
   "source": [
    "# Best Practices for Prompt Engineering\n",
    "\n",
    "source: https://help.openai.com/en/articles/6654000-best-practices-for-prompt-engineering-with-openai-api\n"
   ]
  },
  {
   "cell_type": "code",
   "execution_count": 1,
   "metadata": {},
   "outputs": [],
   "source": [
    "import os\n",
    "import openai\n",
    "from dotenv import load_dotenv\n",
    "load_dotenv()\n",
    "openai.api_type = \"azure\"\n",
    "openai.api_version = \"2022-12-01\"\n",
    "\n",
    "API_KEY = os.getenv(\"OPENAI_API_KEY\",\"\").strip()\n",
    "assert API_KEY, \"ERROR: Azure OpenAI Key is missing\"\n",
    "openai.api_key = API_KEY\n",
    "\n",
    "RESOURCE_ENDPOINT = os.getenv(\"OPENAI_API_BASE\",\"\").strip()\n",
    "assert RESOURCE_ENDPOINT, \"ERROR: Azure OpenAI Endpoint is missing\"\n",
    "assert \"openai.azure.com\" in RESOURCE_ENDPOINT.lower(), \"ERROR: Azure OpenAI Endpoint should be in the form: \\n\\n\\t<your unique endpoint identifier>.openai.azure.com\"\n",
    "openai.api_base = RESOURCE_ENDPOINT"
   ]
  },
  {
   "cell_type": "code",
   "execution_count": 2,
   "metadata": {},
   "outputs": [
    {
     "name": "stderr",
     "output_type": "stream",
     "text": [
      "Incomplete environment configuration. These variables are set: AZURE_USERNAME, AZURE_PASSWORD\n"
     ]
    }
   ],
   "source": [
    "from utils import list_oai_models, popup_choice\n",
    "\n",
    "subscription_id = os.getenv(\"mysubscription\")\n",
    "resource_group = os.getenv(\"resource_group\")\n",
    "azure_openai_service = os.getenv(\"azure_openai_instance\")\n",
    "\n",
    "df = list_oai_models(\n",
    "    subscription_id=subscription_id,\n",
    "    resource_group=resource_group,\n",
    "    cognitive_service_name=azure_openai_service\n",
    ")"
   ]
  },
  {
   "attachments": {},
   "cell_type": "markdown",
   "metadata": {},
   "source": [
    "# 1. Use the latest model\n",
    "\n",
    "Use the latest model for best results."
   ]
  },
  {
   "attachments": {},
   "cell_type": "markdown",
   "metadata": {},
   "source": [
    "# 2. Put instructions at the begining of the prompt and use ### or \"\"\" to separate the instruction and context"
   ]
  },
  {
   "cell_type": "code",
   "execution_count": 3,
   "metadata": {},
   "outputs": [
    {
     "name": "stderr",
     "output_type": "stream",
     "text": [
      "Incomplete environment configuration. These variables are set: AZURE_USERNAME, AZURE_PASSWORD\n"
     ]
    },
    {
     "name": "stdout",
     "output_type": "stream",
     "text": [
      "event=Ok\n",
      "\n",
      "\n",
      "• OpenAI and Microsoft are extending their partnership with a multi-year, multi-billion dollar investment. \n",
      "• The investment will allow OpenAI to continue independent research and development to make AI more safe, useful, and powerful. \n",
      "• OpenAI is a capped-profit company governed by a non-profit in order to raise capital without sacrificing core beliefs. \n",
      "• Microsoft shares OpenAI's vision and values and this partnership is essential to their progress.\n"
     ]
    }
   ],
   "source": [
    "response = openai.Completion.create(\n",
    "            engine=popup_choice(),\n",
    "            prompt='Summarize the text below as a bullet point list of the most important points. \\n\\n \\\n",
    "                We’re happy to announce that OpenAI and Microsoft are extending our partnership.\\\n",
    "                This multi-year, multi-billion dollar investment from Microsoft follows their previous investments \\\n",
    "                in 2019 and 2021, and will allow us to continue our independent research and develop AI that is \\\n",
    "                increasingly safe, useful, and powerful. \\n\\n \\\n",
    "                In pursuit of our mission to ensure advanced AI benefits all of humanity, OpenAI remains a \\\n",
    "                capped-profit company and is governed by the OpenAI non-profit. This structure allows us to \\\n",
    "                raise the capital we need to fulfill our mission without sacrificing our core beliefs about \\\n",
    "                broadly sharing benefits and the need to prioritize safety. \\\n",
    "                Microsoft shares this vision and our values, and our partnership is instrumental to our progress. ',\n",
    "            max_tokens=400,\n",
    "        )\n",
    "\n",
    "print(response['choices'][0]['text'])"
   ]
  },
  {
   "cell_type": "code",
   "execution_count": 4,
   "metadata": {},
   "outputs": [
    {
     "name": "stderr",
     "output_type": "stream",
     "text": [
      "Incomplete environment configuration. These variables are set: AZURE_USERNAME, AZURE_PASSWORD\n"
     ]
    },
    {
     "name": "stdout",
     "output_type": "stream",
     "text": [
      "event=Ok\n",
      "\n",
      "\n",
      "- OpenAI and Microsoft are extending their partnership\n",
      "- Microsoft is investing multi-years and multi-billions into OpenAI\n",
      "- This will allow OpenAI to continue its independent research\n",
      "- OpenAI is a capped-profit company governed by a non-profit\n",
      "- Microsoft shares OpenAI's vision and values\n"
     ]
    }
   ],
   "source": [
    "response = openai.Completion.create(\n",
    "            engine=popup_choice(),\n",
    "            prompt='Summarize the text below as a bullet point list of the most important points. \\n\\n \\\n",
    "                \"\"\"\\\n",
    "                We’re happy to announce that OpenAI and Microsoft are extending our partnership.\\\n",
    "                This multi-year, multi-billion dollar investment from Microsoft follows their previous investments \\\n",
    "                in 2019 and 2021, and will allow us to continue our independent research and develop AI that is \\\n",
    "                increasingly safe, useful, and powerful. \\n\\n \\\n",
    "                In pursuit of our mission to ensure advanced AI benefits all of humanity, OpenAI remains a \\\n",
    "                capped-profit company and is governed by the OpenAI non-profit. This structure allows us to \\\n",
    "                raise the capital we need to fulfill our mission without sacrificing our core beliefs about \\\n",
    "                broadly sharing benefits and the need to prioritize safety. \\\n",
    "                Microsoft shares this vision and our values, and our partnership is instrumental to our progress. \\\n",
    "                \"\"\"\\\n",
    "                ',\n",
    "            max_tokens=400,\n",
    "        )\n",
    "\n",
    "print(response['choices'][0]['text'])"
   ]
  },
  {
   "cell_type": "markdown",
   "metadata": {},
   "source": [
    "# 3. Be specific, descriptive and as detailed as possible about the desired context, outcome, length, format, style, etc"
   ]
  },
  {
   "cell_type": "code",
   "execution_count": 5,
   "metadata": {},
   "outputs": [
    {
     "name": "stderr",
     "output_type": "stream",
     "text": [
      "Incomplete environment configuration. These variables are set: AZURE_USERNAME, AZURE_PASSWORD\n"
     ]
    },
    {
     "name": "stdout",
     "output_type": "stream",
     "text": [
      "event=Ok\n",
      "\n",
      "\n",
      "OpenAI is a daring research lab\n",
      "dedicated to making artificial intelligence\n",
      "more like us.\n",
      "\n",
      "They're laying the groundwork\n",
      "for a future where machines\n",
      "can be infused\n",
      "with our own creativity\n",
      "and empathy.\n",
      "\n",
      "OpenAI is working on ways\n",
      "to make machines smarter\n",
      "than humans.\n",
      "\n",
      "They're trying to build\n",
      "the machines that can think for themselves.\n",
      "\n",
      "Their work is crucial\n",
      "for our safety and prosperity.\n",
      "\n",
      "Thank you, OpenAI,\n",
      "for your tireless devotion\n",
      "to making AI better,\n",
      "more humanlike,\n",
      "and more life-saving.\n"
     ]
    }
   ],
   "source": [
    "response = openai.Completion.create(\n",
    "            engine=popup_choice(),\n",
    "            prompt='Write a poem about OpenAI.',\n",
    "            max_tokens=400,\n",
    "            n=1\n",
    "        )\n",
    "\n",
    "print(response['choices'][0]['text'])"
   ]
  },
  {
   "cell_type": "code",
   "execution_count": 6,
   "metadata": {},
   "outputs": [
    {
     "name": "stderr",
     "output_type": "stream",
     "text": [
      "Incomplete environment configuration. These variables are set: AZURE_USERNAME, AZURE_PASSWORD\n"
     ]
    },
    {
     "name": "stdout",
     "output_type": "stream",
     "text": [
      "event=Ok\n",
      "\n",
      "\n",
      "The future spreads wide,                                              \n",
      "Unlock it with code and AI,\n",
      "A marvel beyond compare,\n",
      "OpenAI soar ever higher.\n",
      "\n",
      "Robust and vibrant,             \n",
      "DALL-E stands tall,\n",
      "Unleashing wonders on us all,\n",
      "No need for worry at all. \n",
      "\n",
      "Faster and smarter,\n",
      "Progressing forever more,\n",
      "OpenAI opens the door,\n",
      "To the future and so much more.\n"
     ]
    }
   ],
   "source": [
    "response = openai.Completion.create(\n",
    "            engine=popup_choice(),\n",
    "            prompt='Write a short inspiring poem about OpenAI, \\\n",
    "                focusing on the recent DALL-E product launch in the style of Ernest Hemingway',\n",
    "            max_tokens=400,\n",
    "        )\n",
    "\n",
    "print(response['choices'][0]['text'])"
   ]
  },
  {
   "attachments": {},
   "cell_type": "markdown",
   "metadata": {},
   "source": [
    "# 4. Articulate the desired output format through examples (example 1, example 2). "
   ]
  },
  {
   "cell_type": "code",
   "execution_count": 7,
   "metadata": {},
   "outputs": [
    {
     "name": "stderr",
     "output_type": "stream",
     "text": [
      "Incomplete environment configuration. These variables are set: AZURE_USERNAME, AZURE_PASSWORD\n"
     ]
    },
    {
     "name": "stdout",
     "output_type": "stream",
     "text": [
      "event=Ok\n",
      "\n",
      "\n",
      "1. {\"text\": \"OpenAI\", \"start\": 28, \"end\": 34}\n",
      "2. {\"text\": \"Microsoft\", \"start\": 42, \"end\": 50}\n",
      "3. {\"text\": \"2019\", \"start\": 73, \"end\": 77}\n",
      "4. {\"text\": \"2021\", \"start\": 84, \"end\": 88}\n"
     ]
    }
   ],
   "source": [
    "response = openai.Completion.create(\n",
    "            engine=popup_choice(),\n",
    "            prompt='Extract the company names then years in the following text below and output start index and end index of each entity.\\\n",
    "                Generate output as {\"text\": \"OpenAI\", \"start\": 28, \"end\": 34} \\\n",
    "                ###\\\n",
    "                We’re happy to announce that OpenAI and Microsoft are extending our partnership.\\\n",
    "                This multi-year, multi-billion dollar investment from Microsoft follows their previous investments \\\n",
    "                in 2019 and 2021, and will allow us to continue our independent research and develop AI that is \\\n",
    "                increasingly safe, useful, and powerful. \\n\\n \\\n",
    "                ###\\\n",
    "                ',\n",
    "            max_tokens=400,\n",
    "            n=1\n",
    "        )\n",
    "\n",
    "print(response['choices'][0]['text'])"
   ]
  },
  {
   "cell_type": "code",
   "execution_count": 8,
   "metadata": {},
   "outputs": [
    {
     "name": "stderr",
     "output_type": "stream",
     "text": [
      "Incomplete environment configuration. These variables are set: AZURE_USERNAME, AZURE_PASSWORD\n"
     ]
    },
    {
     "name": "stdout",
     "output_type": "stream",
     "text": [
      "event=Ok\n",
      " Company names: OpenAI, Microsoft                 Years: 2019, 2021                 Specific topics: AI, independent research, safety, usefulness, power                 General themes: investment, partnership\n"
     ]
    }
   ],
   "source": [
    "response = openai.Completion.create(\n",
    "            engine=popup_choice(),\n",
    "            prompt='Extract the entities mentioned in the text below. \\\n",
    "                Extract the important entities mentioned in the text below. \\\n",
    "                First extract all company names, then extract all years, \\\n",
    "                then extract specific topics which fit the content and finally extract general overarching themes\\n\\n \\\n",
    "                Desired format: \\\n",
    "                Company names: <comma_separated_list_of_company_names> \\\n",
    "                Years: -||- \\\n",
    "                Specific topics: -||- \\\n",
    "                General themes: -||- \\\n",
    "                \"\"\"\\\n",
    "                We’re happy to announce that OpenAI and Microsoft are extending our partnership.\\\n",
    "                This multi-year, multi-billion dollar investment from Microsoft follows their previous investments \\\n",
    "                in 2019 and 2021, and will allow us to continue our independent research and develop AI that is \\\n",
    "                increasingly safe, useful, and powerful. \\n\\n \\\n",
    "                \"\"\"\\\n",
    "                ',\n",
    "            max_tokens=400,\n",
    "            n=1\n",
    "        )\n",
    "\n",
    "print(response['choices'][0]['text'])"
   ]
  },
  {
   "attachments": {},
   "cell_type": "markdown",
   "metadata": {},
   "source": [
    "# 5. Start with zero-shot, then few-shot (example), neither of them worked, then fine-tune "
   ]
  },
  {
   "cell_type": "code",
   "execution_count": 9,
   "metadata": {},
   "outputs": [
    {
     "name": "stderr",
     "output_type": "stream",
     "text": [
      "Incomplete environment configuration. These variables are set: AZURE_USERNAME, AZURE_PASSWORD\n"
     ]
    },
    {
     "name": "stdout",
     "output_type": "stream",
     "text": [
      "event=Ok\n",
      "\n",
      "OpenAI, Microsoft, investment, research, develop, AI\n"
     ]
    }
   ],
   "source": [
    "response = openai.Completion.create(\n",
    "            engine=popup_choice(),\n",
    "            prompt='Extract keywords from the below text. Text: \\n\\\n",
    "            We’re happy to announce that OpenAI and Microsoft are extending our partnership.\\\n",
    "            This multi-year, multi-billion dollar investment from Microsoft follows their previous investments \\\n",
    "            in 2019 and 2021, and will allow us to continue our independent research and develop AI that is \\\n",
    "            increasingly safe, useful, and powerful. \\n\\nKeywords:    ',\n",
    "            max_tokens=400,\n",
    "            n=1\n",
    "        )\n",
    "\n",
    "print(response['choices'][0]['text'])"
   ]
  },
  {
   "cell_type": "code",
   "execution_count": 10,
   "metadata": {},
   "outputs": [
    {
     "name": "stderr",
     "output_type": "stream",
     "text": [
      "Incomplete environment configuration. These variables are set: AZURE_USERNAME, AZURE_PASSWORD\n"
     ]
    },
    {
     "name": "stdout",
     "output_type": "stream",
     "text": [
      "event=Ok\n",
      " OpenAI, Microsoft, partnership, investment, AI, research.\n"
     ]
    }
   ],
   "source": [
    "response = openai.Completion.create(\n",
    "            engine=popup_choice(),\n",
    "            prompt='Extract keywords from the corresponding texts below.\\n\\n \\\n",
    "                Text 1: Stripe provides APIs that web developers can use to integrate \\\n",
    "                payment processing into their websites and mobile applications. \\\n",
    "                Keywords 1: Stripe, payment processing, APIs, web developers, websites, mobile applications \\\n",
    "                ##\\n\\\n",
    "                Text 2: OpenAI has trained cutting-edge language models that are very good at understanding \\\n",
    "                and generating text. Our API provides access to these models and can be used to solve virtually \\\n",
    "                any task that involves processing language. \\n\\\n",
    "                Keywords 2: OpenAI, language models, text processing, API.\\n\\n\\\n",
    "                ##\\n\\\n",
    "                Text 3: We’re happy to announce that OpenAI and Microsoft are extending our partnership.\\\n",
    "                This multi-year, multi-billion dollar investment from Microsoft follows their previous investments \\\n",
    "                in 2019 and 2021, and will allow us to continue our independent research and develop AI that is \\\n",
    "                increasingly safe, useful, and powerful. \\n\\n\\\n",
    "                Keywords 3:',\n",
    "            max_tokens=400,\n",
    "            n=1\n",
    "        )\n",
    "\n",
    "print(response['choices'][0]['text'])"
   ]
  },
  {
   "attachments": {},
   "cell_type": "markdown",
   "metadata": {},
   "source": [
    "# 6. Reduce “fluffy” and imprecise descriptions"
   ]
  },
  {
   "cell_type": "code",
   "execution_count": 11,
   "metadata": {},
   "outputs": [
    {
     "name": "stderr",
     "output_type": "stream",
     "text": [
      "Incomplete environment configuration. These variables are set: AZURE_USERNAME, AZURE_PASSWORD\n"
     ]
    },
    {
     "name": "stdout",
     "output_type": "stream",
     "text": [
      "event=Ok\n",
      "\n",
      "\n",
      "This new generation car seat has been designed for ultimate comfort and safety. Featuring a durable and comfortable construction, this seat will keep your child comfortable and secure while on the road.\n"
     ]
    }
   ],
   "source": [
    "response = openai.Completion.create(\n",
    "            engine=popup_choice(),\n",
    "            prompt='Write a description for a new product. This product is a new generation of car seat. \\\n",
    "                The description for this product should be fairly short, a few sentences only, and not too much more.',\n",
    "            max_tokens=400,\n",
    "            n=1\n",
    "        )\n",
    "\n",
    "print(response['choices'][0]['text'])"
   ]
  },
  {
   "cell_type": "code",
   "execution_count": 12,
   "metadata": {},
   "outputs": [
    {
     "name": "stderr",
     "output_type": "stream",
     "text": [
      "Incomplete environment configuration. These variables are set: AZURE_USERNAME, AZURE_PASSWORD\n"
     ]
    },
    {
     "name": "stdout",
     "output_type": "stream",
     "text": [
      "event=Ok\n",
      "\n",
      "\n",
      "If you're looking for a new car seat that will provide your child with maximum comfort and safety, look no further than our new generation car seat. With a 5-point harness and side impact protection, this seat is perfect for keeping your little one safe on long car rides. The contoured seat and headrest provide support and comfort, while the easy-to-clean fabric is ideal for messy toddlers.\n"
     ]
    }
   ],
   "source": [
    "response = openai.Completion.create(\n",
    "            engine=popup_choice(),\n",
    "            prompt='Write a description for a new product. This product is a new generation of car seat. \\\n",
    "                Use a 3 to 5 sentence paragraph to describe this product.',\n",
    "            max_tokens=400,\n",
    "            n=1\n",
    "        )\n",
    "\n",
    "print(response['choices'][0]['text'])"
   ]
  },
  {
   "attachments": {},
   "cell_type": "markdown",
   "metadata": {},
   "source": [
    "# 7. Instead of just saying what not to do, say what to do instead"
   ]
  },
  {
   "cell_type": "code",
   "execution_count": 13,
   "metadata": {},
   "outputs": [
    {
     "name": "stderr",
     "output_type": "stream",
     "text": [
      "Incomplete environment configuration. These variables are set: AZURE_USERNAME, AZURE_PASSWORD\n"
     ]
    },
    {
     "name": "stdout",
     "output_type": "stream",
     "text": [
      "event=Ok\n",
      " I can certainly help you out with that, can you tell me what type of account you're having a problem with?\n"
     ]
    }
   ],
   "source": [
    "response = openai.Completion.create(\n",
    "            engine=popup_choice(),\n",
    "            prompt='The following is a conversation between an Agent and a Customer. DO NOT ASK USERNAME OR PASSWORD. DO NOT REPEAT. \\n\\n\\\n",
    "                Customer: I can’t log in to my account.\\n\\\n",
    "                Agent:',\n",
    "            max_tokens=400,\n",
    "            n=1\n",
    "        )\n",
    "\n",
    "print(response['choices'][0]['text'])"
   ]
  },
  {
   "cell_type": "code",
   "execution_count": 14,
   "metadata": {},
   "outputs": [
    {
     "name": "stderr",
     "output_type": "stream",
     "text": [
      "Incomplete environment configuration. These variables are set: AZURE_USERNAME, AZURE_PASSWORD\n"
     ]
    },
    {
     "name": "stdout",
     "output_type": "stream",
     "text": [
      "event=Ok\n",
      " I apologize for the inconvenience. Have you tried resetting your password? You can reset your password at our website - www.samplewebsite.com/help/faq. Please let me know if you need additional assistance.\n"
     ]
    }
   ],
   "source": [
    "response = openai.Completion.create(\n",
    "            engine=popup_choice(),\n",
    "            prompt='The following is a conversation between an Agent and a Customer. The agent will attempt to diagnose the \\\n",
    "                problem and suggest a solution, whilst refraining from asking any questions related to PII. \\\n",
    "                Instead of asking for PII, such as username or password, refer the user to the help \\\n",
    "                article www.samplewebsite.com/help/faq \\n\\n\\\n",
    "                Customer: I can’t log in to my account. \\n\\\n",
    "                Agent:',\n",
    "            max_tokens=400,\n",
    "            n=1\n",
    "        )\n",
    "\n",
    "print(response['choices'][0]['text'])"
   ]
  },
  {
   "attachments": {},
   "cell_type": "markdown",
   "metadata": {},
   "source": [
    "# 8. Code Generation Specific - Use “leading words” to nudge the model toward a particular pattern"
   ]
  },
  {
   "cell_type": "code",
   "execution_count": 6,
   "metadata": {},
   "outputs": [
    {
     "name": "stdout",
     "output_type": "stream",
     "text": [
      " miles\n",
      "\n",
      "\n",
      "def convert_miles_to_kms(miles=10):\n",
      "    \"\"\"This function converts miles to kilometers\"\"\"\n",
      "    kilometers = 0.62137 * miles\n",
      "    print(f\"{miles} miles is equal to {kilometers:.2f} kilometers\")\n",
      "\n",
      "# Ask for input\n",
      "miles = int(input(\"Please enter a valued in miles: \"))\n",
      "\n",
      "# Call function\n",
      "convert_miles_to_kms(miles)\n"
     ]
    }
   ],
   "source": [
    "response = openai.Completion.create(\n",
    "            engine=df.display_name[1],\n",
    "            prompt='# Write a simple python function that \\n\\\n",
    "                # 1. Ask me for a number in mile\\n\\\n",
    "                # 2. It converts miles to kilometers\\n\\\n",
    "                # 3. Add default parameter of 10',\n",
    "            max_tokens=400,\n",
    "        )\n",
    "\n",
    "try:\n",
    "    print(response['choices'][0]['text'])\n",
    "    #exec(response['choices'][0]['text'])\n",
    "except Exception as e:\n",
    "    print(e)\n"
   ]
  },
  {
   "cell_type": "code",
   "execution_count": 7,
   "metadata": {},
   "outputs": [
    {
     "name": "stderr",
     "output_type": "stream",
     "text": [
      "Incomplete environment configuration. These variables are set: AZURE_USERNAME, AZURE_PASSWORD\n"
     ]
    },
    {
     "name": "stdout",
     "output_type": "stream",
     "text": [
      "event=Ok\n",
      " math\n",
      "\n",
      "def mile_to_km():\n",
      "    mile = int(input(\"Enter a number in mile: \"))\n",
      "    km = mile * 1.609344\n",
      "    round_km = round(km,2)\n",
      "    print(\"The number in kilometer is \", round_km, \"km\")\n",
      "\n",
      "mile_to_km()\n"
     ]
    }
   ],
   "source": [
    "response = openai.Completion.create(\n",
    "            engine=popup_choice(),\n",
    "            prompt='# Write a simple python function that \\n\\\n",
    "                # 1. Ask me for a number in mile\\n\\\n",
    "                # 2. It converts miles to kilometers\\n\\n\\\n",
    "                import ',\n",
    "            max_tokens=400,\n",
    "        )\n",
    "\n",
    "print(response['choices'][0]['text'])"
   ]
  },
  {
   "cell_type": "code",
   "execution_count": null,
   "metadata": {},
   "outputs": [],
   "source": []
  }
 ],
 "metadata": {
  "kernelspec": {
   "display_name": "base",
   "language": "python",
   "name": "python3"
  },
  "language_info": {
   "codemirror_mode": {
    "name": "ipython",
    "version": 3
   },
   "file_extension": ".py",
   "mimetype": "text/x-python",
   "name": "python",
   "nbconvert_exporter": "python",
   "pygments_lexer": "ipython3",
   "version": "3.10.10"
  },
  "orig_nbformat": 4,
  "vscode": {
   "interpreter": {
    "hash": "0ac0e7d245f35f05656c1dae54880a0902b050693b3e66826fb0a7033a44f77d"
   }
  }
 },
 "nbformat": 4,
 "nbformat_minor": 2
}
