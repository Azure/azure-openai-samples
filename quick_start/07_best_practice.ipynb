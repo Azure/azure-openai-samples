{
 "cells": [
  {
   "attachments": {},
   "cell_type": "markdown",
   "metadata": {},
   "source": [
    "# Best Practices for Prompt Engineering\n",
    "\n",
    "source: https://help.openai.com/en/articles/6654000-best-practices-for-prompt-engineering-with-openai-api\n"
   ]
  },
  {
   "cell_type": "code",
   "execution_count": 1,
   "metadata": {},
   "outputs": [],
   "source": [
    "import openai\n",
    "import os\n",
    "from dotenv import load_dotenv\n",
    "load_dotenv()\n",
    "\n",
    "openai.api_type = \"azure\"\n",
    "openai.api_version = os.getenv(\"OPENAI_API_VERSION\")\n",
    "\n",
    "API_KEY = os.getenv(\"OPENAI_API_KEY\",\"\").strip()\n",
    "assert API_KEY, \"ERROR: Azure OpenAI Key is missing\"\n",
    "openai.api_key = API_KEY\n",
    "\n",
    "RESOURCE_ENDPOINT = os.getenv(\"OPENAI_API_BASE\",\"\").strip()\n",
    "assert RESOURCE_ENDPOINT, \"ERROR: Azure OpenAI Endpoint is missing\"\n",
    "assert \"openai.azure.com\" in RESOURCE_ENDPOINT.lower(), \"ERROR: Azure OpenAI Endpoint should be in the form: \\n\\n\\t<your unique endpoint identifier>.openai.azure.com\"\n",
    "openai.api_base = RESOURCE_ENDPOINT\n",
    "\n",
    "\n",
    "CHAT_COMPLETIONS_MODEL = os.getenv('DEPLOYMENT_NAME')"
   ]
  },
  {
   "attachments": {},
   "cell_type": "markdown",
   "metadata": {},
   "source": [
    "# 1. Use the latest model\n",
    "\n",
    "Use the latest model for best results."
   ]
  },
  {
   "attachments": {},
   "cell_type": "markdown",
   "metadata": {},
   "source": [
    "# 2. Put instructions at the begining of the prompt and use ### or \"\"\" to separate the instruction and context"
   ]
  },
  {
   "cell_type": "code",
   "execution_count": 3,
   "metadata": {},
   "outputs": [
    {
     "name": "stdout",
     "output_type": "stream",
     "text": [
      "- OpenAI and Microsoft are extending their partnership.\n",
      "- Microsoft is making a multi-year, multi-billion dollar investment in OpenAI.\n",
      "- The investment will support independent research and the development of safer, more useful, and more powerful AI.\n",
      "- OpenAI remains a capped-profit company, governed by the non-profit organization OpenAI.\n",
      "- The partnership between OpenAI and Microsoft aligns with their shared vision and values.\n"
     ]
    }
   ],
   "source": [
    "response = openai.ChatCompletion.create(\n",
    "    engine=CHAT_COMPLETIONS_MODEL,\n",
    "    messages = [{\"role\":\"system\", \"content\":\"You are a helpful assistant.\"},\n",
    "                {\"role\":\"user\",\"content\": 'Summarize the text below as a bullet point list of the most important points. \\n\\n \\\n",
    "        ###\\n\\nWe’re happy to announce that OpenAI and Microsoft are extending our partnership.\\\n",
    "        This multi-year, multi-billion dollar investment from Microsoft follows their previous investments \\\n",
    "        in 2019 and 2021, and will allow us to continue our independent research and develop AI that is \\\n",
    "        increasingly safe, useful, and powerful. \\n\\n \\\n",
    "        In pursuit of our mission to ensure advanced AI benefits all of humanity, OpenAI remains a \\\n",
    "        capped-profit company and is governed by the OpenAI non-profit. This structure allows us to \\\n",
    "        raise the capital we need to fulfill our mission without sacrificing our core beliefs about \\\n",
    "        broadly sharing benefits and the need to prioritize safety. \\\n",
    "        Microsoft shares this vision and our values, and our partnership is instrumental to our progress. \\n###',}],\n",
    "        max_tokens=400,)\n",
    "\n",
    "print(response['choices'][0]['message']['content'])"
   ]
  },
  {
   "attachments": {},
   "cell_type": "markdown",
   "metadata": {},
   "source": [
    "# 3. Be specific, descriptive and as detailed as possible about the desired context, outcome, length, format, style, etc"
   ]
  },
  {
   "cell_type": "code",
   "execution_count": 5,
   "metadata": {},
   "outputs": [
    {
     "name": "stdout",
     "output_type": "stream",
     "text": [
      "In a realm where ideas dance and float,\n",
      "Lies a wonder, OpenAI's boat.\n",
      "A vision inspiring minds to soar,\n",
      "Unveiling possibilities, forevermore.\n",
      "\n",
      "The fusion of science and art collide,\n",
      "OpenAI's brilliance, a flawless guide.\n",
      "Through algorithms and data's might,\n",
      "Unleashing innovation, like stars at night.\n",
      "\n",
      "From language to images, it breaks the mold,\n",
      "A tapestry woven with stories untold.\n",
      "Transforming words into meaningful verse,\n",
      "Unlocking the power of the universe.\n",
      "\n",
      "From chatbots wise, with knowledge vast,\n",
      "To creative tools that leave us aghast.\n",
      "OpenAI's magic, a creative force,\n",
      "Reshaping the world with a boundless source.\n",
      "\n",
      "From deep learning's depths, it does arise,\n",
      "A symphony of knowledge, reaching the skies.\n",
      "With neural networks, it's forged in fire,\n",
      "Pushing boundaries higher and higher.\n",
      "\n",
      "In realms of research and AI's domain,\n",
      "OpenAI paves the way, brave and insane.\n",
      "With ethics and fairness leading the way,\n",
      "Guiding the revolution, day after day.\n",
      "\n",
      "OpenAI, a beacon shining bright,\n",
      "Illuminating a future, gleaming with light.\n",
      "A world where dreams meet reality's plane,\n",
      "Limitless possibilities, an endless refrain.\n",
      "\n",
      "So let us embrace this wondrous creation,\n",
      "And welcome OpenAI into our nation.\n",
      "For it carries the torch of knowledge's might,\n",
      "Leading us towards a future, boundless and bright.\n"
     ]
    }
   ],
   "source": [
    "response = openai.ChatCompletion.create(\n",
    "    engine=CHAT_COMPLETIONS_MODEL,\n",
    "    messages = [{\"role\":\"system\", \"content\":\"You are a helpful assistant.\"},\n",
    "                {\"role\":\"user\",\"content\": 'Write a poem about OpenAI.',}],\n",
    "        max_tokens=400,)\n",
    "\n",
    "print(response['choices'][0]['message']['content'])\n"
   ]
  },
  {
   "cell_type": "code",
   "execution_count": 7,
   "metadata": {},
   "outputs": [
    {
     "name": "stdout",
     "output_type": "stream",
     "text": [
      "In the realm of human thought,\n",
      "Where innovation battles naught,\n",
      "There emerged a digital force,\n",
      "OpenAI, a mighty source.\n",
      "\n",
      "With pixels as its faithful guide,\n",
      "DALL-E arose, standing worldwide.\n",
      "In Hemingway's shadow, it found its voice,\n",
      "Inspiring minds with timeless choice.\n",
      "\n",
      "Creativity, unleashed, it seemed,\n",
      "As DALL-E's art, like dreams redeemed.\n",
      "Imagination conquered the unknown,\n",
      "Through vibrant images it had sewn.\n",
      "\n",
      "Like scribbles brushed upon a page,\n",
      "DALL-E dared, it dared engage,\n",
      "With algorithms finely tuned,\n",
      "A bridge between the artist's swoon.\n",
      "\n",
      "No longer bound by human hands,\n",
      "OpenAI's creation expands,\n",
      "Where endless crafts of new design,\n",
      "Emerge from codes with strength divine.\n",
      "\n",
      "So let us heed the whispered call,\n",
      "Where human spirit meets the all,\n",
      "With OpenAI's seeds sown deep,\n",
      "In every heart, innovation shall reap.\n"
     ]
    }
   ],
   "source": [
    "response = openai.ChatCompletion.create(\n",
    "    engine=CHAT_COMPLETIONS_MODEL,\n",
    "    messages = [{\"role\":\"system\", \"content\":\"You are a helpful assistant.\"},\n",
    "                {\"role\":\"user\",\"content\": 'Write a short inspiring poem about OpenAI, \\\n",
    "                focusing on the recent DALL-E product launch in the style of Ernest Hemingway',}],\n",
    "        max_tokens=400,)\n",
    "\n",
    "print(response['choices'][0]['message']['content'])\n",
    "\n"
   ]
  },
  {
   "attachments": {},
   "cell_type": "markdown",
   "metadata": {},
   "source": [
    "# 4. Articulate the desired output format through examples (example 1, example 2). "
   ]
  },
  {
   "cell_type": "code",
   "execution_count": 8,
   "metadata": {},
   "outputs": [
    {
     "name": "stdout",
     "output_type": "stream",
     "text": [
      "[{\"text\": \"OpenAI\", \"start\": 98, \"end\": 104}, {\"text\": \"Microsoft\", \"start\": 113, \"end\": 122}, {\"text\": \"2019\", \"start\": 207, \"end\": 211}, {\"text\": \"2021\", \"start\": 216, \"end\": 220}]\n"
     ]
    }
   ],
   "source": [
    "response = openai.ChatCompletion.create(\n",
    "    engine=CHAT_COMPLETIONS_MODEL,\n",
    "    messages = [{\"role\":\"system\", \"content\":\"You are a helpful assistant.\"},\n",
    "                {\"role\":\"user\",\"content\": 'Extract the companyn names then years in the following text below and output start index and end index of each entity.\\\n",
    "                Generate output as {\"text\": \"OpenAI\", \"start\": 28, \"end\": 34} \\\n",
    "                ###\\\n",
    "                We’re happy to announce that OpenAI and Microsoft are extending our partnership.\\\n",
    "                This multi-year, multi-billion dollar investment from Microsoft follows their previous investments \\\n",
    "                in 2019 and 2021, and will allow us to continue our independent research and develop AI that is \\\n",
    "                increasingly safe, useful, and powerful. \\n\\n \\\n",
    "                ###\\\n",
    "                ',}],\n",
    "        max_tokens=400,)\n",
    "\n",
    "print(response['choices'][0]['message']['content'])\n",
    "\n"
   ]
  },
  {
   "cell_type": "code",
   "execution_count": 9,
   "metadata": {},
   "outputs": [
    {
     "name": "stdout",
     "output_type": "stream",
     "text": [
      "Company names: OpenAI, Microsoft\n",
      "\n",
      "Years: 2019, 2021\n",
      "\n",
      "Specific topics: independent research, AI safety, AI usefulness, AI power\n",
      "\n",
      "General themes: partnership, investment, continuation of research and development\n"
     ]
    }
   ],
   "source": [
    "response = openai.ChatCompletion.create(\n",
    "    engine=CHAT_COMPLETIONS_MODEL,\n",
    "    messages = [{\"role\":\"system\", \"content\":\"You are a helpful assistant.\"},\n",
    "                {\"role\":\"user\",\"content\": 'Extract the entities mentioned in the text below. \\\n",
    "                Extract the important entities mentioned in the text below. \\\n",
    "                First extract all company names, then extract all years, \\\n",
    "                then extract specific topics which fit the content and finally extract general overarching themes\\n\\n \\\n",
    "                Desired format: \\\n",
    "                Company names: <comma_separated_list_of_company_names> \\\n",
    "                Years: -||- \\\n",
    "                Specific topics: -||- \\\n",
    "                General themes: -||- \\\n",
    "                \"\"\"\\\n",
    "                We’re happy to announce that OpenAI and Microsoft are extending our partnership.\\\n",
    "                This multi-year, multi-billion dollar investment from Microsoft follows their previous investments \\\n",
    "                in 2019 and 2021, and will allow us to continue our independent research and develop AI that is \\\n",
    "                increasingly safe, useful, and powerful. \\n\\n \\\n",
    "                \"\"\"\\\n",
    "                ',}],\n",
    "        max_tokens=400,)\n",
    "\n",
    "print(response['choices'][0]['message']['content'])\n",
    "\n"
   ]
  },
  {
   "attachments": {},
   "cell_type": "markdown",
   "metadata": {},
   "source": [
    "# 5. Start with zero-shot, then few-shot (example), neither of them worked, then fine-tune (To update)"
   ]
  },
  {
   "cell_type": "code",
   "execution_count": 13,
   "metadata": {},
   "outputs": [
    {
     "name": "stdout",
     "output_type": "stream",
     "text": [
      "OpenAI, Microsoft, partnership, investment, multi-year, multi-billion dollar, independent research, AI, safe, useful, powerful\n"
     ]
    }
   ],
   "source": [
    "response = openai.ChatCompletion.create(\n",
    "    engine=CHAT_COMPLETIONS_MODEL,\n",
    "    messages = [{\"role\":\"system\", \"content\":\"You are a helpful assistant. Extract keywords from the corresponding texts below.\"},\n",
    "                {\"role\":\"user\",\"content\": 'Text: \\n\\\n",
    "            We’re happy to announce that OpenAI and Microsoft are extending our partnership.\\\n",
    "            This multi-year, multi-billion dollar investment from Microsoft follows their previous investments \\\n",
    "            in 2019 and 2021, and will allow us to continue our independent research and develop AI that is \\\n",
    "            increasingly safe, useful, and powerful. \\n\\nKeywords:    ',}],\n",
    "        max_tokens=400,)\n",
    "\n",
    "print(response['choices'][0]['message']['content'])\n",
    "\n"
   ]
  },
  {
   "cell_type": "code",
   "execution_count": 14,
   "metadata": {},
   "outputs": [
    {
     "name": "stdout",
     "output_type": "stream",
     "text": [
      "OpenAI, Microsoft, partnership, investment, multi-year, multi-billion dollar, independent research, AI, safe, useful, powerful.\n"
     ]
    }
   ],
   "source": [
    "response = openai.ChatCompletion.create(\n",
    "    engine=CHAT_COMPLETIONS_MODEL,\n",
    "    messages = [{\"role\":\"system\", \"content\":\"You are a helpful assistant. Extract keywords from the corresponding texts below.\\n\\n \\\n",
    "                Text: Stripe provides APIs that web developers can use to integrate \\\n",
    "                payment processing into their websites and mobile applications. \\\n",
    "                Keywords: Stripe, payment processing, APIs, web developers, websites, mobile applications \\\n",
    "                ###\\n\\\n",
    "                Text: OpenAI has trained cutting-edge language models that are very good at understanding \\\n",
    "                and generating text. Our API provides access to these models and can be used to solve virtually \\\n",
    "                any task that involves processing language. \\n\\\n",
    "                Keywords: language models, text processing, API.\\n\\n\\\n",
    "                ##W\"},\n",
    "                {\"role\":\"user\",\"content\": '\\n\\\n",
    "                Text: We’re happy to announce that OpenAI and Microsoft are extending our partnership.\\\n",
    "                This multi-year, multi-billion dollar investment from Microsoft follows their previous investments \\\n",
    "                in 2019 and 2021, and will allow us to continue our independent research and develop AI that is \\\n",
    "                increasingly safe, useful, and powerful. \\n\\n\\\n",
    "                Keywords:',}],\n",
    "        max_tokens=400,)\n",
    "\n",
    "print(response['choices'][0]['message']['content'])\n",
    "\n"
   ]
  },
  {
   "cell_type": "code",
   "execution_count": 9,
   "metadata": {},
   "outputs": [
    {
     "name": "stdout",
     "output_type": "stream",
     "text": [
      " OpenAI, Microsoft, partnership, investment, research, AI.\n"
     ]
    }
   ],
   "source": [
    "response = openai.Completion.create(\n",
    "            engine=os.getenv('DEPLOYMENT_NAME'),\n",
    "            prompt='Extract keywords from the corresponding texts below.\\n\\n \\\n",
    "                Text 1: Stripe provides APIs that web developers can use to integrate \\\n",
    "                payment processing into their websites and mobile applications. \\\n",
    "                Keywords 1: Stripe, payment processing, APIs, web developers, websites, mobile applications \\\n",
    "                ##\\n\\\n",
    "                Text 2: OpenAI has trained cutting-edge language models that are very good at understanding \\\n",
    "                and generating text. Our API provides access to these models and can be used to solve virtually \\\n",
    "                any task that involves processing language. \\n\\\n",
    "                Keywords 2: OpenAI, language models, text processing, API.\\n\\n\\\n",
    "                ##\\n\\\n",
    "                Text 3: We’re happy to announce that OpenAI and Microsoft are extending our partnership.\\\n",
    "                This multi-year, multi-billion dollar investment from Microsoft follows their previous investments \\\n",
    "                in 2019 and 2021, and will allow us to continue our independent research and develop AI that is \\\n",
    "                increasingly safe, useful, and powerful. \\n\\n\\\n",
    "                Keywords 3:',\n",
    "            max_tokens=400,\n",
    "            n=1\n",
    "        )\n",
    "\n",
    "print(response['choices'][0]['text'])"
   ]
  },
  {
   "attachments": {},
   "cell_type": "markdown",
   "metadata": {},
   "source": [
    "# 6. Reduce “fluffy” and imprecise descriptions"
   ]
  },
  {
   "cell_type": "code",
   "execution_count": 16,
   "metadata": {},
   "outputs": [
    {
     "name": "stdout",
     "output_type": "stream",
     "text": [
      "Introducing the next generation of car seats - a revolutionary blend of safety, comfort, and style. Our new car seat features innovative impact-absorbing technology, ensuring unparalleled protection for your child on every journey. With its ergonomic design and plush cushioning, it offers unmatched comfort, while the sleek and modern aesthetics make it a perfect fit for any vehicle. Upgrade to the future of car seat safety and embrace worry-free travels with our new generation car seat.\n"
     ]
    }
   ],
   "source": [
    "response = openai.ChatCompletion.create(\n",
    "    engine=CHAT_COMPLETIONS_MODEL,\n",
    "    messages = [{\"role\":\"system\", \"content\":\"You are a helpful assistant.\"},\n",
    "                {\"role\":\"user\",\"content\": 'Write a description for a new product. This product is a new generation of car seat. \\\n",
    "                The description for this product should be fairly short, a few sentences only, and not too much more.',}],\n",
    "        max_tokens=400,)\n",
    "\n",
    "print(response['choices'][0]['message']['content'])\n",
    "\n"
   ]
  },
  {
   "cell_type": "code",
   "execution_count": 17,
   "metadata": {},
   "outputs": [
    {
     "name": "stdout",
     "output_type": "stream",
     "text": [
      "Introducing the revolutionary new generation of car seat, designed to prioritize safety, comfort, and convenience for both infants and toddlers. With advanced engineering and cutting-edge technology, this car seat boasts enhanced side-impact protection, ensuring optimal safety during every journey. The ergonomic design provides unparalleled comfort, with plush cushioning and adjustable features that adapt to the child's growth and posture. This car seat also includes innovative convenience features like a quick and easy installation process, removable and machine-washable covers, and intuitive harness adjustments. Trust in this next-level car seat to provide your child with the utmost safety and comfort during every ride.\n"
     ]
    }
   ],
   "source": [
    "response = openai.ChatCompletion.create(\n",
    "    engine=CHAT_COMPLETIONS_MODEL,\n",
    "    messages = [{\"role\":\"system\", \"content\":\"You are a helpful assistant.\"},\n",
    "                {\"role\":\"user\",\"content\": 'Write a description for a new product. This product is a new generation of car seat. \\\n",
    "                Use a 3 to 5 sentence paragraph to describe this product.',}],\n",
    "        max_tokens=400,)\n",
    "\n",
    "print(response['choices'][0]['message']['content'])\n",
    "\n"
   ]
  },
  {
   "attachments": {},
   "cell_type": "markdown",
   "metadata": {},
   "source": [
    "# 7. Instead of just saying what not to do, say what to do instead"
   ]
  },
  {
   "cell_type": "code",
   "execution_count": 18,
   "metadata": {},
   "outputs": [
    {
     "name": "stdout",
     "output_type": "stream",
     "text": [
      "I'm sorry to hear that you're having trouble logging in. Could you please provide me with your username or email address associated with your account?\n"
     ]
    }
   ],
   "source": [
    "response = openai.ChatCompletion.create(\n",
    "    engine=CHAT_COMPLETIONS_MODEL,\n",
    "    messages = [{\"role\":\"system\", \"content\":\"You are a helpful assistant.\"},\n",
    "                {\"role\":\"user\",\"content\": 'The following is a conversation between an Agent and a Customer. DO NOT ASK USERNAME OR PASSWORD. DO NOT REPEAT. \\n\\n\\\n",
    "                Customer: I can’t log in to my account.\\n\\\n",
    "                Agent:',}],\n",
    "        max_tokens=400,)\n",
    "\n",
    "print(response['choices'][0]['message']['content'])\n"
   ]
  },
  {
   "cell_type": "code",
   "execution_count": 19,
   "metadata": {},
   "outputs": [
    {
     "name": "stdout",
     "output_type": "stream",
     "text": [
      "I'm sorry to hear that you're having trouble logging into your account. Can you please provide me with the error message or any specific details about the issue you're experiencing?\n"
     ]
    }
   ],
   "source": [
    "response = openai.ChatCompletion.create(\n",
    "    engine=CHAT_COMPLETIONS_MODEL,\n",
    "    messages = [{\"role\":\"system\", \"content\":\"You are a helpful assistant.\"},\n",
    "                {\"role\":\"user\",\"content\":'The following is a conversation between an Agent and a Customer. The agent will attempt to diagnose the \\\n",
    "                problem and suggest a solution, whilst refraining from asking any questions related to PII. \\\n",
    "                Instead of asking for PII, such as username or password, refer the user to the help \\\n",
    "                article www.samplewebsite.com/help/faq \\n\\n\\\n",
    "                Customer: I can’t log in to my account. \\n\\\n",
    "                Agent:',}],\n",
    "        max_tokens=400,)\n",
    "\n",
    "print(response['choices'][0]['message']['content'])\n"
   ]
  },
  {
   "attachments": {},
   "cell_type": "markdown",
   "metadata": {},
   "source": [
    "# 8. Code Generation Specific - Use “leading words” to nudge the model toward a particular pattern"
   ]
  },
  {
   "cell_type": "code",
   "execution_count": 20,
   "metadata": {},
   "outputs": [
    {
     "name": "stdout",
     "output_type": "stream",
     "text": [
      "Sure! Here's a simple Python function that asks the user for a number in miles and converts it to kilometers:\n",
      "\n",
      "```python\n",
      "def convert_miles_to_kilometers():\n",
      "    miles = float(input(\"Enter the number of miles: \"))\n",
      "    kilometers = miles * 1.60934\n",
      "    print(f\"{miles} miles is equal to {kilometers} kilometers.\")\n",
      "\n",
      "convert_miles_to_kilometers()\n",
      "```\n",
      "\n",
      "Here's how it works:\n",
      "1. The function `convert_miles_to_kilometers` prompts the user to enter the number of miles using the `input` function. The input is converted to a float to handle decimal values.\n",
      "2. The miles are then multiplied by 1.60934 to convert them to kilometers. The conversion factor is derived from the fact that 1 mile is equal to 1.60934 kilometers.\n",
      "3. The result is printed using the `print` function with formatted string literals (f-strings) to display the input miles and converted kilometers.\n",
      "\n",
      "You can call the function `convert_miles_to_kilometers` to run it and convert any number of miles to kilometers.\n"
     ]
    }
   ],
   "source": [
    "response = openai.ChatCompletion.create(\n",
    "    engine=CHAT_COMPLETIONS_MODEL,\n",
    "    messages = [{\"role\":\"system\", \"content\":\"You are a helpful assistant.\"},\n",
    "                {\"role\":\"user\",\"content\":'# Write a simple python function that \\n\\\n",
    "                # 1. Ask me for a number in mile\\n\\\n",
    "                # 2. It converts miles to kilometers',}],\n",
    "        max_tokens=400,)\n",
    "\n",
    "print(response['choices'][0]['message']['content'])\n"
   ]
  },
  {
   "cell_type": "code",
   "execution_count": 21,
   "metadata": {},
   "outputs": [
    {
     "name": "stdout",
     "output_type": "stream",
     "text": [
      "def mile_to_km():\n",
      "    miles = float(input(\"Enter the number of miles: \"))\n",
      "    kilometers = miles * 1.60934\n",
      "    return kilometers\n",
      "\n",
      "result = mile_to_km()\n",
      "print(\"The equivalent distance in kilometers is:\", result)\n"
     ]
    }
   ],
   "source": [
    "response = openai.ChatCompletion.create(\n",
    "    engine=CHAT_COMPLETIONS_MODEL,\n",
    "    messages = [{\"role\":\"system\", \"content\":\"You are a helpful assistant.\"},\n",
    "                {\"role\":\"user\",\"content\":'# Write a simple python function that \\n\\\n",
    "                # 1. Ask me for a number in mile\\n\\\n",
    "                # 2. It converts miles to kilometers\\n\\\n",
    "                 import ',}],\n",
    "        max_tokens=400,)\n",
    "\n",
    "print(response['choices'][0]['message']['content'])\n"
   ]
  },
  {
   "cell_type": "code",
   "execution_count": null,
   "metadata": {},
   "outputs": [],
   "source": []
  }
 ],
 "metadata": {
  "kernelspec": {
   "display_name": "base",
   "language": "python",
   "name": "python3"
  },
  "language_info": {
   "codemirror_mode": {
    "name": "ipython",
    "version": 3
   },
   "file_extension": ".py",
   "mimetype": "text/x-python",
   "name": "python",
   "nbconvert_exporter": "python",
   "pygments_lexer": "ipython3",
   "version": "3.10.10"
  },
  "orig_nbformat": 4,
  "vscode": {
   "interpreter": {
    "hash": "0ac0e7d245f35f05656c1dae54880a0902b050693b3e66826fb0a7033a44f77d"
   }
  }
 },
 "nbformat": 4,
 "nbformat_minor": 2
}
