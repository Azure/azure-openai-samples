{
 "cells": [
  {
   "cell_type": "code",
   "execution_count": 2,
   "metadata": {},
   "outputs": [
    {
     "name": "stderr",
     "output_type": "stream",
     "text": [
      "Incomplete environment configuration. These variables are set: AZURE_USERNAME, AZURE_PASSWORD\n"
     ]
    },
    {
     "name": "stdout",
     "output_type": "stream",
     "text": [
      " name FROM Salary_Payments WHERE employee_id > 10\n"
     ]
    }
   ],
   "source": [
    "import os\n",
    "import openai\n",
    "from dotenv import load_dotenv\n",
    "load_dotenv()\n",
    "\n",
    "from utils import list_oai_models\n",
    "\n",
    "openai.api_type = \"azure\"\n",
    "openai.api_version = \"2022-12-01\"\n",
    "\n",
    "API_KEY = os.getenv(\"OPENAI_API_KEY\",\"\").strip()\n",
    "assert API_KEY, \"ERROR: Azure OpenAI Key is missing\"\n",
    "openai.api_key = API_KEY\n",
    "\n",
    "RESOURCE_ENDPOINT = os.getenv(\"OPENAI_API_BASE\",\"\").strip()\n",
    "assert RESOURCE_ENDPOINT, \"ERROR: Azure OpenAI Endpoint is missing\"\n",
    "assert \"openai.azure.com\" in RESOURCE_ENDPOINT.lower(), \"ERROR: Azure OpenAI Endpoint should be in the form: \\n\\n\\t<your unique endpoint identifier>.openai.azure.com\"\n",
    "openai.api_base = RESOURCE_ENDPOINT\n",
    "\n",
    "rg = os.getenv(\"resource_group\")\n",
    "svc = os.getenv(\"azure_openai_instance\")\n",
    "\n",
    "df = list_oai_models(os.getenv(\"mysubscription\"), rg,svc)\n",
    "\n",
    "try:\n",
    "  response = openai.Completion.create(\n",
    "    engine=df.loc[0, \"display_name\"],\n",
    "    prompt=\"### Postgres SQL tables, with their properties:\\n#\\n# Employee(id, name, department_id)\\n# Department(id, name, address)\\n# Salary_Payments(id, employee_id, amount, date)\\n#\\n### A query to list the names of the departments which employed more than 10 employees in the last 3 months\\n\\ query: SELECT\",\n",
    "    temperature=0,\n",
    "    max_tokens=150,\n",
    "    top_p=1,\n",
    "    frequency_penalty=0,\n",
    "    presence_penalty=0,\n",
    "    stop=[\"#\",\";\"])\n",
    "\n",
    "  print(response.choices[0].text)\n",
    "except Exception as e:\n",
    "    print(e)"
   ]
  },
  {
   "cell_type": "code",
   "execution_count": 3,
   "metadata": {},
   "outputs": [
    {
     "name": "stdout",
     "output_type": "stream",
     "text": [
      "  This code selects all the names of the departments in the database, and then the names of the employees who work in those departments, and groups them by the number of times their name appears in the Salary_Payments table. If the number of times their name appears is more than 10, it then displays those names in a sorted list.\n"
     ]
    }
   ],
   "source": [
    "try:\n",
    "  response = openai.Completion.create(\n",
    "    engine=df.loc[0,\"display_name\"],\n",
    "    prompt=\"Can you explain what does this code do?\\n#\\n# ###\\n\\\n",
    "    Code:\\n\\\n",
    "    SELECT d.name FROM Department d JOIN Employee e ON d.id = e.department_id WHERE e.id IN (SELECT employee_id FROM Salary_Payments WHERE date > now() - interval '3 months') GROUP BY d.name HAVING COUNT(*) > 10\\n#\\n#\\\n",
    "    Answer:\\n# \",\n",
    "    max_tokens=250,\n",
    "    stop=[\"#\",\";\"])\n",
    "\n",
    "  print(response.choices[0].text)\n",
    "except Exception as e:\n",
    "    print(e)"
   ]
  },
  {
   "cell_type": "code",
   "execution_count": null,
   "metadata": {},
   "outputs": [],
   "source": []
  }
 ],
 "metadata": {
  "kernelspec": {
   "display_name": "azureml_py310_sdkv2",
   "language": "python",
   "name": "python3"
  },
  "language_info": {
   "codemirror_mode": {
    "name": "ipython",
    "version": 3
   },
   "file_extension": ".py",
   "mimetype": "text/x-python",
   "name": "python",
   "nbconvert_exporter": "python",
   "pygments_lexer": "ipython3",
   "version": "3.10.10"
  },
  "orig_nbformat": 4,
  "vscode": {
   "interpreter": {
    "hash": "2139c70ac98f3202d028164a545621647e07f47fd6f5d8ac55cf952bf7c15ed1"
   }
  }
 },
 "nbformat": 4,
 "nbformat_minor": 2
}
