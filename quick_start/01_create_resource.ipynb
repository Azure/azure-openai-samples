{
 "cells": [
  {
   "attachments": {},
   "cell_type": "markdown",
   "metadata": {},
   "source": [
    "# Create an Azure OpenAI Service and Model Deployment\n",
    "\n",
    "The following notebook will show you how to connect to the Azure Service through the use of the Azure CLI. The command line instructions for Azure allow you to pass in arguments to connect to Azure, created instances of service and to update or delete service.\n",
    "\n",
    "* [Authenticate to Azure](#authenticate-to-azure) \n",
    "* [Create an Azure OpenAI Service](#create-azure-openai-service) \n",
    "* [Deploy an Azure OpenAI Model](#deploy-azure-openai-model)\n"
   ]
  },
  {
   "cell_type": "markdown",
   "metadata": {},
   "source": [
    "\n",
    "\n",
    "## Authenticate to Azure\n",
    "\n",
    "You can use the following to authenticate through Azure CLI\n",
    "```\n",
    "az login\n",
    "```\n",
    "if the above line does not work then use the following\n",
    "-you can pass in a parameter to have your device approved to connect and send commands\n",
    "```\n",
    "az login --use-device-code"
   ]
  },
  {
   "cell_type": "code",
   "execution_count": null,
   "metadata": {},
   "outputs": [],
   "source": [
    "# Login to Azure\n",
    "!az login"
   ]
  },
  {
   "attachments": {},
   "cell_type": "markdown",
   "metadata": {},
   "source": [
    "### You only need to use one or the other\n",
    "\n",
    "Use this only when the above Azure CLI command fails or hangs"
   ]
  },
  {
   "cell_type": "code",
   "execution_count": 4,
   "metadata": {},
   "outputs": [
    {
     "name": "stdout",
     "output_type": "stream",
     "text": [
      "\u001b[93mTo sign in, use a web browser to open the page https://microsoft.com/devicelogin and enter the code FF6WDENXK to authenticate.\u001b[0m\n",
      "[\n",
      "  {\n",
      "    \"cloudName\": \"AzureCloud\",\n",
      "    \"homeTenantId\": \"0b69ab40-1bc7-4666-9f20-691ba105a907\",\n",
      "    \"id\": \"4465cf7c-8bde-41f8-aa38-938da8ac30a9\",\n",
      "    \"isDefault\": true,\n",
      "    \"managedByTenants\": [],\n",
      "    \"name\": \"ME-MngEnvMCAP084084-brcampb-1\",\n",
      "    \"state\": \"Enabled\",\n",
      "    \"tenantId\": \"0b69ab40-1bc7-4666-9f20-691ba105a907\",\n",
      "    \"user\": {\n",
      "      \"name\": \"brandon.campbell@mngenvmcap084084.onmicrosoft.com\",\n",
      "      \"type\": \"user\"\n",
      "    }\n",
      "  }\n",
      "]\n"
     ]
    }
   ],
   "source": [
    "!az login --use-device-code"
   ]
  },
  {
   "attachments": {},
   "cell_type": "markdown",
   "metadata": {},
   "source": [
    "#### Set the subscription\n",
    "\n",
    "Every Azure Service is associated with an Auzure Subscription. To use Azure OpenAI one must connect to the Azure OpenAI service. To connect, you have to pass in the following items\n",
    "1. Subscrition Name\n",
    "2. The Resource Group name or (create a resource group if not already created)\n",
    "3. The Azure OpenAI Service name"
   ]
  },
  {
   "cell_type": "code",
   "execution_count": 5,
   "metadata": {},
   "outputs": [],
   "source": [
    "import os\n",
    "\n",
    "openai_rg_name = os.getenv(\"resource_group\")\n",
    "openai_svc_name = os.getenv(\"azure_openai_instance\")\n",
    "subscription = os.getenv(\"mysubscription\")"
   ]
  },
  {
   "cell_type": "code",
   "execution_count": 6,
   "metadata": {},
   "outputs": [],
   "source": [
    "# Use Non-prod subscription\n",
    "!az account set --subscription $subscription\n"
   ]
  },
  {
   "attachments": {},
   "cell_type": "markdown",
   "metadata": {},
   "source": [
    "### Create Resource Group Name if one doesn't have a group already create"
   ]
  },
  {
   "cell_type": "code",
   "execution_count": null,
   "metadata": {},
   "outputs": [],
   "source": [
    "!az group create --name $openai_rg_name --location southcentralus"
   ]
  },
  {
   "attachments": {},
   "cell_type": "markdown",
   "metadata": {},
   "source": [
    "# Create Azure OpenAI service\n",
    "Update -l parameter value for a new endpoint uri"
   ]
  },
  {
   "cell_type": "code",
   "execution_count": null,
   "metadata": {},
   "outputs": [],
   "source": [
    "# Wait until the resource group is created\n",
    "# Create OpenAI service\n",
    "!az cognitiveservices account create -n $openai_svc_name \\\n",
    "    -g $openai_rg_name \\\n",
    "    -l southcentralus \\\n",
    "    --kind OpenAI \\\n",
    "    --sku s0 \\\n",
    "    --subscription <[put subscription id here]>"
   ]
  },
  {
   "attachments": {},
   "cell_type": "markdown",
   "metadata": {},
   "source": [
    "#### Show the Cognitive Service just created"
   ]
  },
  {
   "cell_type": "code",
   "execution_count": 7,
   "metadata": {},
   "outputs": [
    {
     "name": "stdout",
     "output_type": "stream",
     "text": [
      "{\n",
      "  \"etag\": \"\\\"8201f76d-0000-0100-0000-64467b7b0000\\\"\",\n",
      "  \"id\": \"/subscriptions/4465cf7c-8bde-41f8-aa38-938da8ac30a9/resourceGroups/coding-forge/providers/Microsoft.CognitiveServices/accounts/codingforgeai\",\n",
      "  \"identity\": null,\n",
      "  \"kind\": \"OpenAI\",\n",
      "  \"location\": \"eastus\",\n",
      "  \"name\": \"codingforgeai\",\n",
      "  \"properties\": {\n",
      "    \"allowedFqdnList\": null,\n",
      "    \"apiProperties\": null,\n",
      "    \"callRateLimit\": {\n",
      "      \"count\": null,\n",
      "      \"renewalPeriod\": null,\n",
      "      \"rules\": [\n",
      "        {\n",
      "          \"count\": 30.0,\n",
      "          \"dynamicThrottlingEnabled\": null,\n",
      "          \"key\": \"openai.dalle.post\",\n",
      "          \"matchPatterns\": [\n",
      "            {\n",
      "              \"method\": \"POST\",\n",
      "              \"path\": \"dalle/*\"\n",
      "            }\n",
      "          ],\n",
      "          \"minCount\": null,\n",
      "          \"renewalPeriod\": 1.0\n",
      "        },\n",
      "        {\n",
      "          \"count\": 30.0,\n",
      "          \"dynamicThrottlingEnabled\": null,\n",
      "          \"key\": \"openai.dalle.other\",\n",
      "          \"matchPatterns\": [\n",
      "            {\n",
      "              \"method\": \"*\",\n",
      "              \"path\": \"dalle/*\"\n",
      "            }\n",
      "          ],\n",
      "          \"minCount\": null,\n",
      "          \"renewalPeriod\": 1.0\n",
      "        },\n",
      "        {\n",
      "          \"count\": 30.0,\n",
      "          \"dynamicThrottlingEnabled\": null,\n",
      "          \"key\": \"openai\",\n",
      "          \"matchPatterns\": [\n",
      "            {\n",
      "              \"method\": \"*\",\n",
      "              \"path\": \"openai/*\"\n",
      "            }\n",
      "          ],\n",
      "          \"minCount\": null,\n",
      "          \"renewalPeriod\": 1.0\n",
      "        },\n",
      "        {\n",
      "          \"count\": 30.0,\n",
      "          \"dynamicThrottlingEnabled\": null,\n",
      "          \"key\": \"default\",\n",
      "          \"matchPatterns\": [\n",
      "            {\n",
      "              \"method\": \"*\",\n",
      "              \"path\": \"*\"\n",
      "            }\n",
      "          ],\n",
      "          \"minCount\": null,\n",
      "          \"renewalPeriod\": 1.0\n",
      "        }\n",
      "      ]\n",
      "    },\n",
      "    \"capabilities\": [\n",
      "      {\n",
      "        \"name\": \"VirtualNetworks\",\n",
      "        \"value\": null\n",
      "      },\n",
      "      {\n",
      "        \"name\": \"MaxFineTuneCount\",\n",
      "        \"value\": \"100\"\n",
      "      },\n",
      "      {\n",
      "        \"name\": \"MaxRunningFineTuneCount\",\n",
      "        \"value\": \"1\"\n",
      "      },\n",
      "      {\n",
      "        \"name\": \"MaxUserFileCount\",\n",
      "        \"value\": \"50\"\n",
      "      },\n",
      "      {\n",
      "        \"name\": \"MaxTrainingFileSize\",\n",
      "        \"value\": \"100000000\"\n",
      "      },\n",
      "      {\n",
      "        \"name\": \"MaxUserFileImportDurationInHours\",\n",
      "        \"value\": \"1\"\n",
      "      },\n",
      "      {\n",
      "        \"name\": \"MaxFineTuneJobDurationInHours\",\n",
      "        \"value\": \"720\"\n",
      "      }\n",
      "    ],\n",
      "    \"customSubDomainName\": \"codingforgeai\",\n",
      "    \"dateCreated\": \"2023-03-03T17:54:28.9299797Z\",\n",
      "    \"deletionDate\": null,\n",
      "    \"disableLocalAuth\": null,\n",
      "    \"dynamicThrottlingEnabled\": null,\n",
      "    \"encryption\": null,\n",
      "    \"endpoint\": \"https://codingforgeai.openai.azure.com/\",\n",
      "    \"endpoints\": {\n",
      "      \"OpenAI Dall-E API\": \"https://codingforgeai.openai.azure.com/\",\n",
      "      \"OpenAI Language Model Instance API\": \"https://codingforgeai.openai.azure.com/\"\n",
      "    },\n",
      "    \"internalId\": \"b7e0a7f1ed1840cca85daf49ccd7ce03\",\n",
      "    \"isMigrated\": false,\n",
      "    \"migrationToken\": null,\n",
      "    \"networkAcls\": null,\n",
      "    \"privateEndpointConnections\": [],\n",
      "    \"provisioningState\": \"Succeeded\",\n",
      "    \"publicNetworkAccess\": \"Enabled\",\n",
      "    \"quotaLimit\": null,\n",
      "    \"restore\": null,\n",
      "    \"restrictOutboundNetworkAccess\": null,\n",
      "    \"scheduledPurgeDate\": null,\n",
      "    \"skuChangeInfo\": null,\n",
      "    \"userOwnedStorage\": null\n",
      "  },\n",
      "  \"resourceGroup\": \"coding-forge\",\n",
      "  \"sku\": {\n",
      "    \"capacity\": null,\n",
      "    \"family\": null,\n",
      "    \"name\": \"S0\",\n",
      "    \"size\": null,\n",
      "    \"tier\": null\n",
      "  },\n",
      "  \"systemData\": {\n",
      "    \"createdAt\": \"2023-03-03T17:54:28.460109+00:00\",\n",
      "    \"createdBy\": \"brandon.campbell@mngenvmcap084084.onmicrosoft.com\",\n",
      "    \"createdByType\": \"User\",\n",
      "    \"lastModifiedAt\": \"2023-03-03T17:54:28.460109+00:00\",\n",
      "    \"lastModifiedBy\": \"brandon.campbell@mngenvmcap084084.onmicrosoft.com\",\n",
      "    \"lastModifiedByType\": \"User\"\n",
      "  },\n",
      "  \"tags\": {},\n",
      "  \"type\": \"Microsoft.CognitiveServices/accounts\"\n",
      "}\n"
     ]
    }
   ],
   "source": [
    "!az cognitiveservices account show -n $openai_svc_name -g $openai_rg_name "
   ]
  },
  {
   "attachments": {},
   "cell_type": "markdown",
   "metadata": {},
   "source": [
    "##### Show the keys associated with the Azure OpenAI Service"
   ]
  },
  {
   "cell_type": "code",
   "execution_count": 8,
   "metadata": {},
   "outputs": [
    {
     "name": "stdout",
     "output_type": "stream",
     "text": [
      "{\n",
      "  \"key1\": \"d428167992e143c5811228a432b997bb\",\n",
      "  \"key2\": \"db05c2276ba5416c8907df8729924dc2\"\n",
      "}\n"
     ]
    }
   ],
   "source": [
    "!az cognitiveservices account keys list -n $openai_svc_name -g $openai_rg_name "
   ]
  },
  {
   "attachments": {},
   "cell_type": "markdown",
   "metadata": {},
   "source": [
    "## Create Display Name and model version\n",
    "\n",
    "!NOTE:: You can only deploy a one version of the same model"
   ]
  },
  {
   "cell_type": "code",
   "execution_count": 9,
   "metadata": {},
   "outputs": [],
   "source": [
    "search_doc_deployment_name = 'curie-search-doc'\n",
    "search_doc_model = 'text-curie-001'\n",
    "search_query_deployment_name = 'davinci-search-query'\n",
    "search_query_model = 'text-davinci-003'\n",
    "text_deployment_name = 'text-davinci-002'\n",
    "text_model = 'text-davinci-002'\n",
    "text_similarity=\"curie_text_similarity\"\n",
    "text_similarity_model=\"text-similarity-curie-001\"\n"
   ]
  },
  {
   "attachments": {},
   "cell_type": "markdown",
   "metadata": {},
   "source": [
    "## Deploy Azure OpenAI Model\n",
    "### Text Curie 001\n",
    "\n",
    "The following Azure Command Line will deploy the Text Curie 001 Model"
   ]
  },
  {
   "cell_type": "code",
   "execution_count": null,
   "metadata": {},
   "outputs": [],
   "source": [
    "!az cognitiveservices account deployment create \\\n",
    " -g $openai_rg_name \\\n",
    " -n $openai_svc_name \\\n",
    " --deployment-name $search_doc_deployment_name \\\n",
    " --model-name $search_doc_model \\\n",
    " --model-version \"1\"  \\\n",
    " --model-format OpenAI \\\n",
    " --scale-settings-scale-type \"Standard\""
   ]
  },
  {
   "cell_type": "code",
   "execution_count": null,
   "metadata": {},
   "outputs": [],
   "source": [
    "!az cognitiveservices account deployment list -g $openai_rg_name -n $openai_svc_name "
   ]
  },
  {
   "attachments": {},
   "cell_type": "markdown",
   "metadata": {},
   "source": [
    "### Text Davinci 003\n",
    "\n",
    "The following Azure Command Line will deploy the Text Davinci 003 Model"
   ]
  },
  {
   "cell_type": "code",
   "execution_count": null,
   "metadata": {},
   "outputs": [],
   "source": [
    "!az cognitiveservices account deployment create \\\n",
    "    -g $openai_rg_name \\\n",
    "    -n $openai_svc_name \\\n",
    "    --deployment-name $search_query_deployment_name \\\n",
    "    --model-name $search_query_model \\\n",
    "    --model-version \"1\"\\\n",
    "    --model-format OpenAI \\\n",
    "    --scale-settings-scale-type \"Standard\"\n"
   ]
  },
  {
   "attachments": {},
   "cell_type": "markdown",
   "metadata": {},
   "source": [
    "### Text Davinci 002\n",
    "\n",
    "The follow Azure Command Line will deploy the Text Davinci 002 Model"
   ]
  },
  {
   "cell_type": "code",
   "execution_count": null,
   "metadata": {},
   "outputs": [],
   "source": [
    "!az cognitiveservices account deployment create \\\n",
    "    -g $openai_rg_name \\\n",
    "    -n $openai_svc_name \\\n",
    "    --deployment-name $text_deployment_name \\\n",
    "    --model-name $text_model \\\n",
    "    --model-version \"1\"  \\\n",
    "    --model-format OpenAI \\\n",
    "    --scale-settings-scale-type \"Standard\""
   ]
  },
  {
   "attachments": {},
   "cell_type": "markdown",
   "metadata": {},
   "source": [
    "#### Text Similarity using Curie 001\n",
    "\n",
    "Deploy a Text Similarity model using Text Similarity Curie 001"
   ]
  },
  {
   "cell_type": "code",
   "execution_count": 11,
   "metadata": {},
   "outputs": [
    {
     "name": "stdout",
     "output_type": "stream",
     "text": [
      "\u001b[K{- Starting ..\n",
      "  \"etag\": \"\\\"e23a5a10-ba23-474e-83b5-c52a5afc1bd3\\\"\",\n",
      "  \"id\": \"/subscriptions/4465cf7c-8bde-41f8-aa38-938da8ac30a9/resourceGroups/coding-forge/providers/Microsoft.CognitiveServices/accounts/codingforgeai/deployments/curie_text_similarity\",\n",
      "  \"name\": \"curie_text_similarity\",\n",
      "  \"properties\": {\n",
      "    \"callRateLimit\": null,\n",
      "    \"capabilities\": {\n",
      "      \"embeddings\": \"true\",\n",
      "      \"embeddingsMaxInputs\": \"1\"\n",
      "    },\n",
      "    \"model\": {\n",
      "      \"callRateLimit\": null,\n",
      "      \"format\": \"OpenAI\",\n",
      "      \"name\": \"text-similarity-curie-001\",\n",
      "      \"version\": \"1\"\n",
      "    },\n",
      "    \"provisioningState\": \"Succeeded\",\n",
      "    \"raiPolicyName\": null,\n",
      "    \"scaleSettings\": {\n",
      "      \"activeCapacity\": null,\n",
      "      \"capacity\": null,\n",
      "      \"scaleType\": \"Standard\"\n",
      "    }\n",
      "  },\n",
      "  \"resourceGroup\": \"coding-forge\",\n",
      "  \"systemData\": {\n",
      "    \"createdAt\": \"2023-04-24T18:01:54.836623+00:00\",\n",
      "    \"createdBy\": \"brandon.campbell@mngenvmcap084084.onmicrosoft.com\",\n",
      "    \"createdByType\": \"User\",\n",
      "    \"lastModifiedAt\": \"2023-04-24T18:01:54.836623+00:00\",\n",
      "    \"lastModifiedBy\": \"brandon.campbell@mngenvmcap084084.onmicrosoft.com\",\n",
      "    \"lastModifiedByType\": \"User\"\n",
      "  },\n",
      "  \"type\": \"Microsoft.CognitiveServices/accounts/deployments\"\n",
      "}\n"
     ]
    }
   ],
   "source": [
    "!az cognitiveservices account deployment create \\\n",
    "    -g $openai_rg_name \\\n",
    "    -n $openai_svc_name \\\n",
    "    --deployment-name $text_similarity \\\n",
    "    --model-name $text_similarity_model \\\n",
    "    --model-version \"1\"  \\\n",
    "    --model-format OpenAI \\\n",
    "    --scale-settings-scale-type \"Standard\""
   ]
  },
  {
   "attachments": {},
   "cell_type": "markdown",
   "metadata": {},
   "source": [
    "##### Display information about the currently deploy Azure OpenAI Models"
   ]
  },
  {
   "cell_type": "code",
   "execution_count": 12,
   "metadata": {},
   "outputs": [
    {
     "name": "stderr",
     "output_type": "stream",
     "text": [
      "Incomplete environment configuration. These variables are set: AZURE_PASSWORD, AZURE_USERNAME\n"
     ]
    },
    {
     "data": {
      "text/html": [
       "<div>\n",
       "<style scoped>\n",
       "    .dataframe tbody tr th:only-of-type {\n",
       "        vertical-align: middle;\n",
       "    }\n",
       "\n",
       "    .dataframe tbody tr th {\n",
       "        vertical-align: top;\n",
       "    }\n",
       "\n",
       "    .dataframe thead th {\n",
       "        text-align: right;\n",
       "    }\n",
       "</style>\n",
       "<table border=\"1\" class=\"dataframe\">\n",
       "  <thead>\n",
       "    <tr style=\"text-align: right;\">\n",
       "      <th></th>\n",
       "      <th>display_name</th>\n",
       "      <th>format</th>\n",
       "      <th>model</th>\n",
       "      <th>version</th>\n",
       "      <th>call_rate_limit</th>\n",
       "    </tr>\n",
       "  </thead>\n",
       "  <tbody>\n",
       "    <tr>\n",
       "      <th>0</th>\n",
       "      <td>curie-search-doc</td>\n",
       "      <td>OpenAI</td>\n",
       "      <td>text-curie-001</td>\n",
       "      <td>1</td>\n",
       "      <td>None</td>\n",
       "    </tr>\n",
       "    <tr>\n",
       "      <th>1</th>\n",
       "      <td>davinci-search-query</td>\n",
       "      <td>OpenAI</td>\n",
       "      <td>text-davinci-003</td>\n",
       "      <td>1</td>\n",
       "      <td>None</td>\n",
       "    </tr>\n",
       "    <tr>\n",
       "      <th>2</th>\n",
       "      <td>text-davinci-002</td>\n",
       "      <td>OpenAI</td>\n",
       "      <td>text-davinci-002</td>\n",
       "      <td>1</td>\n",
       "      <td>None</td>\n",
       "    </tr>\n",
       "    <tr>\n",
       "      <th>3</th>\n",
       "      <td>curie_text_similarity</td>\n",
       "      <td>OpenAI</td>\n",
       "      <td>text-similarity-curie-001</td>\n",
       "      <td>1</td>\n",
       "      <td>None</td>\n",
       "    </tr>\n",
       "  </tbody>\n",
       "</table>\n",
       "</div>"
      ],
      "text/plain": [
       "            display_name  format                      model version   \n",
       "0       curie-search-doc  OpenAI             text-curie-001       1  \\\n",
       "1   davinci-search-query  OpenAI           text-davinci-003       1   \n",
       "2       text-davinci-002  OpenAI           text-davinci-002       1   \n",
       "3  curie_text_similarity  OpenAI  text-similarity-curie-001       1   \n",
       "\n",
       "  call_rate_limit  \n",
       "0            None  \n",
       "1            None  \n",
       "2            None  \n",
       "3            None  "
      ]
     },
     "execution_count": 12,
     "metadata": {},
     "output_type": "execute_result"
    }
   ],
   "source": [
    "from utils import list_oai_models\n",
    "import pandas as pd\n",
    "\n",
    "df = list_oai_models(os.getenv(\"mysubscription\"),openai_rg_name, openai_svc_name)\n",
    "df.head()\n"
   ]
  },
  {
   "cell_type": "code",
   "execution_count": null,
   "metadata": {},
   "outputs": [],
   "source": []
  }
 ],
 "metadata": {
  "kernelspec": {
   "display_name": "azureml_py310_sdkv2",
   "language": "python",
   "name": "python3"
  },
  "language_info": {
   "codemirror_mode": {
    "name": "ipython",
    "version": 3
   },
   "file_extension": ".py",
   "mimetype": "text/x-python",
   "name": "python",
   "nbconvert_exporter": "python",
   "pygments_lexer": "ipython3",
   "version": "3.10.10"
  },
  "orig_nbformat": 4,
  "vscode": {
   "interpreter": {
    "hash": "2139c70ac98f3202d028164a545621647e07f47fd6f5d8ac55cf952bf7c15ed1"
   }
  }
 },
 "nbformat": 4,
 "nbformat_minor": 2
}
