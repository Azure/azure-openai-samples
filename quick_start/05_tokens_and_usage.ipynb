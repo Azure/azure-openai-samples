{
 "cells": [
  {
   "cell_type": "markdown",
   "metadata": {},
   "source": [
    "# Tokens"
   ]
  },
  {
   "cell_type": "code",
   "execution_count": 2,
   "metadata": {},
   "outputs": [
    {
     "name": "stderr",
     "output_type": "stream",
     "text": [
      "None of PyTorch, TensorFlow >= 2.0, or Flax have been found. Models won't be available and only tokenizers, configuration and file/data utilities can be used.\n"
     ]
    },
    {
     "name": "stdout",
     "output_type": "stream",
     "text": [
      "Total number of tokens: 10\n",
      "Tokens :  ['Az', 'ure', ' Open', 'AI', ' service', ' is', ' General', ' Available', ' now', '!']\n"
     ]
    }
   ],
   "source": [
    "import os\n",
    "import openai\n",
    "from transformers import GPT2TokenizerFast\n",
    "from dotenv import load_dotenv\n",
    "load_dotenv()\n",
    "openai.api_type = \"azure\"\n",
    "openai.api_version = \"2022-12-01\"\n",
    "\n",
    "API_KEY = os.getenv(\"OPENAI_API_KEY\",\"\").strip()\n",
    "assert API_KEY, \"ERROR: Azure OpenAI Key is missing\"\n",
    "openai.api_key = API_KEY\n",
    "\n",
    "RESOURCE_ENDPOINT = os.getenv(\"OPENAI_API_BASE\",\"\").strip()\n",
    "assert RESOURCE_ENDPOINT, \"ERROR: Azure OpenAI Endpoint is missing\"\n",
    "assert \"openai.azure.com\" in RESOURCE_ENDPOINT.lower(), \"ERROR: Azure OpenAI Endpoint should be in the form: \\n\\n\\t<your unique endpoint identifier>.openai.azure.com\"\n",
    "openai.api_base = RESOURCE_ENDPOINT\n",
    "\n",
    "tokenizer = GPT2TokenizerFast.from_pretrained(\"gpt2\")\n",
    "prompt = \"Azure OpenAI service is General Available now!\"\n",
    "tokens = tokenizer(prompt)\n",
    "print('Total number of tokens:', len(tokens['input_ids']))\n",
    "print('Tokens : ', [tokenizer.decode(t) for t in tokens['input_ids']])"
   ]
  },
  {
   "cell_type": "code",
   "execution_count": 3,
   "metadata": {},
   "outputs": [
    {
     "name": "stderr",
     "output_type": "stream",
     "text": [
      "Incomplete environment configuration. These variables are set: AZURE_USERNAME, AZURE_PASSWORD\n"
     ]
    }
   ],
   "source": [
    "from utils import list_oai_models, popup_choice\n",
    "\n",
    "subscription_id = os.getenv(\"mysubscription\")\n",
    "resource_group = os.getenv(\"resource_group\")\n",
    "openai_service = os.getenv(\"azure_openai_instance\")\n",
    "\n",
    "df = list_oai_models(\n",
    "    subscription_id=subscription_id,\n",
    "    resource_group=resource_group,\n",
    "    cognitive_service_name=openai_service\n",
    ")"
   ]
  },
  {
   "cell_type": "code",
   "execution_count": 5,
   "metadata": {},
   "outputs": [
    {
     "name": "stderr",
     "output_type": "stream",
     "text": [
      "Incomplete environment configuration. These variables are set: AZURE_USERNAME, AZURE_PASSWORD\n"
     ]
    },
    {
     "name": "stdout",
     "output_type": "stream",
     "text": [
      "event=Ok\n"
     ]
    }
   ],
   "source": [
    "response = openai.Completion.create(\n",
    "    engine=popup_choice(),\n",
    "    prompt=prompt,\n",
    "    max_tokens=60,\n",
    "    n=2,\n",
    "    best_of=2,\n",
    ")"
   ]
  },
  {
   "attachments": {},
   "cell_type": "markdown",
   "metadata": {},
   "source": [
    "# Show 2 returned results"
   ]
  },
  {
   "cell_type": "code",
   "execution_count": 6,
   "metadata": {},
   "outputs": [
    {
     "name": "stdout",
     "output_type": "stream",
     "text": [
      "============================== ANSWER #1 ==============================\n",
      "\n",
      "\n",
      "The Azure OpenAI service is now available in general release! This groundbreaking new service provides a single platform for deploying, testing, and scaling AI models in a secure, scalable, and reliable cloud environment. As part of the general release, Azure OpenAI customers can now take advantage of the industry\n",
      "============================== ANSWER #2 ==============================\n",
      "\n",
      "\n",
      "Yes, Azure OpenAI is now generally available. OpenAI is Microsoft’s cloud service for developers and businesses to develop, train, and deploy advanced artificial intelligence (AI) solutions. OpenAI provides an autonomous AI environment based on collections of pre-trained models, libraries, and other\n"
     ]
    }
   ],
   "source": [
    "print('='*30, 'ANSWER #1', '='*30)\n",
    "print(response['choices'][0]['text'])\n",
    "print('='*30, 'ANSWER #2', '='*30)\n",
    "print(response['choices'][1]['text'])\n"
   ]
  },
  {
   "cell_type": "markdown",
   "metadata": {},
   "source": [
    "# Usage"
   ]
  },
  {
   "cell_type": "code",
   "execution_count": 7,
   "metadata": {},
   "outputs": [
    {
     "data": {
      "text/plain": [
       "<OpenAIObject at 0x7f35f7746d90> JSON: {\n",
       "  \"completion_tokens\": 120,\n",
       "  \"prompt_tokens\": 10,\n",
       "  \"total_tokens\": 130\n",
       "}"
      ]
     },
     "execution_count": 7,
     "metadata": {},
     "output_type": "execute_result"
    }
   ],
   "source": [
    "response['usage']"
   ]
  }
 ],
 "metadata": {
  "kernelspec": {
   "display_name": "azureml_py310_sdkv2",
   "language": "python",
   "name": "python3"
  },
  "language_info": {
   "codemirror_mode": {
    "name": "ipython",
    "version": 3
   },
   "file_extension": ".py",
   "mimetype": "text/x-python",
   "name": "python",
   "nbconvert_exporter": "python",
   "pygments_lexer": "ipython3",
   "version": "3.10.10"
  },
  "orig_nbformat": 4,
  "vscode": {
   "interpreter": {
    "hash": "2139c70ac98f3202d028164a545621647e07f47fd6f5d8ac55cf952bf7c15ed1"
   }
  }
 },
 "nbformat": 4,
 "nbformat_minor": 2
}
